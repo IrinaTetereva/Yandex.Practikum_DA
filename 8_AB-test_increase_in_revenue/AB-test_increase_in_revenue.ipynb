{
 "cells": [
  {
   "cell_type": "markdown",
   "metadata": {},
   "source": [
    "# Название проекта: Принятие решений на основании А/В-теста / Decision making based on A/B test\n",
    "**Описание ситуации**: крупному интернет-магазину надо увеличивать прибыль. У нас есть результаты А/В-теста какой-то фичи (мы не значем какой).    \n",
    "  \n",
    "**Цель**: выявить группу из А/В-теста, у которой больше прибыль   \n",
    "  \n",
    "**Задачи и ход исследования**:   \n",
    "  \n",
    "  Будем исследовать следующие показатели по группам: кумулятивную выручку, кумулятивный средний чек, кумулятивную конверсию. Построим графики динамики показателей, а также отношения показателей группы B к группе A.  \n",
    "  Найдём аномомальные значения для количества заказов на одного пользователя и их стоимости.  \n",
    "  Сравним выводы по данным с выбросами и чистым.  \n",
    "  Сделаем итоговый вывод по проекту. Варианты решений: 1. Остановить тест, зафиксировать победу одной из групп. 2. Остановить тест, зафиксировать отсутствие различий между группами. 3. Продолжить тест."
   ]
  },
  {
   "cell_type": "markdown",
   "metadata": {
    "toc": true
   },
   "source": [
    "<h1>Table of Contents<span class=\"tocSkip\"></span></h1>\n",
    "<div class=\"toc\"><ul class=\"toc-item\"><li><span><a href=\"#Название-проекта:-Принятие-решений-на-основании-А/В-теста-/-Decision-making-based-on-A/B-test\" data-toc-modified-id=\"Название-проекта:-Принятие-решений-на-основании-А/В-теста-/-Decision-making-based-on-A/B-test-1\">Название проекта: Принятие решений на основании А/В-теста / Decision making based on A/B test</a></span></li><li><span><a href=\"#Посмотрим-на-исходные-данные:-знакомство,-проверка-качества-данных\" data-toc-modified-id=\"Посмотрим-на-исходные-данные:-знакомство,-проверка-качества-данных-2\">Посмотрим на исходные данные: знакомство, проверка качества данных</a></span><ul class=\"toc-item\"><li><span><a href=\"#Вывод:\" data-toc-modified-id=\"Вывод:-2.1\">Вывод:</a></span></li></ul></li><li><span><a href=\"#Построим-график-кумулятивной-выручки-по-группам.\" data-toc-modified-id=\"Построим-график-кумулятивной-выручки-по-группам.-3\">Построим график кумулятивной выручки по группам.</a></span><ul class=\"toc-item\"><li><span><a href=\"#Вывод\" data-toc-modified-id=\"Вывод-3.1\">Вывод</a></span></li></ul></li><li><span><a href=\"#Построим-график-кумулятивного-среднего-чека-по-группам\" data-toc-modified-id=\"Построим-график-кумулятивного-среднего-чека-по-группам-4\">Построим график кумулятивного среднего чека по группам</a></span><ul class=\"toc-item\"><li><span><a href=\"#Вывод\" data-toc-modified-id=\"Вывод-4.1\">Вывод</a></span></li></ul></li><li><span><a href=\"#Построим-график-относительного-изменения-кумулятивного-среднего-чека-группы-B-к-группе-A\" data-toc-modified-id=\"Построим-график-относительного-изменения-кумулятивного-среднего-чека-группы-B-к-группе-A-5\">Построим график относительного изменения кумулятивного среднего чека группы B к группе A</a></span><ul class=\"toc-item\"><li><span><a href=\"#Вывод\" data-toc-modified-id=\"Вывод-5.1\">Вывод</a></span></li></ul></li><li><span><a href=\"#Построим-график-кумулятивной-конверсии-по-группам.\" data-toc-modified-id=\"Построим-график-кумулятивной-конверсии-по-группам.-6\">Построим график кумулятивной конверсии по группам.</a></span><ul class=\"toc-item\"><li><span><a href=\"#Вывод\" data-toc-modified-id=\"Вывод-6.1\">Вывод</a></span></li></ul></li><li><span><a href=\"#Построим-график-относительного-изменения-кумулятивной-конверсии-группы-B-к-группе-A\" data-toc-modified-id=\"Построим-график-относительного-изменения-кумулятивной-конверсии-группы-B-к-группе-A-7\">Построим график относительного изменения кумулятивной конверсии группы B к группе A</a></span><ul class=\"toc-item\"><li><span><a href=\"#Вывод\" data-toc-modified-id=\"Вывод-7.1\">Вывод</a></span></li></ul></li><li><span><a href=\"#Построим-точечный-график-количества-заказов-по-пользователям\" data-toc-modified-id=\"Построим-точечный-график-количества-заказов-по-пользователям-8\">Построим точечный график количества заказов по пользователям</a></span><ul class=\"toc-item\"><li><span><a href=\"#Вывод\" data-toc-modified-id=\"Вывод-8.1\">Вывод</a></span></li></ul></li><li><span><a href=\"#Посчитаем-95-й-и-99-й-перцентили-количества-заказов-на-пользователя-и-выберем-границу-для-определения-аномальных-пользователей.\" data-toc-modified-id=\"Посчитаем-95-й-и-99-й-перцентили-количества-заказов-на-пользователя-и-выберем-границу-для-определения-аномальных-пользователей.-9\">Посчитаем 95-й и 99-й перцентили количества заказов на пользователя и выберем границу для определения аномальных пользователей.</a></span><ul class=\"toc-item\"><li><span><a href=\"#Вывод\" data-toc-modified-id=\"Вывод-9.1\">Вывод</a></span></li></ul></li><li><span><a href=\"#Построим-точечный-график-стоимостей-заказов\" data-toc-modified-id=\"Построим-точечный-график-стоимостей-заказов-10\">Построим точечный график стоимостей заказов</a></span><ul class=\"toc-item\"><li><span><a href=\"#Вывод\" data-toc-modified-id=\"Вывод-10.1\">Вывод</a></span></li></ul></li><li><span><a href=\"#Посчитаем-95-й-и-99-й-перцентили-стоимости-заказов-и-выберем-границу-для-определения-аномалий.\" data-toc-modified-id=\"Посчитаем-95-й-и-99-й-перцентили-стоимости-заказов-и-выберем-границу-для-определения-аномалий.-11\">Посчитаем 95-й и 99-й перцентили стоимости заказов и выберем границу для определения аномалий.</a></span><ul class=\"toc-item\"><li><span><a href=\"#Вывод\" data-toc-modified-id=\"Вывод-11.1\">Вывод</a></span></li></ul></li><li><span><a href=\"#Посчитаем-статистическую-значимость-различий-в-конверсии-между-группами-по-«сырым»-данным\" data-toc-modified-id=\"Посчитаем-статистическую-значимость-различий-в-конверсии-между-группами-по-«сырым»-данным-12\">Посчитаем статистическую значимость различий в конверсии между группами по «сырым» данным</a></span><ul class=\"toc-item\"><li><span><a href=\"#Вывод\" data-toc-modified-id=\"Вывод-12.1\">Вывод</a></span></li></ul></li><li><span><a href=\"#Посчитаем-статистическую-значимость-различий-в-среднем-чеке-заказа-между-группами-по-«сырым»-данным.\" data-toc-modified-id=\"Посчитаем-статистическую-значимость-различий-в-среднем-чеке-заказа-между-группами-по-«сырым»-данным.-13\">Посчитаем статистическую значимость различий в среднем чеке заказа между группами по «сырым» данным.</a></span><ul class=\"toc-item\"><li><span><a href=\"#Вывод\" data-toc-modified-id=\"Вывод-13.1\">Вывод</a></span></li></ul></li><li><span><a href=\"#Посчитаем-статистическую-значимость-различий-в-конверсии-между-группами-по-«очищенным»-данным.\" data-toc-modified-id=\"Посчитаем-статистическую-значимость-различий-в-конверсии-между-группами-по-«очищенным»-данным.-14\">Посчитаем статистическую значимость различий в конверсии между группами по «очищенным» данным.</a></span><ul class=\"toc-item\"><li><span><a href=\"#Вывод\" data-toc-modified-id=\"Вывод-14.1\">Вывод</a></span></li></ul></li><li><span><a href=\"#Посчитаем-статистическую-значимость-различий-в-среднем-чеке-заказа-между-группами-по-«очищенным»-данным\" data-toc-modified-id=\"Посчитаем-статистическую-значимость-различий-в-среднем-чеке-заказа-между-группами-по-«очищенным»-данным-15\">Посчитаем статистическую значимость различий в среднем чеке заказа между группами по «очищенным» данным</a></span><ul class=\"toc-item\"><li><span><a href=\"#Вывод\" data-toc-modified-id=\"Вывод-15.1\">Вывод</a></span></li></ul></li><li><span><a href=\"#Вывод-по-проекту\" data-toc-modified-id=\"Вывод-по-проекту-16\">Вывод по проекту</a></span></li></ul></div>"
   ]
  },
  {
   "cell_type": "code",
   "execution_count": 1,
   "metadata": {},
   "outputs": [],
   "source": [
    "import pandas as pd\n",
    "pd.set_option('display.float_format', '{:,.3f}'.format)\n",
    "\n",
    "import numpy as np\n",
    "import datetime as dt\n",
    "from scipy import stats as st\n",
    "from matplotlib import pyplot as plt\n",
    "\n",
    "%config InlineBackend.figure_format = 'retina' # Улучшение четкости изображения\n",
    "\n",
    "import warnings\n",
    "warnings.filterwarnings('ignore') # уберём предупреждения"
   ]
  },
  {
   "cell_type": "markdown",
   "metadata": {},
   "source": [
    "# Посмотрим на исходные данные: знакомство, проверка качества данных"
   ]
  },
  {
   "cell_type": "code",
   "execution_count": 2,
   "metadata": {},
   "outputs": [
    {
     "data": {
      "text/html": [
       "<div>\n",
       "<style scoped>\n",
       "    .dataframe tbody tr th:only-of-type {\n",
       "        vertical-align: middle;\n",
       "    }\n",
       "\n",
       "    .dataframe tbody tr th {\n",
       "        vertical-align: top;\n",
       "    }\n",
       "\n",
       "    .dataframe thead th {\n",
       "        text-align: right;\n",
       "    }\n",
       "</style>\n",
       "<table border=\"1\" class=\"dataframe\">\n",
       "  <thead>\n",
       "    <tr style=\"text-align: right;\">\n",
       "      <th></th>\n",
       "      <th>transactionId</th>\n",
       "      <th>visitorId</th>\n",
       "      <th>date</th>\n",
       "      <th>revenue</th>\n",
       "      <th>group</th>\n",
       "    </tr>\n",
       "  </thead>\n",
       "  <tbody>\n",
       "    <tr>\n",
       "      <th>0</th>\n",
       "      <td>3667963787</td>\n",
       "      <td>3312258926</td>\n",
       "      <td>2019-08-15</td>\n",
       "      <td>1650</td>\n",
       "      <td>B</td>\n",
       "    </tr>\n",
       "    <tr>\n",
       "      <th>1</th>\n",
       "      <td>2804400009</td>\n",
       "      <td>3642806036</td>\n",
       "      <td>2019-08-15</td>\n",
       "      <td>730</td>\n",
       "      <td>B</td>\n",
       "    </tr>\n",
       "    <tr>\n",
       "      <th>2</th>\n",
       "      <td>2961555356</td>\n",
       "      <td>4069496402</td>\n",
       "      <td>2019-08-15</td>\n",
       "      <td>400</td>\n",
       "      <td>A</td>\n",
       "    </tr>\n",
       "    <tr>\n",
       "      <th>3</th>\n",
       "      <td>3797467345</td>\n",
       "      <td>1196621759</td>\n",
       "      <td>2019-08-15</td>\n",
       "      <td>9759</td>\n",
       "      <td>B</td>\n",
       "    </tr>\n",
       "    <tr>\n",
       "      <th>4</th>\n",
       "      <td>2282983706</td>\n",
       "      <td>2322279887</td>\n",
       "      <td>2019-08-15</td>\n",
       "      <td>2308</td>\n",
       "      <td>B</td>\n",
       "    </tr>\n",
       "  </tbody>\n",
       "</table>\n",
       "</div>"
      ],
      "text/plain": [
       "   transactionId   visitorId        date  revenue group\n",
       "0     3667963787  3312258926  2019-08-15     1650     B\n",
       "1     2804400009  3642806036  2019-08-15      730     B\n",
       "2     2961555356  4069496402  2019-08-15      400     A\n",
       "3     3797467345  1196621759  2019-08-15     9759     B\n",
       "4     2282983706  2322279887  2019-08-15     2308     B"
      ]
     },
     "metadata": {},
     "output_type": "display_data"
    },
    {
     "data": {
      "text/html": [
       "<div>\n",
       "<style scoped>\n",
       "    .dataframe tbody tr th:only-of-type {\n",
       "        vertical-align: middle;\n",
       "    }\n",
       "\n",
       "    .dataframe tbody tr th {\n",
       "        vertical-align: top;\n",
       "    }\n",
       "\n",
       "    .dataframe thead th {\n",
       "        text-align: right;\n",
       "    }\n",
       "</style>\n",
       "<table border=\"1\" class=\"dataframe\">\n",
       "  <thead>\n",
       "    <tr style=\"text-align: right;\">\n",
       "      <th></th>\n",
       "      <th>date</th>\n",
       "      <th>group</th>\n",
       "      <th>visitors</th>\n",
       "    </tr>\n",
       "  </thead>\n",
       "  <tbody>\n",
       "    <tr>\n",
       "      <th>0</th>\n",
       "      <td>2019-08-01</td>\n",
       "      <td>A</td>\n",
       "      <td>719</td>\n",
       "    </tr>\n",
       "    <tr>\n",
       "      <th>1</th>\n",
       "      <td>2019-08-02</td>\n",
       "      <td>A</td>\n",
       "      <td>619</td>\n",
       "    </tr>\n",
       "    <tr>\n",
       "      <th>2</th>\n",
       "      <td>2019-08-03</td>\n",
       "      <td>A</td>\n",
       "      <td>507</td>\n",
       "    </tr>\n",
       "    <tr>\n",
       "      <th>3</th>\n",
       "      <td>2019-08-04</td>\n",
       "      <td>A</td>\n",
       "      <td>717</td>\n",
       "    </tr>\n",
       "    <tr>\n",
       "      <th>4</th>\n",
       "      <td>2019-08-05</td>\n",
       "      <td>A</td>\n",
       "      <td>756</td>\n",
       "    </tr>\n",
       "  </tbody>\n",
       "</table>\n",
       "</div>"
      ],
      "text/plain": [
       "         date group  visitors\n",
       "0  2019-08-01     A       719\n",
       "1  2019-08-02     A       619\n",
       "2  2019-08-03     A       507\n",
       "3  2019-08-04     A       717\n",
       "4  2019-08-05     A       756"
      ]
     },
     "metadata": {},
     "output_type": "display_data"
    }
   ],
   "source": [
    "orders = pd.read_csv('C:/Users/user/JupiterIra/Yandex/проекты/data/project_7/orders.csv')\n",
    "visitors = pd.read_csv('C:/Users/user/JupiterIra/Yandex/проекты/data/project_7/visitors.csv')\n",
    "\n",
    "display(orders.head())\n",
    "display(visitors.head())"
   ]
  },
  {
   "cell_type": "code",
   "execution_count": 3,
   "metadata": {},
   "outputs": [
    {
     "name": "stdout",
     "output_type": "stream",
     "text": [
      "<class 'pandas.core.frame.DataFrame'>\n",
      "RangeIndex: 1197 entries, 0 to 1196\n",
      "Data columns (total 5 columns):\n",
      " #   Column         Non-Null Count  Dtype \n",
      "---  ------         --------------  ----- \n",
      " 0   transactionId  1197 non-null   int64 \n",
      " 1   visitorId      1197 non-null   int64 \n",
      " 2   date           1197 non-null   object\n",
      " 3   revenue        1197 non-null   int64 \n",
      " 4   group          1197 non-null   object\n",
      "dtypes: int64(3), object(2)\n",
      "memory usage: 46.9+ KB\n",
      "<class 'pandas.core.frame.DataFrame'>\n",
      "RangeIndex: 62 entries, 0 to 61\n",
      "Data columns (total 3 columns):\n",
      " #   Column    Non-Null Count  Dtype \n",
      "---  ------    --------------  ----- \n",
      " 0   date      62 non-null     object\n",
      " 1   group     62 non-null     object\n",
      " 2   visitors  62 non-null     int64 \n",
      "dtypes: int64(1), object(2)\n",
      "memory usage: 1.6+ KB\n"
     ]
    }
   ],
   "source": [
    "orders.info()\n",
    "visitors.info()"
   ]
  },
  {
   "cell_type": "markdown",
   "metadata": {},
   "source": [
    "пропусков нет, посмотрим дубликаты"
   ]
  },
  {
   "cell_type": "code",
   "execution_count": 4,
   "metadata": {},
   "outputs": [
    {
     "data": {
      "text/plain": [
       "0"
      ]
     },
     "metadata": {},
     "output_type": "display_data"
    },
    {
     "data": {
      "text/plain": [
       "0"
      ]
     },
     "metadata": {},
     "output_type": "display_data"
    }
   ],
   "source": [
    "for df in [visitors,orders]: \n",
    "    display(df.duplicated().sum())"
   ]
  },
  {
   "cell_type": "markdown",
   "metadata": {},
   "source": [
    "Отлично, явных дубликатов нет.  \n",
    "Исправим типы данных в колонках с датами:"
   ]
  },
  {
   "cell_type": "code",
   "execution_count": 5,
   "metadata": {},
   "outputs": [
    {
     "name": "stdout",
     "output_type": "stream",
     "text": [
      "<class 'pandas.core.frame.DataFrame'>\n",
      "RangeIndex: 62 entries, 0 to 61\n",
      "Data columns (total 3 columns):\n",
      " #   Column    Non-Null Count  Dtype         \n",
      "---  ------    --------------  -----         \n",
      " 0   date      62 non-null     datetime64[ns]\n",
      " 1   group     62 non-null     object        \n",
      " 2   visitors  62 non-null     int64         \n",
      "dtypes: datetime64[ns](1), int64(1), object(1)\n",
      "memory usage: 1.6+ KB\n",
      "<class 'pandas.core.frame.DataFrame'>\n",
      "RangeIndex: 1197 entries, 0 to 1196\n",
      "Data columns (total 5 columns):\n",
      " #   Column         Non-Null Count  Dtype         \n",
      "---  ------         --------------  -----         \n",
      " 0   transactionId  1197 non-null   int64         \n",
      " 1   visitorId      1197 non-null   int64         \n",
      " 2   date           1197 non-null   datetime64[ns]\n",
      " 3   revenue        1197 non-null   int64         \n",
      " 4   group          1197 non-null   object        \n",
      "dtypes: datetime64[ns](1), int64(3), object(1)\n",
      "memory usage: 46.9+ KB\n"
     ]
    }
   ],
   "source": [
    "for df in [visitors,orders]:\n",
    "    df['date'] = df['date'].map(lambda x: dt.datetime.strptime(x,'%Y-%m-%d'))\n",
    "    df.info()"
   ]
  },
  {
   "cell_type": "markdown",
   "metadata": {},
   "source": [
    "Типы данных корректны.  \n",
    "  \n",
    "Сравним группы А и В по размеру и пользователям."
   ]
  },
  {
   "cell_type": "code",
   "execution_count": 6,
   "metadata": {},
   "outputs": [
    {
     "data": {
      "text/html": [
       "<div>\n",
       "<style scoped>\n",
       "    .dataframe tbody tr th:only-of-type {\n",
       "        vertical-align: middle;\n",
       "    }\n",
       "\n",
       "    .dataframe tbody tr th {\n",
       "        vertical-align: top;\n",
       "    }\n",
       "\n",
       "    .dataframe thead th {\n",
       "        text-align: right;\n",
       "    }\n",
       "</style>\n",
       "<table border=\"1\" class=\"dataframe\">\n",
       "  <thead>\n",
       "    <tr style=\"text-align: right;\">\n",
       "      <th></th>\n",
       "      <th>visitorId</th>\n",
       "    </tr>\n",
       "    <tr>\n",
       "      <th>group</th>\n",
       "      <th></th>\n",
       "    </tr>\n",
       "  </thead>\n",
       "  <tbody>\n",
       "    <tr>\n",
       "      <th>A</th>\n",
       "      <td>503</td>\n",
       "    </tr>\n",
       "    <tr>\n",
       "      <th>B</th>\n",
       "      <td>586</td>\n",
       "    </tr>\n",
       "  </tbody>\n",
       "</table>\n",
       "</div>"
      ],
      "text/plain": [
       "       visitorId\n",
       "group           \n",
       "A            503\n",
       "B            586"
      ]
     },
     "execution_count": 6,
     "metadata": {},
     "output_type": "execute_result"
    }
   ],
   "source": [
    "orders.groupby('group').agg({'visitorId':'nunique'})"
   ]
  },
  {
   "cell_type": "markdown",
   "metadata": {},
   "source": [
    "Найдём относительное и абсолютное различия в количестве пользователей двух групп:"
   ]
  },
  {
   "cell_type": "code",
   "execution_count": 7,
   "metadata": {
    "scrolled": true
   },
   "outputs": [
    {
     "data": {
      "text/plain": [
       "14.163822525597269"
      ]
     },
     "metadata": {},
     "output_type": "display_data"
    },
    {
     "data": {
      "text/plain": [
       "83"
      ]
     },
     "execution_count": 7,
     "metadata": {},
     "output_type": "execute_result"
    }
   ],
   "source": [
    "display((1-\n",
    " (orders.groupby('group').agg({'visitorId':'nunique'}).reset_index().iloc[0, 1])/\n",
    " (orders.groupby('group').agg({'visitorId':'nunique'}).reset_index().iloc[1, 1]))*100),\n",
    "((orders.groupby('group').agg({'visitorId':'nunique'}).reset_index().iloc[1, 1])-\n",
    "(orders.groupby('group').agg({'visitorId':'nunique'}).reset_index().iloc[0, 1]))"
   ]
  },
  {
   "cell_type": "markdown",
   "metadata": {},
   "source": [
    "Группа В больше группы А на 83 пользователя или на 14.2 %\n",
    "\n",
    "Возможно есть пользователи, попавшие в обе группы:"
   ]
  },
  {
   "cell_type": "code",
   "execution_count": 8,
   "metadata": {},
   "outputs": [
    {
     "data": {
      "text/plain": [
       "58"
      ]
     },
     "execution_count": 8,
     "metadata": {},
     "output_type": "execute_result"
    }
   ],
   "source": [
    "len(orders.groupby('visitorId').agg({'group':'nunique'}).query('group>1'))"
   ]
  },
  {
   "cell_type": "markdown",
   "metadata": {},
   "source": [
    "    Итак, у нас группы отличаются по размеру и в тоже время есть 58 повторяющихся пользователей.  \n",
    "    Такого при проведении теста быть не должно, т.к. остаётся непонятным, что именно (А- или В-версия) повлияла на решение клиента.\n",
    "\n",
    "    Было бы хорошо избавиться от этих а данных, но это делать, на мой взгляд, некорректно, т.к. если мы их удалим из таблицы **orders**, это повлияет на конверсию, она уменьшится, т.к. количество пользователей, сделавших заказ уменьшится, в то время как количество посетителей останется неизменным (в таблице **visitors** у нас нет данных об ID пользователей, а только общее количество посетителей, их принадлежность к группе на определённую дату). Если бы были Id в **visitors**, то можно было бы удалить."
   ]
  },
  {
   "cell_type": "markdown",
   "metadata": {},
   "source": [
    "## Вывод:   \n",
    "    Тест некорректен изначально: различия между группами существенные.   \n",
    "    Необходимо проверить систему сбора данных и сортировки пользователей."
   ]
  },
  {
   "cell_type": "markdown",
   "metadata": {},
   "source": [
    "# Построим график кумулятивной выручки по группам."
   ]
  },
  {
   "cell_type": "markdown",
   "metadata": {},
   "source": [
    "График кумулятивной выручки будет отображать динамику выручки с накоплением по датам. Он нужен, чтобы понимать скорость роста выручки, найти аномальные точки роста или падения прибыли. В идеале график должен равномерно расти на всём промежутке.  \n",
    "  \n",
    "Для построения графиков кумулятивной выручки, кумулятивного среднего чека и кумулятивной конверсии, соберём данные из исходных таблиц orders и visitors в общую таблицу cumulative_data со столбцами: date (дата), group (А или В), orders (количество заказов в этот день), buyers (количество покупателей в этот день), revenue (доход в этот день), visitors (количество посетителей сайта в этот день).  \n",
    "  \n",
    "1) Создадим массив уникальных пар значений дат и групп теста:"
   ]
  },
  {
   "cell_type": "code",
   "execution_count": 9,
   "metadata": {},
   "outputs": [
    {
     "data": {
      "text/html": [
       "<div>\n",
       "<style scoped>\n",
       "    .dataframe tbody tr th:only-of-type {\n",
       "        vertical-align: middle;\n",
       "    }\n",
       "\n",
       "    .dataframe tbody tr th {\n",
       "        vertical-align: top;\n",
       "    }\n",
       "\n",
       "    .dataframe thead th {\n",
       "        text-align: right;\n",
       "    }\n",
       "</style>\n",
       "<table border=\"1\" class=\"dataframe\">\n",
       "  <thead>\n",
       "    <tr style=\"text-align: right;\">\n",
       "      <th></th>\n",
       "      <th>date</th>\n",
       "      <th>group</th>\n",
       "    </tr>\n",
       "  </thead>\n",
       "  <tbody>\n",
       "    <tr>\n",
       "      <th>0</th>\n",
       "      <td>2019-08-15</td>\n",
       "      <td>B</td>\n",
       "    </tr>\n",
       "    <tr>\n",
       "      <th>2</th>\n",
       "      <td>2019-08-15</td>\n",
       "      <td>A</td>\n",
       "    </tr>\n",
       "    <tr>\n",
       "      <th>45</th>\n",
       "      <td>2019-08-16</td>\n",
       "      <td>A</td>\n",
       "    </tr>\n",
       "    <tr>\n",
       "      <th>47</th>\n",
       "      <td>2019-08-16</td>\n",
       "      <td>B</td>\n",
       "    </tr>\n",
       "    <tr>\n",
       "      <th>55</th>\n",
       "      <td>2019-08-01</td>\n",
       "      <td>A</td>\n",
       "    </tr>\n",
       "    <tr>\n",
       "      <th>...</th>\n",
       "      <td>...</td>\n",
       "      <td>...</td>\n",
       "    </tr>\n",
       "    <tr>\n",
       "      <th>1068</th>\n",
       "      <td>2019-08-12</td>\n",
       "      <td>A</td>\n",
       "    </tr>\n",
       "    <tr>\n",
       "      <th>1114</th>\n",
       "      <td>2019-08-13</td>\n",
       "      <td>B</td>\n",
       "    </tr>\n",
       "    <tr>\n",
       "      <th>1116</th>\n",
       "      <td>2019-08-13</td>\n",
       "      <td>A</td>\n",
       "    </tr>\n",
       "    <tr>\n",
       "      <th>1149</th>\n",
       "      <td>2019-08-14</td>\n",
       "      <td>B</td>\n",
       "    </tr>\n",
       "    <tr>\n",
       "      <th>1150</th>\n",
       "      <td>2019-08-14</td>\n",
       "      <td>A</td>\n",
       "    </tr>\n",
       "  </tbody>\n",
       "</table>\n",
       "<p>62 rows × 2 columns</p>\n",
       "</div>"
      ],
      "text/plain": [
       "           date group\n",
       "0    2019-08-15     B\n",
       "2    2019-08-15     A\n",
       "45   2019-08-16     A\n",
       "47   2019-08-16     B\n",
       "55   2019-08-01     A\n",
       "...         ...   ...\n",
       "1068 2019-08-12     A\n",
       "1114 2019-08-13     B\n",
       "1116 2019-08-13     A\n",
       "1149 2019-08-14     B\n",
       "1150 2019-08-14     A\n",
       "\n",
       "[62 rows x 2 columns]"
      ]
     },
     "execution_count": 9,
     "metadata": {},
     "output_type": "execute_result"
    }
   ],
   "source": [
    "dates_and_groups = orders[['date','group']].drop_duplicates()\n",
    "dates_and_groups"
   ]
  },
  {
   "cell_type": "markdown",
   "metadata": {},
   "source": [
    "2) Соберём агрегированные кумулятивные по дням данные о заказах и посетителях:"
   ]
  },
  {
   "cell_type": "code",
   "execution_count": 10,
   "metadata": {},
   "outputs": [],
   "source": [
    "orders_aggregated = dates_and_groups.apply(lambda x: \n",
    "                                           orders[np.logical_and(orders['date'] <= x['date'], \n",
    "                                                                 orders['group'] == x['group'])].agg({'date' : 'max', \n",
    "                                                                                                      'group' : 'max', \n",
    "                                                                                                      'transactionId' : 'nunique', \n",
    "                                                                                                      'visitorId' : 'nunique', \n",
    "                                                                                                      'revenue' : 'sum'}), axis=1).sort_values(by=['date','group'])\n"
   ]
  },
  {
   "cell_type": "code",
   "execution_count": 11,
   "metadata": {},
   "outputs": [],
   "source": [
    "visitors_aggregated = dates_and_groups.apply(lambda x: visitors[np.logical_and(visitors['date'] <= x['date'],\n",
    "                                                                         visitors['group'] == x['group'])].agg({'date' : 'max', \n",
    "                                                                                                                'group' : 'max',\n",
    "                                                                                                                'visitors' : 'sum'}), axis=1).sort_values(by=['date','group'])"
   ]
  },
  {
   "cell_type": "markdown",
   "metadata": {},
   "source": [
    "3) Объединим обе таблицы в одну (cumulative_data) с понятными названиями столбцов:"
   ]
  },
  {
   "cell_type": "code",
   "execution_count": 12,
   "metadata": {},
   "outputs": [
    {
     "name": "stdout",
     "output_type": "stream",
     "text": [
      "        date group  orders  buyers  revenue  visitors\n",
      "0 2019-08-01     A      24      20   148579       719\n",
      "1 2019-08-01     B      21      20   101217       713\n",
      "2 2019-08-02     A      44      38   242401      1338\n",
      "3 2019-08-02     B      45      43   266748      1294\n",
      "4 2019-08-03     A      68      62   354874      1845\n"
     ]
    }
   ],
   "source": [
    "cumulative_data = orders_aggregated.merge(visitors_aggregated, left_on=['date', 'group'], right_on=['date', 'group'])\n",
    "cumulative_data.columns = ['date', 'group', 'orders', 'buyers', 'revenue', 'visitors']\n",
    "\n",
    "print(cumulative_data.head(5))"
   ]
  },
  {
   "cell_type": "markdown",
   "metadata": {},
   "source": [
    "Построим графики кумулятивной выручки по дням и группам A/B-тестирования:"
   ]
  },
  {
   "cell_type": "code",
   "execution_count": 13,
   "metadata": {},
   "outputs": [
    {
     "data": {
      "image/png": "[encoded data removed]",
      "text/plain": [
       "<Figure size 720x360 with 1 Axes>"
      ]
     },
     "metadata": {
      "image/png": {
       "height": 331,
       "width": 619
      },
      "needs_background": "light"
     },
     "output_type": "display_data"
    }
   ],
   "source": [
    "# датафрейм с кумулятивным количеством заказов и кумулятивной выручкой по дням в группе А\n",
    "cumulative_revenue_a = cumulative_data[cumulative_data['group']=='A'][['date','revenue', 'orders']]\n",
    "\n",
    "# датафрейм с кумулятивным количеством заказов и кумулятивной выручкой по дням в группе B\n",
    "cumulative_revenue_b = cumulative_data[cumulative_data['group']=='B'][['date','revenue', 'orders']]\n",
    "\n",
    "plt.subplots(figsize=(10, 5))\n",
    "# Строим график выручки группы А\n",
    "plt.plot(cumulative_revenue_a['date'], cumulative_revenue_a['revenue'], label='A')\n",
    "\n",
    "# Строим график выручки группы B\n",
    "plt.plot(cumulative_revenue_b['date'], cumulative_revenue_b['revenue'], label='B')\n",
    "\n",
    "plt.legend() \n",
    "plt.title('Динамика кумулятивной выручки для групп A и B')\n",
    "plt.xlabel('Дата')\n",
    "plt.ylabel('Выручка')\n",
    "\n",
    "plt.show()"
   ]
  },
  {
   "cell_type": "markdown",
   "metadata": {},
   "source": [
    "## Вывод \n",
    "    Видно, что выручка равномерно увеличивается в течение периода, как для группы А, так и для группы В. После 17 августа 2019 на графике виден всплеск выручки, полученной от группы В. На данном этапе рано делать выводы, возможно на различие групп повлияли выбросы. Но стабилизация графиков видна после указанной даты."
   ]
  },
  {
   "cell_type": "markdown",
   "metadata": {},
   "source": [
    "# Построим график кумулятивного среднего чека по группам"
   ]
  },
  {
   "cell_type": "markdown",
   "metadata": {},
   "source": [
    "Построим графики среднего чека по группам — разделим кумулятивную выручку на кумулятивное число заказов:"
   ]
  },
  {
   "cell_type": "code",
   "execution_count": 14,
   "metadata": {},
   "outputs": [
    {
     "data": {
      "image/png": "[encoded data removed]",
      "text/plain": [
       "<Figure size 720x360 with 1 Axes>"
      ]
     },
     "metadata": {
      "image/png": {
       "height": 331,
       "width": 645
      },
      "needs_background": "light"
     },
     "output_type": "display_data"
    }
   ],
   "source": [
    "plt.subplots(figsize=(10, 5))\n",
    "plt.plot(cumulative_revenue_a['date'], cumulative_revenue_a['revenue']/cumulative_revenue_a['orders'], label='A')\n",
    "plt.plot(cumulative_revenue_b['date'], cumulative_revenue_b['revenue']/cumulative_revenue_b['orders'], label='B')\n",
    "plt.legend() \n",
    "plt.title('Динамика кумулятивного среднего чека для групп A и B')\n",
    "plt.xlabel('Дата')\n",
    "plt.ylabel('Размер среднего чека')\n",
    "\n",
    "plt.show()"
   ]
  },
  {
   "cell_type": "markdown",
   "metadata": {},
   "source": [
    "## Вывод \n",
    "    На графике видно, что динамика среднего чека для двух групп положительная, но есть несколько точек, которые ломают кривые. Для группы В: однократное падение 05/08/2019, спад после 08/08/2019 до 13/08/2019, резкий рост с 19 по 20 08/2019, и далее равномерный спад. Для группы А: падение до 06/08/2019, пик роста пришёлся на 13/08/2019, далее небольшое проседание и к концу периода график выходит почти на уровень пика. Скорее всего в пиковые дни фирма получала значительно большую выручку, чем обычно. Особенно это заметно для группы А после 18/08 - сильный выброс в выручке сместил график среднего чека вверх. \n",
    "    Т.к. графики к концу периода сближаются, а в данных есть сильные выбросы, то на момент анализа сложно сделать однозначные выводы о преимуществах како-либо группы."
   ]
  },
  {
   "cell_type": "markdown",
   "metadata": {},
   "source": [
    "# Построим график относительного изменения кумулятивного среднего чека группы B к группе A"
   ]
  },
  {
   "cell_type": "markdown",
   "metadata": {},
   "source": [
    "Построим график относительного различия для среднего чека и добавим горизонтальную ось, которая будет показывать отсутствие изменений "
   ]
  },
  {
   "cell_type": "code",
   "execution_count": 15,
   "metadata": {},
   "outputs": [
    {
     "data": {
      "image/png": "[encoded data removed]",
      "text/plain": [
       "<Figure size 720x360 with 1 Axes>"
      ]
     },
     "metadata": {
      "image/png": {
       "height": 331,
       "width": 637
      },
      "needs_background": "light"
     },
     "output_type": "display_data"
    }
   ],
   "source": [
    "# собираем данные в одном датафрейме\n",
    "merged_сumulative_revenue = cumulative_revenue_a.merge(cumulative_revenue_b, left_on='date', right_on='date', how='left', suffixes=['A', 'B'])\n",
    "\n",
    "# cтроим отношение средних чеков\n",
    "plt.subplots(figsize=(10, 5))\n",
    "plt.plot(merged_сumulative_revenue['date'], (merged_сumulative_revenue['revenueB']/merged_сumulative_revenue['ordersB'])/(merged_сumulative_revenue['revenueA']/merged_сumulative_revenue['ordersA'])-1)\n",
    "\n",
    "# добавляем ось X\n",
    "plt.axhline(y=0, color='black', linestyle='--') \n",
    "\n",
    "plt.title('Динамика относительного различия для среднего чека для групп A и B')\n",
    "plt.xlabel('Дата')\n",
    "plt.ylabel('Различие среднего чека')\n",
    "\n",
    "plt.show()"
   ]
  },
  {
   "cell_type": "markdown",
   "metadata": {},
   "source": [
    "## Вывод \n",
    "    В нескольких точках график различия между группами резко «скачет»: по данному графику нельзя однозначно утверждать, что средний чек группы В больше среднего чека группы А, т.к. в центре есть большие колебания - 13/08 график сильно просел из-за большого чека в группе А, но уже 19/08 огромный чек был у группы В. Т.к. на графике изображена динамика относительного среднего, то она сильно подвержена искажению выбросами. "
   ]
  },
  {
   "cell_type": "markdown",
   "metadata": {},
   "source": [
    "# Построим график кумулятивной конверсии по группам."
   ]
  },
  {
   "cell_type": "code",
   "execution_count": 16,
   "metadata": {},
   "outputs": [
    {
     "data": {
      "image/png": "[encoded data removed]",
      "text/plain": [
       "<Figure size 720x360 with 1 Axes>"
      ]
     },
     "metadata": {
      "image/png": {
       "height": 331,
       "width": 642
      },
      "needs_background": "light"
     },
     "output_type": "display_data"
    }
   ],
   "source": [
    "# считаем кумулятивную конверсию\n",
    "cumulative_data['conversion'] = cumulative_data['orders']/cumulative_data['visitors']\n",
    "\n",
    "# отделяем данные по группе A\n",
    "cumulative_data_a = cumulative_data[cumulative_data['group']=='A']\n",
    "\n",
    "# отделяем данные по группе B\n",
    "cumulative_data_b = cumulative_data[cumulative_data['group']=='B']\n",
    "\n",
    "# строим графики\n",
    "plt.subplots(figsize=(10, 5))\n",
    "plt.plot(cumulative_data_a['date'], cumulative_data_a['conversion'], label='A')\n",
    "plt.plot(cumulative_data_b['date'], cumulative_data_b['conversion'], label='B')\n",
    "plt.title('График кумулятивной конверсии по группам')\n",
    "plt.xlabel('Дата')\n",
    "plt.ylabel('Уровень конверсии')\n",
    "plt.legend()\n",
    "\n",
    "# добавляем оси со средним значением конверсии для групп\n",
    "plt.axhline(y=np.mean(cumulative_data_a['conversion']), \n",
    "            color='blue', \n",
    "            linestyle='--',\n",
    "           )\n",
    "plt.axhline(y=np.mean(cumulative_data_b['conversion']), \n",
    "            color='orange', \n",
    "            linestyle='--',\n",
    "           )\n",
    "\n",
    "plt.show()"
   ]
  },
  {
   "cell_type": "markdown",
   "metadata": {},
   "source": [
    "## Вывод \n",
    "    С 06/08 конверсия явно раличается у двух групп, что видно по их средним (пунктирные линии на графике). Конверсия группы В превышает конверсию группы А на 3 проц.пункта, значит, достаточно ли этого для победы и остановки теста точно не понятно, т.к. нет изначальных данных о целевом уровне превышения показателя одной группы над другой. График конверсии после 09/08 стабилизировался.  "
   ]
  },
  {
   "cell_type": "markdown",
   "metadata": {},
   "source": [
    "# Построим график относительного изменения кумулятивной конверсии группы B к группе A "
   ]
  },
  {
   "cell_type": "code",
   "execution_count": 17,
   "metadata": {},
   "outputs": [
    {
     "data": {
      "image/png": "[encoded data removed]",
      "text/plain": [
       "<Figure size 720x360 with 1 Axes>"
      ]
     },
     "metadata": {
      "image/png": {
       "height": 331,
       "width": 644
      },
      "needs_background": "light"
     },
     "output_type": "display_data"
    }
   ],
   "source": [
    "merged_cumulative_conversions = cumulative_data_a[['date','conversion']].merge(cumulative_data_b[['date','conversion']], left_on='date', right_on='date', how='left', suffixes=['A', 'B'])\n",
    "\n",
    "plt.subplots(figsize=(10, 5))\n",
    "plt.plot(merged_cumulative_conversions['date'], merged_cumulative_conversions['conversionB']/merged_cumulative_conversions['conversionA']-1)\n",
    "plt.title('Относительный прирост конверсии группы B относительно группы A')\n",
    "plt.xlabel('Дата')\n",
    "plt.ylabel('Уровень прироста')\n",
    "\n",
    "plt.axhline(y=0, color='black', linestyle='--')\n",
    "plt.axhline(y=np.mean(merged_cumulative_conversions['conversionB']/merged_cumulative_conversions['conversionA']-1), color='blue', linestyle='--')\n",
    "\n",
    "plt.show()"
   ]
  },
  {
   "cell_type": "markdown",
   "metadata": {},
   "source": [
    "## Вывод \n",
    "    Этот график подтверждает предыдущие выводы о том, что конверсия группы В больше конверсии группы А в среднем на 10 проц.пунктов. На значение этого показателя повлияли выбросы, характерные для обоих групп."
   ]
  },
  {
   "cell_type": "markdown",
   "metadata": {},
   "source": [
    "# Построим точечный график количества заказов по пользователям"
   ]
  },
  {
   "cell_type": "markdown",
   "metadata": {},
   "source": [
    "Создадим сводную таблицу, в которой посчитаем количество заказов на каждого пользователя."
   ]
  },
  {
   "cell_type": "code",
   "execution_count": 18,
   "metadata": {
    "scrolled": false
   },
   "outputs": [
    {
     "data": {
      "text/html": [
       "<div>\n",
       "<style scoped>\n",
       "    .dataframe tbody tr th:only-of-type {\n",
       "        vertical-align: middle;\n",
       "    }\n",
       "\n",
       "    .dataframe tbody tr th {\n",
       "        vertical-align: top;\n",
       "    }\n",
       "\n",
       "    .dataframe thead th {\n",
       "        text-align: right;\n",
       "    }\n",
       "</style>\n",
       "<table border=\"1\" class=\"dataframe\">\n",
       "  <thead>\n",
       "    <tr style=\"text-align: right;\">\n",
       "      <th></th>\n",
       "      <th>userId</th>\n",
       "      <th>orders</th>\n",
       "    </tr>\n",
       "  </thead>\n",
       "  <tbody>\n",
       "    <tr>\n",
       "      <th>1023</th>\n",
       "      <td>4256040402</td>\n",
       "      <td>11</td>\n",
       "    </tr>\n",
       "    <tr>\n",
       "      <th>591</th>\n",
       "      <td>2458001652</td>\n",
       "      <td>11</td>\n",
       "    </tr>\n",
       "    <tr>\n",
       "      <th>569</th>\n",
       "      <td>2378935119</td>\n",
       "      <td>9</td>\n",
       "    </tr>\n",
       "    <tr>\n",
       "      <th>487</th>\n",
       "      <td>2038680547</td>\n",
       "      <td>8</td>\n",
       "    </tr>\n",
       "    <tr>\n",
       "      <th>44</th>\n",
       "      <td>199603092</td>\n",
       "      <td>5</td>\n",
       "    </tr>\n",
       "    <tr>\n",
       "      <th>...</th>\n",
       "      <td>...</td>\n",
       "      <td>...</td>\n",
       "    </tr>\n",
       "    <tr>\n",
       "      <th>359</th>\n",
       "      <td>1484903144</td>\n",
       "      <td>1</td>\n",
       "    </tr>\n",
       "    <tr>\n",
       "      <th>360</th>\n",
       "      <td>1485964287</td>\n",
       "      <td>1</td>\n",
       "    </tr>\n",
       "    <tr>\n",
       "      <th>361</th>\n",
       "      <td>1494664757</td>\n",
       "      <td>1</td>\n",
       "    </tr>\n",
       "    <tr>\n",
       "      <th>362</th>\n",
       "      <td>1495112755</td>\n",
       "      <td>1</td>\n",
       "    </tr>\n",
       "    <tr>\n",
       "      <th>1030</th>\n",
       "      <td>4283872382</td>\n",
       "      <td>1</td>\n",
       "    </tr>\n",
       "  </tbody>\n",
       "</table>\n",
       "<p>1031 rows × 2 columns</p>\n",
       "</div>"
      ],
      "text/plain": [
       "          userId  orders\n",
       "1023  4256040402      11\n",
       "591   2458001652      11\n",
       "569   2378935119       9\n",
       "487   2038680547       8\n",
       "44     199603092       5\n",
       "...          ...     ...\n",
       "359   1484903144       1\n",
       "360   1485964287       1\n",
       "361   1494664757       1\n",
       "362   1495112755       1\n",
       "1030  4283872382       1\n",
       "\n",
       "[1031 rows x 2 columns]"
      ]
     },
     "execution_count": 18,
     "metadata": {},
     "output_type": "execute_result"
    }
   ],
   "source": [
    "orders_by_users = orders.groupby('visitorId').agg({'transactionId' : 'nunique'}).reset_index()\n",
    "orders_by_users.columns = ['userId', 'orders']\n",
    "orders_by_users.sort_values(by='orders', ascending=False)"
   ]
  },
  {
   "cell_type": "code",
   "execution_count": 19,
   "metadata": {},
   "outputs": [
    {
     "data": {
      "image/png": "[encoded data removed]",
      "text/plain": [
       "<Figure size 432x288 with 1 Axes>"
      ]
     },
     "metadata": {
      "image/png": {
       "height": 277,
       "width": 382
      },
      "needs_background": "light"
     },
     "output_type": "display_data"
    }
   ],
   "source": [
    "# Строим точечный график\n",
    "plt.scatter(range(0,len(orders_by_users['orders'])), orders_by_users['orders']) \n",
    "plt.title('Количество заказов каждого пользователя')\n",
    "plt.xlabel('Порядковый номер пользователя')\n",
    "plt.ylabel('Количество заказов')\n",
    "plt.show()"
   ]
  },
  {
   "cell_type": "markdown",
   "metadata": {},
   "source": [
    "## Вывод \n",
    "    Много пользователей с 1-3 заказами. Их точная доля пока не ясна — непонятно, считать их аномалиями или нет. Необходимо посчитать 95 и 99 персентили."
   ]
  },
  {
   "cell_type": "markdown",
   "metadata": {},
   "source": [
    "# Посчитаем 95-й и 99-й перцентили количества заказов на пользователя и выберем границу для определения аномальных пользователей.  \n"
   ]
  },
  {
   "cell_type": "code",
   "execution_count": 20,
   "metadata": {},
   "outputs": [
    {
     "data": {
      "text/plain": [
       "array([1., 2., 4.])"
      ]
     },
     "execution_count": 20,
     "metadata": {},
     "output_type": "execute_result"
    }
   ],
   "source": [
    "np.percentile(orders_by_users['orders'], [90, 95, 99])"
   ]
  },
  {
   "cell_type": "markdown",
   "metadata": {},
   "source": [
    "## Вывод \n",
    "    Не более 10% пользователей заказывали более одного раза, 5% пользователей оформляли больше чем 2 заказа, и только 1% - сделал 4 и более заказов.\n",
    "    Выберем 2 заказа на одного пользователя за нижнюю границу числа заказов."
   ]
  },
  {
   "cell_type": "markdown",
   "metadata": {},
   "source": [
    "# Построим точечный график стоимостей заказов"
   ]
  },
  {
   "cell_type": "code",
   "execution_count": 21,
   "metadata": {},
   "outputs": [
    {
     "data": {
      "text/html": [
       "<div>\n",
       "<style scoped>\n",
       "    .dataframe tbody tr th:only-of-type {\n",
       "        vertical-align: middle;\n",
       "    }\n",
       "\n",
       "    .dataframe tbody tr th {\n",
       "        vertical-align: top;\n",
       "    }\n",
       "\n",
       "    .dataframe thead th {\n",
       "        text-align: right;\n",
       "    }\n",
       "</style>\n",
       "<table border=\"1\" class=\"dataframe\">\n",
       "  <thead>\n",
       "    <tr style=\"text-align: right;\">\n",
       "      <th></th>\n",
       "      <th>transactionId</th>\n",
       "      <th>visitorId</th>\n",
       "      <th>date</th>\n",
       "      <th>revenue</th>\n",
       "      <th>group</th>\n",
       "    </tr>\n",
       "  </thead>\n",
       "  <tbody>\n",
       "    <tr>\n",
       "      <th>425</th>\n",
       "      <td>590470918</td>\n",
       "      <td>1920142716</td>\n",
       "      <td>2019-08-19</td>\n",
       "      <td>1294500</td>\n",
       "      <td>B</td>\n",
       "    </tr>\n",
       "    <tr>\n",
       "      <th>1196</th>\n",
       "      <td>3936777065</td>\n",
       "      <td>2108080724</td>\n",
       "      <td>2019-08-15</td>\n",
       "      <td>202740</td>\n",
       "      <td>B</td>\n",
       "    </tr>\n",
       "    <tr>\n",
       "      <th>858</th>\n",
       "      <td>192721366</td>\n",
       "      <td>1316129916</td>\n",
       "      <td>2019-08-27</td>\n",
       "      <td>93940</td>\n",
       "      <td>A</td>\n",
       "    </tr>\n",
       "    <tr>\n",
       "      <th>1136</th>\n",
       "      <td>666610489</td>\n",
       "      <td>1307669133</td>\n",
       "      <td>2019-08-13</td>\n",
       "      <td>92550</td>\n",
       "      <td>A</td>\n",
       "    </tr>\n",
       "    <tr>\n",
       "      <th>744</th>\n",
       "      <td>3668308183</td>\n",
       "      <td>888512513</td>\n",
       "      <td>2019-08-27</td>\n",
       "      <td>86620</td>\n",
       "      <td>B</td>\n",
       "    </tr>\n",
       "    <tr>\n",
       "      <th>...</th>\n",
       "      <td>...</td>\n",
       "      <td>...</td>\n",
       "      <td>...</td>\n",
       "      <td>...</td>\n",
       "      <td>...</td>\n",
       "    </tr>\n",
       "    <tr>\n",
       "      <th>933</th>\n",
       "      <td>3760662696</td>\n",
       "      <td>3577713868</td>\n",
       "      <td>2019-08-27</td>\n",
       "      <td>60</td>\n",
       "      <td>B</td>\n",
       "    </tr>\n",
       "    <tr>\n",
       "      <th>459</th>\n",
       "      <td>863448794</td>\n",
       "      <td>2738601405</td>\n",
       "      <td>2019-08-19</td>\n",
       "      <td>50</td>\n",
       "      <td>B</td>\n",
       "    </tr>\n",
       "    <tr>\n",
       "      <th>756</th>\n",
       "      <td>125335873</td>\n",
       "      <td>3423937755</td>\n",
       "      <td>2019-08-30</td>\n",
       "      <td>50</td>\n",
       "      <td>B</td>\n",
       "    </tr>\n",
       "    <tr>\n",
       "      <th>584</th>\n",
       "      <td>1126146019</td>\n",
       "      <td>2705308997</td>\n",
       "      <td>2019-08-20</td>\n",
       "      <td>50</td>\n",
       "      <td>A</td>\n",
       "    </tr>\n",
       "    <tr>\n",
       "      <th>1091</th>\n",
       "      <td>750632879</td>\n",
       "      <td>4256040402</td>\n",
       "      <td>2019-08-12</td>\n",
       "      <td>50</td>\n",
       "      <td>A</td>\n",
       "    </tr>\n",
       "  </tbody>\n",
       "</table>\n",
       "<p>1197 rows × 5 columns</p>\n",
       "</div>"
      ],
      "text/plain": [
       "      transactionId   visitorId       date  revenue group\n",
       "425       590470918  1920142716 2019-08-19  1294500     B\n",
       "1196     3936777065  2108080724 2019-08-15   202740     B\n",
       "858       192721366  1316129916 2019-08-27    93940     A\n",
       "1136      666610489  1307669133 2019-08-13    92550     A\n",
       "744      3668308183   888512513 2019-08-27    86620     B\n",
       "...             ...         ...        ...      ...   ...\n",
       "933      3760662696  3577713868 2019-08-27       60     B\n",
       "459       863448794  2738601405 2019-08-19       50     B\n",
       "756       125335873  3423937755 2019-08-30       50     B\n",
       "584      1126146019  2705308997 2019-08-20       50     A\n",
       "1091      750632879  4256040402 2019-08-12       50     A\n",
       "\n",
       "[1197 rows x 5 columns]"
      ]
     },
     "execution_count": 21,
     "metadata": {},
     "output_type": "execute_result"
    }
   ],
   "source": [
    "orders.sort_values(by='revenue', ascending=False)"
   ]
  },
  {
   "cell_type": "code",
   "execution_count": 22,
   "metadata": {},
   "outputs": [
    {
     "data": {
      "image/png": "[encoded data removed]",
      "text/plain": [
       "<Figure size 432x288 with 1 Axes>"
      ]
     },
     "metadata": {
      "image/png": {
       "height": 277,
       "width": 385
      },
      "needs_background": "light"
     },
     "output_type": "display_data"
    }
   ],
   "source": [
    "plt.scatter(range(0,len(orders['revenue'])), orders['revenue']) \n",
    "plt.title('Стоимость каждого заказа')\n",
    "plt.xlabel('Порядковый номер заказа')\n",
    "plt.ylabel('Стоимость заказа')\n",
    "plt.show()"
   ]
  },
  {
   "cell_type": "markdown",
   "metadata": {},
   "source": [
    "## Вывод \n",
    "    Заметны два сильно выбивающихся из общей картины значения стоимости - причём одно более 1,2 млн - что неправдоподобно и похоже на ошибку. "
   ]
  },
  {
   "cell_type": "markdown",
   "metadata": {},
   "source": [
    "# Посчитаем 95-й и 99-й перцентили стоимости заказов и выберем границу для определения аномалий.  "
   ]
  },
  {
   "cell_type": "code",
   "execution_count": 23,
   "metadata": {},
   "outputs": [
    {
     "data": {
      "text/plain": [
       "array([18168. , 28000. , 58233.2])"
      ]
     },
     "execution_count": 23,
     "metadata": {},
     "output_type": "execute_result"
    }
   ],
   "source": [
    "np.percentile(orders['revenue'], [90, 95, 99])"
   ]
  },
  {
   "cell_type": "markdown",
   "metadata": {},
   "source": [
    "## Вывод \n",
    "    Не более чем у 10% пользователей стоимотсть заказа более 18 168, у 5% пользователей-28 000, и только 1%-более 58 233.\n",
    "    Выберем стоимость заказа 28 000 на одного пользователя за нижнюю границу стоимости заказов."
   ]
  },
  {
   "cell_type": "markdown",
   "metadata": {},
   "source": [
    "# Посчитаем статистическую значимость различий в конверсии между группами по «сырым» данным"
   ]
  },
  {
   "cell_type": "markdown",
   "metadata": {},
   "source": [
    "Подготовим удобную таблицу (data_merged) со сводными данными:  \n",
    "- количество пользователей в день (visitors_daily_a и visitors_daily_b)  \n",
    "- количество пользователей в день нарастающим итогом (visitors_cummulative_a и visitors_cummulative_b)  \n",
    "- количество заказов в день (orders_daily_a и orders_daily_b)  \n",
    "- количество заказов в день нарастающим итогом (orders_cummulative_a и orders_cummulative_b)"
   ]
  },
  {
   "cell_type": "code",
   "execution_count": 24,
   "metadata": {
    "scrolled": false
   },
   "outputs": [
    {
     "data": {
      "text/html": [
       "<div>\n",
       "<style scoped>\n",
       "    .dataframe tbody tr th:only-of-type {\n",
       "        vertical-align: middle;\n",
       "    }\n",
       "\n",
       "    .dataframe tbody tr th {\n",
       "        vertical-align: top;\n",
       "    }\n",
       "\n",
       "    .dataframe thead th {\n",
       "        text-align: right;\n",
       "    }\n",
       "</style>\n",
       "<table border=\"1\" class=\"dataframe\">\n",
       "  <thead>\n",
       "    <tr style=\"text-align: right;\">\n",
       "      <th></th>\n",
       "      <th>date</th>\n",
       "      <th>visitors_per_date_a</th>\n",
       "    </tr>\n",
       "  </thead>\n",
       "  <tbody>\n",
       "    <tr>\n",
       "      <th>0</th>\n",
       "      <td>2019-08-01</td>\n",
       "      <td>719</td>\n",
       "    </tr>\n",
       "    <tr>\n",
       "      <th>1</th>\n",
       "      <td>2019-08-02</td>\n",
       "      <td>619</td>\n",
       "    </tr>\n",
       "    <tr>\n",
       "      <th>2</th>\n",
       "      <td>2019-08-03</td>\n",
       "      <td>507</td>\n",
       "    </tr>\n",
       "    <tr>\n",
       "      <th>3</th>\n",
       "      <td>2019-08-04</td>\n",
       "      <td>717</td>\n",
       "    </tr>\n",
       "    <tr>\n",
       "      <th>4</th>\n",
       "      <td>2019-08-05</td>\n",
       "      <td>756</td>\n",
       "    </tr>\n",
       "  </tbody>\n",
       "</table>\n",
       "</div>"
      ],
      "text/plain": [
       "        date  visitors_per_date_a\n",
       "0 2019-08-01                  719\n",
       "1 2019-08-02                  619\n",
       "2 2019-08-03                  507\n",
       "3 2019-08-04                  717\n",
       "4 2019-08-05                  756"
      ]
     },
     "metadata": {},
     "output_type": "display_data"
    },
    {
     "data": {
      "text/html": [
       "<div>\n",
       "<style scoped>\n",
       "    .dataframe tbody tr th:only-of-type {\n",
       "        vertical-align: middle;\n",
       "    }\n",
       "\n",
       "    .dataframe tbody tr th {\n",
       "        vertical-align: top;\n",
       "    }\n",
       "\n",
       "    .dataframe thead th {\n",
       "        text-align: right;\n",
       "    }\n",
       "</style>\n",
       "<table border=\"1\" class=\"dataframe\">\n",
       "  <thead>\n",
       "    <tr style=\"text-align: right;\">\n",
       "      <th></th>\n",
       "      <th>date</th>\n",
       "      <th>visitors_per_date_b</th>\n",
       "    </tr>\n",
       "  </thead>\n",
       "  <tbody>\n",
       "    <tr>\n",
       "      <th>31</th>\n",
       "      <td>2019-08-01</td>\n",
       "      <td>713</td>\n",
       "    </tr>\n",
       "    <tr>\n",
       "      <th>32</th>\n",
       "      <td>2019-08-02</td>\n",
       "      <td>581</td>\n",
       "    </tr>\n",
       "    <tr>\n",
       "      <th>33</th>\n",
       "      <td>2019-08-03</td>\n",
       "      <td>509</td>\n",
       "    </tr>\n",
       "    <tr>\n",
       "      <th>34</th>\n",
       "      <td>2019-08-04</td>\n",
       "      <td>770</td>\n",
       "    </tr>\n",
       "    <tr>\n",
       "      <th>35</th>\n",
       "      <td>2019-08-05</td>\n",
       "      <td>707</td>\n",
       "    </tr>\n",
       "  </tbody>\n",
       "</table>\n",
       "</div>"
      ],
      "text/plain": [
       "         date  visitors_per_date_b\n",
       "31 2019-08-01                  713\n",
       "32 2019-08-02                  581\n",
       "33 2019-08-03                  509\n",
       "34 2019-08-04                  770\n",
       "35 2019-08-05                  707"
      ]
     },
     "metadata": {},
     "output_type": "display_data"
    }
   ],
   "source": [
    "visitors_daily_a = visitors[visitors['group'] == 'A'][['date', 'visitors']]\n",
    "visitors_daily_a.columns = ['date', 'visitors_per_date_a']\n",
    "\n",
    "visitors_daily_b = visitors[visitors['group'] == 'B'][['date', 'visitors']]\n",
    "visitors_daily_b.columns = ['date', 'visitors_per_date_b']\n",
    "\n",
    "display(visitors_daily_a.head(),visitors_daily_b.head())"
   ]
  },
  {
   "cell_type": "code",
   "execution_count": 25,
   "metadata": {},
   "outputs": [
    {
     "data": {
      "text/html": [
       "<div>\n",
       "<style scoped>\n",
       "    .dataframe tbody tr th:only-of-type {\n",
       "        vertical-align: middle;\n",
       "    }\n",
       "\n",
       "    .dataframe tbody tr th {\n",
       "        vertical-align: top;\n",
       "    }\n",
       "\n",
       "    .dataframe thead th {\n",
       "        text-align: right;\n",
       "    }\n",
       "</style>\n",
       "<table border=\"1\" class=\"dataframe\">\n",
       "  <thead>\n",
       "    <tr style=\"text-align: right;\">\n",
       "      <th></th>\n",
       "      <th>date</th>\n",
       "      <th>visitors_cummulative_a</th>\n",
       "    </tr>\n",
       "  </thead>\n",
       "  <tbody>\n",
       "    <tr>\n",
       "      <th>0</th>\n",
       "      <td>2019-08-01</td>\n",
       "      <td>719</td>\n",
       "    </tr>\n",
       "    <tr>\n",
       "      <th>1</th>\n",
       "      <td>2019-08-02</td>\n",
       "      <td>1338</td>\n",
       "    </tr>\n",
       "    <tr>\n",
       "      <th>2</th>\n",
       "      <td>2019-08-03</td>\n",
       "      <td>1845</td>\n",
       "    </tr>\n",
       "    <tr>\n",
       "      <th>3</th>\n",
       "      <td>2019-08-04</td>\n",
       "      <td>2562</td>\n",
       "    </tr>\n",
       "    <tr>\n",
       "      <th>4</th>\n",
       "      <td>2019-08-05</td>\n",
       "      <td>3318</td>\n",
       "    </tr>\n",
       "  </tbody>\n",
       "</table>\n",
       "</div>"
      ],
      "text/plain": [
       "        date  visitors_cummulative_a\n",
       "0 2019-08-01                     719\n",
       "1 2019-08-02                    1338\n",
       "2 2019-08-03                    1845\n",
       "3 2019-08-04                    2562\n",
       "4 2019-08-05                    3318"
      ]
     },
     "metadata": {},
     "output_type": "display_data"
    },
    {
     "data": {
      "text/html": [
       "<div>\n",
       "<style scoped>\n",
       "    .dataframe tbody tr th:only-of-type {\n",
       "        vertical-align: middle;\n",
       "    }\n",
       "\n",
       "    .dataframe tbody tr th {\n",
       "        vertical-align: top;\n",
       "    }\n",
       "\n",
       "    .dataframe thead th {\n",
       "        text-align: right;\n",
       "    }\n",
       "</style>\n",
       "<table border=\"1\" class=\"dataframe\">\n",
       "  <thead>\n",
       "    <tr style=\"text-align: right;\">\n",
       "      <th></th>\n",
       "      <th>date</th>\n",
       "      <th>visitors_cummulative_b</th>\n",
       "    </tr>\n",
       "  </thead>\n",
       "  <tbody>\n",
       "    <tr>\n",
       "      <th>31</th>\n",
       "      <td>2019-08-01</td>\n",
       "      <td>713</td>\n",
       "    </tr>\n",
       "    <tr>\n",
       "      <th>32</th>\n",
       "      <td>2019-08-02</td>\n",
       "      <td>1294</td>\n",
       "    </tr>\n",
       "    <tr>\n",
       "      <th>33</th>\n",
       "      <td>2019-08-03</td>\n",
       "      <td>1803</td>\n",
       "    </tr>\n",
       "    <tr>\n",
       "      <th>34</th>\n",
       "      <td>2019-08-04</td>\n",
       "      <td>2573</td>\n",
       "    </tr>\n",
       "    <tr>\n",
       "      <th>35</th>\n",
       "      <td>2019-08-05</td>\n",
       "      <td>3280</td>\n",
       "    </tr>\n",
       "  </tbody>\n",
       "</table>\n",
       "</div>"
      ],
      "text/plain": [
       "         date  visitors_cummulative_b\n",
       "31 2019-08-01                     713\n",
       "32 2019-08-02                    1294\n",
       "33 2019-08-03                    1803\n",
       "34 2019-08-04                    2573\n",
       "35 2019-08-05                    3280"
      ]
     },
     "metadata": {},
     "output_type": "display_data"
    }
   ],
   "source": [
    "visitors_cummulative_a = visitors_daily_a.apply(lambda x: \n",
    "                                                visitors_daily_a[visitors_daily_a['date'] \n",
    "                                                                 <= x['date']].agg({'date': 'max',\n",
    "                                                                                    'visitors_per_date_a': 'sum'}),\n",
    "                                                axis=1)\n",
    "visitors_cummulative_a.columns = ['date', 'visitors_cummulative_a']\n",
    "\n",
    "visitors_cummulative_b = visitors_daily_b.apply(lambda x: \n",
    "                                                visitors_daily_b[visitors_daily_b['date'] \n",
    "                                                                 <= x['date']].agg({'date': 'max',\n",
    "                                                                                    'visitors_per_date_b': 'sum'}),\n",
    "                                                axis=1)\n",
    "visitors_cummulative_b.columns = ['date', 'visitors_cummulative_b']\n",
    "\n",
    "display(visitors_cummulative_a.head(),visitors_cummulative_b.head())"
   ]
  },
  {
   "cell_type": "code",
   "execution_count": 26,
   "metadata": {},
   "outputs": [
    {
     "data": {
      "text/html": [
       "<div>\n",
       "<style scoped>\n",
       "    .dataframe tbody tr th:only-of-type {\n",
       "        vertical-align: middle;\n",
       "    }\n",
       "\n",
       "    .dataframe tbody tr th {\n",
       "        vertical-align: top;\n",
       "    }\n",
       "\n",
       "    .dataframe thead th {\n",
       "        text-align: right;\n",
       "    }\n",
       "</style>\n",
       "<table border=\"1\" class=\"dataframe\">\n",
       "  <thead>\n",
       "    <tr style=\"text-align: right;\">\n",
       "      <th></th>\n",
       "      <th>date</th>\n",
       "      <th>orders_per_date_a</th>\n",
       "      <th>revenue_per_date_a</th>\n",
       "    </tr>\n",
       "  </thead>\n",
       "  <tbody>\n",
       "    <tr>\n",
       "      <th>0</th>\n",
       "      <td>2019-08-01</td>\n",
       "      <td>24</td>\n",
       "      <td>148579</td>\n",
       "    </tr>\n",
       "    <tr>\n",
       "      <th>1</th>\n",
       "      <td>2019-08-02</td>\n",
       "      <td>20</td>\n",
       "      <td>93822</td>\n",
       "    </tr>\n",
       "    <tr>\n",
       "      <th>2</th>\n",
       "      <td>2019-08-03</td>\n",
       "      <td>24</td>\n",
       "      <td>112473</td>\n",
       "    </tr>\n",
       "    <tr>\n",
       "      <th>3</th>\n",
       "      <td>2019-08-04</td>\n",
       "      <td>16</td>\n",
       "      <td>70825</td>\n",
       "    </tr>\n",
       "    <tr>\n",
       "      <th>4</th>\n",
       "      <td>2019-08-05</td>\n",
       "      <td>25</td>\n",
       "      <td>124218</td>\n",
       "    </tr>\n",
       "  </tbody>\n",
       "</table>\n",
       "</div>"
      ],
      "text/plain": [
       "        date  orders_per_date_a  revenue_per_date_a\n",
       "0 2019-08-01                 24              148579\n",
       "1 2019-08-02                 20               93822\n",
       "2 2019-08-03                 24              112473\n",
       "3 2019-08-04                 16               70825\n",
       "4 2019-08-05                 25              124218"
      ]
     },
     "metadata": {},
     "output_type": "display_data"
    },
    {
     "data": {
      "text/html": [
       "<div>\n",
       "<style scoped>\n",
       "    .dataframe tbody tr th:only-of-type {\n",
       "        vertical-align: middle;\n",
       "    }\n",
       "\n",
       "    .dataframe tbody tr th {\n",
       "        vertical-align: top;\n",
       "    }\n",
       "\n",
       "    .dataframe thead th {\n",
       "        text-align: right;\n",
       "    }\n",
       "</style>\n",
       "<table border=\"1\" class=\"dataframe\">\n",
       "  <thead>\n",
       "    <tr style=\"text-align: right;\">\n",
       "      <th></th>\n",
       "      <th>date</th>\n",
       "      <th>orders_per_date_b</th>\n",
       "      <th>revenue_per_date_b</th>\n",
       "    </tr>\n",
       "  </thead>\n",
       "  <tbody>\n",
       "    <tr>\n",
       "      <th>0</th>\n",
       "      <td>2019-08-01</td>\n",
       "      <td>21</td>\n",
       "      <td>101217</td>\n",
       "    </tr>\n",
       "    <tr>\n",
       "      <th>1</th>\n",
       "      <td>2019-08-02</td>\n",
       "      <td>24</td>\n",
       "      <td>165531</td>\n",
       "    </tr>\n",
       "    <tr>\n",
       "      <th>2</th>\n",
       "      <td>2019-08-03</td>\n",
       "      <td>16</td>\n",
       "      <td>114248</td>\n",
       "    </tr>\n",
       "    <tr>\n",
       "      <th>3</th>\n",
       "      <td>2019-08-04</td>\n",
       "      <td>17</td>\n",
       "      <td>108571</td>\n",
       "    </tr>\n",
       "    <tr>\n",
       "      <th>4</th>\n",
       "      <td>2019-08-05</td>\n",
       "      <td>23</td>\n",
       "      <td>92428</td>\n",
       "    </tr>\n",
       "  </tbody>\n",
       "</table>\n",
       "</div>"
      ],
      "text/plain": [
       "        date  orders_per_date_b  revenue_per_date_b\n",
       "0 2019-08-01                 21              101217\n",
       "1 2019-08-02                 24              165531\n",
       "2 2019-08-03                 16              114248\n",
       "3 2019-08-04                 17              108571\n",
       "4 2019-08-05                 23               92428"
      ]
     },
     "metadata": {},
     "output_type": "display_data"
    }
   ],
   "source": [
    "orders_daily_a = orders[orders['group'] == 'A'][['date', \n",
    "                                                 'transactionId', \n",
    "                                                 'visitorId', \n",
    "                                                 'revenue']].groupby('date', \n",
    "                                                                     as_index=False).agg({'transactionId': pd.Series.nunique, \n",
    "                                                                                          'revenue': 'sum'})\n",
    "orders_daily_a.columns = ['date', 'orders_per_date_a', 'revenue_per_date_a']\n",
    "\n",
    "orders_daily_b = orders[orders['group'] == 'B'][['date', \n",
    "                                                 'transactionId', \n",
    "                                                 'visitorId', \n",
    "                                                 'revenue']].groupby('date', \n",
    "                                                                     as_index=False).agg({'transactionId': pd.Series.nunique, \n",
    "                                                                                          'revenue': 'sum'})\n",
    "orders_daily_b.columns = ['date', 'orders_per_date_b', 'revenue_per_date_b']\n",
    "\n",
    "display(orders_daily_a.head(),orders_daily_b.head())"
   ]
  },
  {
   "cell_type": "code",
   "execution_count": 27,
   "metadata": {},
   "outputs": [
    {
     "data": {
      "text/html": [
       "<div>\n",
       "<style scoped>\n",
       "    .dataframe tbody tr th:only-of-type {\n",
       "        vertical-align: middle;\n",
       "    }\n",
       "\n",
       "    .dataframe tbody tr th {\n",
       "        vertical-align: top;\n",
       "    }\n",
       "\n",
       "    .dataframe thead th {\n",
       "        text-align: right;\n",
       "    }\n",
       "</style>\n",
       "<table border=\"1\" class=\"dataframe\">\n",
       "  <thead>\n",
       "    <tr style=\"text-align: right;\">\n",
       "      <th></th>\n",
       "      <th>date</th>\n",
       "      <th>orders_cummulative_a</th>\n",
       "      <th>revenue_cummulative_a</th>\n",
       "    </tr>\n",
       "  </thead>\n",
       "  <tbody>\n",
       "    <tr>\n",
       "      <th>0</th>\n",
       "      <td>2019-08-01</td>\n",
       "      <td>24</td>\n",
       "      <td>148579</td>\n",
       "    </tr>\n",
       "    <tr>\n",
       "      <th>1</th>\n",
       "      <td>2019-08-02</td>\n",
       "      <td>44</td>\n",
       "      <td>242401</td>\n",
       "    </tr>\n",
       "    <tr>\n",
       "      <th>2</th>\n",
       "      <td>2019-08-03</td>\n",
       "      <td>68</td>\n",
       "      <td>354874</td>\n",
       "    </tr>\n",
       "    <tr>\n",
       "      <th>3</th>\n",
       "      <td>2019-08-04</td>\n",
       "      <td>84</td>\n",
       "      <td>425699</td>\n",
       "    </tr>\n",
       "    <tr>\n",
       "      <th>4</th>\n",
       "      <td>2019-08-05</td>\n",
       "      <td>109</td>\n",
       "      <td>549917</td>\n",
       "    </tr>\n",
       "  </tbody>\n",
       "</table>\n",
       "</div>"
      ],
      "text/plain": [
       "        date  orders_cummulative_a  revenue_cummulative_a\n",
       "0 2019-08-01                    24                 148579\n",
       "1 2019-08-02                    44                 242401\n",
       "2 2019-08-03                    68                 354874\n",
       "3 2019-08-04                    84                 425699\n",
       "4 2019-08-05                   109                 549917"
      ]
     },
     "metadata": {},
     "output_type": "display_data"
    },
    {
     "data": {
      "text/html": [
       "<div>\n",
       "<style scoped>\n",
       "    .dataframe tbody tr th:only-of-type {\n",
       "        vertical-align: middle;\n",
       "    }\n",
       "\n",
       "    .dataframe tbody tr th {\n",
       "        vertical-align: top;\n",
       "    }\n",
       "\n",
       "    .dataframe thead th {\n",
       "        text-align: right;\n",
       "    }\n",
       "</style>\n",
       "<table border=\"1\" class=\"dataframe\">\n",
       "  <thead>\n",
       "    <tr style=\"text-align: right;\">\n",
       "      <th></th>\n",
       "      <th>date</th>\n",
       "      <th>orders_cummulative_b</th>\n",
       "      <th>revenue_cummulative_b</th>\n",
       "    </tr>\n",
       "  </thead>\n",
       "  <tbody>\n",
       "    <tr>\n",
       "      <th>0</th>\n",
       "      <td>2019-08-01</td>\n",
       "      <td>21</td>\n",
       "      <td>101217</td>\n",
       "    </tr>\n",
       "    <tr>\n",
       "      <th>1</th>\n",
       "      <td>2019-08-02</td>\n",
       "      <td>45</td>\n",
       "      <td>266748</td>\n",
       "    </tr>\n",
       "    <tr>\n",
       "      <th>2</th>\n",
       "      <td>2019-08-03</td>\n",
       "      <td>61</td>\n",
       "      <td>380996</td>\n",
       "    </tr>\n",
       "    <tr>\n",
       "      <th>3</th>\n",
       "      <td>2019-08-04</td>\n",
       "      <td>78</td>\n",
       "      <td>489567</td>\n",
       "    </tr>\n",
       "    <tr>\n",
       "      <th>4</th>\n",
       "      <td>2019-08-05</td>\n",
       "      <td>101</td>\n",
       "      <td>581995</td>\n",
       "    </tr>\n",
       "  </tbody>\n",
       "</table>\n",
       "</div>"
      ],
      "text/plain": [
       "        date  orders_cummulative_b  revenue_cummulative_b\n",
       "0 2019-08-01                    21                 101217\n",
       "1 2019-08-02                    45                 266748\n",
       "2 2019-08-03                    61                 380996\n",
       "3 2019-08-04                    78                 489567\n",
       "4 2019-08-05                   101                 581995"
      ]
     },
     "metadata": {},
     "output_type": "display_data"
    }
   ],
   "source": [
    "orders_cummulative_a = orders_daily_a.apply(lambda x: \n",
    "                                            orders_daily_a[orders_daily_a['date']\n",
    "                                                           <= x['date']].agg({'date': 'max',\n",
    "                                                                              'orders_per_date_a': 'sum',\n",
    "                                                                              'revenue_per_date_a': 'sum'}),\n",
    "                                            axis=1).sort_values(by=['date'])\n",
    "orders_cummulative_a.columns = ['date','orders_cummulative_a','revenue_cummulative_a']\n",
    "\n",
    "orders_cummulative_b = orders_daily_b.apply(lambda x: \n",
    "                                            orders_daily_b[orders_daily_b['date']\n",
    "                                                           <= x['date']].agg({'date': 'max',\n",
    "                                                                              'orders_per_date_b': 'sum', \n",
    "                                                                              'revenue_per_date_b': 'sum'}),\n",
    "                                            axis=1).sort_values(by=['date'])\n",
    "orders_cummulative_b.columns = ['date','orders_cummulative_b','revenue_cummulative_b']\n",
    "\n",
    "display(orders_cummulative_a.head(),orders_cummulative_b.head())"
   ]
  },
  {
   "cell_type": "code",
   "execution_count": 28,
   "metadata": {
    "scrolled": true
   },
   "outputs": [
    {
     "data": {
      "text/html": [
       "<div>\n",
       "<style scoped>\n",
       "    .dataframe tbody tr th:only-of-type {\n",
       "        vertical-align: middle;\n",
       "    }\n",
       "\n",
       "    .dataframe tbody tr th {\n",
       "        vertical-align: top;\n",
       "    }\n",
       "\n",
       "    .dataframe thead th {\n",
       "        text-align: right;\n",
       "    }\n",
       "</style>\n",
       "<table border=\"1\" class=\"dataframe\">\n",
       "  <thead>\n",
       "    <tr style=\"text-align: right;\">\n",
       "      <th></th>\n",
       "      <th>date</th>\n",
       "      <th>orders_per_date_a</th>\n",
       "      <th>revenue_per_date_a</th>\n",
       "      <th>orders_per_date_b</th>\n",
       "      <th>revenue_per_date_b</th>\n",
       "      <th>orders_cummulative_a</th>\n",
       "      <th>revenue_cummulative_a</th>\n",
       "      <th>orders_cummulative_b</th>\n",
       "      <th>revenue_cummulative_b</th>\n",
       "      <th>visitors_per_date_a</th>\n",
       "      <th>visitors_per_date_b</th>\n",
       "      <th>visitors_cummulative_a</th>\n",
       "      <th>visitors_cummulative_b</th>\n",
       "    </tr>\n",
       "  </thead>\n",
       "  <tbody>\n",
       "    <tr>\n",
       "      <th>0</th>\n",
       "      <td>2019-08-01</td>\n",
       "      <td>24</td>\n",
       "      <td>148579</td>\n",
       "      <td>21</td>\n",
       "      <td>101217</td>\n",
       "      <td>24</td>\n",
       "      <td>148579</td>\n",
       "      <td>21</td>\n",
       "      <td>101217</td>\n",
       "      <td>719</td>\n",
       "      <td>713</td>\n",
       "      <td>719</td>\n",
       "      <td>713</td>\n",
       "    </tr>\n",
       "    <tr>\n",
       "      <th>1</th>\n",
       "      <td>2019-08-02</td>\n",
       "      <td>20</td>\n",
       "      <td>93822</td>\n",
       "      <td>24</td>\n",
       "      <td>165531</td>\n",
       "      <td>44</td>\n",
       "      <td>242401</td>\n",
       "      <td>45</td>\n",
       "      <td>266748</td>\n",
       "      <td>619</td>\n",
       "      <td>581</td>\n",
       "      <td>1338</td>\n",
       "      <td>1294</td>\n",
       "    </tr>\n",
       "    <tr>\n",
       "      <th>2</th>\n",
       "      <td>2019-08-03</td>\n",
       "      <td>24</td>\n",
       "      <td>112473</td>\n",
       "      <td>16</td>\n",
       "      <td>114248</td>\n",
       "      <td>68</td>\n",
       "      <td>354874</td>\n",
       "      <td>61</td>\n",
       "      <td>380996</td>\n",
       "      <td>507</td>\n",
       "      <td>509</td>\n",
       "      <td>1845</td>\n",
       "      <td>1803</td>\n",
       "    </tr>\n",
       "    <tr>\n",
       "      <th>3</th>\n",
       "      <td>2019-08-04</td>\n",
       "      <td>16</td>\n",
       "      <td>70825</td>\n",
       "      <td>17</td>\n",
       "      <td>108571</td>\n",
       "      <td>84</td>\n",
       "      <td>425699</td>\n",
       "      <td>78</td>\n",
       "      <td>489567</td>\n",
       "      <td>717</td>\n",
       "      <td>770</td>\n",
       "      <td>2562</td>\n",
       "      <td>2573</td>\n",
       "    </tr>\n",
       "    <tr>\n",
       "      <th>4</th>\n",
       "      <td>2019-08-05</td>\n",
       "      <td>25</td>\n",
       "      <td>124218</td>\n",
       "      <td>23</td>\n",
       "      <td>92428</td>\n",
       "      <td>109</td>\n",
       "      <td>549917</td>\n",
       "      <td>101</td>\n",
       "      <td>581995</td>\n",
       "      <td>756</td>\n",
       "      <td>707</td>\n",
       "      <td>3318</td>\n",
       "      <td>3280</td>\n",
       "    </tr>\n",
       "  </tbody>\n",
       "</table>\n",
       "</div>"
      ],
      "text/plain": [
       "        date  orders_per_date_a  revenue_per_date_a  orders_per_date_b  \\\n",
       "0 2019-08-01                 24              148579                 21   \n",
       "1 2019-08-02                 20               93822                 24   \n",
       "2 2019-08-03                 24              112473                 16   \n",
       "3 2019-08-04                 16               70825                 17   \n",
       "4 2019-08-05                 25              124218                 23   \n",
       "\n",
       "   revenue_per_date_b  orders_cummulative_a  revenue_cummulative_a  \\\n",
       "0              101217                    24                 148579   \n",
       "1              165531                    44                 242401   \n",
       "2              114248                    68                 354874   \n",
       "3              108571                    84                 425699   \n",
       "4               92428                   109                 549917   \n",
       "\n",
       "   orders_cummulative_b  revenue_cummulative_b  visitors_per_date_a  \\\n",
       "0                    21                 101217                  719   \n",
       "1                    45                 266748                  619   \n",
       "2                    61                 380996                  507   \n",
       "3                    78                 489567                  717   \n",
       "4                   101                 581995                  756   \n",
       "\n",
       "   visitors_per_date_b  visitors_cummulative_a  visitors_cummulative_b  \n",
       "0                  713                     719                     713  \n",
       "1                  581                    1338                    1294  \n",
       "2                  509                    1845                    1803  \n",
       "3                  770                    2562                    2573  \n",
       "4                  707                    3318                    3280  "
      ]
     },
     "execution_count": 28,
     "metadata": {},
     "output_type": "execute_result"
    }
   ],
   "source": [
    "data_merged = (\n",
    "    orders_daily_a.merge(orders_daily_b, left_on='date', right_on='date', how='left')\n",
    "               .merge(orders_cummulative_a, left_on='date', right_on='date', how='left')\n",
    "               .merge(orders_cummulative_b, left_on='date', right_on='date', how='left')\n",
    "               .merge(visitors_daily_a, left_on='date', right_on='date', how='left')\n",
    "               .merge(visitors_daily_b, left_on='date', right_on='date', how='left')\n",
    "               .merge(visitors_cummulative_a, left_on='date', right_on='date', how='left')\n",
    "               .merge(visitors_cummulative_b, left_on='date', right_on='date', how='left')\n",
    ")\n",
    "\n",
    "data_merged.head(5)"
   ]
  },
  {
   "cell_type": "markdown",
   "metadata": {},
   "source": [
    "Сгруппируем в таблицы (orders_by_user_a и orders_by_user_b) пользователей по количеству покупок:"
   ]
  },
  {
   "cell_type": "code",
   "execution_count": 29,
   "metadata": {},
   "outputs": [
    {
     "data": {
      "text/html": [
       "<div>\n",
       "<style scoped>\n",
       "    .dataframe tbody tr th:only-of-type {\n",
       "        vertical-align: middle;\n",
       "    }\n",
       "\n",
       "    .dataframe tbody tr th {\n",
       "        vertical-align: top;\n",
       "    }\n",
       "\n",
       "    .dataframe thead th {\n",
       "        text-align: right;\n",
       "    }\n",
       "</style>\n",
       "<table border=\"1\" class=\"dataframe\">\n",
       "  <thead>\n",
       "    <tr style=\"text-align: right;\">\n",
       "      <th></th>\n",
       "      <th>userId</th>\n",
       "      <th>orders</th>\n",
       "    </tr>\n",
       "  </thead>\n",
       "  <tbody>\n",
       "    <tr>\n",
       "      <th>0</th>\n",
       "      <td>8300375</td>\n",
       "      <td>1</td>\n",
       "    </tr>\n",
       "    <tr>\n",
       "      <th>1</th>\n",
       "      <td>11685486</td>\n",
       "      <td>1</td>\n",
       "    </tr>\n",
       "    <tr>\n",
       "      <th>2</th>\n",
       "      <td>54447517</td>\n",
       "      <td>1</td>\n",
       "    </tr>\n",
       "    <tr>\n",
       "      <th>3</th>\n",
       "      <td>66685450</td>\n",
       "      <td>1</td>\n",
       "    </tr>\n",
       "    <tr>\n",
       "      <th>4</th>\n",
       "      <td>78758296</td>\n",
       "      <td>1</td>\n",
       "    </tr>\n",
       "  </tbody>\n",
       "</table>\n",
       "</div>"
      ],
      "text/plain": [
       "     userId  orders\n",
       "0   8300375       1\n",
       "1  11685486       1\n",
       "2  54447517       1\n",
       "3  66685450       1\n",
       "4  78758296       1"
      ]
     },
     "metadata": {},
     "output_type": "display_data"
    },
    {
     "data": {
      "text/html": [
       "<div>\n",
       "<style scoped>\n",
       "    .dataframe tbody tr th:only-of-type {\n",
       "        vertical-align: middle;\n",
       "    }\n",
       "\n",
       "    .dataframe tbody tr th {\n",
       "        vertical-align: top;\n",
       "    }\n",
       "\n",
       "    .dataframe thead th {\n",
       "        text-align: right;\n",
       "    }\n",
       "</style>\n",
       "<table border=\"1\" class=\"dataframe\">\n",
       "  <thead>\n",
       "    <tr style=\"text-align: right;\">\n",
       "      <th></th>\n",
       "      <th>userId</th>\n",
       "      <th>orders</th>\n",
       "    </tr>\n",
       "  </thead>\n",
       "  <tbody>\n",
       "    <tr>\n",
       "      <th>0</th>\n",
       "      <td>5114589</td>\n",
       "      <td>1</td>\n",
       "    </tr>\n",
       "    <tr>\n",
       "      <th>1</th>\n",
       "      <td>6958315</td>\n",
       "      <td>1</td>\n",
       "    </tr>\n",
       "    <tr>\n",
       "      <th>2</th>\n",
       "      <td>8300375</td>\n",
       "      <td>1</td>\n",
       "    </tr>\n",
       "    <tr>\n",
       "      <th>3</th>\n",
       "      <td>39475350</td>\n",
       "      <td>1</td>\n",
       "    </tr>\n",
       "    <tr>\n",
       "      <th>4</th>\n",
       "      <td>47206413</td>\n",
       "      <td>1</td>\n",
       "    </tr>\n",
       "  </tbody>\n",
       "</table>\n",
       "</div>"
      ],
      "text/plain": [
       "     userId  orders\n",
       "0   5114589       1\n",
       "1   6958315       1\n",
       "2   8300375       1\n",
       "3  39475350       1\n",
       "4  47206413       1"
      ]
     },
     "metadata": {},
     "output_type": "display_data"
    }
   ],
   "source": [
    "orders_by_user_a = orders[orders['group'] == 'A'].groupby('visitorId').agg({'transactionId': 'nunique'}).reset_index()\n",
    "orders_by_user_a.columns = ['userId', 'orders']\n",
    "\n",
    "orders_by_user_b = orders[orders['group'] == 'B'].groupby('visitorId').agg({'transactionId': 'nunique'}).reset_index()\n",
    "orders_by_user_b.columns = ['userId', 'orders']\n",
    "\n",
    "display(orders_by_user_a.head(),orders_by_user_b.head())"
   ]
  },
  {
   "cell_type": "markdown",
   "metadata": {},
   "source": [
    "Сформулируем гипотезы. Нулевая: различий в конверсии между группами нет. Альтернативная: различия в конверсии между группами есть."
   ]
  },
  {
   "cell_type": "code",
   "execution_count": 30,
   "metadata": {},
   "outputs": [
    {
     "data": {
      "text/plain": [
       "0        1\n",
       "1        1\n",
       "2        1\n",
       "3        1\n",
       "4        1\n",
       "        ..\n",
       "18228    0\n",
       "18229    0\n",
       "18230    0\n",
       "18231    0\n",
       "18232    0\n",
       "Name: orders, Length: 18736, dtype: int64"
      ]
     },
     "metadata": {},
     "output_type": "display_data"
    },
    {
     "data": {
      "text/plain": [
       "0        1\n",
       "1        1\n",
       "2        1\n",
       "3        1\n",
       "4        1\n",
       "        ..\n",
       "18325    0\n",
       "18326    0\n",
       "18327    0\n",
       "18328    0\n",
       "18329    0\n",
       "Name: orders, Length: 18916, dtype: int64"
      ]
     },
     "metadata": {},
     "output_type": "display_data"
    }
   ],
   "source": [
    "# Получим массив данных о количестве заказов для каждой из групп А и В для подготовки выборки к проверке критерием Манна-Уитни: \n",
    "# объединим данные о количестве пользователей, которые не сделали заказов и о тех, которые что-то купили, \n",
    "# сохраним в переменных mass_a и mass_b\n",
    "\n",
    "mass_a = pd.concat([orders_by_user_a['orders'],\n",
    "                     pd.Series(0, index=np.arange(data_merged['visitors_per_date_a'].sum() \n",
    "                                                  - len(orders_by_user_a['orders'])), name='orders')],axis=0)\n",
    "mass_b = pd.concat([orders_by_user_b['orders'],\n",
    "                     pd.Series(0, index=np.arange(data_merged['visitors_per_date_b'].sum() \n",
    "                                                  - len(orders_by_user_b['orders'])), name='orders')],axis=0)\n",
    "display(mass_a,mass_b)"
   ]
  },
  {
   "cell_type": "code",
   "execution_count": 31,
   "metadata": {},
   "outputs": [
    {
     "name": "stdout",
     "output_type": "stream",
     "text": [
      "p-value: 0.008\n",
      "Отвергаем нулевую гипотезу: между данными есть значимая разница\n",
      "Относительная разница между средними конверсиями групп В и А: 0.138\n"
     ]
    }
   ],
   "source": [
    "print('p-value:',\"{0:.3f}\".format(st.mannwhitneyu(mass_a, mass_b)[1])) # Выводим p-value по тесту Манна-Уитни\n",
    "\n",
    "alpha = .05\n",
    "if st.mannwhitneyu(mass_a, mass_b)[1] < alpha:\n",
    "    print('Отвергаем нулевую гипотезу: между данными есть значимая разница')\n",
    "else:\n",
    "    print('Не получилось отвергнуть нулевую гипотезу, нет оснований считать данные разными')\n",
    "    \n",
    "print('Относительная разница между средними конверсиями групп В и А:',\"{0:.3f}\".format(mass_b.mean() / mass_a.mean() - 1)) "
   ]
  },
  {
   "cell_type": "markdown",
   "metadata": {},
   "source": [
    "## Вывод \n",
    "    По «сырым» данным есть значимые различия в конверсии групп A и B.  \n",
    "    P-value = 0.017 меньше alpha=0.05. Значит, отвергаем нулевую гипотезу о том, что статистически значимых различий в конверсии между группами нет.  \n",
    "    Средняя конверсия группы В больше относительно группы А на 13,8 %."
   ]
  },
  {
   "cell_type": "markdown",
   "metadata": {},
   "source": [
    "# Посчитаем статистическую значимость различий в среднем чеке заказа между группами по «сырым» данным.  \n"
   ]
  },
  {
   "cell_type": "markdown",
   "metadata": {},
   "source": [
    "Нулевая гипотеза: различий в среднем чеке между группами нет.  \n",
    "Альтернативная гипотеза: различия в среднем чеке между группами есть."
   ]
  },
  {
   "cell_type": "code",
   "execution_count": 32,
   "metadata": {},
   "outputs": [
    {
     "name": "stdout",
     "output_type": "stream",
     "text": [
      "p-value: 0.365\n",
      "Не получилось отвергнуть нулевую гипотезу, нет оснований считать данные разными\n",
      "Относительная разница между средним чеком между группами В и А: 0.259\n"
     ]
    }
   ],
   "source": [
    "# Чтобы рассчитать статистическую значимость различий в среднем чеке, \n",
    "# передадим критерию mannwhitneyu() данные о выручке с заказов\n",
    "# и найдём относительные различия в среднем чеке между группами:\n",
    "alpha = .05\n",
    "p_value = st.mannwhitneyu(orders[orders['group']=='A']['revenue'],orders[orders['group']=='B']['revenue'])[1]\n",
    "\n",
    "print('p-value:',\"{0:.3f}\".format(p_value)) # Выводим p-value по тесту Манна-Уитни\n",
    "\n",
    "if p_value < alpha:\n",
    "    print('Отвергаем нулевую гипотезу: между данными есть значимая разница')\n",
    "else:\n",
    "    print('Не получилось отвергнуть нулевую гипотезу, нет оснований считать данные разными')\n",
    "    \n",
    "print('Относительная разница между средним чеком между группами В и А:',\"{0:.3f}\".format(orders[orders['group']=='B']['revenue'].mean()\n",
    "                                                                                      /orders[orders['group']=='A']['revenue'].mean()-1)) "
   ]
  },
  {
   "cell_type": "markdown",
   "metadata": {},
   "source": [
    "## Вывод \n",
    "    По «сырым» данным различий в среднем чеке между группами A и B нет.  \n",
    "    P-value = 0.729 больше alpha=0.05\n",
    "    Средний чек группы В относительно группы А больше на 25,9 %, что не является статистически значимым результатом ввиду отсутствия различий в среднем чеке по тесту Манна-Уитни."
   ]
  },
  {
   "cell_type": "markdown",
   "metadata": {},
   "source": [
    "# Посчитаем статистическую значимость различий в конверсии между группами по «очищенным» данным."
   ]
  },
  {
   "cell_type": "markdown",
   "metadata": {},
   "source": [
    "Как было посчитанно ранее в пп. 11 и 13, 95-й и 99-й перцентили средних чеков равны 28000 и 58233.2 рублям. А 95-й и 99-й перцентили количества заказов на одного пользователя равны 2 и 4 заказа на пользователя.\n",
    "Примем за аномальных пользователей тех, кто совершил от 2 заказов или совершил заказ дороже 28 000 рублей. Так мы уберём 5% пользователей с наибольшим числом заказов и 5% пользователей с дорогими заказами.  \n",
    "Сделаем срезы пользователей с числом заказов больше 2 — users_with_many_orders и пользователей, совершивших заказы дороже 28 000 — users_with_expensive_orders. Объединим их в таблице anomal_users."
   ]
  },
  {
   "cell_type": "code",
   "execution_count": 33,
   "metadata": {},
   "outputs": [],
   "source": [
    "revenue_lim = np.percentile(orders['revenue'], 95)\n",
    "orders_lim = np.percentile(orders_by_users['orders'], 95)"
   ]
  },
  {
   "cell_type": "code",
   "execution_count": 34,
   "metadata": {},
   "outputs": [
    {
     "data": {
      "text/plain": [
       "1099    148427295\n",
       "18      199603092\n",
       "928     204675465\n",
       "23      237748145\n",
       "37      249864742\n",
       "dtype: int64"
      ]
     },
     "metadata": {},
     "output_type": "display_data"
    },
    {
     "data": {
      "text/plain": [
       "(74,)"
      ]
     },
     "metadata": {},
     "output_type": "display_data"
    }
   ],
   "source": [
    "users_with_many_orders = pd.concat(\n",
    "    [\n",
    "        orders_by_user_a[orders_by_user_a['orders'] > orders_lim]['userId'],\n",
    "        orders_by_user_b[orders_by_user_b['orders'] > orders_lim]['userId'],\n",
    "    ],\n",
    "    axis=0,\n",
    ")\n",
    "users_with_expensive_orders = orders[orders['revenue'] > revenue_lim]['visitorId']\n",
    "\n",
    "anomal_users = pd.concat([users_with_many_orders, users_with_expensive_orders], axis=0).drop_duplicates().sort_values()\n",
    "\n",
    "display(anomal_users.head(5))\n",
    "display(anomal_users.shape)"
   ]
  },
  {
   "cell_type": "markdown",
   "metadata": {},
   "source": [
    "Получилось 74 аномальных пользователя.  \n",
    "  \n",
    "Подготовим выборки количества заказов по пользователям по группам теста:"
   ]
  },
  {
   "cell_type": "code",
   "execution_count": 35,
   "metadata": {},
   "outputs": [
    {
     "data": {
      "text/plain": [
       "0        1\n",
       "1        1\n",
       "2        1\n",
       "3        1\n",
       "4        1\n",
       "        ..\n",
       "18228    0\n",
       "18229    0\n",
       "18230    0\n",
       "18231    0\n",
       "18232    0\n",
       "Name: orders, Length: 18690, dtype: int64"
      ]
     },
     "metadata": {},
     "output_type": "display_data"
    },
    {
     "data": {
      "text/plain": [
       "0        1\n",
       "1        1\n",
       "2        1\n",
       "3        1\n",
       "4        1\n",
       "        ..\n",
       "18325    0\n",
       "18326    0\n",
       "18327    0\n",
       "18328    0\n",
       "18329    0\n",
       "Name: orders, Length: 18869, dtype: int64"
      ]
     },
     "metadata": {},
     "output_type": "display_data"
    }
   ],
   "source": [
    "mass_a_filtered = pd.concat([orders_by_user_a[np.logical_not(orders_by_user_a['userId'].isin(anomal_users))]['orders'],\n",
    "                             pd.Series(0, index=np.arange(data_merged['visitors_per_date_a'].sum() \n",
    "                                                          - len(orders_by_user_a['orders'])),\n",
    "                                       name='orders')],\n",
    "                            axis=0)\n",
    "\n",
    "mass_b_filtered = pd.concat([orders_by_user_b[np.logical_not(orders_by_user_b['userId'].isin(anomal_users))]['orders'],\n",
    "                             pd.Series(0, index=np.arange(data_merged['visitors_per_date_b'].sum() \n",
    "                                                          - len(orders_by_user_b['orders'])),\n",
    "                                       name='orders')],\n",
    "                            axis=0)\n",
    "\n",
    "display(mass_a_filtered, mass_b_filtered)"
   ]
  },
  {
   "cell_type": "markdown",
   "metadata": {},
   "source": [
    "Нулевая гипотеза: различий в конверсии между группами нет. Альтернативная гипотеза: различия в конверсии между группами есть"
   ]
  },
  {
   "cell_type": "code",
   "execution_count": 36,
   "metadata": {},
   "outputs": [
    {
     "name": "stdout",
     "output_type": "stream",
     "text": [
      "p-value: 0.007\n",
      "Отвергаем нулевую гипотезу: между данными есть значимая разница\n",
      "Относительная разница между средними конверсиями групп В и А: 0.173\n"
     ]
    }
   ],
   "source": [
    "print('p-value:',\"{0:.3f}\".format(st.mannwhitneyu(mass_a_filtered, mass_b_filtered)[1])) # Выводим p-value по тесту Манна-Уитни\n",
    "\n",
    "alpha = .05\n",
    "if st.mannwhitneyu(mass_a_filtered, mass_b_filtered)[1] < alpha:\n",
    "    print('Отвергаем нулевую гипотезу: между данными есть значимая разница')\n",
    "else:\n",
    "    print('Не получилось отвергнуть нулевую гипотезу, нет оснований считать данные разными')\n",
    "    \n",
    "print('Относительная разница между средними конверсиями групп В и А:',\"{0:.3f}\".format(mass_b_filtered.mean()\n",
    "                                                                                       / mass_a_filtered.mean() - 1)) "
   ]
  },
  {
   "cell_type": "markdown",
   "metadata": {},
   "source": [
    "## Вывод \n",
    "    По «очищенным» данным есть значимые различия в конверсии групп A и B.  \n",
    "    P-value = 0.013 меньше alpha=0.05. Значит, отвергаем нулевую гипотезу о том, что статистически значимых различий в конверсии между группами нет.  \n",
    "    Средняя конверсия группы В больше относительно группы А на 17,3 %."
   ]
  },
  {
   "cell_type": "markdown",
   "metadata": {},
   "source": [
    "# Посчитаем статистическую значимость различий в среднем чеке заказа между группами по «очищенным» данным\n"
   ]
  },
  {
   "cell_type": "markdown",
   "metadata": {},
   "source": [
    "Нулевая гипотеза: различий в среднем чеке между группами нет.  \n",
    "Альтернативная гипотеза: различия в среднем чеке между группами есть"
   ]
  },
  {
   "cell_type": "code",
   "execution_count": 37,
   "metadata": {},
   "outputs": [],
   "source": [
    "norm_orders = orders.query('visitorId not in @anomal_users') # Выборка из таблицы заказов с нормальными пользователями "
   ]
  },
  {
   "cell_type": "code",
   "execution_count": 38,
   "metadata": {},
   "outputs": [
    {
     "name": "stdout",
     "output_type": "stream",
     "text": [
      "p-value: 0.369\n",
      "Не получилось отвергнуть нулевую гипотезу, нет оснований считать данные разными\n",
      "Относительная разница между средним чеком между группами В и А: -0.020\n"
     ]
    }
   ],
   "source": [
    "alpha = .05\n",
    "p_value = st.mannwhitneyu(norm_orders[norm_orders['group']=='A']['revenue'],\n",
    "                          norm_orders[norm_orders['group']=='B']['revenue'])[1]\n",
    "\n",
    "print('p-value:',\"{0:.3f}\".format(p_value)) # Выводим p-value по тесту Манна-Уитни\n",
    "\n",
    "if p_value < alpha:\n",
    "    print('Отвергаем нулевую гипотезу: между данными есть значимая разница')\n",
    "else:\n",
    "    print('Не получилось отвергнуть нулевую гипотезу, нет оснований считать данные разными')\n",
    "    \n",
    "print('Относительная разница между средним чеком между группами В и А:',\n",
    "      \"{0:.3f}\".format(norm_orders[norm_orders['group']=='B']['revenue'].mean()\n",
    "                       /norm_orders[norm_orders['group']=='A']['revenue'].mean()-1)) "
   ]
  },
  {
   "cell_type": "markdown",
   "metadata": {},
   "source": [
    "## Вывод \n",
    "    По «очищенным» данным снова нет значимых различий в среднем чеке групп A и B. Средний чек группы В меньше относительно группы А на 2 % и полученные P-value = 0.738 не позволяют отвергнуть нулевую гипотезу о том, что статистически значимых различий между группами в среднем чеке нет.  \n",
    "    "
   ]
  },
  {
   "cell_type": "markdown",
   "metadata": {},
   "source": [
    "# Вывод по проекту\n",
    "    \n",
    "    Цель теста - выявить значимые различия в показателях выручки между двумя группами: А и В.  \n",
    "    Показателями выручки в тесте выступают: средний чек группы и конверсия группы.  \n",
    "  \n",
    "Нами получены следующие результаты (при альфа=0,05):  \n",
    "1) для \"сырых\" данных:  \n",
    "- конверсия статистически значимо различается - средняя конверсия группы В больше относительно группы А на 13,8%  \n",
    "- средний чек не показал статистически значимого различия - средний чек группы В относительно группы А больше на 25,9 %.  \n",
    "  \n",
    "2) для \"очищенных\" данных:  \n",
    "- конверсия статистически значимо различается - средняя конверсия группы В больше относительно группы А на 17,3%  \n",
    "- средний чек не показал статистически значимого различия - средний чек группы В относительно группы А даже меньше на 2 %.  \n",
    "\n",
    "Как \"очищенные\", так и \"сырые\" данные получили похожие результаты: есть значимые различия в конверсии и нет значимых различий в среднем чеке. Результаты получились неоднозначные: мы видим, что конверсия значительно больше в группе В по сравнению с контрольной группой, а средний чек даже снизился при очистке от выбросов. Рост конверсии говорит о том, что к нам приходит больше покупателей, но в то же время их \"качество\" в лучшую сторону не изменилось (т.к. средний чек покупки меньше в В, чем в А). Т.к. тест проводится с целью выявить значимые различия в выручке, то показатель среднего чека в этом случае более подходящий для оценки результатов теста.  \n",
    "  \n",
    "Следовательно, предлагаю выбрать вариант 2:  \n",
    "  \n",
    "**Остановить тест, зафиксировать отсутствие различий между группами**  \n",
    "  \n",
    "К тому же, сама процедура тестирования некорректна (не соблюдается количественная пропорция в группах и пользователи пересекаются между группами) и требует доработки. "
   ]
  }
 ],
 "metadata": {
  "ExecuteTimeLog": [
   {
    "duration": 447,
    "start_time": "2022-03-23T08:58:57.270Z"
   },
   {
    "duration": 20,
    "start_time": "2022-03-23T08:59:33.684Z"
   },
   {
    "duration": 59,
    "start_time": "2022-03-23T09:02:51.639Z"
   },
   {
    "duration": 3,
    "start_time": "2022-03-23T09:02:58.781Z"
   },
   {
    "duration": 9,
    "start_time": "2022-03-23T09:03:47.506Z"
   },
   {
    "duration": 4,
    "start_time": "2022-03-23T09:04:17.654Z"
   },
   {
    "duration": 9,
    "start_time": "2022-03-23T09:04:23.797Z"
   },
   {
    "duration": 14,
    "start_time": "2022-03-23T09:04:36.406Z"
   },
   {
    "duration": 15,
    "start_time": "2022-03-23T09:05:07.772Z"
   },
   {
    "duration": 882,
    "start_time": "2022-03-23T09:07:03.396Z"
   },
   {
    "duration": 3,
    "start_time": "2022-03-23T09:07:04.280Z"
   },
   {
    "duration": 31,
    "start_time": "2022-03-23T09:07:04.284Z"
   },
   {
    "duration": 76,
    "start_time": "2022-03-23T09:09:28.511Z"
   },
   {
    "duration": 10,
    "start_time": "2022-03-23T09:09:37.908Z"
   },
   {
    "duration": 894,
    "start_time": "2022-03-23T09:40:10.150Z"
   },
   {
    "duration": 3,
    "start_time": "2022-03-23T09:40:11.046Z"
   },
   {
    "duration": 13,
    "start_time": "2022-03-23T09:40:11.050Z"
   },
   {
    "duration": 10,
    "start_time": "2022-03-23T09:40:11.064Z"
   },
   {
    "duration": 29,
    "start_time": "2022-03-23T09:40:32.053Z"
   },
   {
    "duration": 28,
    "start_time": "2022-03-23T09:40:36.399Z"
   },
   {
    "duration": 69,
    "start_time": "2022-03-23T09:40:40.353Z"
   },
   {
    "duration": 28,
    "start_time": "2022-03-23T09:40:52.259Z"
   },
   {
    "duration": 28,
    "start_time": "2022-03-23T09:40:59.467Z"
   },
   {
    "duration": 37,
    "start_time": "2022-03-23T09:46:48.606Z"
   },
   {
    "duration": 28,
    "start_time": "2022-03-23T09:48:10.500Z"
   },
   {
    "duration": 28,
    "start_time": "2022-03-23T09:48:16.669Z"
   },
   {
    "duration": 29,
    "start_time": "2022-03-23T09:48:21.081Z"
   },
   {
    "duration": 29,
    "start_time": "2022-03-23T09:48:31.648Z"
   },
   {
    "duration": 2,
    "start_time": "2022-03-23T09:48:41.973Z"
   },
   {
    "duration": 27,
    "start_time": "2022-03-23T09:51:14.615Z"
   },
   {
    "duration": 667,
    "start_time": "2022-03-23T09:51:21.725Z"
   },
   {
    "duration": 2,
    "start_time": "2022-03-23T09:51:22.394Z"
   },
   {
    "duration": 12,
    "start_time": "2022-03-23T09:51:22.398Z"
   },
   {
    "duration": 9,
    "start_time": "2022-03-23T09:51:22.412Z"
   },
   {
    "duration": 1183,
    "start_time": "2022-03-23T10:18:34.953Z"
   },
   {
    "duration": 3,
    "start_time": "2022-03-23T10:18:36.138Z"
   },
   {
    "duration": 13,
    "start_time": "2022-03-23T10:18:36.143Z"
   },
   {
    "duration": 8,
    "start_time": "2022-03-23T10:18:36.158Z"
   },
   {
    "duration": 69,
    "start_time": "2022-03-23T10:18:36.168Z"
   },
   {
    "duration": 63,
    "start_time": "2022-03-23T10:34:44.396Z"
   },
   {
    "duration": 57,
    "start_time": "2022-03-23T10:35:10.364Z"
   },
   {
    "duration": 16,
    "start_time": "2022-03-23T10:36:14.347Z"
   },
   {
    "duration": 7,
    "start_time": "2022-03-23T10:38:14.168Z"
   },
   {
    "duration": 865,
    "start_time": "2022-03-23T10:44:09.756Z"
   },
   {
    "duration": 1169,
    "start_time": "2022-03-23T10:45:04.075Z"
   },
   {
    "duration": 3,
    "start_time": "2022-03-23T10:45:05.246Z"
   },
   {
    "duration": 13,
    "start_time": "2022-03-23T10:45:05.250Z"
   },
   {
    "duration": 9,
    "start_time": "2022-03-23T10:45:05.264Z"
   },
   {
    "duration": 70,
    "start_time": "2022-03-23T10:45:05.275Z"
   },
   {
    "duration": 15,
    "start_time": "2022-03-23T10:45:05.347Z"
   },
   {
    "duration": 10,
    "start_time": "2022-03-23T10:45:05.363Z"
   },
   {
    "duration": 1007,
    "start_time": "2022-03-23T10:45:05.374Z"
   },
   {
    "duration": 1140,
    "start_time": "2022-03-23T10:45:46.364Z"
   },
   {
    "duration": 3,
    "start_time": "2022-03-23T10:45:47.505Z"
   },
   {
    "duration": 44,
    "start_time": "2022-03-23T10:45:47.509Z"
   },
   {
    "duration": 16,
    "start_time": "2022-03-23T10:45:47.555Z"
   },
   {
    "duration": 86,
    "start_time": "2022-03-23T10:45:47.572Z"
   },
   {
    "duration": 15,
    "start_time": "2022-03-23T10:45:47.660Z"
   },
   {
    "duration": 32,
    "start_time": "2022-03-23T10:45:47.676Z"
   },
   {
    "duration": 893,
    "start_time": "2022-03-23T10:45:47.709Z"
   },
   {
    "duration": 25,
    "start_time": "2022-03-23T10:46:31.776Z"
   },
   {
    "duration": 29,
    "start_time": "2022-03-23T10:49:32.778Z"
   },
   {
    "duration": 261,
    "start_time": "2022-03-23T10:50:24.158Z"
   },
   {
    "duration": 1085,
    "start_time": "2022-03-23T10:51:42.205Z"
   },
   {
    "duration": 3,
    "start_time": "2022-03-23T10:51:43.291Z"
   },
   {
    "duration": 17,
    "start_time": "2022-03-23T10:51:43.295Z"
   },
   {
    "duration": 9,
    "start_time": "2022-03-23T10:51:43.313Z"
   },
   {
    "duration": 56,
    "start_time": "2022-03-23T10:51:43.324Z"
   },
   {
    "duration": 15,
    "start_time": "2022-03-23T10:51:43.381Z"
   },
   {
    "duration": 10,
    "start_time": "2022-03-23T10:51:43.397Z"
   },
   {
    "duration": 24,
    "start_time": "2022-03-23T10:51:43.408Z"
   },
   {
    "duration": 6,
    "start_time": "2022-03-23T10:51:43.434Z"
   },
   {
    "duration": 12,
    "start_time": "2022-03-23T10:52:16.320Z"
   },
   {
    "duration": 92,
    "start_time": "2022-03-23T11:37:37.604Z"
   },
   {
    "duration": 13,
    "start_time": "2022-03-23T11:59:34.220Z"
   },
   {
    "duration": 8,
    "start_time": "2022-03-23T12:00:39.905Z"
   },
   {
    "duration": 11,
    "start_time": "2022-03-23T12:01:36.113Z"
   },
   {
    "duration": 19,
    "start_time": "2022-03-23T12:16:15.001Z"
   },
   {
    "duration": 16,
    "start_time": "2022-03-23T12:17:07.311Z"
   },
   {
    "duration": 137,
    "start_time": "2022-03-23T12:21:25.825Z"
   },
   {
    "duration": 120,
    "start_time": "2022-03-23T12:23:54.501Z"
   },
   {
    "duration": 132,
    "start_time": "2022-03-23T12:24:16.610Z"
   },
   {
    "duration": 24,
    "start_time": "2022-03-23T12:24:35.066Z"
   },
   {
    "duration": 232,
    "start_time": "2022-03-23T12:24:37.927Z"
   },
   {
    "duration": 798,
    "start_time": "2022-03-23T12:26:19.261Z"
   },
   {
    "duration": 305,
    "start_time": "2022-03-23T12:27:22.869Z"
   },
   {
    "duration": 166,
    "start_time": "2022-03-23T12:28:05.996Z"
   },
   {
    "duration": 138,
    "start_time": "2022-03-23T12:28:46.294Z"
   },
   {
    "duration": 34,
    "start_time": "2022-03-23T12:29:58.496Z"
   },
   {
    "duration": 149,
    "start_time": "2022-03-23T12:30:24.833Z"
   },
   {
    "duration": 1171,
    "start_time": "2022-03-23T12:30:42.665Z"
   },
   {
    "duration": 3,
    "start_time": "2022-03-23T12:30:43.838Z"
   },
   {
    "duration": 31,
    "start_time": "2022-03-23T12:30:43.842Z"
   },
   {
    "duration": 15,
    "start_time": "2022-03-23T12:30:43.875Z"
   },
   {
    "duration": 88,
    "start_time": "2022-03-23T12:30:43.891Z"
   },
   {
    "duration": 16,
    "start_time": "2022-03-23T12:30:43.981Z"
   },
   {
    "duration": 16,
    "start_time": "2022-03-23T12:30:43.998Z"
   },
   {
    "duration": 34,
    "start_time": "2022-03-23T12:30:44.015Z"
   },
   {
    "duration": 27,
    "start_time": "2022-03-23T12:30:44.051Z"
   },
   {
    "duration": 152,
    "start_time": "2022-03-23T12:30:44.080Z"
   },
   {
    "duration": 89,
    "start_time": "2022-03-23T12:34:34.897Z"
   },
   {
    "duration": 124,
    "start_time": "2022-03-23T12:34:54.159Z"
   },
   {
    "duration": 10,
    "start_time": "2022-03-23T12:36:18.109Z"
   },
   {
    "duration": 10,
    "start_time": "2022-03-23T12:36:32.833Z"
   },
   {
    "duration": 269,
    "start_time": "2022-03-23T12:39:26.866Z"
   },
   {
    "duration": 195,
    "start_time": "2022-03-23T12:39:45.470Z"
   },
   {
    "duration": 325,
    "start_time": "2022-03-23T12:47:05.308Z"
   },
   {
    "duration": 169,
    "start_time": "2022-03-23T12:47:33.881Z"
   },
   {
    "duration": 198,
    "start_time": "2022-03-23T12:47:50.744Z"
   },
   {
    "duration": 209,
    "start_time": "2022-03-23T12:48:34.188Z"
   },
   {
    "duration": 213,
    "start_time": "2022-03-23T12:51:55.767Z"
   },
   {
    "duration": 160,
    "start_time": "2022-03-23T12:54:49.267Z"
   },
   {
    "duration": 3553,
    "start_time": "2022-03-23T12:57:23.865Z"
   },
   {
    "duration": 17,
    "start_time": "2022-03-23T12:57:34.610Z"
   },
   {
    "duration": 10,
    "start_time": "2022-03-23T12:57:41.930Z"
   },
   {
    "duration": 53,
    "start_time": "2022-03-23T12:58:27.536Z"
   },
   {
    "duration": 198,
    "start_time": "2022-03-23T13:00:27.526Z"
   },
   {
    "duration": 307,
    "start_time": "2022-03-23T13:01:12.859Z"
   },
   {
    "duration": 197,
    "start_time": "2022-03-23T13:01:52.333Z"
   },
   {
    "duration": 175,
    "start_time": "2022-03-23T13:06:49.290Z"
   },
   {
    "duration": 409,
    "start_time": "2022-03-23T13:10:28.600Z"
   },
   {
    "duration": 352,
    "start_time": "2022-03-23T13:10:38.072Z"
   },
   {
    "duration": 239,
    "start_time": "2022-03-23T13:11:13.368Z"
   },
   {
    "duration": 243,
    "start_time": "2022-03-23T13:11:48.939Z"
   },
   {
    "duration": 155,
    "start_time": "2022-03-23T13:26:36.563Z"
   },
   {
    "duration": 253,
    "start_time": "2022-03-23T13:27:05.631Z"
   },
   {
    "duration": 376,
    "start_time": "2022-03-23T13:32:09.335Z"
   },
   {
    "duration": 269,
    "start_time": "2022-03-23T13:37:01.277Z"
   },
   {
    "duration": 247,
    "start_time": "2022-03-23T13:38:09.393Z"
   },
   {
    "duration": 249,
    "start_time": "2022-03-23T13:39:32.579Z"
   },
   {
    "duration": 233,
    "start_time": "2022-03-23T13:39:44.665Z"
   },
   {
    "duration": 467,
    "start_time": "2022-03-23T13:43:01.385Z"
   },
   {
    "duration": 353,
    "start_time": "2022-03-23T13:43:10.211Z"
   },
   {
    "duration": 358,
    "start_time": "2022-03-23T13:46:49.415Z"
   },
   {
    "duration": 351,
    "start_time": "2022-03-23T13:49:45.188Z"
   },
   {
    "duration": 305,
    "start_time": "2022-03-23T13:50:14.823Z"
   },
   {
    "duration": 327,
    "start_time": "2022-03-23T13:50:24.092Z"
   },
   {
    "duration": 325,
    "start_time": "2022-03-23T13:51:00.021Z"
   },
   {
    "duration": 373,
    "start_time": "2022-03-23T13:51:10.371Z"
   },
   {
    "duration": 347,
    "start_time": "2022-03-23T13:51:18.444Z"
   },
   {
    "duration": 1268,
    "start_time": "2022-03-24T06:19:14.192Z"
   },
   {
    "duration": 3,
    "start_time": "2022-03-24T06:19:15.462Z"
   },
   {
    "duration": 13,
    "start_time": "2022-03-24T06:19:15.467Z"
   },
   {
    "duration": 15,
    "start_time": "2022-03-24T06:19:15.482Z"
   },
   {
    "duration": 81,
    "start_time": "2022-03-24T06:19:15.499Z"
   },
   {
    "duration": 20,
    "start_time": "2022-03-24T06:19:15.581Z"
   },
   {
    "duration": 12,
    "start_time": "2022-03-24T06:19:15.602Z"
   },
   {
    "duration": 29,
    "start_time": "2022-03-24T06:19:15.615Z"
   },
   {
    "duration": 40,
    "start_time": "2022-03-24T06:19:15.645Z"
   },
   {
    "duration": 163,
    "start_time": "2022-03-24T06:19:15.687Z"
   },
   {
    "duration": 122,
    "start_time": "2022-03-24T06:19:15.852Z"
   },
   {
    "duration": 9,
    "start_time": "2022-03-24T06:19:15.980Z"
   },
   {
    "duration": 374,
    "start_time": "2022-03-24T06:19:15.990Z"
   },
   {
    "duration": 411,
    "start_time": "2022-03-24T06:19:16.366Z"
   },
   {
    "duration": 394,
    "start_time": "2022-03-24T06:19:16.780Z"
   },
   {
    "duration": 245,
    "start_time": "2022-03-24T06:19:17.175Z"
   },
   {
    "duration": 331,
    "start_time": "2022-03-24T06:19:17.421Z"
   },
   {
    "duration": 9,
    "start_time": "2022-03-24T06:33:45.451Z"
   },
   {
    "duration": 7,
    "start_time": "2022-03-24T06:40:10.445Z"
   },
   {
    "duration": 3,
    "start_time": "2022-03-24T06:40:35.982Z"
   },
   {
    "duration": 248,
    "start_time": "2022-03-24T06:41:22.386Z"
   },
   {
    "duration": 40,
    "start_time": "2022-03-24T06:41:38.386Z"
   },
   {
    "duration": 12,
    "start_time": "2022-03-24T06:42:19.715Z"
   },
   {
    "duration": 10,
    "start_time": "2022-03-24T06:44:20.660Z"
   },
   {
    "duration": 95,
    "start_time": "2022-03-24T06:59:39.167Z"
   },
   {
    "duration": 1202,
    "start_time": "2022-03-24T06:59:58.625Z"
   },
   {
    "duration": 2,
    "start_time": "2022-03-24T06:59:59.829Z"
   },
   {
    "duration": 12,
    "start_time": "2022-03-24T06:59:59.833Z"
   },
   {
    "duration": 10,
    "start_time": "2022-03-24T06:59:59.847Z"
   },
   {
    "duration": 60,
    "start_time": "2022-03-24T06:59:59.858Z"
   },
   {
    "duration": 15,
    "start_time": "2022-03-24T06:59:59.920Z"
   },
   {
    "duration": 11,
    "start_time": "2022-03-24T06:59:59.937Z"
   },
   {
    "duration": 24,
    "start_time": "2022-03-24T06:59:59.949Z"
   },
   {
    "duration": 99,
    "start_time": "2022-03-24T06:59:59.974Z"
   },
   {
    "duration": 0,
    "start_time": "2022-03-24T07:00:00.075Z"
   },
   {
    "duration": 0,
    "start_time": "2022-03-24T07:00:00.076Z"
   },
   {
    "duration": 0,
    "start_time": "2022-03-24T07:00:00.077Z"
   },
   {
    "duration": 0,
    "start_time": "2022-03-24T07:00:00.081Z"
   },
   {
    "duration": 0,
    "start_time": "2022-03-24T07:00:00.082Z"
   },
   {
    "duration": 0,
    "start_time": "2022-03-24T07:00:00.083Z"
   },
   {
    "duration": 0,
    "start_time": "2022-03-24T07:00:00.085Z"
   },
   {
    "duration": 0,
    "start_time": "2022-03-24T07:00:00.086Z"
   },
   {
    "duration": 0,
    "start_time": "2022-03-24T07:00:00.088Z"
   },
   {
    "duration": 0,
    "start_time": "2022-03-24T07:00:00.089Z"
   },
   {
    "duration": 0,
    "start_time": "2022-03-24T07:00:00.090Z"
   },
   {
    "duration": 8,
    "start_time": "2022-03-24T07:00:35.035Z"
   },
   {
    "duration": 68,
    "start_time": "2022-03-24T07:02:39.553Z"
   },
   {
    "duration": 8,
    "start_time": "2022-03-24T07:03:37.535Z"
   },
   {
    "duration": 9,
    "start_time": "2022-03-24T07:06:18.100Z"
   },
   {
    "duration": 13,
    "start_time": "2022-03-24T07:06:50.871Z"
   },
   {
    "duration": 3191,
    "start_time": "2022-03-24T07:07:18.455Z"
   },
   {
    "duration": 11,
    "start_time": "2022-03-24T07:07:35.798Z"
   },
   {
    "duration": 12,
    "start_time": "2022-03-24T07:07:55.597Z"
   },
   {
    "duration": 9,
    "start_time": "2022-03-24T07:08:18.312Z"
   },
   {
    "duration": 8,
    "start_time": "2022-03-24T07:08:40.695Z"
   },
   {
    "duration": 10,
    "start_time": "2022-03-24T07:09:17.072Z"
   },
   {
    "duration": 12,
    "start_time": "2022-03-24T07:11:23.047Z"
   },
   {
    "duration": 7,
    "start_time": "2022-03-24T07:11:52.432Z"
   },
   {
    "duration": 8,
    "start_time": "2022-03-24T07:12:00.547Z"
   },
   {
    "duration": 4,
    "start_time": "2022-03-24T07:12:38.894Z"
   },
   {
    "duration": 14,
    "start_time": "2022-03-24T07:22:58.969Z"
   },
   {
    "duration": 20,
    "start_time": "2022-03-24T07:23:12.500Z"
   },
   {
    "duration": 19,
    "start_time": "2022-03-24T07:23:20.682Z"
   },
   {
    "duration": 11,
    "start_time": "2022-03-24T07:23:25.540Z"
   },
   {
    "duration": 9,
    "start_time": "2022-03-24T07:44:26.733Z"
   },
   {
    "duration": 11,
    "start_time": "2022-03-24T07:44:47.777Z"
   },
   {
    "duration": 7,
    "start_time": "2022-03-24T07:45:19.386Z"
   },
   {
    "duration": 9,
    "start_time": "2022-03-24T07:45:26.342Z"
   },
   {
    "duration": 6,
    "start_time": "2022-03-24T07:46:17.600Z"
   },
   {
    "duration": 7,
    "start_time": "2022-03-24T07:46:40.547Z"
   },
   {
    "duration": 4,
    "start_time": "2022-03-24T07:49:35.566Z"
   },
   {
    "duration": 4,
    "start_time": "2022-03-24T07:50:10.477Z"
   },
   {
    "duration": 4,
    "start_time": "2022-03-24T07:50:25.006Z"
   },
   {
    "duration": 178,
    "start_time": "2022-03-24T07:50:30.587Z"
   },
   {
    "duration": 4,
    "start_time": "2022-03-24T07:50:39.358Z"
   },
   {
    "duration": 15,
    "start_time": "2022-03-24T07:57:27.937Z"
   },
   {
    "duration": 7,
    "start_time": "2022-03-24T07:57:47.972Z"
   },
   {
    "duration": 7,
    "start_time": "2022-03-24T07:57:57.519Z"
   },
   {
    "duration": 8,
    "start_time": "2022-03-24T07:58:31.956Z"
   },
   {
    "duration": 11,
    "start_time": "2022-03-24T07:58:34.274Z"
   },
   {
    "duration": 10,
    "start_time": "2022-03-24T07:58:48.266Z"
   },
   {
    "duration": 8,
    "start_time": "2022-03-24T08:12:53.023Z"
   },
   {
    "duration": 20,
    "start_time": "2022-03-24T08:17:00.816Z"
   },
   {
    "duration": 18,
    "start_time": "2022-03-24T08:17:47.194Z"
   },
   {
    "duration": 1147,
    "start_time": "2022-03-24T08:22:30.274Z"
   },
   {
    "duration": 2,
    "start_time": "2022-03-24T08:22:31.424Z"
   },
   {
    "duration": 14,
    "start_time": "2022-03-24T08:22:31.428Z"
   },
   {
    "duration": 9,
    "start_time": "2022-03-24T08:22:31.445Z"
   },
   {
    "duration": 101,
    "start_time": "2022-03-24T08:22:31.456Z"
   },
   {
    "duration": 22,
    "start_time": "2022-03-24T08:22:31.559Z"
   },
   {
    "duration": 9,
    "start_time": "2022-03-24T08:22:31.584Z"
   },
   {
    "duration": 26,
    "start_time": "2022-03-24T08:22:31.595Z"
   },
   {
    "duration": 20,
    "start_time": "2022-03-24T08:22:31.622Z"
   },
   {
    "duration": 37,
    "start_time": "2022-03-24T08:22:31.645Z"
   },
   {
    "duration": 9,
    "start_time": "2022-03-24T08:22:31.684Z"
   },
   {
    "duration": 11,
    "start_time": "2022-03-24T08:22:31.695Z"
   },
   {
    "duration": 176,
    "start_time": "2022-03-24T08:22:31.708Z"
   },
   {
    "duration": 127,
    "start_time": "2022-03-24T08:22:31.886Z"
   },
   {
    "duration": 13,
    "start_time": "2022-03-24T08:22:32.015Z"
   },
   {
    "duration": 348,
    "start_time": "2022-03-24T08:22:32.030Z"
   },
   {
    "duration": 285,
    "start_time": "2022-03-24T08:22:32.380Z"
   },
   {
    "duration": 364,
    "start_time": "2022-03-24T08:22:32.668Z"
   },
   {
    "duration": 250,
    "start_time": "2022-03-24T08:22:33.034Z"
   },
   {
    "duration": 352,
    "start_time": "2022-03-24T08:22:33.286Z"
   },
   {
    "duration": 52,
    "start_time": "2022-03-24T08:22:33.639Z"
   },
   {
    "duration": 10,
    "start_time": "2022-03-24T08:22:33.694Z"
   },
   {
    "duration": 15,
    "start_time": "2022-03-24T08:25:54.020Z"
   },
   {
    "duration": 15,
    "start_time": "2022-03-24T08:26:11.727Z"
   },
   {
    "duration": 13,
    "start_time": "2022-03-24T08:26:41.796Z"
   },
   {
    "duration": 9,
    "start_time": "2022-03-24T08:35:04.742Z"
   },
   {
    "duration": 8,
    "start_time": "2022-03-24T08:35:23.883Z"
   },
   {
    "duration": 12,
    "start_time": "2022-03-24T08:36:46.618Z"
   },
   {
    "duration": 95,
    "start_time": "2022-03-24T08:37:20.347Z"
   },
   {
    "duration": 7,
    "start_time": "2022-03-24T08:37:30.735Z"
   },
   {
    "duration": 7,
    "start_time": "2022-03-24T08:38:02.299Z"
   },
   {
    "duration": 12,
    "start_time": "2022-03-24T08:38:11.148Z"
   },
   {
    "duration": 13,
    "start_time": "2022-03-24T08:39:31.494Z"
   },
   {
    "duration": 10,
    "start_time": "2022-03-24T08:39:48.026Z"
   },
   {
    "duration": 8,
    "start_time": "2022-03-24T08:40:50.597Z"
   },
   {
    "duration": 9,
    "start_time": "2022-03-24T08:41:13.894Z"
   },
   {
    "duration": 9,
    "start_time": "2022-03-24T08:41:48.680Z"
   },
   {
    "duration": 9,
    "start_time": "2022-03-24T08:41:55.092Z"
   },
   {
    "duration": 16,
    "start_time": "2022-03-24T08:42:22.390Z"
   },
   {
    "duration": 8,
    "start_time": "2022-03-24T08:43:51.595Z"
   },
   {
    "duration": 8,
    "start_time": "2022-03-24T08:44:25.684Z"
   },
   {
    "duration": 9,
    "start_time": "2022-03-24T08:44:33.871Z"
   },
   {
    "duration": 18,
    "start_time": "2022-03-24T08:44:55.736Z"
   },
   {
    "duration": 1519,
    "start_time": "2022-03-24T08:59:07.056Z"
   },
   {
    "duration": 4,
    "start_time": "2022-03-24T08:59:08.578Z"
   },
   {
    "duration": 18,
    "start_time": "2022-03-24T08:59:08.584Z"
   },
   {
    "duration": 15,
    "start_time": "2022-03-24T08:59:08.605Z"
   },
   {
    "duration": 79,
    "start_time": "2022-03-24T08:59:08.622Z"
   },
   {
    "duration": 26,
    "start_time": "2022-03-24T08:59:08.703Z"
   },
   {
    "duration": 9,
    "start_time": "2022-03-24T08:59:08.731Z"
   },
   {
    "duration": 57,
    "start_time": "2022-03-24T08:59:08.742Z"
   },
   {
    "duration": 11,
    "start_time": "2022-03-24T08:59:08.802Z"
   },
   {
    "duration": 27,
    "start_time": "2022-03-24T08:59:08.817Z"
   },
   {
    "duration": 35,
    "start_time": "2022-03-24T08:59:08.846Z"
   },
   {
    "duration": 10,
    "start_time": "2022-03-24T08:59:08.884Z"
   },
   {
    "duration": 11,
    "start_time": "2022-03-24T08:59:08.896Z"
   },
   {
    "duration": 15,
    "start_time": "2022-03-24T08:59:08.908Z"
   },
   {
    "duration": 11,
    "start_time": "2022-03-24T08:59:08.925Z"
   },
   {
    "duration": 175,
    "start_time": "2022-03-24T08:59:08.938Z"
   },
   {
    "duration": 118,
    "start_time": "2022-03-24T08:59:09.116Z"
   },
   {
    "duration": 10,
    "start_time": "2022-03-24T08:59:09.236Z"
   },
   {
    "duration": 333,
    "start_time": "2022-03-24T08:59:09.248Z"
   },
   {
    "duration": 296,
    "start_time": "2022-03-24T08:59:09.582Z"
   },
   {
    "duration": 368,
    "start_time": "2022-03-24T08:59:09.879Z"
   },
   {
    "duration": 408,
    "start_time": "2022-03-24T08:59:10.250Z"
   },
   {
    "duration": 382,
    "start_time": "2022-03-24T08:59:10.660Z"
   },
   {
    "duration": 65,
    "start_time": "2022-03-24T08:59:11.044Z"
   },
   {
    "duration": 13,
    "start_time": "2022-03-24T08:59:11.112Z"
   },
   {
    "duration": 9,
    "start_time": "2022-03-24T09:03:20.646Z"
   },
   {
    "duration": 14,
    "start_time": "2022-03-24T09:03:30.095Z"
   },
   {
    "duration": 120,
    "start_time": "2022-03-24T09:04:19.127Z"
   },
   {
    "duration": 119,
    "start_time": "2022-03-24T09:04:29.442Z"
   },
   {
    "duration": 120,
    "start_time": "2022-03-24T09:05:57.686Z"
   },
   {
    "duration": 12,
    "start_time": "2022-03-24T09:06:41.620Z"
   },
   {
    "duration": 4,
    "start_time": "2022-03-24T09:23:02.960Z"
   },
   {
    "duration": 4,
    "start_time": "2022-03-24T09:24:13.974Z"
   },
   {
    "duration": 12,
    "start_time": "2022-03-24T09:29:34.642Z"
   },
   {
    "duration": 141,
    "start_time": "2022-03-24T09:30:18.475Z"
   },
   {
    "duration": 5,
    "start_time": "2022-03-24T09:32:20.738Z"
   },
   {
    "duration": 90,
    "start_time": "2022-03-24T09:35:21.195Z"
   },
   {
    "duration": 211,
    "start_time": "2022-03-24T09:35:27.584Z"
   },
   {
    "duration": 3,
    "start_time": "2022-03-24T10:09:46.054Z"
   },
   {
    "duration": 7,
    "start_time": "2022-03-24T10:09:53.679Z"
   },
   {
    "duration": 5,
    "start_time": "2022-03-24T10:17:13.043Z"
   },
   {
    "duration": 9,
    "start_time": "2022-03-24T10:17:21.145Z"
   },
   {
    "duration": 9,
    "start_time": "2022-03-24T10:17:41.173Z"
   },
   {
    "duration": 11,
    "start_time": "2022-03-24T10:18:00.989Z"
   },
   {
    "duration": 9,
    "start_time": "2022-03-24T10:18:19.466Z"
   },
   {
    "duration": 15,
    "start_time": "2022-03-24T10:19:51.284Z"
   },
   {
    "duration": 23,
    "start_time": "2022-03-24T10:24:42.437Z"
   },
   {
    "duration": 92,
    "start_time": "2022-03-24T10:25:18.816Z"
   },
   {
    "duration": 22,
    "start_time": "2022-03-24T10:28:41.624Z"
   },
   {
    "duration": 14,
    "start_time": "2022-03-24T10:29:06.371Z"
   },
   {
    "duration": 32,
    "start_time": "2022-03-24T10:29:42.791Z"
   },
   {
    "duration": 98,
    "start_time": "2022-03-24T10:35:05.130Z"
   },
   {
    "duration": 25,
    "start_time": "2022-03-24T10:55:24.714Z"
   },
   {
    "duration": 27,
    "start_time": "2022-03-24T10:55:34.255Z"
   },
   {
    "duration": 12,
    "start_time": "2022-03-24T10:57:23.515Z"
   },
   {
    "duration": 17,
    "start_time": "2022-03-24T11:01:54.889Z"
   },
   {
    "duration": 17,
    "start_time": "2022-03-24T11:02:08.326Z"
   },
   {
    "duration": 25,
    "start_time": "2022-03-24T11:02:15.471Z"
   },
   {
    "duration": 190,
    "start_time": "2022-03-24T11:04:22.717Z"
   },
   {
    "duration": 5,
    "start_time": "2022-03-24T11:04:34.193Z"
   },
   {
    "duration": 5,
    "start_time": "2022-03-24T11:05:11.354Z"
   },
   {
    "duration": 4,
    "start_time": "2022-03-24T11:05:24.403Z"
   },
   {
    "duration": 5,
    "start_time": "2022-03-24T11:06:16.627Z"
   },
   {
    "duration": 7,
    "start_time": "2022-03-24T11:06:26.379Z"
   },
   {
    "duration": 5,
    "start_time": "2022-03-24T11:06:51.993Z"
   },
   {
    "duration": 5,
    "start_time": "2022-03-24T11:07:39.563Z"
   },
   {
    "duration": 7,
    "start_time": "2022-03-24T11:08:12.731Z"
   },
   {
    "duration": 9,
    "start_time": "2022-03-24T11:09:29.870Z"
   },
   {
    "duration": 7,
    "start_time": "2022-03-24T11:28:20.175Z"
   },
   {
    "duration": 10,
    "start_time": "2022-03-24T11:28:57.982Z"
   },
   {
    "duration": 11,
    "start_time": "2022-03-24T11:29:56.544Z"
   },
   {
    "duration": 10,
    "start_time": "2022-03-24T11:47:30.042Z"
   },
   {
    "duration": 39,
    "start_time": "2022-03-24T11:54:58.056Z"
   },
   {
    "duration": 62,
    "start_time": "2022-03-24T11:55:09.529Z"
   },
   {
    "duration": 16,
    "start_time": "2022-03-24T12:04:47.705Z"
   },
   {
    "duration": 10,
    "start_time": "2022-03-24T12:14:59.444Z"
   },
   {
    "duration": 3180,
    "start_time": "2022-03-24T12:15:30.872Z"
   },
   {
    "duration": 6,
    "start_time": "2022-03-24T12:18:05.244Z"
   },
   {
    "duration": 2984,
    "start_time": "2022-03-24T12:18:25.489Z"
   },
   {
    "duration": 6,
    "start_time": "2022-03-24T12:18:59.056Z"
   },
   {
    "duration": 1395,
    "start_time": "2022-03-24T12:20:11.622Z"
   },
   {
    "duration": 3,
    "start_time": "2022-03-24T12:20:13.019Z"
   },
   {
    "duration": 15,
    "start_time": "2022-03-24T12:20:13.023Z"
   },
   {
    "duration": 10,
    "start_time": "2022-03-24T12:20:13.040Z"
   },
   {
    "duration": 62,
    "start_time": "2022-03-24T12:20:13.051Z"
   },
   {
    "duration": 17,
    "start_time": "2022-03-24T12:20:13.115Z"
   },
   {
    "duration": 9,
    "start_time": "2022-03-24T12:20:13.133Z"
   },
   {
    "duration": 25,
    "start_time": "2022-03-24T12:20:13.144Z"
   },
   {
    "duration": 13,
    "start_time": "2022-03-24T12:20:13.171Z"
   },
   {
    "duration": 25,
    "start_time": "2022-03-24T12:20:13.187Z"
   },
   {
    "duration": 11,
    "start_time": "2022-03-24T12:20:13.214Z"
   },
   {
    "duration": 11,
    "start_time": "2022-03-24T12:20:13.227Z"
   },
   {
    "duration": 8,
    "start_time": "2022-03-24T12:20:13.240Z"
   },
   {
    "duration": 14,
    "start_time": "2022-03-24T12:20:13.281Z"
   },
   {
    "duration": 17,
    "start_time": "2022-03-24T12:20:13.297Z"
   },
   {
    "duration": 177,
    "start_time": "2022-03-24T12:20:13.315Z"
   },
   {
    "duration": 131,
    "start_time": "2022-03-24T12:20:13.494Z"
   },
   {
    "duration": 9,
    "start_time": "2022-03-24T12:20:13.627Z"
   },
   {
    "duration": 354,
    "start_time": "2022-03-24T12:20:13.638Z"
   },
   {
    "duration": 315,
    "start_time": "2022-03-24T12:20:13.994Z"
   },
   {
    "duration": 341,
    "start_time": "2022-03-24T12:20:14.312Z"
   },
   {
    "duration": 276,
    "start_time": "2022-03-24T12:20:14.654Z"
   },
   {
    "duration": 359,
    "start_time": "2022-03-24T12:20:14.932Z"
   },
   {
    "duration": 12,
    "start_time": "2022-03-24T12:20:15.293Z"
   },
   {
    "duration": 142,
    "start_time": "2022-03-24T12:20:15.307Z"
   },
   {
    "duration": 5,
    "start_time": "2022-03-24T12:20:15.451Z"
   },
   {
    "duration": 30,
    "start_time": "2022-03-24T12:20:15.457Z"
   },
   {
    "duration": 150,
    "start_time": "2022-03-24T12:20:15.490Z"
   },
   {
    "duration": 5,
    "start_time": "2022-03-24T12:20:15.642Z"
   },
   {
    "duration": 33,
    "start_time": "2022-03-24T12:20:15.648Z"
   },
   {
    "duration": 103,
    "start_time": "2022-03-24T12:20:15.683Z"
   },
   {
    "duration": 31,
    "start_time": "2022-03-24T12:20:15.787Z"
   },
   {
    "duration": 126,
    "start_time": "2022-03-24T12:20:15.819Z"
   },
   {
    "duration": 46,
    "start_time": "2022-03-24T12:20:15.947Z"
   },
   {
    "duration": 19,
    "start_time": "2022-03-24T12:20:15.995Z"
   },
   {
    "duration": 12,
    "start_time": "2022-03-24T12:20:16.016Z"
   },
   {
    "duration": 72,
    "start_time": "2022-03-24T12:20:16.030Z"
   },
   {
    "duration": 12,
    "start_time": "2022-03-24T12:20:16.104Z"
   },
   {
    "duration": 8,
    "start_time": "2022-03-24T12:20:16.118Z"
   },
   {
    "duration": 8,
    "start_time": "2022-03-24T12:20:16.128Z"
   },
   {
    "duration": 7357,
    "start_time": "2022-03-24T12:20:16.137Z"
   },
   {
    "duration": 24,
    "start_time": "2022-03-24T12:29:18.561Z"
   },
   {
    "duration": 1236,
    "start_time": "2022-03-24T12:29:45.842Z"
   },
   {
    "duration": 7,
    "start_time": "2022-03-24T12:29:47.080Z"
   },
   {
    "duration": 18,
    "start_time": "2022-03-24T12:29:47.088Z"
   },
   {
    "duration": 8,
    "start_time": "2022-03-24T12:29:47.108Z"
   },
   {
    "duration": 62,
    "start_time": "2022-03-24T12:29:47.118Z"
   },
   {
    "duration": 18,
    "start_time": "2022-03-24T12:29:47.185Z"
   },
   {
    "duration": 10,
    "start_time": "2022-03-24T12:29:47.205Z"
   },
   {
    "duration": 25,
    "start_time": "2022-03-24T12:29:47.216Z"
   },
   {
    "duration": 8,
    "start_time": "2022-03-24T12:29:47.243Z"
   },
   {
    "duration": 43,
    "start_time": "2022-03-24T12:29:47.253Z"
   },
   {
    "duration": 8,
    "start_time": "2022-03-24T12:29:47.298Z"
   },
   {
    "duration": 7,
    "start_time": "2022-03-24T12:29:47.307Z"
   },
   {
    "duration": 8,
    "start_time": "2022-03-24T12:29:47.316Z"
   },
   {
    "duration": 11,
    "start_time": "2022-03-24T12:29:47.326Z"
   },
   {
    "duration": 11,
    "start_time": "2022-03-24T12:29:47.339Z"
   },
   {
    "duration": 196,
    "start_time": "2022-03-24T12:29:47.351Z"
   },
   {
    "duration": 134,
    "start_time": "2022-03-24T12:29:47.548Z"
   },
   {
    "duration": 11,
    "start_time": "2022-03-24T12:29:47.684Z"
   },
   {
    "duration": 359,
    "start_time": "2022-03-24T12:29:47.696Z"
   },
   {
    "duration": 288,
    "start_time": "2022-03-24T12:29:48.057Z"
   },
   {
    "duration": 385,
    "start_time": "2022-03-24T12:29:48.347Z"
   },
   {
    "duration": 254,
    "start_time": "2022-03-24T12:29:48.733Z"
   },
   {
    "duration": 358,
    "start_time": "2022-03-24T12:29:48.989Z"
   },
   {
    "duration": 11,
    "start_time": "2022-03-24T12:29:49.349Z"
   },
   {
    "duration": 151,
    "start_time": "2022-03-24T12:29:49.361Z"
   },
   {
    "duration": 4,
    "start_time": "2022-03-24T12:29:49.514Z"
   },
   {
    "duration": 14,
    "start_time": "2022-03-24T12:29:49.519Z"
   },
   {
    "duration": 141,
    "start_time": "2022-03-24T12:29:49.535Z"
   },
   {
    "duration": 16,
    "start_time": "2022-03-24T12:29:49.678Z"
   },
   {
    "duration": 17,
    "start_time": "2022-03-24T12:29:49.697Z"
   },
   {
    "duration": 91,
    "start_time": "2022-03-24T12:29:49.716Z"
   },
   {
    "duration": 30,
    "start_time": "2022-03-24T12:29:49.809Z"
   },
   {
    "duration": 126,
    "start_time": "2022-03-24T12:29:49.841Z"
   },
   {
    "duration": 35,
    "start_time": "2022-03-24T12:29:49.969Z"
   },
   {
    "duration": 131,
    "start_time": "2022-03-24T12:29:50.006Z"
   },
   {
    "duration": 0,
    "start_time": "2022-03-24T12:29:50.139Z"
   },
   {
    "duration": 0,
    "start_time": "2022-03-24T12:29:50.140Z"
   },
   {
    "duration": 0,
    "start_time": "2022-03-24T12:29:50.141Z"
   },
   {
    "duration": 0,
    "start_time": "2022-03-24T12:29:50.143Z"
   },
   {
    "duration": 0,
    "start_time": "2022-03-24T12:29:50.143Z"
   },
   {
    "duration": 0,
    "start_time": "2022-03-24T12:29:50.145Z"
   },
   {
    "duration": 23,
    "start_time": "2022-03-24T12:30:29.428Z"
   },
   {
    "duration": 35,
    "start_time": "2022-03-24T12:30:58.568Z"
   },
   {
    "duration": 21,
    "start_time": "2022-03-24T12:31:26.668Z"
   },
   {
    "duration": 18,
    "start_time": "2022-03-24T12:31:32.905Z"
   },
   {
    "duration": 38,
    "start_time": "2022-03-24T12:31:45.142Z"
   },
   {
    "duration": 13,
    "start_time": "2022-03-24T12:35:21.877Z"
   },
   {
    "duration": 6,
    "start_time": "2022-03-24T12:35:48.646Z"
   },
   {
    "duration": 15,
    "start_time": "2022-03-24T12:35:52.467Z"
   },
   {
    "duration": 5692,
    "start_time": "2022-03-24T12:35:58.388Z"
   },
   {
    "duration": 12,
    "start_time": "2022-03-24T12:36:46.323Z"
   },
   {
    "duration": 3181,
    "start_time": "2022-03-24T12:37:10.533Z"
   },
   {
    "duration": 14,
    "start_time": "2022-03-24T12:37:18.913Z"
   },
   {
    "duration": 11,
    "start_time": "2022-03-24T12:37:46.416Z"
   },
   {
    "duration": 15,
    "start_time": "2022-03-24T12:38:00.614Z"
   },
   {
    "duration": 8,
    "start_time": "2022-03-24T12:38:05.446Z"
   },
   {
    "duration": 12,
    "start_time": "2022-03-24T12:38:34.794Z"
   },
   {
    "duration": 10,
    "start_time": "2022-03-24T12:38:46.059Z"
   },
   {
    "duration": 13,
    "start_time": "2022-03-24T12:38:54.776Z"
   },
   {
    "duration": 16,
    "start_time": "2022-03-24T12:47:02.223Z"
   },
   {
    "duration": 10,
    "start_time": "2022-03-24T12:47:13.306Z"
   },
   {
    "duration": 12,
    "start_time": "2022-03-24T12:50:40.296Z"
   },
   {
    "duration": 12,
    "start_time": "2022-03-24T12:50:51.121Z"
   },
   {
    "duration": 41,
    "start_time": "2022-03-24T12:51:59.013Z"
   },
   {
    "duration": 12,
    "start_time": "2022-03-24T13:04:39.546Z"
   },
   {
    "duration": 17,
    "start_time": "2022-03-24T13:05:15.550Z"
   },
   {
    "duration": 6,
    "start_time": "2022-03-24T13:05:42.724Z"
   },
   {
    "duration": 12,
    "start_time": "2022-03-24T13:06:27.247Z"
   },
   {
    "duration": 10,
    "start_time": "2022-03-24T13:06:50.733Z"
   },
   {
    "duration": 1298,
    "start_time": "2022-03-24T13:44:25.686Z"
   },
   {
    "duration": 2,
    "start_time": "2022-03-24T13:44:26.986Z"
   },
   {
    "duration": 20,
    "start_time": "2022-03-24T13:44:26.990Z"
   },
   {
    "duration": 13,
    "start_time": "2022-03-24T13:44:27.013Z"
   },
   {
    "duration": 129,
    "start_time": "2022-03-24T13:44:27.028Z"
   },
   {
    "duration": 21,
    "start_time": "2022-03-24T13:44:27.160Z"
   },
   {
    "duration": 10,
    "start_time": "2022-03-24T13:44:27.183Z"
   },
   {
    "duration": 37,
    "start_time": "2022-03-24T13:44:27.195Z"
   },
   {
    "duration": 11,
    "start_time": "2022-03-24T13:44:27.234Z"
   },
   {
    "duration": 46,
    "start_time": "2022-03-24T13:44:27.248Z"
   },
   {
    "duration": 9,
    "start_time": "2022-03-24T13:44:27.296Z"
   },
   {
    "duration": 11,
    "start_time": "2022-03-24T13:44:27.307Z"
   },
   {
    "duration": 10,
    "start_time": "2022-03-24T13:44:27.321Z"
   },
   {
    "duration": 17,
    "start_time": "2022-03-24T13:44:27.334Z"
   },
   {
    "duration": 16,
    "start_time": "2022-03-24T13:44:27.382Z"
   },
   {
    "duration": 169,
    "start_time": "2022-03-24T13:44:27.400Z"
   },
   {
    "duration": 127,
    "start_time": "2022-03-24T13:44:27.570Z"
   },
   {
    "duration": 9,
    "start_time": "2022-03-24T13:44:27.699Z"
   },
   {
    "duration": 333,
    "start_time": "2022-03-24T13:44:27.710Z"
   },
   {
    "duration": 285,
    "start_time": "2022-03-24T13:44:28.044Z"
   },
   {
    "duration": 355,
    "start_time": "2022-03-24T13:44:28.331Z"
   },
   {
    "duration": 256,
    "start_time": "2022-03-24T13:44:28.688Z"
   },
   {
    "duration": 422,
    "start_time": "2022-03-24T13:44:28.946Z"
   },
   {
    "duration": 19,
    "start_time": "2022-03-24T13:44:29.370Z"
   },
   {
    "duration": 136,
    "start_time": "2022-03-24T13:44:29.391Z"
   },
   {
    "duration": 5,
    "start_time": "2022-03-24T13:44:29.529Z"
   },
   {
    "duration": 16,
    "start_time": "2022-03-24T13:44:29.535Z"
   },
   {
    "duration": 158,
    "start_time": "2022-03-24T13:44:29.555Z"
   },
   {
    "duration": 4,
    "start_time": "2022-03-24T13:44:29.715Z"
   },
   {
    "duration": 15,
    "start_time": "2022-03-24T13:44:29.720Z"
   },
   {
    "duration": 103,
    "start_time": "2022-03-24T13:44:29.737Z"
   },
   {
    "duration": 42,
    "start_time": "2022-03-24T13:44:29.842Z"
   },
   {
    "duration": 121,
    "start_time": "2022-03-24T13:44:29.886Z"
   },
   {
    "duration": 46,
    "start_time": "2022-03-24T13:44:30.008Z"
   },
   {
    "duration": 35,
    "start_time": "2022-03-24T13:44:30.055Z"
   },
   {
    "duration": 14,
    "start_time": "2022-03-24T13:44:30.092Z"
   },
   {
    "duration": 45,
    "start_time": "2022-03-24T13:44:30.108Z"
   },
   {
    "duration": 39,
    "start_time": "2022-03-24T13:44:30.156Z"
   },
   {
    "duration": 21,
    "start_time": "2022-03-24T13:44:30.198Z"
   },
   {
    "duration": 25,
    "start_time": "2022-03-24T13:44:30.221Z"
   },
   {
    "duration": 58,
    "start_time": "2022-03-24T13:44:30.248Z"
   },
   {
    "duration": 6,
    "start_time": "2022-03-24T13:44:30.308Z"
   },
   {
    "duration": 26,
    "start_time": "2022-03-24T13:44:30.316Z"
   },
   {
    "duration": 1297,
    "start_time": "2022-03-26T11:27:16.877Z"
   },
   {
    "duration": 3,
    "start_time": "2022-03-26T11:27:18.175Z"
   },
   {
    "duration": 15,
    "start_time": "2022-03-26T11:27:18.180Z"
   },
   {
    "duration": 9,
    "start_time": "2022-03-26T11:27:18.197Z"
   },
   {
    "duration": 63,
    "start_time": "2022-03-26T11:27:18.207Z"
   },
   {
    "duration": 16,
    "start_time": "2022-03-26T11:27:18.271Z"
   },
   {
    "duration": 12,
    "start_time": "2022-03-26T11:27:18.289Z"
   },
   {
    "duration": 24,
    "start_time": "2022-03-26T11:27:18.302Z"
   },
   {
    "duration": 9,
    "start_time": "2022-03-26T11:27:18.327Z"
   },
   {
    "duration": 15,
    "start_time": "2022-03-26T11:27:18.338Z"
   },
   {
    "duration": 33,
    "start_time": "2022-03-26T11:27:18.354Z"
   },
   {
    "duration": 11,
    "start_time": "2022-03-26T11:27:18.388Z"
   },
   {
    "duration": 9,
    "start_time": "2022-03-26T11:27:18.401Z"
   },
   {
    "duration": 13,
    "start_time": "2022-03-26T11:27:18.411Z"
   },
   {
    "duration": 12,
    "start_time": "2022-03-26T11:27:18.425Z"
   },
   {
    "duration": 179,
    "start_time": "2022-03-26T11:27:18.438Z"
   },
   {
    "duration": 118,
    "start_time": "2022-03-26T11:27:18.619Z"
   },
   {
    "duration": 10,
    "start_time": "2022-03-26T11:27:18.738Z"
   },
   {
    "duration": 189,
    "start_time": "2022-03-26T11:27:18.750Z"
   },
   {
    "duration": 0,
    "start_time": "2022-03-26T11:27:18.941Z"
   },
   {
    "duration": 0,
    "start_time": "2022-03-26T11:27:18.943Z"
   },
   {
    "duration": 0,
    "start_time": "2022-03-26T11:27:18.944Z"
   },
   {
    "duration": 0,
    "start_time": "2022-03-26T11:27:18.945Z"
   },
   {
    "duration": 0,
    "start_time": "2022-03-26T11:27:18.946Z"
   },
   {
    "duration": 0,
    "start_time": "2022-03-26T11:27:18.948Z"
   },
   {
    "duration": 0,
    "start_time": "2022-03-26T11:27:18.949Z"
   },
   {
    "duration": 0,
    "start_time": "2022-03-26T11:27:18.950Z"
   },
   {
    "duration": 0,
    "start_time": "2022-03-26T11:27:18.952Z"
   },
   {
    "duration": 1,
    "start_time": "2022-03-26T11:27:18.952Z"
   },
   {
    "duration": 0,
    "start_time": "2022-03-26T11:27:18.955Z"
   },
   {
    "duration": 0,
    "start_time": "2022-03-26T11:27:18.956Z"
   },
   {
    "duration": 0,
    "start_time": "2022-03-26T11:27:18.957Z"
   },
   {
    "duration": 0,
    "start_time": "2022-03-26T11:27:18.958Z"
   },
   {
    "duration": 0,
    "start_time": "2022-03-26T11:27:18.960Z"
   },
   {
    "duration": 0,
    "start_time": "2022-03-26T11:27:18.961Z"
   },
   {
    "duration": 0,
    "start_time": "2022-03-26T11:27:18.962Z"
   },
   {
    "duration": 0,
    "start_time": "2022-03-26T11:27:18.963Z"
   },
   {
    "duration": 0,
    "start_time": "2022-03-26T11:27:18.965Z"
   },
   {
    "duration": 0,
    "start_time": "2022-03-26T11:27:18.966Z"
   },
   {
    "duration": 0,
    "start_time": "2022-03-26T11:27:18.967Z"
   },
   {
    "duration": 0,
    "start_time": "2022-03-26T11:27:18.969Z"
   },
   {
    "duration": 0,
    "start_time": "2022-03-26T11:27:18.970Z"
   },
   {
    "duration": 0,
    "start_time": "2022-03-26T11:27:18.971Z"
   },
   {
    "duration": 169,
    "start_time": "2022-03-26T11:27:46.012Z"
   },
   {
    "duration": 115,
    "start_time": "2022-03-26T11:28:03.836Z"
   },
   {
    "duration": 239,
    "start_time": "2022-03-26T11:28:18.319Z"
   },
   {
    "duration": 1116,
    "start_time": "2022-03-26T11:28:51.289Z"
   },
   {
    "duration": 3,
    "start_time": "2022-03-26T11:28:52.407Z"
   },
   {
    "duration": 20,
    "start_time": "2022-03-26T11:28:52.411Z"
   },
   {
    "duration": 9,
    "start_time": "2022-03-26T11:28:52.434Z"
   },
   {
    "duration": 62,
    "start_time": "2022-03-26T11:28:52.445Z"
   },
   {
    "duration": 15,
    "start_time": "2022-03-26T11:28:52.510Z"
   },
   {
    "duration": 9,
    "start_time": "2022-03-26T11:28:52.527Z"
   },
   {
    "duration": 24,
    "start_time": "2022-03-26T11:28:52.538Z"
   },
   {
    "duration": 18,
    "start_time": "2022-03-26T11:28:52.563Z"
   },
   {
    "duration": 16,
    "start_time": "2022-03-26T11:28:52.584Z"
   },
   {
    "duration": 8,
    "start_time": "2022-03-26T11:28:52.601Z"
   },
   {
    "duration": 8,
    "start_time": "2022-03-26T11:28:52.611Z"
   },
   {
    "duration": 7,
    "start_time": "2022-03-26T11:28:52.620Z"
   },
   {
    "duration": 14,
    "start_time": "2022-03-26T11:28:52.628Z"
   },
   {
    "duration": 46,
    "start_time": "2022-03-26T11:28:52.643Z"
   },
   {
    "duration": 162,
    "start_time": "2022-03-26T11:28:52.691Z"
   },
   {
    "duration": 110,
    "start_time": "2022-03-26T11:28:52.854Z"
   },
   {
    "duration": 18,
    "start_time": "2022-03-26T11:28:52.965Z"
   },
   {
    "duration": 319,
    "start_time": "2022-03-26T11:28:52.986Z"
   },
   {
    "duration": 321,
    "start_time": "2022-03-26T11:28:53.306Z"
   },
   {
    "duration": 345,
    "start_time": "2022-03-26T11:28:53.629Z"
   },
   {
    "duration": 268,
    "start_time": "2022-03-26T11:28:53.975Z"
   },
   {
    "duration": 416,
    "start_time": "2022-03-26T11:28:54.245Z"
   },
   {
    "duration": 20,
    "start_time": "2022-03-26T11:28:54.663Z"
   },
   {
    "duration": 128,
    "start_time": "2022-03-26T11:28:54.684Z"
   },
   {
    "duration": 5,
    "start_time": "2022-03-26T11:28:54.813Z"
   },
   {
    "duration": 14,
    "start_time": "2022-03-26T11:28:54.819Z"
   },
   {
    "duration": 157,
    "start_time": "2022-03-26T11:28:54.836Z"
   },
   {
    "duration": 4,
    "start_time": "2022-03-26T11:28:54.994Z"
   },
   {
    "duration": 14,
    "start_time": "2022-03-26T11:28:55.000Z"
   },
   {
    "duration": 108,
    "start_time": "2022-03-26T11:28:55.015Z"
   },
   {
    "duration": 27,
    "start_time": "2022-03-26T11:28:55.124Z"
   },
   {
    "duration": 108,
    "start_time": "2022-03-26T11:28:55.153Z"
   },
   {
    "duration": 38,
    "start_time": "2022-03-26T11:28:55.262Z"
   },
   {
    "duration": 15,
    "start_time": "2022-03-26T11:28:55.301Z"
   },
   {
    "duration": 9,
    "start_time": "2022-03-26T11:28:55.317Z"
   },
   {
    "duration": 58,
    "start_time": "2022-03-26T11:28:55.327Z"
   },
   {
    "duration": 10,
    "start_time": "2022-03-26T11:28:55.387Z"
   },
   {
    "duration": 11,
    "start_time": "2022-03-26T11:28:55.399Z"
   },
   {
    "duration": 12,
    "start_time": "2022-03-26T11:28:55.412Z"
   },
   {
    "duration": 61,
    "start_time": "2022-03-26T11:28:55.425Z"
   },
   {
    "duration": 4,
    "start_time": "2022-03-26T11:28:55.488Z"
   },
   {
    "duration": 10,
    "start_time": "2022-03-26T11:28:55.493Z"
   },
   {
    "duration": 1254,
    "start_time": "2022-03-27T11:43:52.835Z"
   },
   {
    "duration": 2,
    "start_time": "2022-03-27T11:43:54.091Z"
   },
   {
    "duration": 13,
    "start_time": "2022-03-27T11:43:54.095Z"
   },
   {
    "duration": 9,
    "start_time": "2022-03-27T11:43:54.109Z"
   },
   {
    "duration": 14,
    "start_time": "2022-03-27T11:43:54.119Z"
   },
   {
    "duration": 99,
    "start_time": "2022-03-27T11:43:54.134Z"
   },
   {
    "duration": 16,
    "start_time": "2022-03-27T11:43:54.234Z"
   },
   {
    "duration": 8,
    "start_time": "2022-03-27T11:43:54.251Z"
   },
   {
    "duration": 23,
    "start_time": "2022-03-27T11:43:54.261Z"
   },
   {
    "duration": 14,
    "start_time": "2022-03-27T11:43:54.287Z"
   },
   {
    "duration": 14,
    "start_time": "2022-03-27T11:43:54.303Z"
   },
   {
    "duration": 6,
    "start_time": "2022-03-27T11:43:54.319Z"
   },
   {
    "duration": 7,
    "start_time": "2022-03-27T11:43:54.326Z"
   },
   {
    "duration": 6,
    "start_time": "2022-03-27T11:43:54.335Z"
   },
   {
    "duration": 11,
    "start_time": "2022-03-27T11:43:54.343Z"
   },
   {
    "duration": 46,
    "start_time": "2022-03-27T11:43:54.356Z"
   },
   {
    "duration": 162,
    "start_time": "2022-03-27T11:43:54.403Z"
   },
   {
    "duration": 119,
    "start_time": "2022-03-27T11:43:54.567Z"
   },
   {
    "duration": 19,
    "start_time": "2022-03-27T11:43:54.687Z"
   },
   {
    "duration": 317,
    "start_time": "2022-03-27T11:43:54.708Z"
   },
   {
    "duration": 271,
    "start_time": "2022-03-27T11:43:55.026Z"
   },
   {
    "duration": 392,
    "start_time": "2022-03-27T11:43:55.299Z"
   },
   {
    "duration": 239,
    "start_time": "2022-03-27T11:43:55.692Z"
   },
   {
    "duration": 333,
    "start_time": "2022-03-27T11:43:55.933Z"
   },
   {
    "duration": 10,
    "start_time": "2022-03-27T11:43:56.268Z"
   },
   {
    "duration": 135,
    "start_time": "2022-03-27T11:43:56.279Z"
   },
   {
    "duration": 5,
    "start_time": "2022-03-27T11:43:56.415Z"
   },
   {
    "duration": 14,
    "start_time": "2022-03-27T11:43:56.423Z"
   },
   {
    "duration": 172,
    "start_time": "2022-03-27T11:43:56.438Z"
   },
   {
    "duration": 5,
    "start_time": "2022-03-27T11:43:56.611Z"
   },
   {
    "duration": 16,
    "start_time": "2022-03-27T11:43:56.617Z"
   },
   {
    "duration": 101,
    "start_time": "2022-03-27T11:43:56.634Z"
   },
   {
    "duration": 29,
    "start_time": "2022-03-27T11:43:56.736Z"
   },
   {
    "duration": 113,
    "start_time": "2022-03-27T11:43:56.767Z"
   },
   {
    "duration": 38,
    "start_time": "2022-03-27T11:43:56.881Z"
   },
   {
    "duration": 15,
    "start_time": "2022-03-27T11:43:56.920Z"
   },
   {
    "duration": 10,
    "start_time": "2022-03-27T11:43:56.936Z"
   },
   {
    "duration": 65,
    "start_time": "2022-03-27T11:43:56.948Z"
   },
   {
    "duration": 11,
    "start_time": "2022-03-27T11:43:57.014Z"
   },
   {
    "duration": 10,
    "start_time": "2022-03-27T11:43:57.026Z"
   },
   {
    "duration": 12,
    "start_time": "2022-03-27T11:43:57.037Z"
   },
   {
    "duration": 71,
    "start_time": "2022-03-27T11:43:57.050Z"
   },
   {
    "duration": 5,
    "start_time": "2022-03-27T11:43:57.122Z"
   },
   {
    "duration": 10,
    "start_time": "2022-03-27T11:43:57.129Z"
   },
   {
    "duration": 93,
    "start_time": "2022-03-27T11:52:47.166Z"
   },
   {
    "duration": 12,
    "start_time": "2022-03-27T11:52:53.563Z"
   },
   {
    "duration": 408,
    "start_time": "2022-03-27T11:54:45.966Z"
   },
   {
    "duration": 395,
    "start_time": "2022-03-27T11:54:54.817Z"
   },
   {
    "duration": 340,
    "start_time": "2022-03-27T11:55:39.767Z"
   },
   {
    "duration": 322,
    "start_time": "2022-03-27T11:55:51.957Z"
   },
   {
    "duration": 323,
    "start_time": "2022-03-27T11:56:03.894Z"
   },
   {
    "duration": 1176,
    "start_time": "2022-03-27T11:56:55.959Z"
   },
   {
    "duration": 3,
    "start_time": "2022-03-27T11:56:57.137Z"
   },
   {
    "duration": 12,
    "start_time": "2022-03-27T11:56:57.141Z"
   },
   {
    "duration": 9,
    "start_time": "2022-03-27T11:56:57.154Z"
   },
   {
    "duration": 365,
    "start_time": "2022-03-27T11:56:57.164Z"
   },
   {
    "duration": 63,
    "start_time": "2022-03-27T11:56:57.531Z"
   },
   {
    "duration": 17,
    "start_time": "2022-03-27T11:56:57.595Z"
   },
   {
    "duration": 9,
    "start_time": "2022-03-27T11:56:57.614Z"
   },
   {
    "duration": 27,
    "start_time": "2022-03-27T11:56:57.624Z"
   },
   {
    "duration": 7,
    "start_time": "2022-03-27T11:56:57.654Z"
   },
   {
    "duration": 39,
    "start_time": "2022-03-27T11:56:57.663Z"
   },
   {
    "duration": 9,
    "start_time": "2022-03-27T11:56:57.704Z"
   },
   {
    "duration": 8,
    "start_time": "2022-03-27T11:56:57.714Z"
   },
   {
    "duration": 8,
    "start_time": "2022-03-27T11:56:57.723Z"
   },
   {
    "duration": 15,
    "start_time": "2022-03-27T11:56:57.732Z"
   },
   {
    "duration": 12,
    "start_time": "2022-03-27T11:56:57.749Z"
   },
   {
    "duration": 189,
    "start_time": "2022-03-27T11:56:57.762Z"
   },
   {
    "duration": 119,
    "start_time": "2022-03-27T11:56:57.952Z"
   },
   {
    "duration": 10,
    "start_time": "2022-03-27T11:56:58.072Z"
   },
   {
    "duration": 318,
    "start_time": "2022-03-27T11:56:58.083Z"
   },
   {
    "duration": 244,
    "start_time": "2022-03-27T11:56:58.402Z"
   },
   {
    "duration": 345,
    "start_time": "2022-03-27T11:56:58.647Z"
   },
   {
    "duration": 245,
    "start_time": "2022-03-27T11:56:58.994Z"
   },
   {
    "duration": 318,
    "start_time": "2022-03-27T11:56:59.241Z"
   },
   {
    "duration": 13,
    "start_time": "2022-03-27T11:56:59.561Z"
   },
   {
    "duration": 144,
    "start_time": "2022-03-27T11:56:59.575Z"
   },
   {
    "duration": 4,
    "start_time": "2022-03-27T11:56:59.721Z"
   },
   {
    "duration": 12,
    "start_time": "2022-03-27T11:56:59.730Z"
   },
   {
    "duration": 163,
    "start_time": "2022-03-27T11:56:59.743Z"
   },
   {
    "duration": 4,
    "start_time": "2022-03-27T11:56:59.908Z"
   },
   {
    "duration": 14,
    "start_time": "2022-03-27T11:56:59.913Z"
   },
   {
    "duration": 117,
    "start_time": "2022-03-27T11:56:59.928Z"
   },
   {
    "duration": 38,
    "start_time": "2022-03-27T11:57:00.047Z"
   },
   {
    "duration": 104,
    "start_time": "2022-03-27T11:57:00.087Z"
   },
   {
    "duration": 27,
    "start_time": "2022-03-27T11:57:00.201Z"
   },
   {
    "duration": 16,
    "start_time": "2022-03-27T11:57:00.229Z"
   },
   {
    "duration": 9,
    "start_time": "2022-03-27T11:57:00.246Z"
   },
   {
    "duration": 67,
    "start_time": "2022-03-27T11:57:00.257Z"
   },
   {
    "duration": 10,
    "start_time": "2022-03-27T11:57:00.326Z"
   },
   {
    "duration": 10,
    "start_time": "2022-03-27T11:57:00.338Z"
   },
   {
    "duration": 14,
    "start_time": "2022-03-27T11:57:00.350Z"
   },
   {
    "duration": 65,
    "start_time": "2022-03-27T11:57:00.365Z"
   },
   {
    "duration": 5,
    "start_time": "2022-03-27T11:57:00.431Z"
   },
   {
    "duration": 23,
    "start_time": "2022-03-27T11:57:00.437Z"
   },
   {
    "duration": 338,
    "start_time": "2022-03-27T12:11:57.687Z"
   },
   {
    "duration": 192,
    "start_time": "2022-03-27T12:13:20.307Z"
   },
   {
    "duration": 421,
    "start_time": "2022-03-27T12:13:43.164Z"
   },
   {
    "duration": 374,
    "start_time": "2022-03-27T12:14:31.158Z"
   },
   {
    "duration": 266,
    "start_time": "2022-03-27T12:17:27.597Z"
   },
   {
    "duration": 1288,
    "start_time": "2022-03-27T19:47:17.841Z"
   },
   {
    "duration": 3,
    "start_time": "2022-03-27T19:47:19.131Z"
   },
   {
    "duration": 15,
    "start_time": "2022-03-27T19:47:19.135Z"
   },
   {
    "duration": 10,
    "start_time": "2022-03-27T19:47:19.152Z"
   },
   {
    "duration": 390,
    "start_time": "2022-03-27T19:47:19.164Z"
   },
   {
    "duration": 36,
    "start_time": "2022-03-27T19:47:19.556Z"
   },
   {
    "duration": 17,
    "start_time": "2022-03-27T19:47:19.593Z"
   },
   {
    "duration": 10,
    "start_time": "2022-03-27T19:47:19.612Z"
   },
   {
    "duration": 28,
    "start_time": "2022-03-27T19:47:19.624Z"
   },
   {
    "duration": 9,
    "start_time": "2022-03-27T19:47:19.656Z"
   },
   {
    "duration": 16,
    "start_time": "2022-03-27T19:47:19.667Z"
   },
   {
    "duration": 7,
    "start_time": "2022-03-27T19:47:19.685Z"
   },
   {
    "duration": 8,
    "start_time": "2022-03-27T19:47:19.694Z"
   },
   {
    "duration": 39,
    "start_time": "2022-03-27T19:47:19.704Z"
   },
   {
    "duration": 15,
    "start_time": "2022-03-27T19:47:19.744Z"
   },
   {
    "duration": 13,
    "start_time": "2022-03-27T19:47:19.761Z"
   },
   {
    "duration": 174,
    "start_time": "2022-03-27T19:47:19.776Z"
   },
   {
    "duration": 122,
    "start_time": "2022-03-27T19:47:19.952Z"
   },
   {
    "duration": 10,
    "start_time": "2022-03-27T19:47:20.076Z"
   },
   {
    "duration": 343,
    "start_time": "2022-03-27T19:47:20.088Z"
   },
   {
    "duration": 276,
    "start_time": "2022-03-27T19:47:20.432Z"
   },
   {
    "duration": 455,
    "start_time": "2022-03-27T19:47:20.710Z"
   },
   {
    "duration": 354,
    "start_time": "2022-03-27T19:47:21.167Z"
   },
   {
    "duration": 381,
    "start_time": "2022-03-27T19:47:21.523Z"
   },
   {
    "duration": 13,
    "start_time": "2022-03-27T19:47:21.906Z"
   },
   {
    "duration": 150,
    "start_time": "2022-03-27T19:47:21.920Z"
   },
   {
    "duration": 6,
    "start_time": "2022-03-27T19:47:22.072Z"
   },
   {
    "duration": 14,
    "start_time": "2022-03-27T19:47:22.082Z"
   },
   {
    "duration": 171,
    "start_time": "2022-03-27T19:47:22.098Z"
   },
   {
    "duration": 6,
    "start_time": "2022-03-27T19:47:22.271Z"
   },
   {
    "duration": 16,
    "start_time": "2022-03-27T19:47:22.279Z"
   },
   {
    "duration": 112,
    "start_time": "2022-03-27T19:47:22.298Z"
   },
   {
    "duration": 45,
    "start_time": "2022-03-27T19:47:22.412Z"
   },
   {
    "duration": 107,
    "start_time": "2022-03-27T19:47:22.459Z"
   },
   {
    "duration": 27,
    "start_time": "2022-03-27T19:47:22.567Z"
   },
   {
    "duration": 15,
    "start_time": "2022-03-27T19:47:22.596Z"
   },
   {
    "duration": 32,
    "start_time": "2022-03-27T19:47:22.613Z"
   },
   {
    "duration": 42,
    "start_time": "2022-03-27T19:47:22.646Z"
   },
   {
    "duration": 15,
    "start_time": "2022-03-27T19:47:22.690Z"
   },
   {
    "duration": 35,
    "start_time": "2022-03-27T19:47:22.707Z"
   },
   {
    "duration": 11,
    "start_time": "2022-03-27T19:47:22.744Z"
   },
   {
    "duration": 40,
    "start_time": "2022-03-27T19:47:22.756Z"
   },
   {
    "duration": 5,
    "start_time": "2022-03-27T19:47:22.798Z"
   },
   {
    "duration": 40,
    "start_time": "2022-03-27T19:47:22.805Z"
   },
   {
    "duration": 371,
    "start_time": "2022-03-27T19:48:36.050Z"
   },
   {
    "duration": 471,
    "start_time": "2022-03-27T19:48:45.263Z"
   },
   {
    "duration": 398,
    "start_time": "2022-03-27T19:50:04.932Z"
   },
   {
    "duration": 404,
    "start_time": "2022-03-27T19:52:17.514Z"
   },
   {
    "duration": 388,
    "start_time": "2022-03-27T19:54:16.028Z"
   },
   {
    "duration": 364,
    "start_time": "2022-03-27T19:54:57.666Z"
   },
   {
    "duration": 373,
    "start_time": "2022-03-27T20:02:59.833Z"
   },
   {
    "duration": 347,
    "start_time": "2022-03-27T20:03:15.593Z"
   },
   {
    "duration": 400,
    "start_time": "2022-03-27T20:07:15.429Z"
   },
   {
    "duration": 389,
    "start_time": "2022-03-27T20:07:56.152Z"
   },
   {
    "duration": 5,
    "start_time": "2022-03-27T20:16:47.813Z"
   },
   {
    "duration": 1125,
    "start_time": "2022-03-27T20:22:15.432Z"
   },
   {
    "duration": 3,
    "start_time": "2022-03-27T20:22:16.559Z"
   },
   {
    "duration": 19,
    "start_time": "2022-03-27T20:22:16.564Z"
   },
   {
    "duration": 10,
    "start_time": "2022-03-27T20:22:16.585Z"
   },
   {
    "duration": 430,
    "start_time": "2022-03-27T20:22:16.596Z"
   },
   {
    "duration": 64,
    "start_time": "2022-03-27T20:22:17.028Z"
   },
   {
    "duration": 19,
    "start_time": "2022-03-27T20:22:17.093Z"
   },
   {
    "duration": 11,
    "start_time": "2022-03-27T20:22:17.114Z"
   },
   {
    "duration": 28,
    "start_time": "2022-03-27T20:22:17.126Z"
   },
   {
    "duration": 12,
    "start_time": "2022-03-27T20:22:17.157Z"
   },
   {
    "duration": 19,
    "start_time": "2022-03-27T20:22:17.171Z"
   },
   {
    "duration": 8,
    "start_time": "2022-03-27T20:22:17.191Z"
   },
   {
    "duration": 9,
    "start_time": "2022-03-27T20:22:17.200Z"
   },
   {
    "duration": 11,
    "start_time": "2022-03-27T20:22:17.237Z"
   },
   {
    "duration": 15,
    "start_time": "2022-03-27T20:22:17.250Z"
   },
   {
    "duration": 15,
    "start_time": "2022-03-27T20:22:17.268Z"
   },
   {
    "duration": 212,
    "start_time": "2022-03-27T20:22:17.285Z"
   },
   {
    "duration": 122,
    "start_time": "2022-03-27T20:22:17.499Z"
   },
   {
    "duration": 22,
    "start_time": "2022-03-27T20:22:17.623Z"
   },
   {
    "duration": 378,
    "start_time": "2022-03-27T20:22:17.646Z"
   },
   {
    "duration": 309,
    "start_time": "2022-03-27T20:22:18.028Z"
   },
   {
    "duration": 408,
    "start_time": "2022-03-27T20:22:18.339Z"
   },
   {
    "duration": 427,
    "start_time": "2022-03-27T20:22:18.749Z"
   },
   {
    "duration": 401,
    "start_time": "2022-03-27T20:22:19.178Z"
   },
   {
    "duration": 17,
    "start_time": "2022-03-27T20:22:19.582Z"
   },
   {
    "duration": 164,
    "start_time": "2022-03-27T20:22:19.601Z"
   },
   {
    "duration": 6,
    "start_time": "2022-03-27T20:22:19.766Z"
   },
   {
    "duration": 14,
    "start_time": "2022-03-27T20:22:19.776Z"
   },
   {
    "duration": 172,
    "start_time": "2022-03-27T20:22:19.791Z"
   },
   {
    "duration": 5,
    "start_time": "2022-03-27T20:22:19.964Z"
   },
   {
    "duration": 15,
    "start_time": "2022-03-27T20:22:19.971Z"
   },
   {
    "duration": 119,
    "start_time": "2022-03-27T20:22:19.988Z"
   },
   {
    "duration": 49,
    "start_time": "2022-03-27T20:22:20.109Z"
   },
   {
    "duration": 127,
    "start_time": "2022-03-27T20:22:20.160Z"
   },
   {
    "duration": 27,
    "start_time": "2022-03-27T20:22:20.289Z"
   },
   {
    "duration": 37,
    "start_time": "2022-03-27T20:22:20.319Z"
   },
   {
    "duration": 10,
    "start_time": "2022-03-27T20:22:20.358Z"
   },
   {
    "duration": 70,
    "start_time": "2022-03-27T20:22:20.369Z"
   },
   {
    "duration": 13,
    "start_time": "2022-03-27T20:22:20.441Z"
   },
   {
    "duration": 13,
    "start_time": "2022-03-27T20:22:20.455Z"
   },
   {
    "duration": 13,
    "start_time": "2022-03-27T20:22:20.470Z"
   },
   {
    "duration": 76,
    "start_time": "2022-03-27T20:22:20.485Z"
   },
   {
    "duration": 6,
    "start_time": "2022-03-27T20:22:20.563Z"
   },
   {
    "duration": 12,
    "start_time": "2022-03-27T20:22:20.571Z"
   },
   {
    "duration": 1270,
    "start_time": "2022-03-27T20:28:39.970Z"
   },
   {
    "duration": 3,
    "start_time": "2022-03-27T20:28:41.242Z"
   },
   {
    "duration": 14,
    "start_time": "2022-03-27T20:28:41.246Z"
   },
   {
    "duration": 10,
    "start_time": "2022-03-27T20:28:41.262Z"
   },
   {
    "duration": 461,
    "start_time": "2022-03-27T20:28:41.273Z"
   },
   {
    "duration": 62,
    "start_time": "2022-03-27T20:28:41.736Z"
   },
   {
    "duration": 16,
    "start_time": "2022-03-27T20:28:41.800Z"
   },
   {
    "duration": 24,
    "start_time": "2022-03-27T20:28:41.818Z"
   },
   {
    "duration": 25,
    "start_time": "2022-03-27T20:28:41.844Z"
   },
   {
    "duration": 9,
    "start_time": "2022-03-27T20:28:41.872Z"
   },
   {
    "duration": 18,
    "start_time": "2022-03-27T20:28:41.882Z"
   },
   {
    "duration": 7,
    "start_time": "2022-03-27T20:28:41.902Z"
   },
   {
    "duration": 9,
    "start_time": "2022-03-27T20:28:41.938Z"
   },
   {
    "duration": 11,
    "start_time": "2022-03-27T20:28:41.948Z"
   },
   {
    "duration": 13,
    "start_time": "2022-03-27T20:28:41.961Z"
   },
   {
    "duration": 11,
    "start_time": "2022-03-27T20:28:41.975Z"
   },
   {
    "duration": 186,
    "start_time": "2022-03-27T20:28:41.988Z"
   },
   {
    "duration": 123,
    "start_time": "2022-03-27T20:28:42.175Z"
   },
   {
    "duration": 10,
    "start_time": "2022-03-27T20:28:42.299Z"
   },
   {
    "duration": 334,
    "start_time": "2022-03-27T20:28:42.310Z"
   },
   {
    "duration": 265,
    "start_time": "2022-03-27T20:28:42.645Z"
   },
   {
    "duration": 391,
    "start_time": "2022-03-27T20:28:42.912Z"
   },
   {
    "duration": 422,
    "start_time": "2022-03-27T20:28:43.305Z"
   },
   {
    "duration": 367,
    "start_time": "2022-03-27T20:28:43.737Z"
   },
   {
    "duration": 12,
    "start_time": "2022-03-27T20:28:44.105Z"
   },
   {
    "duration": 153,
    "start_time": "2022-03-27T20:28:44.118Z"
   },
   {
    "duration": 5,
    "start_time": "2022-03-27T20:28:44.273Z"
   },
   {
    "duration": 18,
    "start_time": "2022-03-27T20:28:44.281Z"
   },
   {
    "duration": 176,
    "start_time": "2022-03-27T20:28:44.301Z"
   },
   {
    "duration": 5,
    "start_time": "2022-03-27T20:28:44.478Z"
   },
   {
    "duration": 16,
    "start_time": "2022-03-27T20:28:44.484Z"
   },
   {
    "duration": 113,
    "start_time": "2022-03-27T20:28:44.502Z"
   },
   {
    "duration": 47,
    "start_time": "2022-03-27T20:28:44.617Z"
   },
   {
    "duration": 117,
    "start_time": "2022-03-27T20:28:44.666Z"
   },
   {
    "duration": 25,
    "start_time": "2022-03-27T20:28:44.785Z"
   },
   {
    "duration": 34,
    "start_time": "2022-03-27T20:28:44.812Z"
   },
   {
    "duration": 10,
    "start_time": "2022-03-27T20:28:44.847Z"
   },
   {
    "duration": 38,
    "start_time": "2022-03-27T20:28:44.859Z"
   },
   {
    "duration": 10,
    "start_time": "2022-03-27T20:28:44.899Z"
   },
   {
    "duration": 11,
    "start_time": "2022-03-27T20:28:44.937Z"
   },
   {
    "duration": 12,
    "start_time": "2022-03-27T20:28:44.950Z"
   },
   {
    "duration": 40,
    "start_time": "2022-03-27T20:28:44.963Z"
   },
   {
    "duration": 32,
    "start_time": "2022-03-27T20:28:45.005Z"
   },
   {
    "duration": 12,
    "start_time": "2022-03-27T20:28:45.040Z"
   },
   {
    "duration": 1256,
    "start_time": "2022-03-28T17:56:25.669Z"
   },
   {
    "duration": 4,
    "start_time": "2022-03-28T17:56:26.927Z"
   },
   {
    "duration": 18,
    "start_time": "2022-03-28T17:56:26.933Z"
   },
   {
    "duration": 13,
    "start_time": "2022-03-28T17:56:26.954Z"
   },
   {
    "duration": 437,
    "start_time": "2022-03-28T17:56:26.969Z"
   },
   {
    "duration": 43,
    "start_time": "2022-03-28T17:56:27.408Z"
   },
   {
    "duration": 20,
    "start_time": "2022-03-28T17:56:27.453Z"
   },
   {
    "duration": 10,
    "start_time": "2022-03-28T17:56:27.475Z"
   },
   {
    "duration": 37,
    "start_time": "2022-03-28T17:56:27.487Z"
   },
   {
    "duration": 10,
    "start_time": "2022-03-28T17:56:27.528Z"
   },
   {
    "duration": 21,
    "start_time": "2022-03-28T17:56:27.541Z"
   },
   {
    "duration": 43,
    "start_time": "2022-03-28T17:56:27.564Z"
   },
   {
    "duration": 10,
    "start_time": "2022-03-28T17:56:27.609Z"
   },
   {
    "duration": 9,
    "start_time": "2022-03-28T17:56:27.621Z"
   },
   {
    "duration": 15,
    "start_time": "2022-03-28T17:56:27.631Z"
   },
   {
    "duration": 53,
    "start_time": "2022-03-28T17:56:27.648Z"
   },
   {
    "duration": 186,
    "start_time": "2022-03-28T17:56:27.703Z"
   },
   {
    "duration": 144,
    "start_time": "2022-03-28T17:56:27.891Z"
   },
   {
    "duration": 11,
    "start_time": "2022-03-28T17:56:28.037Z"
   },
   {
    "duration": 377,
    "start_time": "2022-03-28T17:56:28.050Z"
   },
   {
    "duration": 288,
    "start_time": "2022-03-28T17:56:28.429Z"
   },
   {
    "duration": 387,
    "start_time": "2022-03-28T17:56:28.719Z"
   },
   {
    "duration": 539,
    "start_time": "2022-03-28T17:56:29.109Z"
   },
   {
    "duration": 431,
    "start_time": "2022-03-28T17:56:29.650Z"
   },
   {
    "duration": 23,
    "start_time": "2022-03-28T17:56:30.083Z"
   },
   {
    "duration": 155,
    "start_time": "2022-03-28T17:56:30.108Z"
   },
   {
    "duration": 5,
    "start_time": "2022-03-28T17:56:30.265Z"
   },
   {
    "duration": 28,
    "start_time": "2022-03-28T17:56:30.274Z"
   },
   {
    "duration": 166,
    "start_time": "2022-03-28T17:56:30.304Z"
   },
   {
    "duration": 6,
    "start_time": "2022-03-28T17:56:30.472Z"
   },
   {
    "duration": 38,
    "start_time": "2022-03-28T17:56:30.480Z"
   },
   {
    "duration": 172,
    "start_time": "2022-03-28T17:56:30.520Z"
   },
   {
    "duration": 56,
    "start_time": "2022-03-28T17:56:30.701Z"
   },
   {
    "duration": 142,
    "start_time": "2022-03-28T17:56:30.759Z"
   },
   {
    "duration": 38,
    "start_time": "2022-03-28T17:56:30.903Z"
   },
   {
    "duration": 20,
    "start_time": "2022-03-28T17:56:30.943Z"
   },
   {
    "duration": 62,
    "start_time": "2022-03-28T17:56:30.965Z"
   },
   {
    "duration": 74,
    "start_time": "2022-03-28T17:56:31.030Z"
   },
   {
    "duration": 13,
    "start_time": "2022-03-28T17:56:31.106Z"
   },
   {
    "duration": 15,
    "start_time": "2022-03-28T17:56:31.121Z"
   },
   {
    "duration": 22,
    "start_time": "2022-03-28T17:56:31.138Z"
   },
   {
    "duration": 68,
    "start_time": "2022-03-28T17:56:31.162Z"
   },
   {
    "duration": 14,
    "start_time": "2022-03-28T17:56:31.232Z"
   },
   {
    "duration": 29,
    "start_time": "2022-03-28T17:56:31.248Z"
   },
   {
    "duration": 12,
    "start_time": "2022-03-28T18:07:45.234Z"
   },
   {
    "duration": 1314,
    "start_time": "2022-03-30T06:01:30.488Z"
   },
   {
    "duration": 34,
    "start_time": "2022-03-30T06:01:31.803Z"
   },
   {
    "duration": 3,
    "start_time": "2022-03-30T06:01:31.839Z"
   },
   {
    "duration": 15,
    "start_time": "2022-03-30T06:01:31.844Z"
   },
   {
    "duration": 8,
    "start_time": "2022-03-30T06:01:31.861Z"
   },
   {
    "duration": 354,
    "start_time": "2022-03-30T06:01:31.871Z"
   },
   {
    "duration": 56,
    "start_time": "2022-03-30T06:01:32.226Z"
   },
   {
    "duration": 16,
    "start_time": "2022-03-30T06:01:32.284Z"
   },
   {
    "duration": 9,
    "start_time": "2022-03-30T06:01:32.302Z"
   },
   {
    "duration": 25,
    "start_time": "2022-03-30T06:01:32.314Z"
   },
   {
    "duration": 9,
    "start_time": "2022-03-30T06:01:32.341Z"
   },
   {
    "duration": 43,
    "start_time": "2022-03-30T06:01:32.351Z"
   },
   {
    "duration": 7,
    "start_time": "2022-03-30T06:01:32.396Z"
   },
   {
    "duration": 7,
    "start_time": "2022-03-30T06:01:32.405Z"
   },
   {
    "duration": 7,
    "start_time": "2022-03-30T06:01:32.413Z"
   },
   {
    "duration": 11,
    "start_time": "2022-03-30T06:01:32.422Z"
   },
   {
    "duration": 52,
    "start_time": "2022-03-30T06:01:32.434Z"
   },
   {
    "duration": 166,
    "start_time": "2022-03-30T06:01:32.488Z"
   },
   {
    "duration": 132,
    "start_time": "2022-03-30T06:01:32.656Z"
   },
   {
    "duration": 9,
    "start_time": "2022-03-30T06:01:32.790Z"
   },
   {
    "duration": 323,
    "start_time": "2022-03-30T06:01:32.800Z"
   },
   {
    "duration": 260,
    "start_time": "2022-03-30T06:01:33.124Z"
   },
   {
    "duration": 441,
    "start_time": "2022-03-30T06:01:33.386Z"
   },
   {
    "duration": 374,
    "start_time": "2022-03-30T06:01:33.829Z"
   },
   {
    "duration": 358,
    "start_time": "2022-03-30T06:01:34.204Z"
   },
   {
    "duration": 17,
    "start_time": "2022-03-30T06:01:34.564Z"
   },
   {
    "duration": 144,
    "start_time": "2022-03-30T06:01:34.583Z"
   },
   {
    "duration": 5,
    "start_time": "2022-03-30T06:01:34.730Z"
   },
   {
    "duration": 14,
    "start_time": "2022-03-30T06:01:34.736Z"
   },
   {
    "duration": 172,
    "start_time": "2022-03-30T06:01:34.751Z"
   },
   {
    "duration": 6,
    "start_time": "2022-03-30T06:01:34.924Z"
   },
   {
    "duration": 17,
    "start_time": "2022-03-30T06:01:34.931Z"
   },
   {
    "duration": 139,
    "start_time": "2022-03-30T06:01:34.950Z"
   },
   {
    "duration": 39,
    "start_time": "2022-03-30T06:01:35.091Z"
   },
   {
    "duration": 152,
    "start_time": "2022-03-30T06:01:35.132Z"
   },
   {
    "duration": 33,
    "start_time": "2022-03-30T06:01:35.286Z"
   },
   {
    "duration": 19,
    "start_time": "2022-03-30T06:01:35.321Z"
   },
   {
    "duration": 11,
    "start_time": "2022-03-30T06:01:35.342Z"
   },
   {
    "duration": 89,
    "start_time": "2022-03-30T06:01:35.355Z"
   },
   {
    "duration": 13,
    "start_time": "2022-03-30T06:01:35.445Z"
   },
   {
    "duration": 22,
    "start_time": "2022-03-30T06:01:35.459Z"
   },
   {
    "duration": 12,
    "start_time": "2022-03-30T06:01:35.482Z"
   },
   {
    "duration": 13,
    "start_time": "2022-03-30T06:01:35.496Z"
   },
   {
    "duration": 85,
    "start_time": "2022-03-30T06:01:35.511Z"
   },
   {
    "duration": 5,
    "start_time": "2022-03-30T06:01:35.598Z"
   },
   {
    "duration": 12,
    "start_time": "2022-03-30T06:01:35.605Z"
   },
   {
    "duration": 1080,
    "start_time": "2022-03-30T12:22:08.844Z"
   },
   {
    "duration": 16,
    "start_time": "2022-03-30T12:22:09.926Z"
   },
   {
    "duration": 2,
    "start_time": "2022-03-30T12:22:09.944Z"
   },
   {
    "duration": 17,
    "start_time": "2022-03-30T12:22:09.948Z"
   },
   {
    "duration": 8,
    "start_time": "2022-03-30T12:22:09.967Z"
   },
   {
    "duration": 374,
    "start_time": "2022-03-30T12:22:09.977Z"
   },
   {
    "duration": 34,
    "start_time": "2022-03-30T12:22:10.353Z"
   },
   {
    "duration": 15,
    "start_time": "2022-03-30T12:22:10.389Z"
   },
   {
    "duration": 11,
    "start_time": "2022-03-30T12:22:10.406Z"
   },
   {
    "duration": 25,
    "start_time": "2022-03-30T12:22:10.419Z"
   },
   {
    "duration": 18,
    "start_time": "2022-03-30T12:22:10.445Z"
   },
   {
    "duration": 14,
    "start_time": "2022-03-30T12:22:10.465Z"
   },
   {
    "duration": 7,
    "start_time": "2022-03-30T12:22:10.481Z"
   },
   {
    "duration": 7,
    "start_time": "2022-03-30T12:22:10.489Z"
   },
   {
    "duration": 9,
    "start_time": "2022-03-30T12:22:10.497Z"
   },
   {
    "duration": 11,
    "start_time": "2022-03-30T12:22:10.508Z"
   },
   {
    "duration": 43,
    "start_time": "2022-03-30T12:22:10.520Z"
   },
   {
    "duration": 147,
    "start_time": "2022-03-30T12:22:10.565Z"
   },
   {
    "duration": 112,
    "start_time": "2022-03-30T12:22:10.713Z"
   },
   {
    "duration": 9,
    "start_time": "2022-03-30T12:22:10.826Z"
   },
   {
    "duration": 320,
    "start_time": "2022-03-30T12:22:10.836Z"
   },
   {
    "duration": 241,
    "start_time": "2022-03-30T12:22:11.157Z"
   },
   {
    "duration": 327,
    "start_time": "2022-03-30T12:22:11.399Z"
   },
   {
    "duration": 404,
    "start_time": "2022-03-30T12:22:11.727Z"
   },
   {
    "duration": 372,
    "start_time": "2022-03-30T12:22:12.132Z"
   },
   {
    "duration": 11,
    "start_time": "2022-03-30T12:22:12.505Z"
   },
   {
    "duration": 147,
    "start_time": "2022-03-30T12:22:12.517Z"
   },
   {
    "duration": 4,
    "start_time": "2022-03-30T12:22:12.668Z"
   },
   {
    "duration": 14,
    "start_time": "2022-03-30T12:22:12.674Z"
   },
   {
    "duration": 173,
    "start_time": "2022-03-30T12:22:12.690Z"
   },
   {
    "duration": 4,
    "start_time": "2022-03-30T12:22:12.864Z"
   },
   {
    "duration": 16,
    "start_time": "2022-03-30T12:22:12.870Z"
   },
   {
    "duration": 96,
    "start_time": "2022-03-30T12:22:12.887Z"
   },
   {
    "duration": 28,
    "start_time": "2022-03-30T12:22:12.985Z"
   },
   {
    "duration": 107,
    "start_time": "2022-03-30T12:22:13.015Z"
   },
   {
    "duration": 43,
    "start_time": "2022-03-30T12:22:13.124Z"
   },
   {
    "duration": 16,
    "start_time": "2022-03-30T12:22:13.169Z"
   },
   {
    "duration": 10,
    "start_time": "2022-03-30T12:22:13.186Z"
   },
   {
    "duration": 40,
    "start_time": "2022-03-30T12:22:13.197Z"
   },
   {
    "duration": 11,
    "start_time": "2022-03-30T12:22:13.263Z"
   },
   {
    "duration": 4,
    "start_time": "2022-03-30T12:22:13.275Z"
   },
   {
    "duration": 11,
    "start_time": "2022-03-30T12:22:13.280Z"
   },
   {
    "duration": 13,
    "start_time": "2022-03-30T12:22:13.293Z"
   },
   {
    "duration": 62,
    "start_time": "2022-03-30T12:22:13.307Z"
   },
   {
    "duration": 5,
    "start_time": "2022-03-30T12:22:13.370Z"
   },
   {
    "duration": 14,
    "start_time": "2022-03-30T12:22:13.376Z"
   }
  ],
  "kernelspec": {
   "display_name": "Python 3",
   "language": "python",
   "name": "python3"
  },
  "language_info": {
   "codemirror_mode": {
    "name": "ipython",
    "version": 3
   },
   "file_extension": ".py",
   "mimetype": "text/x-python",
   "name": "python",
   "nbconvert_exporter": "python",
   "pygments_lexer": "ipython3",
   "version": "3.8.8"
  },
  "toc": {
   "base_numbering": 1,
   "nav_menu": {
    "height": "539px",
    "width": "488px"
   },
   "number_sections": false,
   "sideBar": true,
   "skip_h1_title": false,
   "title_cell": "Table of Contents",
   "title_sidebar": "Contents",
   "toc_cell": true,
   "toc_position": {
    "height": "calc(100% - 180px)",
    "left": "10px",
    "top": "150px",
    "width": "212px"
   },
   "toc_section_display": true,
   "toc_window_display": false
  }
 },
 "nbformat": 4,
 "nbformat_minor": 2
}
