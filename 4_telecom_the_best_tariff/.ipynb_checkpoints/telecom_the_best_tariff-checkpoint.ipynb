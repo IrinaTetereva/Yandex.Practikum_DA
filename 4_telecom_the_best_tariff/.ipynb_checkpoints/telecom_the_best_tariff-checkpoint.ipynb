{
 "cells": [
  {
   "cell_type": "markdown",
   "metadata": {},
   "source": [
    "# Название проекта: Определение тарифа для телеком компании\n",
    "\n",
    "## Описание исследования\n",
    "\n",
    "Компанияи «Мегалайн» — федеральный оператор сотовой связи. Клиентам предлагают два тарифных плана: «Смарт» и «Ультра». Чтобы скорректировать рекламный бюджет, коммерческий департамент хочет понять, какой тариф приносит больше денег.\n",
    "Предстоит сделать предварительный анализ тарифов на небольшой выборке клиентов.  \n",
    "В вашем распоряжении данные 500 пользователей «Мегалайна»: кто они, откуда, каким тарифом пользуются, сколько звонков и сообщений каждый отправил за 2018 год. Нужно проанализировать поведение клиентов и сделать вывод — какой тариф лучше.  \n",
    "  \n",
    "Описание тарифов\n",
    "1) Тариф «Смарт»  \n",
    "Ежемесячная плата: 550 рублей  \n",
    "Включено 500 минут разговора, 50 сообщений и 15 Гб интернет-трафика  \n",
    "Стоимость услуг сверх тарифного пакета: 1. минута разговора: 3 рубля («Мегалайн» всегда округляет вверх значения минут и мегабайтов. Если пользователь проговорил всего 1 секунду, в тарифе засчитывается целая минута); 2. сообщение: 3 рубля; 3. 1 Гб интернет-трафика: 200 рублей.  \n",
    "2) Тариф «Ультра»  \n",
    "Ежемесячная плата: 1950 рублей  \n",
    "Включено 3000 минут разговора, 1000 сообщений и 30 Гб интернет-трафика  \n",
    "Стоимость услуг сверх тарифного пакета: 1. минута разговора: 1 рубль; 2. сообщение: 1 рубль; 3. 1 Гб интернет-трафика: 150 рублей.  \n",
    "\n",
    "## Цель исследования  \n",
    "узнать какой тариф приносит больше денег компании\n",
    "\n",
    "\n",
    "## Задачи исследования  \n",
    "1) Изучить данные  \n",
    "\n",
    "2) Провести предобработку, привести данные к нужным типам, найти и исправить ошибки в данных, если они есть.  \n",
    "\n",
    "3) Посчитать для каждого пользователя:  \n",
    "- количество сделанных звонков и израсходованных минут разговора по месяцам;  \n",
    "- количество отправленных сообщений по месяцам;  \n",
    "- объем израсходованного интернет-трафика по месяцам;  \n",
    "- помесячную выручку с каждого пользователя (вычтите бесплатный лимит из суммарного количества звонков, сообщений и интернет-трафика; остаток умножьте на значение из тарифного плана; прибавьте абонентскую плату, соответствующую тарифному плану).  \n",
    "\n",
    "4) Проанализировать данные: описать поведение клиентов оператора, исходя из выборки. Сколько минут разговора, сколько сообщений и какой объём интернет-трафика требуется пользователям каждого тарифа в месяц? Посчитать среднее количество, дисперсию и стандартное отклонение. Построить гистограммы. Описать распределения.  \n",
    "\n",
    "5) Проверить гипотезы (пороговое значение alpha задать самостоятельно):  \n",
    "- средняя выручка пользователей тарифов «Ультра» и «Смарт» различаются;  \n",
    "- средняя выручка пользователей из Москвы отличается от выручки пользователей из других регионов.  \n",
    "\n",
    "Пояснить:  \n",
    "- как вы формулировали нулевую и альтернативную гипотезы;\n",
    "- какой критерий использовали для проверки гипотез и почему.\n",
    "\n",
    "6) Написать общий вывод.  "
   ]
  },
  {
   "cell_type": "markdown",
   "metadata": {},
   "source": [
    "# Изучение данных"
   ]
  },
  {
   "cell_type": "code",
   "execution_count": 30,
   "metadata": {},
   "outputs": [],
   "source": [
    "# Импортируем библиотеки и настроим рабочее пространство\n",
    "import pandas as pd\n",
    "import numpy as np\n",
    "import math as mt\n",
    "import seaborn as sns\n",
    "from matplotlib import pyplot as plt\n",
    "from scipy import stats as st\n",
    "\n",
    "import warnings\n",
    "warnings.filterwarnings(action='ignore')\n",
    "\n",
    "pd.set_option('display.float_format', '{:,.4f}'.format) # избавимся от лишних запятых и уберём экспонентациальные формы "
   ]
  },
  {
   "cell_type": "code",
   "execution_count": 31,
   "metadata": {},
   "outputs": [],
   "source": [
    "calls = pd.read_csv('/datasets/calls.csv')\n",
    "internet = pd.read_csv('/datasets/internet.csv')\n",
    "messages = pd.read_csv('/datasets/messages.csv')\n",
    "tariffs = pd.read_csv('/datasets/tariffs.csv')\n",
    "users = pd.read_csv('/datasets/users.csv')"
   ]
  },
  {
   "cell_type": "code",
   "execution_count": 32,
   "metadata": {},
   "outputs": [],
   "source": [
    "def data_info(df):\n",
    "    print()\n",
    "    print('*********************************************************')\n",
    "    print()\n",
    "    df.info()\n",
    "    print()\n",
    "    display(df.head())\n",
    "    print()\n",
    "    display(df.tail())\n",
    "    print(f'Процент нулевых значений датафрейма в каждой колонке:')\n",
    "    print()\n",
    "    (df == 0).mean() \n",
    "    print()\n",
    "    for column_name in df.columns:\n",
    "        print(f'Количество уникальных значений в колонке {column_name}:')\n",
    "        display(df[column_name].value_counts().to_frame())\n",
    "        print(f'Описательная статистика колонки {column_name}:')\n",
    "        display(df[column_name].describe())\n",
    "        print(f'Количество пропущенных значений в {column_name}: ', len(df[df[column_name].isna()]))\n",
    "        print(f'Процент пропущенных значений в {column_name}: ', int(len(df[df[column_name].isna()])*100/len(df)), '%')\n",
    "        print()\n",
    "        print('--------------------------------------------------------')\n",
    "        print()"
   ]
  },
  {
   "cell_type": "markdown",
   "metadata": {},
   "source": [
    "**Таблица calls (информация о звонках):**  \n",
    "id — уникальный номер звонка  \n",
    "call_date — дата звонка  \n",
    "duration — длительность звонка в минутах  \n",
    "user_id — идентификатор пользователя, сделавшего звонок  "
   ]
  },
  {
   "cell_type": "code",
   "execution_count": 33,
   "metadata": {},
   "outputs": [
    {
     "name": "stdout",
     "output_type": "stream",
     "text": [
      "\n",
      "*********************************************************\n",
      "\n",
      "<class 'pandas.core.frame.DataFrame'>\n",
      "RangeIndex: 202607 entries, 0 to 202606\n",
      "Data columns (total 4 columns):\n",
      "id           202607 non-null object\n",
      "call_date    202607 non-null object\n",
      "duration     202607 non-null float64\n",
      "user_id      202607 non-null int64\n",
      "dtypes: float64(1), int64(1), object(2)\n",
      "memory usage: 6.2+ MB\n",
      "\n"
     ]
    },
    {
     "data": {
      "text/html": [
       "<div>\n",
       "<style scoped>\n",
       "    .dataframe tbody tr th:only-of-type {\n",
       "        vertical-align: middle;\n",
       "    }\n",
       "\n",
       "    .dataframe tbody tr th {\n",
       "        vertical-align: top;\n",
       "    }\n",
       "\n",
       "    .dataframe thead th {\n",
       "        text-align: right;\n",
       "    }\n",
       "</style>\n",
       "<table border=\"1\" class=\"dataframe\">\n",
       "  <thead>\n",
       "    <tr style=\"text-align: right;\">\n",
       "      <th></th>\n",
       "      <th>id</th>\n",
       "      <th>call_date</th>\n",
       "      <th>duration</th>\n",
       "      <th>user_id</th>\n",
       "    </tr>\n",
       "  </thead>\n",
       "  <tbody>\n",
       "    <tr>\n",
       "      <td>0</td>\n",
       "      <td>1000_0</td>\n",
       "      <td>2018-07-25</td>\n",
       "      <td>0.0000</td>\n",
       "      <td>1000</td>\n",
       "    </tr>\n",
       "    <tr>\n",
       "      <td>1</td>\n",
       "      <td>1000_1</td>\n",
       "      <td>2018-08-17</td>\n",
       "      <td>0.0000</td>\n",
       "      <td>1000</td>\n",
       "    </tr>\n",
       "    <tr>\n",
       "      <td>2</td>\n",
       "      <td>1000_2</td>\n",
       "      <td>2018-06-11</td>\n",
       "      <td>2.8500</td>\n",
       "      <td>1000</td>\n",
       "    </tr>\n",
       "    <tr>\n",
       "      <td>3</td>\n",
       "      <td>1000_3</td>\n",
       "      <td>2018-09-21</td>\n",
       "      <td>13.8000</td>\n",
       "      <td>1000</td>\n",
       "    </tr>\n",
       "    <tr>\n",
       "      <td>4</td>\n",
       "      <td>1000_4</td>\n",
       "      <td>2018-12-15</td>\n",
       "      <td>5.1800</td>\n",
       "      <td>1000</td>\n",
       "    </tr>\n",
       "  </tbody>\n",
       "</table>\n",
       "</div>"
      ],
      "text/plain": [
       "       id   call_date  duration  user_id\n",
       "0  1000_0  2018-07-25    0.0000     1000\n",
       "1  1000_1  2018-08-17    0.0000     1000\n",
       "2  1000_2  2018-06-11    2.8500     1000\n",
       "3  1000_3  2018-09-21   13.8000     1000\n",
       "4  1000_4  2018-12-15    5.1800     1000"
      ]
     },
     "metadata": {},
     "output_type": "display_data"
    },
    {
     "name": "stdout",
     "output_type": "stream",
     "text": [
      "\n"
     ]
    },
    {
     "data": {
      "text/html": [
       "<div>\n",
       "<style scoped>\n",
       "    .dataframe tbody tr th:only-of-type {\n",
       "        vertical-align: middle;\n",
       "    }\n",
       "\n",
       "    .dataframe tbody tr th {\n",
       "        vertical-align: top;\n",
       "    }\n",
       "\n",
       "    .dataframe thead th {\n",
       "        text-align: right;\n",
       "    }\n",
       "</style>\n",
       "<table border=\"1\" class=\"dataframe\">\n",
       "  <thead>\n",
       "    <tr style=\"text-align: right;\">\n",
       "      <th></th>\n",
       "      <th>id</th>\n",
       "      <th>call_date</th>\n",
       "      <th>duration</th>\n",
       "      <th>user_id</th>\n",
       "    </tr>\n",
       "  </thead>\n",
       "  <tbody>\n",
       "    <tr>\n",
       "      <td>202602</td>\n",
       "      <td>1499_215</td>\n",
       "      <td>2018-12-26</td>\n",
       "      <td>0.7600</td>\n",
       "      <td>1499</td>\n",
       "    </tr>\n",
       "    <tr>\n",
       "      <td>202603</td>\n",
       "      <td>1499_216</td>\n",
       "      <td>2018-10-18</td>\n",
       "      <td>18.8300</td>\n",
       "      <td>1499</td>\n",
       "    </tr>\n",
       "    <tr>\n",
       "      <td>202604</td>\n",
       "      <td>1499_217</td>\n",
       "      <td>2018-11-10</td>\n",
       "      <td>10.8100</td>\n",
       "      <td>1499</td>\n",
       "    </tr>\n",
       "    <tr>\n",
       "      <td>202605</td>\n",
       "      <td>1499_218</td>\n",
       "      <td>2018-10-06</td>\n",
       "      <td>4.2700</td>\n",
       "      <td>1499</td>\n",
       "    </tr>\n",
       "    <tr>\n",
       "      <td>202606</td>\n",
       "      <td>1499_219</td>\n",
       "      <td>2018-12-14</td>\n",
       "      <td>19.6200</td>\n",
       "      <td>1499</td>\n",
       "    </tr>\n",
       "  </tbody>\n",
       "</table>\n",
       "</div>"
      ],
      "text/plain": [
       "              id   call_date  duration  user_id\n",
       "202602  1499_215  2018-12-26    0.7600     1499\n",
       "202603  1499_216  2018-10-18   18.8300     1499\n",
       "202604  1499_217  2018-11-10   10.8100     1499\n",
       "202605  1499_218  2018-10-06    4.2700     1499\n",
       "202606  1499_219  2018-12-14   19.6200     1499"
      ]
     },
     "metadata": {},
     "output_type": "display_data"
    },
    {
     "name": "stdout",
     "output_type": "stream",
     "text": [
      "Процент нулевых значений датафрейма в каждой колонке:\n",
      "\n",
      "\n",
      "Количество уникальных значений в колонке id:\n"
     ]
    },
    {
     "data": {
      "text/html": [
       "<div>\n",
       "<style scoped>\n",
       "    .dataframe tbody tr th:only-of-type {\n",
       "        vertical-align: middle;\n",
       "    }\n",
       "\n",
       "    .dataframe tbody tr th {\n",
       "        vertical-align: top;\n",
       "    }\n",
       "\n",
       "    .dataframe thead th {\n",
       "        text-align: right;\n",
       "    }\n",
       "</style>\n",
       "<table border=\"1\" class=\"dataframe\">\n",
       "  <thead>\n",
       "    <tr style=\"text-align: right;\">\n",
       "      <th></th>\n",
       "      <th>id</th>\n",
       "    </tr>\n",
       "  </thead>\n",
       "  <tbody>\n",
       "    <tr>\n",
       "      <td>1145_295</td>\n",
       "      <td>1</td>\n",
       "    </tr>\n",
       "    <tr>\n",
       "      <td>1260_336</td>\n",
       "      <td>1</td>\n",
       "    </tr>\n",
       "    <tr>\n",
       "      <td>1492_494</td>\n",
       "      <td>1</td>\n",
       "    </tr>\n",
       "    <tr>\n",
       "      <td>1375_993</td>\n",
       "      <td>1</td>\n",
       "    </tr>\n",
       "    <tr>\n",
       "      <td>1346_43</td>\n",
       "      <td>1</td>\n",
       "    </tr>\n",
       "    <tr>\n",
       "      <td>...</td>\n",
       "      <td>...</td>\n",
       "    </tr>\n",
       "    <tr>\n",
       "      <td>1026_0</td>\n",
       "      <td>1</td>\n",
       "    </tr>\n",
       "    <tr>\n",
       "      <td>1425_824</td>\n",
       "      <td>1</td>\n",
       "    </tr>\n",
       "    <tr>\n",
       "      <td>1040_127</td>\n",
       "      <td>1</td>\n",
       "    </tr>\n",
       "    <tr>\n",
       "      <td>1251_233</td>\n",
       "      <td>1</td>\n",
       "    </tr>\n",
       "    <tr>\n",
       "      <td>1357_32</td>\n",
       "      <td>1</td>\n",
       "    </tr>\n",
       "  </tbody>\n",
       "</table>\n",
       "<p>202607 rows × 1 columns</p>\n",
       "</div>"
      ],
      "text/plain": [
       "          id\n",
       "1145_295   1\n",
       "1260_336   1\n",
       "1492_494   1\n",
       "1375_993   1\n",
       "1346_43    1\n",
       "...       ..\n",
       "1026_0     1\n",
       "1425_824   1\n",
       "1040_127   1\n",
       "1251_233   1\n",
       "1357_32    1\n",
       "\n",
       "[202607 rows x 1 columns]"
      ]
     },
     "metadata": {},
     "output_type": "display_data"
    },
    {
     "name": "stdout",
     "output_type": "stream",
     "text": [
      "Описательная статистика колонки id:\n"
     ]
    },
    {
     "data": {
      "text/plain": [
       "count       202607\n",
       "unique      202607\n",
       "top       1145_295\n",
       "freq             1\n",
       "Name: id, dtype: object"
      ]
     },
     "metadata": {},
     "output_type": "display_data"
    },
    {
     "name": "stdout",
     "output_type": "stream",
     "text": [
      "Количество пропущенных значений в id:  0\n",
      "Процент пропущенных значений в id:  0 %\n",
      "\n",
      "--------------------------------------------------------\n",
      "\n",
      "Количество уникальных значений в колонке call_date:\n"
     ]
    },
    {
     "data": {
      "text/html": [
       "<div>\n",
       "<style scoped>\n",
       "    .dataframe tbody tr th:only-of-type {\n",
       "        vertical-align: middle;\n",
       "    }\n",
       "\n",
       "    .dataframe tbody tr th {\n",
       "        vertical-align: top;\n",
       "    }\n",
       "\n",
       "    .dataframe thead th {\n",
       "        text-align: right;\n",
       "    }\n",
       "</style>\n",
       "<table border=\"1\" class=\"dataframe\">\n",
       "  <thead>\n",
       "    <tr style=\"text-align: right;\">\n",
       "      <th></th>\n",
       "      <th>call_date</th>\n",
       "    </tr>\n",
       "  </thead>\n",
       "  <tbody>\n",
       "    <tr>\n",
       "      <td>2018-12-31</td>\n",
       "      <td>1435</td>\n",
       "    </tr>\n",
       "    <tr>\n",
       "      <td>2018-12-29</td>\n",
       "      <td>1202</td>\n",
       "    </tr>\n",
       "    <tr>\n",
       "      <td>2018-12-30</td>\n",
       "      <td>1192</td>\n",
       "    </tr>\n",
       "    <tr>\n",
       "      <td>2018-12-22</td>\n",
       "      <td>1158</td>\n",
       "    </tr>\n",
       "    <tr>\n",
       "      <td>2018-12-26</td>\n",
       "      <td>1149</td>\n",
       "    </tr>\n",
       "    <tr>\n",
       "      <td>...</td>\n",
       "      <td>...</td>\n",
       "    </tr>\n",
       "    <tr>\n",
       "      <td>2018-01-05</td>\n",
       "      <td>20</td>\n",
       "    </tr>\n",
       "    <tr>\n",
       "      <td>2018-01-07</td>\n",
       "      <td>18</td>\n",
       "    </tr>\n",
       "    <tr>\n",
       "      <td>2018-01-02</td>\n",
       "      <td>9</td>\n",
       "    </tr>\n",
       "    <tr>\n",
       "      <td>2018-01-03</td>\n",
       "      <td>7</td>\n",
       "    </tr>\n",
       "    <tr>\n",
       "      <td>2018-01-01</td>\n",
       "      <td>5</td>\n",
       "    </tr>\n",
       "  </tbody>\n",
       "</table>\n",
       "<p>365 rows × 1 columns</p>\n",
       "</div>"
      ],
      "text/plain": [
       "            call_date\n",
       "2018-12-31       1435\n",
       "2018-12-29       1202\n",
       "2018-12-30       1192\n",
       "2018-12-22       1158\n",
       "2018-12-26       1149\n",
       "...               ...\n",
       "2018-01-05         20\n",
       "2018-01-07         18\n",
       "2018-01-02          9\n",
       "2018-01-03          7\n",
       "2018-01-01          5\n",
       "\n",
       "[365 rows x 1 columns]"
      ]
     },
     "metadata": {},
     "output_type": "display_data"
    },
    {
     "name": "stdout",
     "output_type": "stream",
     "text": [
      "Описательная статистика колонки call_date:\n"
     ]
    },
    {
     "data": {
      "text/plain": [
       "count         202607\n",
       "unique           365\n",
       "top       2018-12-31\n",
       "freq            1435\n",
       "Name: call_date, dtype: object"
      ]
     },
     "metadata": {},
     "output_type": "display_data"
    },
    {
     "name": "stdout",
     "output_type": "stream",
     "text": [
      "Количество пропущенных значений в call_date:  0\n",
      "Процент пропущенных значений в call_date:  0 %\n",
      "\n",
      "--------------------------------------------------------\n",
      "\n",
      "Количество уникальных значений в колонке duration:\n"
     ]
    },
    {
     "data": {
      "text/html": [
       "<div>\n",
       "<style scoped>\n",
       "    .dataframe tbody tr th:only-of-type {\n",
       "        vertical-align: middle;\n",
       "    }\n",
       "\n",
       "    .dataframe tbody tr th {\n",
       "        vertical-align: top;\n",
       "    }\n",
       "\n",
       "    .dataframe thead th {\n",
       "        text-align: right;\n",
       "    }\n",
       "</style>\n",
       "<table border=\"1\" class=\"dataframe\">\n",
       "  <thead>\n",
       "    <tr style=\"text-align: right;\">\n",
       "      <th></th>\n",
       "      <th>duration</th>\n",
       "    </tr>\n",
       "  </thead>\n",
       "  <tbody>\n",
       "    <tr>\n",
       "      <td>0.0000</td>\n",
       "      <td>39613</td>\n",
       "    </tr>\n",
       "    <tr>\n",
       "      <td>4.4900</td>\n",
       "      <td>142</td>\n",
       "    </tr>\n",
       "    <tr>\n",
       "      <td>5.5000</td>\n",
       "      <td>142</td>\n",
       "    </tr>\n",
       "    <tr>\n",
       "      <td>6.1500</td>\n",
       "      <td>141</td>\n",
       "    </tr>\n",
       "    <tr>\n",
       "      <td>6.3800</td>\n",
       "      <td>141</td>\n",
       "    </tr>\n",
       "    <tr>\n",
       "      <td>...</td>\n",
       "      <td>...</td>\n",
       "    </tr>\n",
       "    <tr>\n",
       "      <td>27.0200</td>\n",
       "      <td>1</td>\n",
       "    </tr>\n",
       "    <tr>\n",
       "      <td>26.1900</td>\n",
       "      <td>1</td>\n",
       "    </tr>\n",
       "    <tr>\n",
       "      <td>25.3400</td>\n",
       "      <td>1</td>\n",
       "    </tr>\n",
       "    <tr>\n",
       "      <td>27.1300</td>\n",
       "      <td>1</td>\n",
       "    </tr>\n",
       "    <tr>\n",
       "      <td>24.2800</td>\n",
       "      <td>1</td>\n",
       "    </tr>\n",
       "  </tbody>\n",
       "</table>\n",
       "<p>2871 rows × 1 columns</p>\n",
       "</div>"
      ],
      "text/plain": [
       "         duration\n",
       "0.0000      39613\n",
       "4.4900        142\n",
       "5.5000        142\n",
       "6.1500        141\n",
       "6.3800        141\n",
       "...           ...\n",
       "27.0200         1\n",
       "26.1900         1\n",
       "25.3400         1\n",
       "27.1300         1\n",
       "24.2800         1\n",
       "\n",
       "[2871 rows x 1 columns]"
      ]
     },
     "metadata": {},
     "output_type": "display_data"
    },
    {
     "name": "stdout",
     "output_type": "stream",
     "text": [
      "Описательная статистика колонки duration:\n"
     ]
    },
    {
     "data": {
      "text/plain": [
       "count   202,607.0000\n",
       "mean          6.7559\n",
       "std           5.8434\n",
       "min           0.0000\n",
       "25%           1.3000\n",
       "50%           6.0000\n",
       "75%          10.7000\n",
       "max          38.0000\n",
       "Name: duration, dtype: float64"
      ]
     },
     "metadata": {},
     "output_type": "display_data"
    },
    {
     "name": "stdout",
     "output_type": "stream",
     "text": [
      "Количество пропущенных значений в duration:  0\n",
      "Процент пропущенных значений в duration:  0 %\n",
      "\n",
      "--------------------------------------------------------\n",
      "\n",
      "Количество уникальных значений в колонке user_id:\n"
     ]
    },
    {
     "data": {
      "text/html": [
       "<div>\n",
       "<style scoped>\n",
       "    .dataframe tbody tr th:only-of-type {\n",
       "        vertical-align: middle;\n",
       "    }\n",
       "\n",
       "    .dataframe tbody tr th {\n",
       "        vertical-align: top;\n",
       "    }\n",
       "\n",
       "    .dataframe thead th {\n",
       "        text-align: right;\n",
       "    }\n",
       "</style>\n",
       "<table border=\"1\" class=\"dataframe\">\n",
       "  <thead>\n",
       "    <tr style=\"text-align: right;\">\n",
       "      <th></th>\n",
       "      <th>user_id</th>\n",
       "    </tr>\n",
       "  </thead>\n",
       "  <tbody>\n",
       "    <tr>\n",
       "      <td>1377</td>\n",
       "      <td>1760</td>\n",
       "    </tr>\n",
       "    <tr>\n",
       "      <td>1168</td>\n",
       "      <td>1692</td>\n",
       "    </tr>\n",
       "    <tr>\n",
       "      <td>1375</td>\n",
       "      <td>1560</td>\n",
       "    </tr>\n",
       "    <tr>\n",
       "      <td>1453</td>\n",
       "      <td>1440</td>\n",
       "    </tr>\n",
       "    <tr>\n",
       "      <td>1196</td>\n",
       "      <td>1240</td>\n",
       "    </tr>\n",
       "    <tr>\n",
       "      <td>...</td>\n",
       "      <td>...</td>\n",
       "    </tr>\n",
       "    <tr>\n",
       "      <td>1397</td>\n",
       "      <td>33</td>\n",
       "    </tr>\n",
       "    <tr>\n",
       "      <td>1442</td>\n",
       "      <td>28</td>\n",
       "    </tr>\n",
       "    <tr>\n",
       "      <td>1373</td>\n",
       "      <td>24</td>\n",
       "    </tr>\n",
       "    <tr>\n",
       "      <td>1016</td>\n",
       "      <td>20</td>\n",
       "    </tr>\n",
       "    <tr>\n",
       "      <td>1257</td>\n",
       "      <td>14</td>\n",
       "    </tr>\n",
       "  </tbody>\n",
       "</table>\n",
       "<p>492 rows × 1 columns</p>\n",
       "</div>"
      ],
      "text/plain": [
       "      user_id\n",
       "1377     1760\n",
       "1168     1692\n",
       "1375     1560\n",
       "1453     1440\n",
       "1196     1240\n",
       "...       ...\n",
       "1397       33\n",
       "1442       28\n",
       "1373       24\n",
       "1016       20\n",
       "1257       14\n",
       "\n",
       "[492 rows x 1 columns]"
      ]
     },
     "metadata": {},
     "output_type": "display_data"
    },
    {
     "name": "stdout",
     "output_type": "stream",
     "text": [
      "Описательная статистика колонки user_id:\n"
     ]
    },
    {
     "data": {
      "text/plain": [
       "count   202,607.0000\n",
       "mean      1,253.9406\n",
       "std         144.7228\n",
       "min       1,000.0000\n",
       "25%       1,126.0000\n",
       "50%       1,260.0000\n",
       "75%       1,379.0000\n",
       "max       1,499.0000\n",
       "Name: user_id, dtype: float64"
      ]
     },
     "metadata": {},
     "output_type": "display_data"
    },
    {
     "name": "stdout",
     "output_type": "stream",
     "text": [
      "Количество пропущенных значений в user_id:  0\n",
      "Процент пропущенных значений в user_id:  0 %\n",
      "\n",
      "--------------------------------------------------------\n",
      "\n"
     ]
    }
   ],
   "source": [
    "data_info(calls)"
   ]
  },
  {
   "cell_type": "markdown",
   "metadata": {},
   "source": [
    "_________________\n",
    "**Вывод:**  \n",
    "  \n",
    "в датафрейме calls:  \n",
    "4 колонки,\n",
    "нет пропущенных значений,  \n",
    "492 уникальных значения для user_id  \n",
    "неправильные типы данных в call_date  \n",
    "_________________"
   ]
  },
  {
   "cell_type": "markdown",
   "metadata": {},
   "source": [
    "<div class=\"alert alert-block alert-success\">\n",
    " \n",
    "### Комментарий ревьюера\n",
    "    \n",
    "#### Успех\n",
    "    \n",
    "Очень подробно. Здорово автоматизировала вывод описательных функций.\n",
    "</div>"
   ]
  },
  {
   "cell_type": "markdown",
   "metadata": {},
   "source": [
    "**Таблица internet (информация об интернет-сессиях):**  \n",
    "id — уникальный номер сессии  \n",
    "mb_used — объём потраченного за сессию интернет-трафика (в мегабайтах)  \n",
    "session_date — дата интернет-сессии  \n",
    "user_id — идентификатор пользователя  "
   ]
  },
  {
   "cell_type": "code",
   "execution_count": 34,
   "metadata": {},
   "outputs": [
    {
     "name": "stdout",
     "output_type": "stream",
     "text": [
      "\n",
      "*********************************************************\n",
      "\n",
      "<class 'pandas.core.frame.DataFrame'>\n",
      "RangeIndex: 149396 entries, 0 to 149395\n",
      "Data columns (total 5 columns):\n",
      "Unnamed: 0      149396 non-null int64\n",
      "id              149396 non-null object\n",
      "mb_used         149396 non-null float64\n",
      "session_date    149396 non-null object\n",
      "user_id         149396 non-null int64\n",
      "dtypes: float64(1), int64(2), object(2)\n",
      "memory usage: 5.7+ MB\n",
      "\n"
     ]
    },
    {
     "data": {
      "text/html": [
       "<div>\n",
       "<style scoped>\n",
       "    .dataframe tbody tr th:only-of-type {\n",
       "        vertical-align: middle;\n",
       "    }\n",
       "\n",
       "    .dataframe tbody tr th {\n",
       "        vertical-align: top;\n",
       "    }\n",
       "\n",
       "    .dataframe thead th {\n",
       "        text-align: right;\n",
       "    }\n",
       "</style>\n",
       "<table border=\"1\" class=\"dataframe\">\n",
       "  <thead>\n",
       "    <tr style=\"text-align: right;\">\n",
       "      <th></th>\n",
       "      <th>Unnamed: 0</th>\n",
       "      <th>id</th>\n",
       "      <th>mb_used</th>\n",
       "      <th>session_date</th>\n",
       "      <th>user_id</th>\n",
       "    </tr>\n",
       "  </thead>\n",
       "  <tbody>\n",
       "    <tr>\n",
       "      <td>0</td>\n",
       "      <td>0</td>\n",
       "      <td>1000_0</td>\n",
       "      <td>112.9500</td>\n",
       "      <td>2018-11-25</td>\n",
       "      <td>1000</td>\n",
       "    </tr>\n",
       "    <tr>\n",
       "      <td>1</td>\n",
       "      <td>1</td>\n",
       "      <td>1000_1</td>\n",
       "      <td>1,052.8100</td>\n",
       "      <td>2018-09-07</td>\n",
       "      <td>1000</td>\n",
       "    </tr>\n",
       "    <tr>\n",
       "      <td>2</td>\n",
       "      <td>2</td>\n",
       "      <td>1000_2</td>\n",
       "      <td>1,197.2600</td>\n",
       "      <td>2018-06-25</td>\n",
       "      <td>1000</td>\n",
       "    </tr>\n",
       "    <tr>\n",
       "      <td>3</td>\n",
       "      <td>3</td>\n",
       "      <td>1000_3</td>\n",
       "      <td>550.2700</td>\n",
       "      <td>2018-08-22</td>\n",
       "      <td>1000</td>\n",
       "    </tr>\n",
       "    <tr>\n",
       "      <td>4</td>\n",
       "      <td>4</td>\n",
       "      <td>1000_4</td>\n",
       "      <td>302.5600</td>\n",
       "      <td>2018-09-24</td>\n",
       "      <td>1000</td>\n",
       "    </tr>\n",
       "  </tbody>\n",
       "</table>\n",
       "</div>"
      ],
      "text/plain": [
       "   Unnamed: 0      id    mb_used session_date  user_id\n",
       "0           0  1000_0   112.9500   2018-11-25     1000\n",
       "1           1  1000_1 1,052.8100   2018-09-07     1000\n",
       "2           2  1000_2 1,197.2600   2018-06-25     1000\n",
       "3           3  1000_3   550.2700   2018-08-22     1000\n",
       "4           4  1000_4   302.5600   2018-09-24     1000"
      ]
     },
     "metadata": {},
     "output_type": "display_data"
    },
    {
     "name": "stdout",
     "output_type": "stream",
     "text": [
      "\n"
     ]
    },
    {
     "data": {
      "text/html": [
       "<div>\n",
       "<style scoped>\n",
       "    .dataframe tbody tr th:only-of-type {\n",
       "        vertical-align: middle;\n",
       "    }\n",
       "\n",
       "    .dataframe tbody tr th {\n",
       "        vertical-align: top;\n",
       "    }\n",
       "\n",
       "    .dataframe thead th {\n",
       "        text-align: right;\n",
       "    }\n",
       "</style>\n",
       "<table border=\"1\" class=\"dataframe\">\n",
       "  <thead>\n",
       "    <tr style=\"text-align: right;\">\n",
       "      <th></th>\n",
       "      <th>Unnamed: 0</th>\n",
       "      <th>id</th>\n",
       "      <th>mb_used</th>\n",
       "      <th>session_date</th>\n",
       "      <th>user_id</th>\n",
       "    </tr>\n",
       "  </thead>\n",
       "  <tbody>\n",
       "    <tr>\n",
       "      <td>149391</td>\n",
       "      <td>149391</td>\n",
       "      <td>1499_152</td>\n",
       "      <td>318.9000</td>\n",
       "      <td>2018-10-03</td>\n",
       "      <td>1499</td>\n",
       "    </tr>\n",
       "    <tr>\n",
       "      <td>149392</td>\n",
       "      <td>149392</td>\n",
       "      <td>1499_153</td>\n",
       "      <td>490.1300</td>\n",
       "      <td>2018-12-14</td>\n",
       "      <td>1499</td>\n",
       "    </tr>\n",
       "    <tr>\n",
       "      <td>149393</td>\n",
       "      <td>149393</td>\n",
       "      <td>1499_154</td>\n",
       "      <td>0.0000</td>\n",
       "      <td>2018-10-27</td>\n",
       "      <td>1499</td>\n",
       "    </tr>\n",
       "    <tr>\n",
       "      <td>149394</td>\n",
       "      <td>149394</td>\n",
       "      <td>1499_155</td>\n",
       "      <td>1,246.3200</td>\n",
       "      <td>2018-11-26</td>\n",
       "      <td>1499</td>\n",
       "    </tr>\n",
       "    <tr>\n",
       "      <td>149395</td>\n",
       "      <td>149395</td>\n",
       "      <td>1499_156</td>\n",
       "      <td>544.3700</td>\n",
       "      <td>2018-10-26</td>\n",
       "      <td>1499</td>\n",
       "    </tr>\n",
       "  </tbody>\n",
       "</table>\n",
       "</div>"
      ],
      "text/plain": [
       "        Unnamed: 0        id    mb_used session_date  user_id\n",
       "149391      149391  1499_152   318.9000   2018-10-03     1499\n",
       "149392      149392  1499_153   490.1300   2018-12-14     1499\n",
       "149393      149393  1499_154     0.0000   2018-10-27     1499\n",
       "149394      149394  1499_155 1,246.3200   2018-11-26     1499\n",
       "149395      149395  1499_156   544.3700   2018-10-26     1499"
      ]
     },
     "metadata": {},
     "output_type": "display_data"
    },
    {
     "name": "stdout",
     "output_type": "stream",
     "text": [
      "Процент нулевых значений датафрейма в каждой колонке:\n",
      "\n",
      "\n",
      "Количество уникальных значений в колонке Unnamed: 0:\n"
     ]
    },
    {
     "data": {
      "text/html": [
       "<div>\n",
       "<style scoped>\n",
       "    .dataframe tbody tr th:only-of-type {\n",
       "        vertical-align: middle;\n",
       "    }\n",
       "\n",
       "    .dataframe tbody tr th {\n",
       "        vertical-align: top;\n",
       "    }\n",
       "\n",
       "    .dataframe thead th {\n",
       "        text-align: right;\n",
       "    }\n",
       "</style>\n",
       "<table border=\"1\" class=\"dataframe\">\n",
       "  <thead>\n",
       "    <tr style=\"text-align: right;\">\n",
       "      <th></th>\n",
       "      <th>Unnamed: 0</th>\n",
       "    </tr>\n",
       "  </thead>\n",
       "  <tbody>\n",
       "    <tr>\n",
       "      <td>2047</td>\n",
       "      <td>1</td>\n",
       "    </tr>\n",
       "    <tr>\n",
       "      <td>95620</td>\n",
       "      <td>1</td>\n",
       "    </tr>\n",
       "    <tr>\n",
       "      <td>40249</td>\n",
       "      <td>1</td>\n",
       "    </tr>\n",
       "    <tr>\n",
       "      <td>38200</td>\n",
       "      <td>1</td>\n",
       "    </tr>\n",
       "    <tr>\n",
       "      <td>60727</td>\n",
       "      <td>1</td>\n",
       "    </tr>\n",
       "    <tr>\n",
       "      <td>...</td>\n",
       "      <td>...</td>\n",
       "    </tr>\n",
       "    <tr>\n",
       "      <td>51916</td>\n",
       "      <td>1</td>\n",
       "    </tr>\n",
       "    <tr>\n",
       "      <td>62155</td>\n",
       "      <td>1</td>\n",
       "    </tr>\n",
       "    <tr>\n",
       "      <td>64202</td>\n",
       "      <td>1</td>\n",
       "    </tr>\n",
       "    <tr>\n",
       "      <td>58057</td>\n",
       "      <td>1</td>\n",
       "    </tr>\n",
       "    <tr>\n",
       "      <td>0</td>\n",
       "      <td>1</td>\n",
       "    </tr>\n",
       "  </tbody>\n",
       "</table>\n",
       "<p>149396 rows × 1 columns</p>\n",
       "</div>"
      ],
      "text/plain": [
       "       Unnamed: 0\n",
       "2047            1\n",
       "95620           1\n",
       "40249           1\n",
       "38200           1\n",
       "60727           1\n",
       "...           ...\n",
       "51916           1\n",
       "62155           1\n",
       "64202           1\n",
       "58057           1\n",
       "0               1\n",
       "\n",
       "[149396 rows x 1 columns]"
      ]
     },
     "metadata": {},
     "output_type": "display_data"
    },
    {
     "name": "stdout",
     "output_type": "stream",
     "text": [
      "Описательная статистика колонки Unnamed: 0:\n"
     ]
    },
    {
     "data": {
      "text/plain": [
       "count   149,396.0000\n",
       "mean     74,697.5000\n",
       "std      43,127.0547\n",
       "min           0.0000\n",
       "25%      37,348.7500\n",
       "50%      74,697.5000\n",
       "75%     112,046.2500\n",
       "max     149,395.0000\n",
       "Name: Unnamed: 0, dtype: float64"
      ]
     },
     "metadata": {},
     "output_type": "display_data"
    },
    {
     "name": "stdout",
     "output_type": "stream",
     "text": [
      "Количество пропущенных значений в Unnamed: 0:  0\n",
      "Процент пропущенных значений в Unnamed: 0:  0 %\n",
      "\n",
      "--------------------------------------------------------\n",
      "\n",
      "Количество уникальных значений в колонке id:\n"
     ]
    },
    {
     "data": {
      "text/html": [
       "<div>\n",
       "<style scoped>\n",
       "    .dataframe tbody tr th:only-of-type {\n",
       "        vertical-align: middle;\n",
       "    }\n",
       "\n",
       "    .dataframe tbody tr th {\n",
       "        vertical-align: top;\n",
       "    }\n",
       "\n",
       "    .dataframe thead th {\n",
       "        text-align: right;\n",
       "    }\n",
       "</style>\n",
       "<table border=\"1\" class=\"dataframe\">\n",
       "  <thead>\n",
       "    <tr style=\"text-align: right;\">\n",
       "      <th></th>\n",
       "      <th>id</th>\n",
       "    </tr>\n",
       "  </thead>\n",
       "  <tbody>\n",
       "    <tr>\n",
       "      <td>1424_250</td>\n",
       "      <td>1</td>\n",
       "    </tr>\n",
       "    <tr>\n",
       "      <td>1437_51</td>\n",
       "      <td>1</td>\n",
       "    </tr>\n",
       "    <tr>\n",
       "      <td>1416_213</td>\n",
       "      <td>1</td>\n",
       "    </tr>\n",
       "    <tr>\n",
       "      <td>1082_62</td>\n",
       "      <td>1</td>\n",
       "    </tr>\n",
       "    <tr>\n",
       "      <td>1027_475</td>\n",
       "      <td>1</td>\n",
       "    </tr>\n",
       "    <tr>\n",
       "      <td>...</td>\n",
       "      <td>...</td>\n",
       "    </tr>\n",
       "    <tr>\n",
       "      <td>1410_108</td>\n",
       "      <td>1</td>\n",
       "    </tr>\n",
       "    <tr>\n",
       "      <td>1300_252</td>\n",
       "      <td>1</td>\n",
       "    </tr>\n",
       "    <tr>\n",
       "      <td>1239_194</td>\n",
       "      <td>1</td>\n",
       "    </tr>\n",
       "    <tr>\n",
       "      <td>1401_324</td>\n",
       "      <td>1</td>\n",
       "    </tr>\n",
       "    <tr>\n",
       "      <td>1210_219</td>\n",
       "      <td>1</td>\n",
       "    </tr>\n",
       "  </tbody>\n",
       "</table>\n",
       "<p>149396 rows × 1 columns</p>\n",
       "</div>"
      ],
      "text/plain": [
       "          id\n",
       "1424_250   1\n",
       "1437_51    1\n",
       "1416_213   1\n",
       "1082_62    1\n",
       "1027_475   1\n",
       "...       ..\n",
       "1410_108   1\n",
       "1300_252   1\n",
       "1239_194   1\n",
       "1401_324   1\n",
       "1210_219   1\n",
       "\n",
       "[149396 rows x 1 columns]"
      ]
     },
     "metadata": {},
     "output_type": "display_data"
    },
    {
     "name": "stdout",
     "output_type": "stream",
     "text": [
      "Описательная статистика колонки id:\n"
     ]
    },
    {
     "data": {
      "text/plain": [
       "count       149396\n",
       "unique      149396\n",
       "top       1424_250\n",
       "freq             1\n",
       "Name: id, dtype: object"
      ]
     },
     "metadata": {},
     "output_type": "display_data"
    },
    {
     "name": "stdout",
     "output_type": "stream",
     "text": [
      "Количество пропущенных значений в id:  0\n",
      "Процент пропущенных значений в id:  0 %\n",
      "\n",
      "--------------------------------------------------------\n",
      "\n",
      "Количество уникальных значений в колонке mb_used:\n"
     ]
    },
    {
     "data": {
      "text/html": [
       "<div>\n",
       "<style scoped>\n",
       "    .dataframe tbody tr th:only-of-type {\n",
       "        vertical-align: middle;\n",
       "    }\n",
       "\n",
       "    .dataframe tbody tr th {\n",
       "        vertical-align: top;\n",
       "    }\n",
       "\n",
       "    .dataframe thead th {\n",
       "        text-align: right;\n",
       "    }\n",
       "</style>\n",
       "<table border=\"1\" class=\"dataframe\">\n",
       "  <thead>\n",
       "    <tr style=\"text-align: right;\">\n",
       "      <th></th>\n",
       "      <th>mb_used</th>\n",
       "    </tr>\n",
       "  </thead>\n",
       "  <tbody>\n",
       "    <tr>\n",
       "      <td>0.0000</td>\n",
       "      <td>19598</td>\n",
       "    </tr>\n",
       "    <tr>\n",
       "      <td>197.5600</td>\n",
       "      <td>9</td>\n",
       "    </tr>\n",
       "    <tr>\n",
       "      <td>447.3000</td>\n",
       "      <td>9</td>\n",
       "    </tr>\n",
       "    <tr>\n",
       "      <td>335.9100</td>\n",
       "      <td>9</td>\n",
       "    </tr>\n",
       "    <tr>\n",
       "      <td>108.9500</td>\n",
       "      <td>8</td>\n",
       "    </tr>\n",
       "    <tr>\n",
       "      <td>...</td>\n",
       "      <td>...</td>\n",
       "    </tr>\n",
       "    <tr>\n",
       "      <td>72.4900</td>\n",
       "      <td>1</td>\n",
       "    </tr>\n",
       "    <tr>\n",
       "      <td>846.2200</td>\n",
       "      <td>1</td>\n",
       "    </tr>\n",
       "    <tr>\n",
       "      <td>429.1700</td>\n",
       "      <td>1</td>\n",
       "    </tr>\n",
       "    <tr>\n",
       "      <td>899.0300</td>\n",
       "      <td>1</td>\n",
       "    </tr>\n",
       "    <tr>\n",
       "      <td>483.8700</td>\n",
       "      <td>1</td>\n",
       "    </tr>\n",
       "  </tbody>\n",
       "</table>\n",
       "<p>70003 rows × 1 columns</p>\n",
       "</div>"
      ],
      "text/plain": [
       "          mb_used\n",
       "0.0000      19598\n",
       "197.5600        9\n",
       "447.3000        9\n",
       "335.9100        9\n",
       "108.9500        8\n",
       "...           ...\n",
       "72.4900         1\n",
       "846.2200        1\n",
       "429.1700        1\n",
       "899.0300        1\n",
       "483.8700        1\n",
       "\n",
       "[70003 rows x 1 columns]"
      ]
     },
     "metadata": {},
     "output_type": "display_data"
    },
    {
     "name": "stdout",
     "output_type": "stream",
     "text": [
      "Описательная статистика колонки mb_used:\n"
     ]
    },
    {
     "data": {
      "text/plain": [
       "count   149,396.0000\n",
       "mean        370.1924\n",
       "std         278.3010\n",
       "min           0.0000\n",
       "25%         138.1875\n",
       "50%         348.0150\n",
       "75%         559.5525\n",
       "max       1,724.8300\n",
       "Name: mb_used, dtype: float64"
      ]
     },
     "metadata": {},
     "output_type": "display_data"
    },
    {
     "name": "stdout",
     "output_type": "stream",
     "text": [
      "Количество пропущенных значений в mb_used:  0\n",
      "Процент пропущенных значений в mb_used:  0 %\n",
      "\n",
      "--------------------------------------------------------\n",
      "\n",
      "Количество уникальных значений в колонке session_date:\n"
     ]
    },
    {
     "data": {
      "text/html": [
       "<div>\n",
       "<style scoped>\n",
       "    .dataframe tbody tr th:only-of-type {\n",
       "        vertical-align: middle;\n",
       "    }\n",
       "\n",
       "    .dataframe tbody tr th {\n",
       "        vertical-align: top;\n",
       "    }\n",
       "\n",
       "    .dataframe thead th {\n",
       "        text-align: right;\n",
       "    }\n",
       "</style>\n",
       "<table border=\"1\" class=\"dataframe\">\n",
       "  <thead>\n",
       "    <tr style=\"text-align: right;\">\n",
       "      <th></th>\n",
       "      <th>session_date</th>\n",
       "    </tr>\n",
       "  </thead>\n",
       "  <tbody>\n",
       "    <tr>\n",
       "      <td>2018-12-31</td>\n",
       "      <td>1057</td>\n",
       "    </tr>\n",
       "    <tr>\n",
       "      <td>2018-12-30</td>\n",
       "      <td>903</td>\n",
       "    </tr>\n",
       "    <tr>\n",
       "      <td>2018-12-25</td>\n",
       "      <td>859</td>\n",
       "    </tr>\n",
       "    <tr>\n",
       "      <td>2018-12-26</td>\n",
       "      <td>844</td>\n",
       "    </tr>\n",
       "    <tr>\n",
       "      <td>2018-12-22</td>\n",
       "      <td>834</td>\n",
       "    </tr>\n",
       "    <tr>\n",
       "      <td>...</td>\n",
       "      <td>...</td>\n",
       "    </tr>\n",
       "    <tr>\n",
       "      <td>2018-01-05</td>\n",
       "      <td>14</td>\n",
       "    </tr>\n",
       "    <tr>\n",
       "      <td>2018-01-04</td>\n",
       "      <td>9</td>\n",
       "    </tr>\n",
       "    <tr>\n",
       "      <td>2018-01-03</td>\n",
       "      <td>6</td>\n",
       "    </tr>\n",
       "    <tr>\n",
       "      <td>2018-01-01</td>\n",
       "      <td>3</td>\n",
       "    </tr>\n",
       "    <tr>\n",
       "      <td>2018-01-02</td>\n",
       "      <td>3</td>\n",
       "    </tr>\n",
       "  </tbody>\n",
       "</table>\n",
       "<p>365 rows × 1 columns</p>\n",
       "</div>"
      ],
      "text/plain": [
       "            session_date\n",
       "2018-12-31          1057\n",
       "2018-12-30           903\n",
       "2018-12-25           859\n",
       "2018-12-26           844\n",
       "2018-12-22           834\n",
       "...                  ...\n",
       "2018-01-05            14\n",
       "2018-01-04             9\n",
       "2018-01-03             6\n",
       "2018-01-01             3\n",
       "2018-01-02             3\n",
       "\n",
       "[365 rows x 1 columns]"
      ]
     },
     "metadata": {},
     "output_type": "display_data"
    },
    {
     "name": "stdout",
     "output_type": "stream",
     "text": [
      "Описательная статистика колонки session_date:\n"
     ]
    },
    {
     "data": {
      "text/plain": [
       "count         149396\n",
       "unique           365\n",
       "top       2018-12-31\n",
       "freq            1057\n",
       "Name: session_date, dtype: object"
      ]
     },
     "metadata": {},
     "output_type": "display_data"
    },
    {
     "name": "stdout",
     "output_type": "stream",
     "text": [
      "Количество пропущенных значений в session_date:  0\n",
      "Процент пропущенных значений в session_date:  0 %\n",
      "\n",
      "--------------------------------------------------------\n",
      "\n",
      "Количество уникальных значений в колонке user_id:\n"
     ]
    },
    {
     "data": {
      "text/html": [
       "<div>\n",
       "<style scoped>\n",
       "    .dataframe tbody tr th:only-of-type {\n",
       "        vertical-align: middle;\n",
       "    }\n",
       "\n",
       "    .dataframe tbody tr th {\n",
       "        vertical-align: top;\n",
       "    }\n",
       "\n",
       "    .dataframe thead th {\n",
       "        text-align: right;\n",
       "    }\n",
       "</style>\n",
       "<table border=\"1\" class=\"dataframe\">\n",
       "  <thead>\n",
       "    <tr style=\"text-align: right;\">\n",
       "      <th></th>\n",
       "      <th>user_id</th>\n",
       "    </tr>\n",
       "  </thead>\n",
       "  <tbody>\n",
       "    <tr>\n",
       "      <td>1496</td>\n",
       "      <td>834</td>\n",
       "    </tr>\n",
       "    <tr>\n",
       "      <td>1227</td>\n",
       "      <td>812</td>\n",
       "    </tr>\n",
       "    <tr>\n",
       "      <td>1204</td>\n",
       "      <td>789</td>\n",
       "    </tr>\n",
       "    <tr>\n",
       "      <td>1240</td>\n",
       "      <td>764</td>\n",
       "    </tr>\n",
       "    <tr>\n",
       "      <td>1251</td>\n",
       "      <td>759</td>\n",
       "    </tr>\n",
       "    <tr>\n",
       "      <td>...</td>\n",
       "      <td>...</td>\n",
       "    </tr>\n",
       "    <tr>\n",
       "      <td>1151</td>\n",
       "      <td>35</td>\n",
       "    </tr>\n",
       "    <tr>\n",
       "      <td>1467</td>\n",
       "      <td>27</td>\n",
       "    </tr>\n",
       "    <tr>\n",
       "      <td>1343</td>\n",
       "      <td>26</td>\n",
       "    </tr>\n",
       "    <tr>\n",
       "      <td>1192</td>\n",
       "      <td>22</td>\n",
       "    </tr>\n",
       "    <tr>\n",
       "      <td>1399</td>\n",
       "      <td>8</td>\n",
       "    </tr>\n",
       "  </tbody>\n",
       "</table>\n",
       "<p>497 rows × 1 columns</p>\n",
       "</div>"
      ],
      "text/plain": [
       "      user_id\n",
       "1496      834\n",
       "1227      812\n",
       "1204      789\n",
       "1240      764\n",
       "1251      759\n",
       "...       ...\n",
       "1151       35\n",
       "1467       27\n",
       "1343       26\n",
       "1192       22\n",
       "1399        8\n",
       "\n",
       "[497 rows x 1 columns]"
      ]
     },
     "metadata": {},
     "output_type": "display_data"
    },
    {
     "name": "stdout",
     "output_type": "stream",
     "text": [
      "Описательная статистика колонки user_id:\n"
     ]
    },
    {
     "data": {
      "text/plain": [
       "count   149,396.0000\n",
       "mean      1,252.0998\n",
       "std         144.0508\n",
       "min       1,000.0000\n",
       "25%       1,130.0000\n",
       "50%       1,251.0000\n",
       "75%       1,380.0000\n",
       "max       1,499.0000\n",
       "Name: user_id, dtype: float64"
      ]
     },
     "metadata": {},
     "output_type": "display_data"
    },
    {
     "name": "stdout",
     "output_type": "stream",
     "text": [
      "Количество пропущенных значений в user_id:  0\n",
      "Процент пропущенных значений в user_id:  0 %\n",
      "\n",
      "--------------------------------------------------------\n",
      "\n"
     ]
    }
   ],
   "source": [
    "data_info(internet)"
   ]
  },
  {
   "cell_type": "markdown",
   "metadata": {},
   "source": [
    "_________________\n",
    "**Вывод:**  \n",
    "  \n",
    "в датафрейме internet:  \n",
    "5 колонок, одна (Unnamed: 0) - лишняя, т.к. дублирует индексы\n",
    "нет пропущенных значений,  \n",
    "497 уникальных значения для user_id  \n",
    "неправильный тип данных в session_date вместо object, нужен datetime64  \n",
    "_________________"
   ]
  },
  {
   "cell_type": "markdown",
   "metadata": {},
   "source": [
    "**Таблица messages (информация о сообщениях):**  \n",
    "id — уникальный номер звонка  \n",
    "message_date — дата сообщения  \n",
    "user_id — идентификатор пользователя, отправившего сообщение  "
   ]
  },
  {
   "cell_type": "code",
   "execution_count": 35,
   "metadata": {},
   "outputs": [
    {
     "name": "stdout",
     "output_type": "stream",
     "text": [
      "\n",
      "*********************************************************\n",
      "\n",
      "<class 'pandas.core.frame.DataFrame'>\n",
      "RangeIndex: 123036 entries, 0 to 123035\n",
      "Data columns (total 3 columns):\n",
      "id              123036 non-null object\n",
      "message_date    123036 non-null object\n",
      "user_id         123036 non-null int64\n",
      "dtypes: int64(1), object(2)\n",
      "memory usage: 2.8+ MB\n",
      "\n"
     ]
    },
    {
     "data": {
      "text/html": [
       "<div>\n",
       "<style scoped>\n",
       "    .dataframe tbody tr th:only-of-type {\n",
       "        vertical-align: middle;\n",
       "    }\n",
       "\n",
       "    .dataframe tbody tr th {\n",
       "        vertical-align: top;\n",
       "    }\n",
       "\n",
       "    .dataframe thead th {\n",
       "        text-align: right;\n",
       "    }\n",
       "</style>\n",
       "<table border=\"1\" class=\"dataframe\">\n",
       "  <thead>\n",
       "    <tr style=\"text-align: right;\">\n",
       "      <th></th>\n",
       "      <th>id</th>\n",
       "      <th>message_date</th>\n",
       "      <th>user_id</th>\n",
       "    </tr>\n",
       "  </thead>\n",
       "  <tbody>\n",
       "    <tr>\n",
       "      <td>0</td>\n",
       "      <td>1000_0</td>\n",
       "      <td>2018-06-27</td>\n",
       "      <td>1000</td>\n",
       "    </tr>\n",
       "    <tr>\n",
       "      <td>1</td>\n",
       "      <td>1000_1</td>\n",
       "      <td>2018-10-08</td>\n",
       "      <td>1000</td>\n",
       "    </tr>\n",
       "    <tr>\n",
       "      <td>2</td>\n",
       "      <td>1000_2</td>\n",
       "      <td>2018-08-04</td>\n",
       "      <td>1000</td>\n",
       "    </tr>\n",
       "    <tr>\n",
       "      <td>3</td>\n",
       "      <td>1000_3</td>\n",
       "      <td>2018-06-16</td>\n",
       "      <td>1000</td>\n",
       "    </tr>\n",
       "    <tr>\n",
       "      <td>4</td>\n",
       "      <td>1000_4</td>\n",
       "      <td>2018-12-05</td>\n",
       "      <td>1000</td>\n",
       "    </tr>\n",
       "  </tbody>\n",
       "</table>\n",
       "</div>"
      ],
      "text/plain": [
       "       id message_date  user_id\n",
       "0  1000_0   2018-06-27     1000\n",
       "1  1000_1   2018-10-08     1000\n",
       "2  1000_2   2018-08-04     1000\n",
       "3  1000_3   2018-06-16     1000\n",
       "4  1000_4   2018-12-05     1000"
      ]
     },
     "metadata": {},
     "output_type": "display_data"
    },
    {
     "name": "stdout",
     "output_type": "stream",
     "text": [
      "\n"
     ]
    },
    {
     "data": {
      "text/html": [
       "<div>\n",
       "<style scoped>\n",
       "    .dataframe tbody tr th:only-of-type {\n",
       "        vertical-align: middle;\n",
       "    }\n",
       "\n",
       "    .dataframe tbody tr th {\n",
       "        vertical-align: top;\n",
       "    }\n",
       "\n",
       "    .dataframe thead th {\n",
       "        text-align: right;\n",
       "    }\n",
       "</style>\n",
       "<table border=\"1\" class=\"dataframe\">\n",
       "  <thead>\n",
       "    <tr style=\"text-align: right;\">\n",
       "      <th></th>\n",
       "      <th>id</th>\n",
       "      <th>message_date</th>\n",
       "      <th>user_id</th>\n",
       "    </tr>\n",
       "  </thead>\n",
       "  <tbody>\n",
       "    <tr>\n",
       "      <td>123031</td>\n",
       "      <td>1499_179</td>\n",
       "      <td>2018-12-12</td>\n",
       "      <td>1499</td>\n",
       "    </tr>\n",
       "    <tr>\n",
       "      <td>123032</td>\n",
       "      <td>1499_180</td>\n",
       "      <td>2018-09-28</td>\n",
       "      <td>1499</td>\n",
       "    </tr>\n",
       "    <tr>\n",
       "      <td>123033</td>\n",
       "      <td>1499_181</td>\n",
       "      <td>2018-09-27</td>\n",
       "      <td>1499</td>\n",
       "    </tr>\n",
       "    <tr>\n",
       "      <td>123034</td>\n",
       "      <td>1499_182</td>\n",
       "      <td>2018-11-15</td>\n",
       "      <td>1499</td>\n",
       "    </tr>\n",
       "    <tr>\n",
       "      <td>123035</td>\n",
       "      <td>1499_183</td>\n",
       "      <td>2018-11-16</td>\n",
       "      <td>1499</td>\n",
       "    </tr>\n",
       "  </tbody>\n",
       "</table>\n",
       "</div>"
      ],
      "text/plain": [
       "              id message_date  user_id\n",
       "123031  1499_179   2018-12-12     1499\n",
       "123032  1499_180   2018-09-28     1499\n",
       "123033  1499_181   2018-09-27     1499\n",
       "123034  1499_182   2018-11-15     1499\n",
       "123035  1499_183   2018-11-16     1499"
      ]
     },
     "metadata": {},
     "output_type": "display_data"
    },
    {
     "name": "stdout",
     "output_type": "stream",
     "text": [
      "Процент нулевых значений датафрейма в каждой колонке:\n",
      "\n",
      "\n",
      "Количество уникальных значений в колонке id:\n"
     ]
    },
    {
     "data": {
      "text/html": [
       "<div>\n",
       "<style scoped>\n",
       "    .dataframe tbody tr th:only-of-type {\n",
       "        vertical-align: middle;\n",
       "    }\n",
       "\n",
       "    .dataframe tbody tr th {\n",
       "        vertical-align: top;\n",
       "    }\n",
       "\n",
       "    .dataframe thead th {\n",
       "        text-align: right;\n",
       "    }\n",
       "</style>\n",
       "<table border=\"1\" class=\"dataframe\">\n",
       "  <thead>\n",
       "    <tr style=\"text-align: right;\">\n",
       "      <th></th>\n",
       "      <th>id</th>\n",
       "    </tr>\n",
       "  </thead>\n",
       "  <tbody>\n",
       "    <tr>\n",
       "      <td>1145_295</td>\n",
       "      <td>1</td>\n",
       "    </tr>\n",
       "    <tr>\n",
       "      <td>1015_40</td>\n",
       "      <td>1</td>\n",
       "    </tr>\n",
       "    <tr>\n",
       "      <td>1440_72</td>\n",
       "      <td>1</td>\n",
       "    </tr>\n",
       "    <tr>\n",
       "      <td>1168_348</td>\n",
       "      <td>1</td>\n",
       "    </tr>\n",
       "    <tr>\n",
       "      <td>1417_63</td>\n",
       "      <td>1</td>\n",
       "    </tr>\n",
       "    <tr>\n",
       "      <td>...</td>\n",
       "      <td>...</td>\n",
       "    </tr>\n",
       "    <tr>\n",
       "      <td>1231_465</td>\n",
       "      <td>1</td>\n",
       "    </tr>\n",
       "    <tr>\n",
       "      <td>1404_53</td>\n",
       "      <td>1</td>\n",
       "    </tr>\n",
       "    <tr>\n",
       "      <td>1358_290</td>\n",
       "      <td>1</td>\n",
       "    </tr>\n",
       "    <tr>\n",
       "      <td>1499_84</td>\n",
       "      <td>1</td>\n",
       "    </tr>\n",
       "    <tr>\n",
       "      <td>1357_32</td>\n",
       "      <td>1</td>\n",
       "    </tr>\n",
       "  </tbody>\n",
       "</table>\n",
       "<p>123036 rows × 1 columns</p>\n",
       "</div>"
      ],
      "text/plain": [
       "          id\n",
       "1145_295   1\n",
       "1015_40    1\n",
       "1440_72    1\n",
       "1168_348   1\n",
       "1417_63    1\n",
       "...       ..\n",
       "1231_465   1\n",
       "1404_53    1\n",
       "1358_290   1\n",
       "1499_84    1\n",
       "1357_32    1\n",
       "\n",
       "[123036 rows x 1 columns]"
      ]
     },
     "metadata": {},
     "output_type": "display_data"
    },
    {
     "name": "stdout",
     "output_type": "stream",
     "text": [
      "Описательная статистика колонки id:\n"
     ]
    },
    {
     "data": {
      "text/plain": [
       "count       123036\n",
       "unique      123036\n",
       "top       1145_295\n",
       "freq             1\n",
       "Name: id, dtype: object"
      ]
     },
     "metadata": {},
     "output_type": "display_data"
    },
    {
     "name": "stdout",
     "output_type": "stream",
     "text": [
      "Количество пропущенных значений в id:  0\n",
      "Процент пропущенных значений в id:  0 %\n",
      "\n",
      "--------------------------------------------------------\n",
      "\n",
      "Количество уникальных значений в колонке message_date:\n"
     ]
    },
    {
     "data": {
      "text/html": [
       "<div>\n",
       "<style scoped>\n",
       "    .dataframe tbody tr th:only-of-type {\n",
       "        vertical-align: middle;\n",
       "    }\n",
       "\n",
       "    .dataframe tbody tr th {\n",
       "        vertical-align: top;\n",
       "    }\n",
       "\n",
       "    .dataframe thead th {\n",
       "        text-align: right;\n",
       "    }\n",
       "</style>\n",
       "<table border=\"1\" class=\"dataframe\">\n",
       "  <thead>\n",
       "    <tr style=\"text-align: right;\">\n",
       "      <th></th>\n",
       "      <th>message_date</th>\n",
       "    </tr>\n",
       "  </thead>\n",
       "  <tbody>\n",
       "    <tr>\n",
       "      <td>2018-12-31</td>\n",
       "      <td>859</td>\n",
       "    </tr>\n",
       "    <tr>\n",
       "      <td>2018-12-30</td>\n",
       "      <td>765</td>\n",
       "    </tr>\n",
       "    <tr>\n",
       "      <td>2018-12-21</td>\n",
       "      <td>712</td>\n",
       "    </tr>\n",
       "    <tr>\n",
       "      <td>2018-12-29</td>\n",
       "      <td>702</td>\n",
       "    </tr>\n",
       "    <tr>\n",
       "      <td>2018-12-26</td>\n",
       "      <td>699</td>\n",
       "    </tr>\n",
       "    <tr>\n",
       "      <td>...</td>\n",
       "      <td>...</td>\n",
       "    </tr>\n",
       "    <tr>\n",
       "      <td>2018-01-11</td>\n",
       "      <td>12</td>\n",
       "    </tr>\n",
       "    <tr>\n",
       "      <td>2018-01-02</td>\n",
       "      <td>10</td>\n",
       "    </tr>\n",
       "    <tr>\n",
       "      <td>2018-01-04</td>\n",
       "      <td>10</td>\n",
       "    </tr>\n",
       "    <tr>\n",
       "      <td>2018-01-05</td>\n",
       "      <td>10</td>\n",
       "    </tr>\n",
       "    <tr>\n",
       "      <td>2018-01-03</td>\n",
       "      <td>4</td>\n",
       "    </tr>\n",
       "  </tbody>\n",
       "</table>\n",
       "<p>364 rows × 1 columns</p>\n",
       "</div>"
      ],
      "text/plain": [
       "            message_date\n",
       "2018-12-31           859\n",
       "2018-12-30           765\n",
       "2018-12-21           712\n",
       "2018-12-29           702\n",
       "2018-12-26           699\n",
       "...                  ...\n",
       "2018-01-11            12\n",
       "2018-01-02            10\n",
       "2018-01-04            10\n",
       "2018-01-05            10\n",
       "2018-01-03             4\n",
       "\n",
       "[364 rows x 1 columns]"
      ]
     },
     "metadata": {},
     "output_type": "display_data"
    },
    {
     "name": "stdout",
     "output_type": "stream",
     "text": [
      "Описательная статистика колонки message_date:\n"
     ]
    },
    {
     "data": {
      "text/plain": [
       "count         123036\n",
       "unique           364\n",
       "top       2018-12-31\n",
       "freq             859\n",
       "Name: message_date, dtype: object"
      ]
     },
     "metadata": {},
     "output_type": "display_data"
    },
    {
     "name": "stdout",
     "output_type": "stream",
     "text": [
      "Количество пропущенных значений в message_date:  0\n",
      "Процент пропущенных значений в message_date:  0 %\n",
      "\n",
      "--------------------------------------------------------\n",
      "\n",
      "Количество уникальных значений в колонке user_id:\n"
     ]
    },
    {
     "data": {
      "text/html": [
       "<div>\n",
       "<style scoped>\n",
       "    .dataframe tbody tr th:only-of-type {\n",
       "        vertical-align: middle;\n",
       "    }\n",
       "\n",
       "    .dataframe tbody tr th {\n",
       "        vertical-align: top;\n",
       "    }\n",
       "\n",
       "    .dataframe thead th {\n",
       "        text-align: right;\n",
       "    }\n",
       "</style>\n",
       "<table border=\"1\" class=\"dataframe\">\n",
       "  <thead>\n",
       "    <tr style=\"text-align: right;\">\n",
       "      <th></th>\n",
       "      <th>user_id</th>\n",
       "    </tr>\n",
       "  </thead>\n",
       "  <tbody>\n",
       "    <tr>\n",
       "      <td>1277</td>\n",
       "      <td>1463</td>\n",
       "    </tr>\n",
       "    <tr>\n",
       "      <td>1089</td>\n",
       "      <td>1408</td>\n",
       "    </tr>\n",
       "    <tr>\n",
       "      <td>1231</td>\n",
       "      <td>1384</td>\n",
       "    </tr>\n",
       "    <tr>\n",
       "      <td>1385</td>\n",
       "      <td>1380</td>\n",
       "    </tr>\n",
       "    <tr>\n",
       "      <td>1356</td>\n",
       "      <td>1224</td>\n",
       "    </tr>\n",
       "    <tr>\n",
       "      <td>...</td>\n",
       "      <td>...</td>\n",
       "    </tr>\n",
       "    <tr>\n",
       "      <td>1389</td>\n",
       "      <td>6</td>\n",
       "    </tr>\n",
       "    <tr>\n",
       "      <td>1279</td>\n",
       "      <td>5</td>\n",
       "    </tr>\n",
       "    <tr>\n",
       "      <td>1074</td>\n",
       "      <td>3</td>\n",
       "    </tr>\n",
       "    <tr>\n",
       "      <td>1159</td>\n",
       "      <td>2</td>\n",
       "    </tr>\n",
       "    <tr>\n",
       "      <td>1141</td>\n",
       "      <td>1</td>\n",
       "    </tr>\n",
       "  </tbody>\n",
       "</table>\n",
       "<p>426 rows × 1 columns</p>\n",
       "</div>"
      ],
      "text/plain": [
       "      user_id\n",
       "1277     1463\n",
       "1089     1408\n",
       "1231     1384\n",
       "1385     1380\n",
       "1356     1224\n",
       "...       ...\n",
       "1389        6\n",
       "1279        5\n",
       "1074        3\n",
       "1159        2\n",
       "1141        1\n",
       "\n",
       "[426 rows x 1 columns]"
      ]
     },
     "metadata": {},
     "output_type": "display_data"
    },
    {
     "name": "stdout",
     "output_type": "stream",
     "text": [
      "Описательная статистика колонки user_id:\n"
     ]
    },
    {
     "data": {
      "text/plain": [
       "count   123,036.0000\n",
       "mean      1,256.9894\n",
       "std         143.5240\n",
       "min       1,000.0000\n",
       "25%       1,134.0000\n",
       "50%       1,271.0000\n",
       "75%       1,381.0000\n",
       "max       1,499.0000\n",
       "Name: user_id, dtype: float64"
      ]
     },
     "metadata": {},
     "output_type": "display_data"
    },
    {
     "name": "stdout",
     "output_type": "stream",
     "text": [
      "Количество пропущенных значений в user_id:  0\n",
      "Процент пропущенных значений в user_id:  0 %\n",
      "\n",
      "--------------------------------------------------------\n",
      "\n"
     ]
    }
   ],
   "source": [
    "data_info(messages)"
   ]
  },
  {
   "cell_type": "markdown",
   "metadata": {},
   "source": [
    "_________________\n",
    "**Вывод:**  \n",
    "  \n",
    "в датафрейме messages:  \n",
    "3 колонки, \n",
    "нет пропущенных значений,  \n",
    "426 уникальных значения для user_id  \n",
    "неправильный тип данных в message_date вместо object, нужен datetime64  \n",
    "_________________"
   ]
  },
  {
   "cell_type": "markdown",
   "metadata": {},
   "source": [
    "**Таблица tariffs (информация о тарифах):**  \n",
    "tariff_name — название тарифа  \n",
    "rub_monthly_fee — ежемесячная абонентская плата в рублях  \n",
    "minutes_included — количество минут разговора в месяц, включённых в абонентскую плату  \n",
    "messages_included — количество сообщений в месяц, включённых в абонентскую плату  \n",
    "mb_per_month_included — объём интернет-трафика, включённого в абонентскую плату (в мегабайтах)  \n",
    "rub_per_minute — стоимость минуты разговора сверх тарифного пакета (например, если в тарифе 100 минут разговора в месяц, то со 101 минуты будет взиматься плата)  \n",
    "rub_per_message — стоимость отправки сообщения сверх тарифного пакета  \n",
    "rub_per_gb — стоимость дополнительного гигабайта интернет-трафика сверх тарифного пакета (1 гигабайт = 1024 мегабайта)  "
   ]
  },
  {
   "cell_type": "code",
   "execution_count": 36,
   "metadata": {},
   "outputs": [
    {
     "name": "stdout",
     "output_type": "stream",
     "text": [
      "\n",
      "*********************************************************\n",
      "\n",
      "<class 'pandas.core.frame.DataFrame'>\n",
      "RangeIndex: 2 entries, 0 to 1\n",
      "Data columns (total 8 columns):\n",
      "messages_included        2 non-null int64\n",
      "mb_per_month_included    2 non-null int64\n",
      "minutes_included         2 non-null int64\n",
      "rub_monthly_fee          2 non-null int64\n",
      "rub_per_gb               2 non-null int64\n",
      "rub_per_message          2 non-null int64\n",
      "rub_per_minute           2 non-null int64\n",
      "tariff_name              2 non-null object\n",
      "dtypes: int64(7), object(1)\n",
      "memory usage: 256.0+ bytes\n",
      "\n"
     ]
    },
    {
     "data": {
      "text/html": [
       "<div>\n",
       "<style scoped>\n",
       "    .dataframe tbody tr th:only-of-type {\n",
       "        vertical-align: middle;\n",
       "    }\n",
       "\n",
       "    .dataframe tbody tr th {\n",
       "        vertical-align: top;\n",
       "    }\n",
       "\n",
       "    .dataframe thead th {\n",
       "        text-align: right;\n",
       "    }\n",
       "</style>\n",
       "<table border=\"1\" class=\"dataframe\">\n",
       "  <thead>\n",
       "    <tr style=\"text-align: right;\">\n",
       "      <th></th>\n",
       "      <th>messages_included</th>\n",
       "      <th>mb_per_month_included</th>\n",
       "      <th>minutes_included</th>\n",
       "      <th>rub_monthly_fee</th>\n",
       "      <th>rub_per_gb</th>\n",
       "      <th>rub_per_message</th>\n",
       "      <th>rub_per_minute</th>\n",
       "      <th>tariff_name</th>\n",
       "    </tr>\n",
       "  </thead>\n",
       "  <tbody>\n",
       "    <tr>\n",
       "      <td>0</td>\n",
       "      <td>50</td>\n",
       "      <td>15360</td>\n",
       "      <td>500</td>\n",
       "      <td>550</td>\n",
       "      <td>200</td>\n",
       "      <td>3</td>\n",
       "      <td>3</td>\n",
       "      <td>smart</td>\n",
       "    </tr>\n",
       "    <tr>\n",
       "      <td>1</td>\n",
       "      <td>1000</td>\n",
       "      <td>30720</td>\n",
       "      <td>3000</td>\n",
       "      <td>1950</td>\n",
       "      <td>150</td>\n",
       "      <td>1</td>\n",
       "      <td>1</td>\n",
       "      <td>ultra</td>\n",
       "    </tr>\n",
       "  </tbody>\n",
       "</table>\n",
       "</div>"
      ],
      "text/plain": [
       "   messages_included  mb_per_month_included  minutes_included  \\\n",
       "0                 50                  15360               500   \n",
       "1               1000                  30720              3000   \n",
       "\n",
       "   rub_monthly_fee  rub_per_gb  rub_per_message  rub_per_minute tariff_name  \n",
       "0              550         200                3               3       smart  \n",
       "1             1950         150                1               1       ultra  "
      ]
     },
     "metadata": {},
     "output_type": "display_data"
    },
    {
     "name": "stdout",
     "output_type": "stream",
     "text": [
      "\n"
     ]
    },
    {
     "data": {
      "text/html": [
       "<div>\n",
       "<style scoped>\n",
       "    .dataframe tbody tr th:only-of-type {\n",
       "        vertical-align: middle;\n",
       "    }\n",
       "\n",
       "    .dataframe tbody tr th {\n",
       "        vertical-align: top;\n",
       "    }\n",
       "\n",
       "    .dataframe thead th {\n",
       "        text-align: right;\n",
       "    }\n",
       "</style>\n",
       "<table border=\"1\" class=\"dataframe\">\n",
       "  <thead>\n",
       "    <tr style=\"text-align: right;\">\n",
       "      <th></th>\n",
       "      <th>messages_included</th>\n",
       "      <th>mb_per_month_included</th>\n",
       "      <th>minutes_included</th>\n",
       "      <th>rub_monthly_fee</th>\n",
       "      <th>rub_per_gb</th>\n",
       "      <th>rub_per_message</th>\n",
       "      <th>rub_per_minute</th>\n",
       "      <th>tariff_name</th>\n",
       "    </tr>\n",
       "  </thead>\n",
       "  <tbody>\n",
       "    <tr>\n",
       "      <td>0</td>\n",
       "      <td>50</td>\n",
       "      <td>15360</td>\n",
       "      <td>500</td>\n",
       "      <td>550</td>\n",
       "      <td>200</td>\n",
       "      <td>3</td>\n",
       "      <td>3</td>\n",
       "      <td>smart</td>\n",
       "    </tr>\n",
       "    <tr>\n",
       "      <td>1</td>\n",
       "      <td>1000</td>\n",
       "      <td>30720</td>\n",
       "      <td>3000</td>\n",
       "      <td>1950</td>\n",
       "      <td>150</td>\n",
       "      <td>1</td>\n",
       "      <td>1</td>\n",
       "      <td>ultra</td>\n",
       "    </tr>\n",
       "  </tbody>\n",
       "</table>\n",
       "</div>"
      ],
      "text/plain": [
       "   messages_included  mb_per_month_included  minutes_included  \\\n",
       "0                 50                  15360               500   \n",
       "1               1000                  30720              3000   \n",
       "\n",
       "   rub_monthly_fee  rub_per_gb  rub_per_message  rub_per_minute tariff_name  \n",
       "0              550         200                3               3       smart  \n",
       "1             1950         150                1               1       ultra  "
      ]
     },
     "metadata": {},
     "output_type": "display_data"
    },
    {
     "name": "stdout",
     "output_type": "stream",
     "text": [
      "Процент нулевых значений датафрейма в каждой колонке:\n",
      "\n",
      "\n",
      "Количество уникальных значений в колонке messages_included:\n"
     ]
    },
    {
     "data": {
      "text/html": [
       "<div>\n",
       "<style scoped>\n",
       "    .dataframe tbody tr th:only-of-type {\n",
       "        vertical-align: middle;\n",
       "    }\n",
       "\n",
       "    .dataframe tbody tr th {\n",
       "        vertical-align: top;\n",
       "    }\n",
       "\n",
       "    .dataframe thead th {\n",
       "        text-align: right;\n",
       "    }\n",
       "</style>\n",
       "<table border=\"1\" class=\"dataframe\">\n",
       "  <thead>\n",
       "    <tr style=\"text-align: right;\">\n",
       "      <th></th>\n",
       "      <th>messages_included</th>\n",
       "    </tr>\n",
       "  </thead>\n",
       "  <tbody>\n",
       "    <tr>\n",
       "      <td>50</td>\n",
       "      <td>1</td>\n",
       "    </tr>\n",
       "    <tr>\n",
       "      <td>1000</td>\n",
       "      <td>1</td>\n",
       "    </tr>\n",
       "  </tbody>\n",
       "</table>\n",
       "</div>"
      ],
      "text/plain": [
       "      messages_included\n",
       "50                    1\n",
       "1000                  1"
      ]
     },
     "metadata": {},
     "output_type": "display_data"
    },
    {
     "name": "stdout",
     "output_type": "stream",
     "text": [
      "Описательная статистика колонки messages_included:\n"
     ]
    },
    {
     "data": {
      "text/plain": [
       "count       2.0000\n",
       "mean      525.0000\n",
       "std       671.7514\n",
       "min        50.0000\n",
       "25%       287.5000\n",
       "50%       525.0000\n",
       "75%       762.5000\n",
       "max     1,000.0000\n",
       "Name: messages_included, dtype: float64"
      ]
     },
     "metadata": {},
     "output_type": "display_data"
    },
    {
     "name": "stdout",
     "output_type": "stream",
     "text": [
      "Количество пропущенных значений в messages_included:  0\n",
      "Процент пропущенных значений в messages_included:  0 %\n",
      "\n",
      "--------------------------------------------------------\n",
      "\n",
      "Количество уникальных значений в колонке mb_per_month_included:\n"
     ]
    },
    {
     "data": {
      "text/html": [
       "<div>\n",
       "<style scoped>\n",
       "    .dataframe tbody tr th:only-of-type {\n",
       "        vertical-align: middle;\n",
       "    }\n",
       "\n",
       "    .dataframe tbody tr th {\n",
       "        vertical-align: top;\n",
       "    }\n",
       "\n",
       "    .dataframe thead th {\n",
       "        text-align: right;\n",
       "    }\n",
       "</style>\n",
       "<table border=\"1\" class=\"dataframe\">\n",
       "  <thead>\n",
       "    <tr style=\"text-align: right;\">\n",
       "      <th></th>\n",
       "      <th>mb_per_month_included</th>\n",
       "    </tr>\n",
       "  </thead>\n",
       "  <tbody>\n",
       "    <tr>\n",
       "      <td>30720</td>\n",
       "      <td>1</td>\n",
       "    </tr>\n",
       "    <tr>\n",
       "      <td>15360</td>\n",
       "      <td>1</td>\n",
       "    </tr>\n",
       "  </tbody>\n",
       "</table>\n",
       "</div>"
      ],
      "text/plain": [
       "       mb_per_month_included\n",
       "30720                      1\n",
       "15360                      1"
      ]
     },
     "metadata": {},
     "output_type": "display_data"
    },
    {
     "name": "stdout",
     "output_type": "stream",
     "text": [
      "Описательная статистика колонки mb_per_month_included:\n"
     ]
    },
    {
     "data": {
      "text/plain": [
       "count        2.0000\n",
       "mean    23,040.0000\n",
       "std     10,861.1602\n",
       "min     15,360.0000\n",
       "25%     19,200.0000\n",
       "50%     23,040.0000\n",
       "75%     26,880.0000\n",
       "max     30,720.0000\n",
       "Name: mb_per_month_included, dtype: float64"
      ]
     },
     "metadata": {},
     "output_type": "display_data"
    },
    {
     "name": "stdout",
     "output_type": "stream",
     "text": [
      "Количество пропущенных значений в mb_per_month_included:  0\n",
      "Процент пропущенных значений в mb_per_month_included:  0 %\n",
      "\n",
      "--------------------------------------------------------\n",
      "\n",
      "Количество уникальных значений в колонке minutes_included:\n"
     ]
    },
    {
     "data": {
      "text/html": [
       "<div>\n",
       "<style scoped>\n",
       "    .dataframe tbody tr th:only-of-type {\n",
       "        vertical-align: middle;\n",
       "    }\n",
       "\n",
       "    .dataframe tbody tr th {\n",
       "        vertical-align: top;\n",
       "    }\n",
       "\n",
       "    .dataframe thead th {\n",
       "        text-align: right;\n",
       "    }\n",
       "</style>\n",
       "<table border=\"1\" class=\"dataframe\">\n",
       "  <thead>\n",
       "    <tr style=\"text-align: right;\">\n",
       "      <th></th>\n",
       "      <th>minutes_included</th>\n",
       "    </tr>\n",
       "  </thead>\n",
       "  <tbody>\n",
       "    <tr>\n",
       "      <td>3000</td>\n",
       "      <td>1</td>\n",
       "    </tr>\n",
       "    <tr>\n",
       "      <td>500</td>\n",
       "      <td>1</td>\n",
       "    </tr>\n",
       "  </tbody>\n",
       "</table>\n",
       "</div>"
      ],
      "text/plain": [
       "      minutes_included\n",
       "3000                 1\n",
       "500                  1"
      ]
     },
     "metadata": {},
     "output_type": "display_data"
    },
    {
     "name": "stdout",
     "output_type": "stream",
     "text": [
      "Описательная статистика колонки minutes_included:\n"
     ]
    },
    {
     "data": {
      "text/plain": [
       "count       2.0000\n",
       "mean    1,750.0000\n",
       "std     1,767.7670\n",
       "min       500.0000\n",
       "25%     1,125.0000\n",
       "50%     1,750.0000\n",
       "75%     2,375.0000\n",
       "max     3,000.0000\n",
       "Name: minutes_included, dtype: float64"
      ]
     },
     "metadata": {},
     "output_type": "display_data"
    },
    {
     "name": "stdout",
     "output_type": "stream",
     "text": [
      "Количество пропущенных значений в minutes_included:  0\n",
      "Процент пропущенных значений в minutes_included:  0 %\n",
      "\n",
      "--------------------------------------------------------\n",
      "\n",
      "Количество уникальных значений в колонке rub_monthly_fee:\n"
     ]
    },
    {
     "data": {
      "text/html": [
       "<div>\n",
       "<style scoped>\n",
       "    .dataframe tbody tr th:only-of-type {\n",
       "        vertical-align: middle;\n",
       "    }\n",
       "\n",
       "    .dataframe tbody tr th {\n",
       "        vertical-align: top;\n",
       "    }\n",
       "\n",
       "    .dataframe thead th {\n",
       "        text-align: right;\n",
       "    }\n",
       "</style>\n",
       "<table border=\"1\" class=\"dataframe\">\n",
       "  <thead>\n",
       "    <tr style=\"text-align: right;\">\n",
       "      <th></th>\n",
       "      <th>rub_monthly_fee</th>\n",
       "    </tr>\n",
       "  </thead>\n",
       "  <tbody>\n",
       "    <tr>\n",
       "      <td>550</td>\n",
       "      <td>1</td>\n",
       "    </tr>\n",
       "    <tr>\n",
       "      <td>1950</td>\n",
       "      <td>1</td>\n",
       "    </tr>\n",
       "  </tbody>\n",
       "</table>\n",
       "</div>"
      ],
      "text/plain": [
       "      rub_monthly_fee\n",
       "550                 1\n",
       "1950                1"
      ]
     },
     "metadata": {},
     "output_type": "display_data"
    },
    {
     "name": "stdout",
     "output_type": "stream",
     "text": [
      "Описательная статистика колонки rub_monthly_fee:\n"
     ]
    },
    {
     "data": {
      "text/plain": [
       "count       2.0000\n",
       "mean    1,250.0000\n",
       "std       989.9495\n",
       "min       550.0000\n",
       "25%       900.0000\n",
       "50%     1,250.0000\n",
       "75%     1,600.0000\n",
       "max     1,950.0000\n",
       "Name: rub_monthly_fee, dtype: float64"
      ]
     },
     "metadata": {},
     "output_type": "display_data"
    },
    {
     "name": "stdout",
     "output_type": "stream",
     "text": [
      "Количество пропущенных значений в rub_monthly_fee:  0\n",
      "Процент пропущенных значений в rub_monthly_fee:  0 %\n",
      "\n",
      "--------------------------------------------------------\n",
      "\n",
      "Количество уникальных значений в колонке rub_per_gb:\n"
     ]
    },
    {
     "data": {
      "text/html": [
       "<div>\n",
       "<style scoped>\n",
       "    .dataframe tbody tr th:only-of-type {\n",
       "        vertical-align: middle;\n",
       "    }\n",
       "\n",
       "    .dataframe tbody tr th {\n",
       "        vertical-align: top;\n",
       "    }\n",
       "\n",
       "    .dataframe thead th {\n",
       "        text-align: right;\n",
       "    }\n",
       "</style>\n",
       "<table border=\"1\" class=\"dataframe\">\n",
       "  <thead>\n",
       "    <tr style=\"text-align: right;\">\n",
       "      <th></th>\n",
       "      <th>rub_per_gb</th>\n",
       "    </tr>\n",
       "  </thead>\n",
       "  <tbody>\n",
       "    <tr>\n",
       "      <td>150</td>\n",
       "      <td>1</td>\n",
       "    </tr>\n",
       "    <tr>\n",
       "      <td>200</td>\n",
       "      <td>1</td>\n",
       "    </tr>\n",
       "  </tbody>\n",
       "</table>\n",
       "</div>"
      ],
      "text/plain": [
       "     rub_per_gb\n",
       "150           1\n",
       "200           1"
      ]
     },
     "metadata": {},
     "output_type": "display_data"
    },
    {
     "name": "stdout",
     "output_type": "stream",
     "text": [
      "Описательная статистика колонки rub_per_gb:\n"
     ]
    },
    {
     "data": {
      "text/plain": [
       "count     2.0000\n",
       "mean    175.0000\n",
       "std      35.3553\n",
       "min     150.0000\n",
       "25%     162.5000\n",
       "50%     175.0000\n",
       "75%     187.5000\n",
       "max     200.0000\n",
       "Name: rub_per_gb, dtype: float64"
      ]
     },
     "metadata": {},
     "output_type": "display_data"
    },
    {
     "name": "stdout",
     "output_type": "stream",
     "text": [
      "Количество пропущенных значений в rub_per_gb:  0\n",
      "Процент пропущенных значений в rub_per_gb:  0 %\n",
      "\n",
      "--------------------------------------------------------\n",
      "\n",
      "Количество уникальных значений в колонке rub_per_message:\n"
     ]
    },
    {
     "data": {
      "text/html": [
       "<div>\n",
       "<style scoped>\n",
       "    .dataframe tbody tr th:only-of-type {\n",
       "        vertical-align: middle;\n",
       "    }\n",
       "\n",
       "    .dataframe tbody tr th {\n",
       "        vertical-align: top;\n",
       "    }\n",
       "\n",
       "    .dataframe thead th {\n",
       "        text-align: right;\n",
       "    }\n",
       "</style>\n",
       "<table border=\"1\" class=\"dataframe\">\n",
       "  <thead>\n",
       "    <tr style=\"text-align: right;\">\n",
       "      <th></th>\n",
       "      <th>rub_per_message</th>\n",
       "    </tr>\n",
       "  </thead>\n",
       "  <tbody>\n",
       "    <tr>\n",
       "      <td>3</td>\n",
       "      <td>1</td>\n",
       "    </tr>\n",
       "    <tr>\n",
       "      <td>1</td>\n",
       "      <td>1</td>\n",
       "    </tr>\n",
       "  </tbody>\n",
       "</table>\n",
       "</div>"
      ],
      "text/plain": [
       "   rub_per_message\n",
       "3                1\n",
       "1                1"
      ]
     },
     "metadata": {},
     "output_type": "display_data"
    },
    {
     "name": "stdout",
     "output_type": "stream",
     "text": [
      "Описательная статистика колонки rub_per_message:\n"
     ]
    },
    {
     "data": {
      "text/plain": [
       "count   2.0000\n",
       "mean    2.0000\n",
       "std     1.4142\n",
       "min     1.0000\n",
       "25%     1.5000\n",
       "50%     2.0000\n",
       "75%     2.5000\n",
       "max     3.0000\n",
       "Name: rub_per_message, dtype: float64"
      ]
     },
     "metadata": {},
     "output_type": "display_data"
    },
    {
     "name": "stdout",
     "output_type": "stream",
     "text": [
      "Количество пропущенных значений в rub_per_message:  0\n",
      "Процент пропущенных значений в rub_per_message:  0 %\n",
      "\n",
      "--------------------------------------------------------\n",
      "\n",
      "Количество уникальных значений в колонке rub_per_minute:\n"
     ]
    },
    {
     "data": {
      "text/html": [
       "<div>\n",
       "<style scoped>\n",
       "    .dataframe tbody tr th:only-of-type {\n",
       "        vertical-align: middle;\n",
       "    }\n",
       "\n",
       "    .dataframe tbody tr th {\n",
       "        vertical-align: top;\n",
       "    }\n",
       "\n",
       "    .dataframe thead th {\n",
       "        text-align: right;\n",
       "    }\n",
       "</style>\n",
       "<table border=\"1\" class=\"dataframe\">\n",
       "  <thead>\n",
       "    <tr style=\"text-align: right;\">\n",
       "      <th></th>\n",
       "      <th>rub_per_minute</th>\n",
       "    </tr>\n",
       "  </thead>\n",
       "  <tbody>\n",
       "    <tr>\n",
       "      <td>3</td>\n",
       "      <td>1</td>\n",
       "    </tr>\n",
       "    <tr>\n",
       "      <td>1</td>\n",
       "      <td>1</td>\n",
       "    </tr>\n",
       "  </tbody>\n",
       "</table>\n",
       "</div>"
      ],
      "text/plain": [
       "   rub_per_minute\n",
       "3               1\n",
       "1               1"
      ]
     },
     "metadata": {},
     "output_type": "display_data"
    },
    {
     "name": "stdout",
     "output_type": "stream",
     "text": [
      "Описательная статистика колонки rub_per_minute:\n"
     ]
    },
    {
     "data": {
      "text/plain": [
       "count   2.0000\n",
       "mean    2.0000\n",
       "std     1.4142\n",
       "min     1.0000\n",
       "25%     1.5000\n",
       "50%     2.0000\n",
       "75%     2.5000\n",
       "max     3.0000\n",
       "Name: rub_per_minute, dtype: float64"
      ]
     },
     "metadata": {},
     "output_type": "display_data"
    },
    {
     "name": "stdout",
     "output_type": "stream",
     "text": [
      "Количество пропущенных значений в rub_per_minute:  0\n",
      "Процент пропущенных значений в rub_per_minute:  0 %\n",
      "\n",
      "--------------------------------------------------------\n",
      "\n",
      "Количество уникальных значений в колонке tariff_name:\n"
     ]
    },
    {
     "data": {
      "text/html": [
       "<div>\n",
       "<style scoped>\n",
       "    .dataframe tbody tr th:only-of-type {\n",
       "        vertical-align: middle;\n",
       "    }\n",
       "\n",
       "    .dataframe tbody tr th {\n",
       "        vertical-align: top;\n",
       "    }\n",
       "\n",
       "    .dataframe thead th {\n",
       "        text-align: right;\n",
       "    }\n",
       "</style>\n",
       "<table border=\"1\" class=\"dataframe\">\n",
       "  <thead>\n",
       "    <tr style=\"text-align: right;\">\n",
       "      <th></th>\n",
       "      <th>tariff_name</th>\n",
       "    </tr>\n",
       "  </thead>\n",
       "  <tbody>\n",
       "    <tr>\n",
       "      <td>smart</td>\n",
       "      <td>1</td>\n",
       "    </tr>\n",
       "    <tr>\n",
       "      <td>ultra</td>\n",
       "      <td>1</td>\n",
       "    </tr>\n",
       "  </tbody>\n",
       "</table>\n",
       "</div>"
      ],
      "text/plain": [
       "       tariff_name\n",
       "smart            1\n",
       "ultra            1"
      ]
     },
     "metadata": {},
     "output_type": "display_data"
    },
    {
     "name": "stdout",
     "output_type": "stream",
     "text": [
      "Описательная статистика колонки tariff_name:\n"
     ]
    },
    {
     "data": {
      "text/plain": [
       "count         2\n",
       "unique        2\n",
       "top       smart\n",
       "freq          1\n",
       "Name: tariff_name, dtype: object"
      ]
     },
     "metadata": {},
     "output_type": "display_data"
    },
    {
     "name": "stdout",
     "output_type": "stream",
     "text": [
      "Количество пропущенных значений в tariff_name:  0\n",
      "Процент пропущенных значений в tariff_name:  0 %\n",
      "\n",
      "--------------------------------------------------------\n",
      "\n"
     ]
    }
   ],
   "source": [
    "data_info(tariffs)"
   ]
  },
  {
   "cell_type": "markdown",
   "metadata": {},
   "source": [
    "_________________\n",
    "**Вывод:**  \n",
    "  \n",
    "в датафрейме tariffs:  \n",
    "8 колонок и 2 строки\n",
    "нет пропущенных значений,  \n",
    "неправильный тип данных не обнаружен  \n",
    "_________________"
   ]
  },
  {
   "cell_type": "markdown",
   "metadata": {},
   "source": [
    "**Таблица users (информация о пользователях):**  \n",
    "user_id — уникальный идентификатор пользователя  \n",
    "first_name — имя пользователя  \n",
    "last_name — фамилия пользователя  \n",
    "age — возраст пользователя (годы)  \n",
    "reg_date — дата подключения тарифа (день, месяц, год)  \n",
    "churn_date — дата прекращения пользования тарифом (если значение пропущено, то тариф ещё действовал на момент выгрузки данных)  \n",
    "city — город проживания пользователя  \n",
    "tarif — название тарифного плана  "
   ]
  },
  {
   "cell_type": "code",
   "execution_count": 37,
   "metadata": {},
   "outputs": [
    {
     "name": "stdout",
     "output_type": "stream",
     "text": [
      "\n",
      "*********************************************************\n",
      "\n",
      "<class 'pandas.core.frame.DataFrame'>\n",
      "RangeIndex: 500 entries, 0 to 499\n",
      "Data columns (total 8 columns):\n",
      "user_id       500 non-null int64\n",
      "age           500 non-null int64\n",
      "churn_date    38 non-null object\n",
      "city          500 non-null object\n",
      "first_name    500 non-null object\n",
      "last_name     500 non-null object\n",
      "reg_date      500 non-null object\n",
      "tariff        500 non-null object\n",
      "dtypes: int64(2), object(6)\n",
      "memory usage: 31.4+ KB\n",
      "\n"
     ]
    },
    {
     "data": {
      "text/html": [
       "<div>\n",
       "<style scoped>\n",
       "    .dataframe tbody tr th:only-of-type {\n",
       "        vertical-align: middle;\n",
       "    }\n",
       "\n",
       "    .dataframe tbody tr th {\n",
       "        vertical-align: top;\n",
       "    }\n",
       "\n",
       "    .dataframe thead th {\n",
       "        text-align: right;\n",
       "    }\n",
       "</style>\n",
       "<table border=\"1\" class=\"dataframe\">\n",
       "  <thead>\n",
       "    <tr style=\"text-align: right;\">\n",
       "      <th></th>\n",
       "      <th>user_id</th>\n",
       "      <th>age</th>\n",
       "      <th>churn_date</th>\n",
       "      <th>city</th>\n",
       "      <th>first_name</th>\n",
       "      <th>last_name</th>\n",
       "      <th>reg_date</th>\n",
       "      <th>tariff</th>\n",
       "    </tr>\n",
       "  </thead>\n",
       "  <tbody>\n",
       "    <tr>\n",
       "      <td>0</td>\n",
       "      <td>1000</td>\n",
       "      <td>52</td>\n",
       "      <td>NaN</td>\n",
       "      <td>Краснодар</td>\n",
       "      <td>Рафаил</td>\n",
       "      <td>Верещагин</td>\n",
       "      <td>2018-05-25</td>\n",
       "      <td>ultra</td>\n",
       "    </tr>\n",
       "    <tr>\n",
       "      <td>1</td>\n",
       "      <td>1001</td>\n",
       "      <td>41</td>\n",
       "      <td>NaN</td>\n",
       "      <td>Москва</td>\n",
       "      <td>Иван</td>\n",
       "      <td>Ежов</td>\n",
       "      <td>2018-11-01</td>\n",
       "      <td>smart</td>\n",
       "    </tr>\n",
       "    <tr>\n",
       "      <td>2</td>\n",
       "      <td>1002</td>\n",
       "      <td>59</td>\n",
       "      <td>NaN</td>\n",
       "      <td>Стерлитамак</td>\n",
       "      <td>Евгений</td>\n",
       "      <td>Абрамович</td>\n",
       "      <td>2018-06-17</td>\n",
       "      <td>smart</td>\n",
       "    </tr>\n",
       "    <tr>\n",
       "      <td>3</td>\n",
       "      <td>1003</td>\n",
       "      <td>23</td>\n",
       "      <td>NaN</td>\n",
       "      <td>Москва</td>\n",
       "      <td>Белла</td>\n",
       "      <td>Белякова</td>\n",
       "      <td>2018-08-17</td>\n",
       "      <td>ultra</td>\n",
       "    </tr>\n",
       "    <tr>\n",
       "      <td>4</td>\n",
       "      <td>1004</td>\n",
       "      <td>68</td>\n",
       "      <td>NaN</td>\n",
       "      <td>Новокузнецк</td>\n",
       "      <td>Татьяна</td>\n",
       "      <td>Авдеенко</td>\n",
       "      <td>2018-05-14</td>\n",
       "      <td>ultra</td>\n",
       "    </tr>\n",
       "  </tbody>\n",
       "</table>\n",
       "</div>"
      ],
      "text/plain": [
       "   user_id  age churn_date         city first_name  last_name    reg_date  \\\n",
       "0     1000   52        NaN    Краснодар     Рафаил  Верещагин  2018-05-25   \n",
       "1     1001   41        NaN       Москва       Иван       Ежов  2018-11-01   \n",
       "2     1002   59        NaN  Стерлитамак    Евгений  Абрамович  2018-06-17   \n",
       "3     1003   23        NaN       Москва      Белла   Белякова  2018-08-17   \n",
       "4     1004   68        NaN  Новокузнецк    Татьяна   Авдеенко  2018-05-14   \n",
       "\n",
       "  tariff  \n",
       "0  ultra  \n",
       "1  smart  \n",
       "2  smart  \n",
       "3  ultra  \n",
       "4  ultra  "
      ]
     },
     "metadata": {},
     "output_type": "display_data"
    },
    {
     "name": "stdout",
     "output_type": "stream",
     "text": [
      "\n"
     ]
    },
    {
     "data": {
      "text/html": [
       "<div>\n",
       "<style scoped>\n",
       "    .dataframe tbody tr th:only-of-type {\n",
       "        vertical-align: middle;\n",
       "    }\n",
       "\n",
       "    .dataframe tbody tr th {\n",
       "        vertical-align: top;\n",
       "    }\n",
       "\n",
       "    .dataframe thead th {\n",
       "        text-align: right;\n",
       "    }\n",
       "</style>\n",
       "<table border=\"1\" class=\"dataframe\">\n",
       "  <thead>\n",
       "    <tr style=\"text-align: right;\">\n",
       "      <th></th>\n",
       "      <th>user_id</th>\n",
       "      <th>age</th>\n",
       "      <th>churn_date</th>\n",
       "      <th>city</th>\n",
       "      <th>first_name</th>\n",
       "      <th>last_name</th>\n",
       "      <th>reg_date</th>\n",
       "      <th>tariff</th>\n",
       "    </tr>\n",
       "  </thead>\n",
       "  <tbody>\n",
       "    <tr>\n",
       "      <td>495</td>\n",
       "      <td>1495</td>\n",
       "      <td>65</td>\n",
       "      <td>NaN</td>\n",
       "      <td>Иркутск</td>\n",
       "      <td>Авксентий</td>\n",
       "      <td>Фокин</td>\n",
       "      <td>2018-08-28</td>\n",
       "      <td>ultra</td>\n",
       "    </tr>\n",
       "    <tr>\n",
       "      <td>496</td>\n",
       "      <td>1496</td>\n",
       "      <td>36</td>\n",
       "      <td>NaN</td>\n",
       "      <td>Вологда</td>\n",
       "      <td>Трифон</td>\n",
       "      <td>Блохин</td>\n",
       "      <td>2018-01-27</td>\n",
       "      <td>smart</td>\n",
       "    </tr>\n",
       "    <tr>\n",
       "      <td>497</td>\n",
       "      <td>1497</td>\n",
       "      <td>32</td>\n",
       "      <td>NaN</td>\n",
       "      <td>Челябинск</td>\n",
       "      <td>Каролина</td>\n",
       "      <td>Агеева</td>\n",
       "      <td>2018-10-09</td>\n",
       "      <td>smart</td>\n",
       "    </tr>\n",
       "    <tr>\n",
       "      <td>498</td>\n",
       "      <td>1498</td>\n",
       "      <td>68</td>\n",
       "      <td>2018-10-25</td>\n",
       "      <td>Владикавказ</td>\n",
       "      <td>Всеволод</td>\n",
       "      <td>Акимчин</td>\n",
       "      <td>2018-07-19</td>\n",
       "      <td>smart</td>\n",
       "    </tr>\n",
       "    <tr>\n",
       "      <td>499</td>\n",
       "      <td>1499</td>\n",
       "      <td>35</td>\n",
       "      <td>NaN</td>\n",
       "      <td>Пермь</td>\n",
       "      <td>Гектор</td>\n",
       "      <td>Корнилов</td>\n",
       "      <td>2018-09-27</td>\n",
       "      <td>smart</td>\n",
       "    </tr>\n",
       "  </tbody>\n",
       "</table>\n",
       "</div>"
      ],
      "text/plain": [
       "     user_id  age  churn_date         city first_name last_name    reg_date  \\\n",
       "495     1495   65         NaN      Иркутск  Авксентий     Фокин  2018-08-28   \n",
       "496     1496   36         NaN      Вологда     Трифон    Блохин  2018-01-27   \n",
       "497     1497   32         NaN    Челябинск   Каролина    Агеева  2018-10-09   \n",
       "498     1498   68  2018-10-25  Владикавказ   Всеволод   Акимчин  2018-07-19   \n",
       "499     1499   35         NaN        Пермь     Гектор  Корнилов  2018-09-27   \n",
       "\n",
       "    tariff  \n",
       "495  ultra  \n",
       "496  smart  \n",
       "497  smart  \n",
       "498  smart  \n",
       "499  smart  "
      ]
     },
     "metadata": {},
     "output_type": "display_data"
    },
    {
     "name": "stdout",
     "output_type": "stream",
     "text": [
      "Процент нулевых значений датафрейма в каждой колонке:\n",
      "\n",
      "\n",
      "Количество уникальных значений в колонке user_id:\n"
     ]
    },
    {
     "data": {
      "text/html": [
       "<div>\n",
       "<style scoped>\n",
       "    .dataframe tbody tr th:only-of-type {\n",
       "        vertical-align: middle;\n",
       "    }\n",
       "\n",
       "    .dataframe tbody tr th {\n",
       "        vertical-align: top;\n",
       "    }\n",
       "\n",
       "    .dataframe thead th {\n",
       "        text-align: right;\n",
       "    }\n",
       "</style>\n",
       "<table border=\"1\" class=\"dataframe\">\n",
       "  <thead>\n",
       "    <tr style=\"text-align: right;\">\n",
       "      <th></th>\n",
       "      <th>user_id</th>\n",
       "    </tr>\n",
       "  </thead>\n",
       "  <tbody>\n",
       "    <tr>\n",
       "      <td>1023</td>\n",
       "      <td>1</td>\n",
       "    </tr>\n",
       "    <tr>\n",
       "      <td>1194</td>\n",
       "      <td>1</td>\n",
       "    </tr>\n",
       "    <tr>\n",
       "      <td>1181</td>\n",
       "      <td>1</td>\n",
       "    </tr>\n",
       "    <tr>\n",
       "      <td>1182</td>\n",
       "      <td>1</td>\n",
       "    </tr>\n",
       "    <tr>\n",
       "      <td>1183</td>\n",
       "      <td>1</td>\n",
       "    </tr>\n",
       "    <tr>\n",
       "      <td>...</td>\n",
       "      <td>...</td>\n",
       "    </tr>\n",
       "    <tr>\n",
       "      <td>1362</td>\n",
       "      <td>1</td>\n",
       "    </tr>\n",
       "    <tr>\n",
       "      <td>1363</td>\n",
       "      <td>1</td>\n",
       "    </tr>\n",
       "    <tr>\n",
       "      <td>1364</td>\n",
       "      <td>1</td>\n",
       "    </tr>\n",
       "    <tr>\n",
       "      <td>1365</td>\n",
       "      <td>1</td>\n",
       "    </tr>\n",
       "    <tr>\n",
       "      <td>1024</td>\n",
       "      <td>1</td>\n",
       "    </tr>\n",
       "  </tbody>\n",
       "</table>\n",
       "<p>500 rows × 1 columns</p>\n",
       "</div>"
      ],
      "text/plain": [
       "      user_id\n",
       "1023        1\n",
       "1194        1\n",
       "1181        1\n",
       "1182        1\n",
       "1183        1\n",
       "...       ...\n",
       "1362        1\n",
       "1363        1\n",
       "1364        1\n",
       "1365        1\n",
       "1024        1\n",
       "\n",
       "[500 rows x 1 columns]"
      ]
     },
     "metadata": {},
     "output_type": "display_data"
    },
    {
     "name": "stdout",
     "output_type": "stream",
     "text": [
      "Описательная статистика колонки user_id:\n"
     ]
    },
    {
     "data": {
      "text/plain": [
       "count     500.0000\n",
       "mean    1,249.5000\n",
       "std       144.4818\n",
       "min     1,000.0000\n",
       "25%     1,124.7500\n",
       "50%     1,249.5000\n",
       "75%     1,374.2500\n",
       "max     1,499.0000\n",
       "Name: user_id, dtype: float64"
      ]
     },
     "metadata": {},
     "output_type": "display_data"
    },
    {
     "name": "stdout",
     "output_type": "stream",
     "text": [
      "Количество пропущенных значений в user_id:  0\n",
      "Процент пропущенных значений в user_id:  0 %\n",
      "\n",
      "--------------------------------------------------------\n",
      "\n",
      "Количество уникальных значений в колонке age:\n"
     ]
    },
    {
     "data": {
      "text/html": [
       "<div>\n",
       "<style scoped>\n",
       "    .dataframe tbody tr th:only-of-type {\n",
       "        vertical-align: middle;\n",
       "    }\n",
       "\n",
       "    .dataframe tbody tr th {\n",
       "        vertical-align: top;\n",
       "    }\n",
       "\n",
       "    .dataframe thead th {\n",
       "        text-align: right;\n",
       "    }\n",
       "</style>\n",
       "<table border=\"1\" class=\"dataframe\">\n",
       "  <thead>\n",
       "    <tr style=\"text-align: right;\">\n",
       "      <th></th>\n",
       "      <th>age</th>\n",
       "    </tr>\n",
       "  </thead>\n",
       "  <tbody>\n",
       "    <tr>\n",
       "      <td>53</td>\n",
       "      <td>14</td>\n",
       "    </tr>\n",
       "    <tr>\n",
       "      <td>42</td>\n",
       "      <td>14</td>\n",
       "    </tr>\n",
       "    <tr>\n",
       "      <td>63</td>\n",
       "      <td>13</td>\n",
       "    </tr>\n",
       "    <tr>\n",
       "      <td>71</td>\n",
       "      <td>13</td>\n",
       "    </tr>\n",
       "    <tr>\n",
       "      <td>64</td>\n",
       "      <td>13</td>\n",
       "    </tr>\n",
       "    <tr>\n",
       "      <td>73</td>\n",
       "      <td>12</td>\n",
       "    </tr>\n",
       "    <tr>\n",
       "      <td>21</td>\n",
       "      <td>12</td>\n",
       "    </tr>\n",
       "    <tr>\n",
       "      <td>40</td>\n",
       "      <td>12</td>\n",
       "    </tr>\n",
       "    <tr>\n",
       "      <td>39</td>\n",
       "      <td>11</td>\n",
       "    </tr>\n",
       "    <tr>\n",
       "      <td>47</td>\n",
       "      <td>11</td>\n",
       "    </tr>\n",
       "    <tr>\n",
       "      <td>29</td>\n",
       "      <td>11</td>\n",
       "    </tr>\n",
       "    <tr>\n",
       "      <td>26</td>\n",
       "      <td>11</td>\n",
       "    </tr>\n",
       "    <tr>\n",
       "      <td>37</td>\n",
       "      <td>11</td>\n",
       "    </tr>\n",
       "    <tr>\n",
       "      <td>41</td>\n",
       "      <td>10</td>\n",
       "    </tr>\n",
       "    <tr>\n",
       "      <td>36</td>\n",
       "      <td>10</td>\n",
       "    </tr>\n",
       "    <tr>\n",
       "      <td>58</td>\n",
       "      <td>10</td>\n",
       "    </tr>\n",
       "    <tr>\n",
       "      <td>45</td>\n",
       "      <td>10</td>\n",
       "    </tr>\n",
       "    <tr>\n",
       "      <td>70</td>\n",
       "      <td>10</td>\n",
       "    </tr>\n",
       "    <tr>\n",
       "      <td>52</td>\n",
       "      <td>10</td>\n",
       "    </tr>\n",
       "    <tr>\n",
       "      <td>51</td>\n",
       "      <td>9</td>\n",
       "    </tr>\n",
       "    <tr>\n",
       "      <td>27</td>\n",
       "      <td>9</td>\n",
       "    </tr>\n",
       "    <tr>\n",
       "      <td>48</td>\n",
       "      <td>9</td>\n",
       "    </tr>\n",
       "    <tr>\n",
       "      <td>50</td>\n",
       "      <td>9</td>\n",
       "    </tr>\n",
       "    <tr>\n",
       "      <td>28</td>\n",
       "      <td>9</td>\n",
       "    </tr>\n",
       "    <tr>\n",
       "      <td>30</td>\n",
       "      <td>9</td>\n",
       "    </tr>\n",
       "    <tr>\n",
       "      <td>24</td>\n",
       "      <td>9</td>\n",
       "    </tr>\n",
       "    <tr>\n",
       "      <td>20</td>\n",
       "      <td>9</td>\n",
       "    </tr>\n",
       "    <tr>\n",
       "      <td>19</td>\n",
       "      <td>9</td>\n",
       "    </tr>\n",
       "    <tr>\n",
       "      <td>56</td>\n",
       "      <td>9</td>\n",
       "    </tr>\n",
       "    <tr>\n",
       "      <td>23</td>\n",
       "      <td>9</td>\n",
       "    </tr>\n",
       "    <tr>\n",
       "      <td>68</td>\n",
       "      <td>9</td>\n",
       "    </tr>\n",
       "    <tr>\n",
       "      <td>66</td>\n",
       "      <td>9</td>\n",
       "    </tr>\n",
       "    <tr>\n",
       "      <td>65</td>\n",
       "      <td>9</td>\n",
       "    </tr>\n",
       "    <tr>\n",
       "      <td>69</td>\n",
       "      <td>8</td>\n",
       "    </tr>\n",
       "    <tr>\n",
       "      <td>62</td>\n",
       "      <td>8</td>\n",
       "    </tr>\n",
       "    <tr>\n",
       "      <td>60</td>\n",
       "      <td>8</td>\n",
       "    </tr>\n",
       "    <tr>\n",
       "      <td>44</td>\n",
       "      <td>8</td>\n",
       "    </tr>\n",
       "    <tr>\n",
       "      <td>55</td>\n",
       "      <td>8</td>\n",
       "    </tr>\n",
       "    <tr>\n",
       "      <td>25</td>\n",
       "      <td>7</td>\n",
       "    </tr>\n",
       "    <tr>\n",
       "      <td>43</td>\n",
       "      <td>7</td>\n",
       "    </tr>\n",
       "    <tr>\n",
       "      <td>67</td>\n",
       "      <td>7</td>\n",
       "    </tr>\n",
       "    <tr>\n",
       "      <td>35</td>\n",
       "      <td>7</td>\n",
       "    </tr>\n",
       "    <tr>\n",
       "      <td>74</td>\n",
       "      <td>7</td>\n",
       "    </tr>\n",
       "    <tr>\n",
       "      <td>32</td>\n",
       "      <td>7</td>\n",
       "    </tr>\n",
       "    <tr>\n",
       "      <td>31</td>\n",
       "      <td>7</td>\n",
       "    </tr>\n",
       "    <tr>\n",
       "      <td>46</td>\n",
       "      <td>7</td>\n",
       "    </tr>\n",
       "    <tr>\n",
       "      <td>75</td>\n",
       "      <td>6</td>\n",
       "    </tr>\n",
       "    <tr>\n",
       "      <td>54</td>\n",
       "      <td>6</td>\n",
       "    </tr>\n",
       "    <tr>\n",
       "      <td>59</td>\n",
       "      <td>6</td>\n",
       "    </tr>\n",
       "    <tr>\n",
       "      <td>18</td>\n",
       "      <td>6</td>\n",
       "    </tr>\n",
       "    <tr>\n",
       "      <td>33</td>\n",
       "      <td>5</td>\n",
       "    </tr>\n",
       "    <tr>\n",
       "      <td>34</td>\n",
       "      <td>5</td>\n",
       "    </tr>\n",
       "    <tr>\n",
       "      <td>38</td>\n",
       "      <td>5</td>\n",
       "    </tr>\n",
       "    <tr>\n",
       "      <td>22</td>\n",
       "      <td>5</td>\n",
       "    </tr>\n",
       "    <tr>\n",
       "      <td>72</td>\n",
       "      <td>5</td>\n",
       "    </tr>\n",
       "    <tr>\n",
       "      <td>49</td>\n",
       "      <td>4</td>\n",
       "    </tr>\n",
       "    <tr>\n",
       "      <td>57</td>\n",
       "      <td>4</td>\n",
       "    </tr>\n",
       "    <tr>\n",
       "      <td>61</td>\n",
       "      <td>3</td>\n",
       "    </tr>\n",
       "  </tbody>\n",
       "</table>\n",
       "</div>"
      ],
      "text/plain": [
       "    age\n",
       "53   14\n",
       "42   14\n",
       "63   13\n",
       "71   13\n",
       "64   13\n",
       "73   12\n",
       "21   12\n",
       "40   12\n",
       "39   11\n",
       "47   11\n",
       "29   11\n",
       "26   11\n",
       "37   11\n",
       "41   10\n",
       "36   10\n",
       "58   10\n",
       "45   10\n",
       "70   10\n",
       "52   10\n",
       "51    9\n",
       "27    9\n",
       "48    9\n",
       "50    9\n",
       "28    9\n",
       "30    9\n",
       "24    9\n",
       "20    9\n",
       "19    9\n",
       "56    9\n",
       "23    9\n",
       "68    9\n",
       "66    9\n",
       "65    9\n",
       "69    8\n",
       "62    8\n",
       "60    8\n",
       "44    8\n",
       "55    8\n",
       "25    7\n",
       "43    7\n",
       "67    7\n",
       "35    7\n",
       "74    7\n",
       "32    7\n",
       "31    7\n",
       "46    7\n",
       "75    6\n",
       "54    6\n",
       "59    6\n",
       "18    6\n",
       "33    5\n",
       "34    5\n",
       "38    5\n",
       "22    5\n",
       "72    5\n",
       "49    4\n",
       "57    4\n",
       "61    3"
      ]
     },
     "metadata": {},
     "output_type": "display_data"
    },
    {
     "name": "stdout",
     "output_type": "stream",
     "text": [
      "Описательная статистика колонки age:\n"
     ]
    },
    {
     "data": {
      "text/plain": [
       "count   500.0000\n",
       "mean     46.5880\n",
       "std      16.6676\n",
       "min      18.0000\n",
       "25%      32.0000\n",
       "50%      46.0000\n",
       "75%      62.0000\n",
       "max      75.0000\n",
       "Name: age, dtype: float64"
      ]
     },
     "metadata": {},
     "output_type": "display_data"
    },
    {
     "name": "stdout",
     "output_type": "stream",
     "text": [
      "Количество пропущенных значений в age:  0\n",
      "Процент пропущенных значений в age:  0 %\n",
      "\n",
      "--------------------------------------------------------\n",
      "\n",
      "Количество уникальных значений в колонке churn_date:\n"
     ]
    },
    {
     "data": {
      "text/html": [
       "<div>\n",
       "<style scoped>\n",
       "    .dataframe tbody tr th:only-of-type {\n",
       "        vertical-align: middle;\n",
       "    }\n",
       "\n",
       "    .dataframe tbody tr th {\n",
       "        vertical-align: top;\n",
       "    }\n",
       "\n",
       "    .dataframe thead th {\n",
       "        text-align: right;\n",
       "    }\n",
       "</style>\n",
       "<table border=\"1\" class=\"dataframe\">\n",
       "  <thead>\n",
       "    <tr style=\"text-align: right;\">\n",
       "      <th></th>\n",
       "      <th>churn_date</th>\n",
       "    </tr>\n",
       "  </thead>\n",
       "  <tbody>\n",
       "    <tr>\n",
       "      <td>2018-12-21</td>\n",
       "      <td>2</td>\n",
       "    </tr>\n",
       "    <tr>\n",
       "      <td>2018-10-03</td>\n",
       "      <td>2</td>\n",
       "    </tr>\n",
       "    <tr>\n",
       "      <td>2018-10-14</td>\n",
       "      <td>2</td>\n",
       "    </tr>\n",
       "    <tr>\n",
       "      <td>2018-12-03</td>\n",
       "      <td>2</td>\n",
       "    </tr>\n",
       "    <tr>\n",
       "      <td>2018-12-09</td>\n",
       "      <td>2</td>\n",
       "    </tr>\n",
       "    <tr>\n",
       "      <td>2018-12-30</td>\n",
       "      <td>1</td>\n",
       "    </tr>\n",
       "    <tr>\n",
       "      <td>2018-12-26</td>\n",
       "      <td>1</td>\n",
       "    </tr>\n",
       "    <tr>\n",
       "      <td>2018-11-16</td>\n",
       "      <td>1</td>\n",
       "    </tr>\n",
       "    <tr>\n",
       "      <td>2018-09-27</td>\n",
       "      <td>1</td>\n",
       "    </tr>\n",
       "    <tr>\n",
       "      <td>2018-11-22</td>\n",
       "      <td>1</td>\n",
       "    </tr>\n",
       "    <tr>\n",
       "      <td>2018-10-04</td>\n",
       "      <td>1</td>\n",
       "    </tr>\n",
       "    <tr>\n",
       "      <td>2018-11-30</td>\n",
       "      <td>1</td>\n",
       "    </tr>\n",
       "    <tr>\n",
       "      <td>2018-12-20</td>\n",
       "      <td>1</td>\n",
       "    </tr>\n",
       "    <tr>\n",
       "      <td>2018-08-31</td>\n",
       "      <td>1</td>\n",
       "    </tr>\n",
       "    <tr>\n",
       "      <td>2018-09-02</td>\n",
       "      <td>1</td>\n",
       "    </tr>\n",
       "    <tr>\n",
       "      <td>2018-11-07</td>\n",
       "      <td>1</td>\n",
       "    </tr>\n",
       "    <tr>\n",
       "      <td>2018-12-24</td>\n",
       "      <td>1</td>\n",
       "    </tr>\n",
       "    <tr>\n",
       "      <td>2018-08-17</td>\n",
       "      <td>1</td>\n",
       "    </tr>\n",
       "    <tr>\n",
       "      <td>2018-12-11</td>\n",
       "      <td>1</td>\n",
       "    </tr>\n",
       "    <tr>\n",
       "      <td>2018-12-18</td>\n",
       "      <td>1</td>\n",
       "    </tr>\n",
       "    <tr>\n",
       "      <td>2018-10-27</td>\n",
       "      <td>1</td>\n",
       "    </tr>\n",
       "    <tr>\n",
       "      <td>2018-12-14</td>\n",
       "      <td>1</td>\n",
       "    </tr>\n",
       "    <tr>\n",
       "      <td>2018-12-25</td>\n",
       "      <td>1</td>\n",
       "    </tr>\n",
       "    <tr>\n",
       "      <td>2018-11-26</td>\n",
       "      <td>1</td>\n",
       "    </tr>\n",
       "    <tr>\n",
       "      <td>2018-10-05</td>\n",
       "      <td>1</td>\n",
       "    </tr>\n",
       "    <tr>\n",
       "      <td>2018-11-13</td>\n",
       "      <td>1</td>\n",
       "    </tr>\n",
       "    <tr>\n",
       "      <td>2018-11-27</td>\n",
       "      <td>1</td>\n",
       "    </tr>\n",
       "    <tr>\n",
       "      <td>2018-10-28</td>\n",
       "      <td>1</td>\n",
       "    </tr>\n",
       "    <tr>\n",
       "      <td>2018-11-21</td>\n",
       "      <td>1</td>\n",
       "    </tr>\n",
       "    <tr>\n",
       "      <td>2018-10-25</td>\n",
       "      <td>1</td>\n",
       "    </tr>\n",
       "    <tr>\n",
       "      <td>2018-09-26</td>\n",
       "      <td>1</td>\n",
       "    </tr>\n",
       "    <tr>\n",
       "      <td>2018-12-23</td>\n",
       "      <td>1</td>\n",
       "    </tr>\n",
       "    <tr>\n",
       "      <td>2018-12-16</td>\n",
       "      <td>1</td>\n",
       "    </tr>\n",
       "  </tbody>\n",
       "</table>\n",
       "</div>"
      ],
      "text/plain": [
       "            churn_date\n",
       "2018-12-21           2\n",
       "2018-10-03           2\n",
       "2018-10-14           2\n",
       "2018-12-03           2\n",
       "2018-12-09           2\n",
       "2018-12-30           1\n",
       "2018-12-26           1\n",
       "2018-11-16           1\n",
       "2018-09-27           1\n",
       "2018-11-22           1\n",
       "2018-10-04           1\n",
       "2018-11-30           1\n",
       "2018-12-20           1\n",
       "2018-08-31           1\n",
       "2018-09-02           1\n",
       "2018-11-07           1\n",
       "2018-12-24           1\n",
       "2018-08-17           1\n",
       "2018-12-11           1\n",
       "2018-12-18           1\n",
       "2018-10-27           1\n",
       "2018-12-14           1\n",
       "2018-12-25           1\n",
       "2018-11-26           1\n",
       "2018-10-05           1\n",
       "2018-11-13           1\n",
       "2018-11-27           1\n",
       "2018-10-28           1\n",
       "2018-11-21           1\n",
       "2018-10-25           1\n",
       "2018-09-26           1\n",
       "2018-12-23           1\n",
       "2018-12-16           1"
      ]
     },
     "metadata": {},
     "output_type": "display_data"
    },
    {
     "name": "stdout",
     "output_type": "stream",
     "text": [
      "Описательная статистика колонки churn_date:\n"
     ]
    },
    {
     "data": {
      "text/plain": [
       "count             38\n",
       "unique            33\n",
       "top       2018-12-21\n",
       "freq               2\n",
       "Name: churn_date, dtype: object"
      ]
     },
     "metadata": {},
     "output_type": "display_data"
    },
    {
     "name": "stdout",
     "output_type": "stream",
     "text": [
      "Количество пропущенных значений в churn_date:  462\n",
      "Процент пропущенных значений в churn_date:  92 %\n",
      "\n",
      "--------------------------------------------------------\n",
      "\n",
      "Количество уникальных значений в колонке city:\n"
     ]
    },
    {
     "data": {
      "text/html": [
       "<div>\n",
       "<style scoped>\n",
       "    .dataframe tbody tr th:only-of-type {\n",
       "        vertical-align: middle;\n",
       "    }\n",
       "\n",
       "    .dataframe tbody tr th {\n",
       "        vertical-align: top;\n",
       "    }\n",
       "\n",
       "    .dataframe thead th {\n",
       "        text-align: right;\n",
       "    }\n",
       "</style>\n",
       "<table border=\"1\" class=\"dataframe\">\n",
       "  <thead>\n",
       "    <tr style=\"text-align: right;\">\n",
       "      <th></th>\n",
       "      <th>city</th>\n",
       "    </tr>\n",
       "  </thead>\n",
       "  <tbody>\n",
       "    <tr>\n",
       "      <td>Москва</td>\n",
       "      <td>99</td>\n",
       "    </tr>\n",
       "    <tr>\n",
       "      <td>Санкт-Петербург</td>\n",
       "      <td>39</td>\n",
       "    </tr>\n",
       "    <tr>\n",
       "      <td>Новосибирск</td>\n",
       "      <td>16</td>\n",
       "    </tr>\n",
       "    <tr>\n",
       "      <td>Казань</td>\n",
       "      <td>14</td>\n",
       "    </tr>\n",
       "    <tr>\n",
       "      <td>Омск</td>\n",
       "      <td>14</td>\n",
       "    </tr>\n",
       "    <tr>\n",
       "      <td>...</td>\n",
       "      <td>...</td>\n",
       "    </tr>\n",
       "    <tr>\n",
       "      <td>Химки</td>\n",
       "      <td>1</td>\n",
       "    </tr>\n",
       "    <tr>\n",
       "      <td>Архангельск</td>\n",
       "      <td>1</td>\n",
       "    </tr>\n",
       "    <tr>\n",
       "      <td>Подольск</td>\n",
       "      <td>1</td>\n",
       "    </tr>\n",
       "    <tr>\n",
       "      <td>Нижневартовск</td>\n",
       "      <td>1</td>\n",
       "    </tr>\n",
       "    <tr>\n",
       "      <td>Иваново</td>\n",
       "      <td>1</td>\n",
       "    </tr>\n",
       "  </tbody>\n",
       "</table>\n",
       "<p>76 rows × 1 columns</p>\n",
       "</div>"
      ],
      "text/plain": [
       "                 city\n",
       "Москва             99\n",
       "Санкт-Петербург    39\n",
       "Новосибирск        16\n",
       "Казань             14\n",
       "Омск               14\n",
       "...               ...\n",
       "Химки               1\n",
       "Архангельск         1\n",
       "Подольск            1\n",
       "Нижневартовск       1\n",
       "Иваново             1\n",
       "\n",
       "[76 rows x 1 columns]"
      ]
     },
     "metadata": {},
     "output_type": "display_data"
    },
    {
     "name": "stdout",
     "output_type": "stream",
     "text": [
      "Описательная статистика колонки city:\n"
     ]
    },
    {
     "data": {
      "text/plain": [
       "count        500\n",
       "unique        76\n",
       "top       Москва\n",
       "freq          99\n",
       "Name: city, dtype: object"
      ]
     },
     "metadata": {},
     "output_type": "display_data"
    },
    {
     "name": "stdout",
     "output_type": "stream",
     "text": [
      "Количество пропущенных значений в city:  0\n",
      "Процент пропущенных значений в city:  0 %\n",
      "\n",
      "--------------------------------------------------------\n",
      "\n",
      "Количество уникальных значений в колонке first_name:\n"
     ]
    },
    {
     "data": {
      "text/html": [
       "<div>\n",
       "<style scoped>\n",
       "    .dataframe tbody tr th:only-of-type {\n",
       "        vertical-align: middle;\n",
       "    }\n",
       "\n",
       "    .dataframe tbody tr th {\n",
       "        vertical-align: top;\n",
       "    }\n",
       "\n",
       "    .dataframe thead th {\n",
       "        text-align: right;\n",
       "    }\n",
       "</style>\n",
       "<table border=\"1\" class=\"dataframe\">\n",
       "  <thead>\n",
       "    <tr style=\"text-align: right;\">\n",
       "      <th></th>\n",
       "      <th>first_name</th>\n",
       "    </tr>\n",
       "  </thead>\n",
       "  <tbody>\n",
       "    <tr>\n",
       "      <td>Радим</td>\n",
       "      <td>6</td>\n",
       "    </tr>\n",
       "    <tr>\n",
       "      <td>Пётр</td>\n",
       "      <td>5</td>\n",
       "    </tr>\n",
       "    <tr>\n",
       "      <td>Леонид</td>\n",
       "      <td>5</td>\n",
       "    </tr>\n",
       "    <tr>\n",
       "      <td>Клавдия</td>\n",
       "      <td>4</td>\n",
       "    </tr>\n",
       "    <tr>\n",
       "      <td>Рубен</td>\n",
       "      <td>4</td>\n",
       "    </tr>\n",
       "    <tr>\n",
       "      <td>...</td>\n",
       "      <td>...</td>\n",
       "    </tr>\n",
       "    <tr>\n",
       "      <td>Анита</td>\n",
       "      <td>1</td>\n",
       "    </tr>\n",
       "    <tr>\n",
       "      <td>Элла</td>\n",
       "      <td>1</td>\n",
       "    </tr>\n",
       "    <tr>\n",
       "      <td>Гарри</td>\n",
       "      <td>1</td>\n",
       "    </tr>\n",
       "    <tr>\n",
       "      <td>Тимофей</td>\n",
       "      <td>1</td>\n",
       "    </tr>\n",
       "    <tr>\n",
       "      <td>Эльза</td>\n",
       "      <td>1</td>\n",
       "    </tr>\n",
       "  </tbody>\n",
       "</table>\n",
       "<p>246 rows × 1 columns</p>\n",
       "</div>"
      ],
      "text/plain": [
       "         first_name\n",
       "Радим             6\n",
       "Пётр              5\n",
       "Леонид            5\n",
       "Клавдия           4\n",
       "Рубен             4\n",
       "...             ...\n",
       "Анита             1\n",
       "Элла              1\n",
       "Гарри             1\n",
       "Тимофей           1\n",
       "Эльза             1\n",
       "\n",
       "[246 rows x 1 columns]"
      ]
     },
     "metadata": {},
     "output_type": "display_data"
    },
    {
     "name": "stdout",
     "output_type": "stream",
     "text": [
      "Описательная статистика колонки first_name:\n"
     ]
    },
    {
     "data": {
      "text/plain": [
       "count       500\n",
       "unique      246\n",
       "top       Радим\n",
       "freq          6\n",
       "Name: first_name, dtype: object"
      ]
     },
     "metadata": {},
     "output_type": "display_data"
    },
    {
     "name": "stdout",
     "output_type": "stream",
     "text": [
      "Количество пропущенных значений в first_name:  0\n",
      "Процент пропущенных значений в first_name:  0 %\n",
      "\n",
      "--------------------------------------------------------\n",
      "\n",
      "Количество уникальных значений в колонке last_name:\n"
     ]
    },
    {
     "data": {
      "text/html": [
       "<div>\n",
       "<style scoped>\n",
       "    .dataframe tbody tr th:only-of-type {\n",
       "        vertical-align: middle;\n",
       "    }\n",
       "\n",
       "    .dataframe tbody tr th {\n",
       "        vertical-align: top;\n",
       "    }\n",
       "\n",
       "    .dataframe thead th {\n",
       "        text-align: right;\n",
       "    }\n",
       "</style>\n",
       "<table border=\"1\" class=\"dataframe\">\n",
       "  <thead>\n",
       "    <tr style=\"text-align: right;\">\n",
       "      <th></th>\n",
       "      <th>last_name</th>\n",
       "    </tr>\n",
       "  </thead>\n",
       "  <tbody>\n",
       "    <tr>\n",
       "      <td>Андреенко</td>\n",
       "      <td>5</td>\n",
       "    </tr>\n",
       "    <tr>\n",
       "      <td>Аничкина</td>\n",
       "      <td>3</td>\n",
       "    </tr>\n",
       "    <tr>\n",
       "      <td>Анищенко</td>\n",
       "      <td>3</td>\n",
       "    </tr>\n",
       "    <tr>\n",
       "      <td>Абашкина</td>\n",
       "      <td>3</td>\n",
       "    </tr>\n",
       "    <tr>\n",
       "      <td>Алексеенко</td>\n",
       "      <td>3</td>\n",
       "    </tr>\n",
       "    <tr>\n",
       "      <td>...</td>\n",
       "      <td>...</td>\n",
       "    </tr>\n",
       "    <tr>\n",
       "      <td>Логинов</td>\n",
       "      <td>1</td>\n",
       "    </tr>\n",
       "    <tr>\n",
       "      <td>Алютин</td>\n",
       "      <td>1</td>\n",
       "    </tr>\n",
       "    <tr>\n",
       "      <td>Уваров</td>\n",
       "      <td>1</td>\n",
       "    </tr>\n",
       "    <tr>\n",
       "      <td>Худяков</td>\n",
       "      <td>1</td>\n",
       "    </tr>\n",
       "    <tr>\n",
       "      <td>Макаров</td>\n",
       "      <td>1</td>\n",
       "    </tr>\n",
       "  </tbody>\n",
       "</table>\n",
       "<p>419 rows × 1 columns</p>\n",
       "</div>"
      ],
      "text/plain": [
       "            last_name\n",
       "Андреенко           5\n",
       "Аничкина            3\n",
       "Анищенко            3\n",
       "Абашкина            3\n",
       "Алексеенко          3\n",
       "...               ...\n",
       "Логинов             1\n",
       "Алютин              1\n",
       "Уваров              1\n",
       "Худяков             1\n",
       "Макаров             1\n",
       "\n",
       "[419 rows x 1 columns]"
      ]
     },
     "metadata": {},
     "output_type": "display_data"
    },
    {
     "name": "stdout",
     "output_type": "stream",
     "text": [
      "Описательная статистика колонки last_name:\n"
     ]
    },
    {
     "data": {
      "text/plain": [
       "count           500\n",
       "unique          419\n",
       "top       Андреенко\n",
       "freq              5\n",
       "Name: last_name, dtype: object"
      ]
     },
     "metadata": {},
     "output_type": "display_data"
    },
    {
     "name": "stdout",
     "output_type": "stream",
     "text": [
      "Количество пропущенных значений в last_name:  0\n",
      "Процент пропущенных значений в last_name:  0 %\n",
      "\n",
      "--------------------------------------------------------\n",
      "\n",
      "Количество уникальных значений в колонке reg_date:\n"
     ]
    },
    {
     "data": {
      "text/html": [
       "<div>\n",
       "<style scoped>\n",
       "    .dataframe tbody tr th:only-of-type {\n",
       "        vertical-align: middle;\n",
       "    }\n",
       "\n",
       "    .dataframe tbody tr th {\n",
       "        vertical-align: top;\n",
       "    }\n",
       "\n",
       "    .dataframe thead th {\n",
       "        text-align: right;\n",
       "    }\n",
       "</style>\n",
       "<table border=\"1\" class=\"dataframe\">\n",
       "  <thead>\n",
       "    <tr style=\"text-align: right;\">\n",
       "      <th></th>\n",
       "      <th>reg_date</th>\n",
       "    </tr>\n",
       "  </thead>\n",
       "  <tbody>\n",
       "    <tr>\n",
       "      <td>2018-05-28</td>\n",
       "      <td>8</td>\n",
       "    </tr>\n",
       "    <tr>\n",
       "      <td>2018-07-16</td>\n",
       "      <td>5</td>\n",
       "    </tr>\n",
       "    <tr>\n",
       "      <td>2018-04-03</td>\n",
       "      <td>5</td>\n",
       "    </tr>\n",
       "    <tr>\n",
       "      <td>2018-01-04</td>\n",
       "      <td>5</td>\n",
       "    </tr>\n",
       "    <tr>\n",
       "      <td>2018-10-05</td>\n",
       "      <td>5</td>\n",
       "    </tr>\n",
       "    <tr>\n",
       "      <td>...</td>\n",
       "      <td>...</td>\n",
       "    </tr>\n",
       "    <tr>\n",
       "      <td>2018-11-11</td>\n",
       "      <td>1</td>\n",
       "    </tr>\n",
       "    <tr>\n",
       "      <td>2018-11-25</td>\n",
       "      <td>1</td>\n",
       "    </tr>\n",
       "    <tr>\n",
       "      <td>2018-11-12</td>\n",
       "      <td>1</td>\n",
       "    </tr>\n",
       "    <tr>\n",
       "      <td>2018-03-19</td>\n",
       "      <td>1</td>\n",
       "    </tr>\n",
       "    <tr>\n",
       "      <td>2018-12-17</td>\n",
       "      <td>1</td>\n",
       "    </tr>\n",
       "  </tbody>\n",
       "</table>\n",
       "<p>270 rows × 1 columns</p>\n",
       "</div>"
      ],
      "text/plain": [
       "            reg_date\n",
       "2018-05-28         8\n",
       "2018-07-16         5\n",
       "2018-04-03         5\n",
       "2018-01-04         5\n",
       "2018-10-05         5\n",
       "...              ...\n",
       "2018-11-11         1\n",
       "2018-11-25         1\n",
       "2018-11-12         1\n",
       "2018-03-19         1\n",
       "2018-12-17         1\n",
       "\n",
       "[270 rows x 1 columns]"
      ]
     },
     "metadata": {},
     "output_type": "display_data"
    },
    {
     "name": "stdout",
     "output_type": "stream",
     "text": [
      "Описательная статистика колонки reg_date:\n"
     ]
    },
    {
     "data": {
      "text/plain": [
       "count            500\n",
       "unique           270\n",
       "top       2018-05-28\n",
       "freq               8\n",
       "Name: reg_date, dtype: object"
      ]
     },
     "metadata": {},
     "output_type": "display_data"
    },
    {
     "name": "stdout",
     "output_type": "stream",
     "text": [
      "Количество пропущенных значений в reg_date:  0\n",
      "Процент пропущенных значений в reg_date:  0 %\n",
      "\n",
      "--------------------------------------------------------\n",
      "\n",
      "Количество уникальных значений в колонке tariff:\n"
     ]
    },
    {
     "data": {
      "text/html": [
       "<div>\n",
       "<style scoped>\n",
       "    .dataframe tbody tr th:only-of-type {\n",
       "        vertical-align: middle;\n",
       "    }\n",
       "\n",
       "    .dataframe tbody tr th {\n",
       "        vertical-align: top;\n",
       "    }\n",
       "\n",
       "    .dataframe thead th {\n",
       "        text-align: right;\n",
       "    }\n",
       "</style>\n",
       "<table border=\"1\" class=\"dataframe\">\n",
       "  <thead>\n",
       "    <tr style=\"text-align: right;\">\n",
       "      <th></th>\n",
       "      <th>tariff</th>\n",
       "    </tr>\n",
       "  </thead>\n",
       "  <tbody>\n",
       "    <tr>\n",
       "      <td>smart</td>\n",
       "      <td>351</td>\n",
       "    </tr>\n",
       "    <tr>\n",
       "      <td>ultra</td>\n",
       "      <td>149</td>\n",
       "    </tr>\n",
       "  </tbody>\n",
       "</table>\n",
       "</div>"
      ],
      "text/plain": [
       "       tariff\n",
       "smart     351\n",
       "ultra     149"
      ]
     },
     "metadata": {},
     "output_type": "display_data"
    },
    {
     "name": "stdout",
     "output_type": "stream",
     "text": [
      "Описательная статистика колонки tariff:\n"
     ]
    },
    {
     "data": {
      "text/plain": [
       "count       500\n",
       "unique        2\n",
       "top       smart\n",
       "freq        351\n",
       "Name: tariff, dtype: object"
      ]
     },
     "metadata": {},
     "output_type": "display_data"
    },
    {
     "name": "stdout",
     "output_type": "stream",
     "text": [
      "Количество пропущенных значений в tariff:  0\n",
      "Процент пропущенных значений в tariff:  0 %\n",
      "\n",
      "--------------------------------------------------------\n",
      "\n"
     ]
    }
   ],
   "source": [
    "data_info(users)"
   ]
  },
  {
   "cell_type": "markdown",
   "metadata": {},
   "source": [
    "_________________\n",
    "**Вывод:**  \n",
    "  \n",
    "в датафрейме users:  \n",
    "8 колонок,  \n",
    "пропущенные значения есть в колонке churn_date и означают, что тариф ещё используется,  \n",
    "500 уникальных значений для user_id  \n",
    "неправильный тип данных в reg_date и churn_date вместо object, нужен datetime64  \n",
    "_________________"
   ]
  },
  {
   "cell_type": "markdown",
   "metadata": {},
   "source": [
    "## Общий вывод по пункту  \n",
    "  \n",
    "В таблицах нет пропущенных (кроме одного столбца churn_date).  \n",
    "Необходимо изменение типов данных с object на datetime64.  \n",
    "Лишний столбец Unnamed: 0 в таблице internet "
   ]
  },
  {
   "cell_type": "markdown",
   "metadata": {},
   "source": [
    "<div class=\"alert alert-block alert-success\">\n",
    " \n",
    "### Комментарий ревьюера\n",
    "    \n",
    "#### Успех\n",
    "    \n",
    "Молодецю Здесь очень подробный пункт по знакомству с данными. Ты разбираешь кажду таблицу отдельно. Здорово, что формируешь выводы и хороший задел на следующие проекты.\n",
    "</div>"
   ]
  },
  {
   "cell_type": "markdown",
   "metadata": {},
   "source": [
    "# Предобработка"
   ]
  },
  {
   "cell_type": "markdown",
   "metadata": {},
   "source": [
    "## Замена типа данных"
   ]
  },
  {
   "cell_type": "code",
   "execution_count": 38,
   "metadata": {},
   "outputs": [
    {
     "data": {
      "text/html": [
       "<div>\n",
       "<style scoped>\n",
       "    .dataframe tbody tr th:only-of-type {\n",
       "        vertical-align: middle;\n",
       "    }\n",
       "\n",
       "    .dataframe tbody tr th {\n",
       "        vertical-align: top;\n",
       "    }\n",
       "\n",
       "    .dataframe thead th {\n",
       "        text-align: right;\n",
       "    }\n",
       "</style>\n",
       "<table border=\"1\" class=\"dataframe\">\n",
       "  <thead>\n",
       "    <tr style=\"text-align: right;\">\n",
       "      <th></th>\n",
       "      <th>id</th>\n",
       "      <th>call_date</th>\n",
       "      <th>duration</th>\n",
       "      <th>user_id</th>\n",
       "      <th>month</th>\n",
       "    </tr>\n",
       "  </thead>\n",
       "  <tbody>\n",
       "    <tr>\n",
       "      <td>0</td>\n",
       "      <td>1000_0</td>\n",
       "      <td>2018-07-25</td>\n",
       "      <td>0.0000</td>\n",
       "      <td>1000</td>\n",
       "      <td>7</td>\n",
       "    </tr>\n",
       "    <tr>\n",
       "      <td>1</td>\n",
       "      <td>1000_1</td>\n",
       "      <td>2018-08-17</td>\n",
       "      <td>0.0000</td>\n",
       "      <td>1000</td>\n",
       "      <td>8</td>\n",
       "    </tr>\n",
       "    <tr>\n",
       "      <td>2</td>\n",
       "      <td>1000_2</td>\n",
       "      <td>2018-06-11</td>\n",
       "      <td>2.8500</td>\n",
       "      <td>1000</td>\n",
       "      <td>6</td>\n",
       "    </tr>\n",
       "    <tr>\n",
       "      <td>3</td>\n",
       "      <td>1000_3</td>\n",
       "      <td>2018-09-21</td>\n",
       "      <td>13.8000</td>\n",
       "      <td>1000</td>\n",
       "      <td>9</td>\n",
       "    </tr>\n",
       "    <tr>\n",
       "      <td>4</td>\n",
       "      <td>1000_4</td>\n",
       "      <td>2018-12-15</td>\n",
       "      <td>5.1800</td>\n",
       "      <td>1000</td>\n",
       "      <td>12</td>\n",
       "    </tr>\n",
       "  </tbody>\n",
       "</table>\n",
       "</div>"
      ],
      "text/plain": [
       "       id  call_date  duration  user_id  month\n",
       "0  1000_0 2018-07-25    0.0000     1000      7\n",
       "1  1000_1 2018-08-17    0.0000     1000      8\n",
       "2  1000_2 2018-06-11    2.8500     1000      6\n",
       "3  1000_3 2018-09-21   13.8000     1000      9\n",
       "4  1000_4 2018-12-15    5.1800     1000     12"
      ]
     },
     "metadata": {},
     "output_type": "display_data"
    },
    {
     "name": "stdout",
     "output_type": "stream",
     "text": [
      "<class 'pandas.core.frame.DataFrame'>\n",
      "RangeIndex: 202607 entries, 0 to 202606\n",
      "Data columns (total 5 columns):\n",
      "id           202607 non-null object\n",
      "call_date    202607 non-null datetime64[ns]\n",
      "duration     202607 non-null float64\n",
      "user_id      202607 non-null int64\n",
      "month        202607 non-null int64\n",
      "dtypes: datetime64[ns](1), float64(1), int64(2), object(1)\n",
      "memory usage: 7.7+ MB\n"
     ]
    },
    {
     "data": {
      "text/html": [
       "<div>\n",
       "<style scoped>\n",
       "    .dataframe tbody tr th:only-of-type {\n",
       "        vertical-align: middle;\n",
       "    }\n",
       "\n",
       "    .dataframe tbody tr th {\n",
       "        vertical-align: top;\n",
       "    }\n",
       "\n",
       "    .dataframe thead th {\n",
       "        text-align: right;\n",
       "    }\n",
       "</style>\n",
       "<table border=\"1\" class=\"dataframe\">\n",
       "  <thead>\n",
       "    <tr style=\"text-align: right;\">\n",
       "      <th></th>\n",
       "      <th>Unnamed: 0</th>\n",
       "      <th>id</th>\n",
       "      <th>mb_used</th>\n",
       "      <th>session_date</th>\n",
       "      <th>user_id</th>\n",
       "      <th>month</th>\n",
       "    </tr>\n",
       "  </thead>\n",
       "  <tbody>\n",
       "    <tr>\n",
       "      <td>0</td>\n",
       "      <td>0</td>\n",
       "      <td>1000_0</td>\n",
       "      <td>112.9500</td>\n",
       "      <td>2018-11-25</td>\n",
       "      <td>1000</td>\n",
       "      <td>11</td>\n",
       "    </tr>\n",
       "    <tr>\n",
       "      <td>1</td>\n",
       "      <td>1</td>\n",
       "      <td>1000_1</td>\n",
       "      <td>1,052.8100</td>\n",
       "      <td>2018-09-07</td>\n",
       "      <td>1000</td>\n",
       "      <td>9</td>\n",
       "    </tr>\n",
       "    <tr>\n",
       "      <td>2</td>\n",
       "      <td>2</td>\n",
       "      <td>1000_2</td>\n",
       "      <td>1,197.2600</td>\n",
       "      <td>2018-06-25</td>\n",
       "      <td>1000</td>\n",
       "      <td>6</td>\n",
       "    </tr>\n",
       "    <tr>\n",
       "      <td>3</td>\n",
       "      <td>3</td>\n",
       "      <td>1000_3</td>\n",
       "      <td>550.2700</td>\n",
       "      <td>2018-08-22</td>\n",
       "      <td>1000</td>\n",
       "      <td>8</td>\n",
       "    </tr>\n",
       "    <tr>\n",
       "      <td>4</td>\n",
       "      <td>4</td>\n",
       "      <td>1000_4</td>\n",
       "      <td>302.5600</td>\n",
       "      <td>2018-09-24</td>\n",
       "      <td>1000</td>\n",
       "      <td>9</td>\n",
       "    </tr>\n",
       "  </tbody>\n",
       "</table>\n",
       "</div>"
      ],
      "text/plain": [
       "   Unnamed: 0      id    mb_used session_date  user_id  month\n",
       "0           0  1000_0   112.9500   2018-11-25     1000     11\n",
       "1           1  1000_1 1,052.8100   2018-09-07     1000      9\n",
       "2           2  1000_2 1,197.2600   2018-06-25     1000      6\n",
       "3           3  1000_3   550.2700   2018-08-22     1000      8\n",
       "4           4  1000_4   302.5600   2018-09-24     1000      9"
      ]
     },
     "metadata": {},
     "output_type": "display_data"
    },
    {
     "name": "stdout",
     "output_type": "stream",
     "text": [
      "<class 'pandas.core.frame.DataFrame'>\n",
      "RangeIndex: 149396 entries, 0 to 149395\n",
      "Data columns (total 6 columns):\n",
      "Unnamed: 0      149396 non-null int64\n",
      "id              149396 non-null object\n",
      "mb_used         149396 non-null float64\n",
      "session_date    149396 non-null datetime64[ns]\n",
      "user_id         149396 non-null int64\n",
      "month           149396 non-null int64\n",
      "dtypes: datetime64[ns](1), float64(1), int64(3), object(1)\n",
      "memory usage: 6.8+ MB\n"
     ]
    },
    {
     "data": {
      "text/html": [
       "<div>\n",
       "<style scoped>\n",
       "    .dataframe tbody tr th:only-of-type {\n",
       "        vertical-align: middle;\n",
       "    }\n",
       "\n",
       "    .dataframe tbody tr th {\n",
       "        vertical-align: top;\n",
       "    }\n",
       "\n",
       "    .dataframe thead th {\n",
       "        text-align: right;\n",
       "    }\n",
       "</style>\n",
       "<table border=\"1\" class=\"dataframe\">\n",
       "  <thead>\n",
       "    <tr style=\"text-align: right;\">\n",
       "      <th></th>\n",
       "      <th>id</th>\n",
       "      <th>message_date</th>\n",
       "      <th>user_id</th>\n",
       "      <th>month</th>\n",
       "    </tr>\n",
       "  </thead>\n",
       "  <tbody>\n",
       "    <tr>\n",
       "      <td>0</td>\n",
       "      <td>1000_0</td>\n",
       "      <td>2018-06-27</td>\n",
       "      <td>1000</td>\n",
       "      <td>6</td>\n",
       "    </tr>\n",
       "    <tr>\n",
       "      <td>1</td>\n",
       "      <td>1000_1</td>\n",
       "      <td>2018-10-08</td>\n",
       "      <td>1000</td>\n",
       "      <td>10</td>\n",
       "    </tr>\n",
       "    <tr>\n",
       "      <td>2</td>\n",
       "      <td>1000_2</td>\n",
       "      <td>2018-08-04</td>\n",
       "      <td>1000</td>\n",
       "      <td>8</td>\n",
       "    </tr>\n",
       "    <tr>\n",
       "      <td>3</td>\n",
       "      <td>1000_3</td>\n",
       "      <td>2018-06-16</td>\n",
       "      <td>1000</td>\n",
       "      <td>6</td>\n",
       "    </tr>\n",
       "    <tr>\n",
       "      <td>4</td>\n",
       "      <td>1000_4</td>\n",
       "      <td>2018-12-05</td>\n",
       "      <td>1000</td>\n",
       "      <td>12</td>\n",
       "    </tr>\n",
       "  </tbody>\n",
       "</table>\n",
       "</div>"
      ],
      "text/plain": [
       "       id message_date  user_id  month\n",
       "0  1000_0   2018-06-27     1000      6\n",
       "1  1000_1   2018-10-08     1000     10\n",
       "2  1000_2   2018-08-04     1000      8\n",
       "3  1000_3   2018-06-16     1000      6\n",
       "4  1000_4   2018-12-05     1000     12"
      ]
     },
     "metadata": {},
     "output_type": "display_data"
    },
    {
     "name": "stdout",
     "output_type": "stream",
     "text": [
      "<class 'pandas.core.frame.DataFrame'>\n",
      "RangeIndex: 123036 entries, 0 to 123035\n",
      "Data columns (total 4 columns):\n",
      "id              123036 non-null object\n",
      "message_date    123036 non-null datetime64[ns]\n",
      "user_id         123036 non-null int64\n",
      "month           123036 non-null int64\n",
      "dtypes: datetime64[ns](1), int64(2), object(1)\n",
      "memory usage: 3.8+ MB\n"
     ]
    }
   ],
   "source": [
    "for frame in [calls, internet, messages]: # все нужные фреймы\n",
    "    for col in [x for x in frame.columns if 'date' in x]: # все колонки с date\n",
    "        frame['month'] = pd.to_datetime(frame[col]).dt.month # добавляем столбец месяца\n",
    "        frame[col] = pd.to_datetime(frame[col], format='%Y-%m-%d') # приводим к нужному типу данных\n",
    "        \n",
    "        continue # обрабатываем только одну date-колонку в фрейме\n",
    "    display(frame.head())\n",
    "    frame.info()    "
   ]
  },
  {
   "cell_type": "markdown",
   "metadata": {},
   "source": [
    "<div class=\"alert alert-block alert-success\">\n",
    " \n",
    "### Комментарий ревьюера\n",
    "    \n",
    "#### Успех\n",
    "    \n",
    "И здесь не могу не отметить то, что ты здорово автоматизировала перевод столбца к удобному формату.\n",
    "</div>"
   ]
  },
  {
   "cell_type": "markdown",
   "metadata": {},
   "source": [
    "## Изменение названия столбца в таблице tariffs"
   ]
  },
  {
   "cell_type": "markdown",
   "metadata": {},
   "source": [
    "В таблице tariffs есть столбец с наименованием тарифного плана, однако его название не соответствует другим таблицам. Исправим это."
   ]
  },
  {
   "cell_type": "code",
   "execution_count": 39,
   "metadata": {},
   "outputs": [
    {
     "data": {
      "text/html": [
       "<div>\n",
       "<style scoped>\n",
       "    .dataframe tbody tr th:only-of-type {\n",
       "        vertical-align: middle;\n",
       "    }\n",
       "\n",
       "    .dataframe tbody tr th {\n",
       "        vertical-align: top;\n",
       "    }\n",
       "\n",
       "    .dataframe thead th {\n",
       "        text-align: right;\n",
       "    }\n",
       "</style>\n",
       "<table border=\"1\" class=\"dataframe\">\n",
       "  <thead>\n",
       "    <tr style=\"text-align: right;\">\n",
       "      <th></th>\n",
       "      <th>messages_included</th>\n",
       "      <th>mb_per_month_included</th>\n",
       "      <th>minutes_included</th>\n",
       "      <th>rub_monthly_fee</th>\n",
       "      <th>rub_per_gb</th>\n",
       "      <th>rub_per_message</th>\n",
       "      <th>rub_per_minute</th>\n",
       "      <th>tariff</th>\n",
       "    </tr>\n",
       "  </thead>\n",
       "  <tbody>\n",
       "    <tr>\n",
       "      <td>0</td>\n",
       "      <td>50</td>\n",
       "      <td>15360</td>\n",
       "      <td>500</td>\n",
       "      <td>550</td>\n",
       "      <td>200</td>\n",
       "      <td>3</td>\n",
       "      <td>3</td>\n",
       "      <td>smart</td>\n",
       "    </tr>\n",
       "    <tr>\n",
       "      <td>1</td>\n",
       "      <td>1000</td>\n",
       "      <td>30720</td>\n",
       "      <td>3000</td>\n",
       "      <td>1950</td>\n",
       "      <td>150</td>\n",
       "      <td>1</td>\n",
       "      <td>1</td>\n",
       "      <td>ultra</td>\n",
       "    </tr>\n",
       "  </tbody>\n",
       "</table>\n",
       "</div>"
      ],
      "text/plain": [
       "   messages_included  mb_per_month_included  minutes_included  \\\n",
       "0                 50                  15360               500   \n",
       "1               1000                  30720              3000   \n",
       "\n",
       "   rub_monthly_fee  rub_per_gb  rub_per_message  rub_per_minute tariff  \n",
       "0              550         200                3               3  smart  \n",
       "1             1950         150                1               1  ultra  "
      ]
     },
     "execution_count": 39,
     "metadata": {},
     "output_type": "execute_result"
    }
   ],
   "source": [
    "tariffs = tariffs.rename(columns={'tariff_name': 'tariff'})\n",
    "tariffs"
   ]
  },
  {
   "cell_type": "markdown",
   "metadata": {},
   "source": [
    "<div class=\"alert alert-block alert-success\">\n",
    " \n",
    "### Комментарий ревьюера\n",
    "    \n",
    "#### Успех\n",
    "    \n",
    "Действительно, так нам проще будет объединить.\n",
    "</div>"
   ]
  },
  {
   "cell_type": "markdown",
   "metadata": {},
   "source": [
    "## Удаление столбца Unnamed: 0 в таблице internet"
   ]
  },
  {
   "cell_type": "code",
   "execution_count": 40,
   "metadata": {},
   "outputs": [
    {
     "data": {
      "text/html": [
       "<div>\n",
       "<style scoped>\n",
       "    .dataframe tbody tr th:only-of-type {\n",
       "        vertical-align: middle;\n",
       "    }\n",
       "\n",
       "    .dataframe tbody tr th {\n",
       "        vertical-align: top;\n",
       "    }\n",
       "\n",
       "    .dataframe thead th {\n",
       "        text-align: right;\n",
       "    }\n",
       "</style>\n",
       "<table border=\"1\" class=\"dataframe\">\n",
       "  <thead>\n",
       "    <tr style=\"text-align: right;\">\n",
       "      <th></th>\n",
       "      <th>id</th>\n",
       "      <th>mb_used</th>\n",
       "      <th>session_date</th>\n",
       "      <th>user_id</th>\n",
       "      <th>month</th>\n",
       "    </tr>\n",
       "  </thead>\n",
       "  <tbody>\n",
       "    <tr>\n",
       "      <td>0</td>\n",
       "      <td>1000_0</td>\n",
       "      <td>112.9500</td>\n",
       "      <td>2018-11-25</td>\n",
       "      <td>1000</td>\n",
       "      <td>11</td>\n",
       "    </tr>\n",
       "    <tr>\n",
       "      <td>1</td>\n",
       "      <td>1000_1</td>\n",
       "      <td>1,052.8100</td>\n",
       "      <td>2018-09-07</td>\n",
       "      <td>1000</td>\n",
       "      <td>9</td>\n",
       "    </tr>\n",
       "    <tr>\n",
       "      <td>2</td>\n",
       "      <td>1000_2</td>\n",
       "      <td>1,197.2600</td>\n",
       "      <td>2018-06-25</td>\n",
       "      <td>1000</td>\n",
       "      <td>6</td>\n",
       "    </tr>\n",
       "    <tr>\n",
       "      <td>3</td>\n",
       "      <td>1000_3</td>\n",
       "      <td>550.2700</td>\n",
       "      <td>2018-08-22</td>\n",
       "      <td>1000</td>\n",
       "      <td>8</td>\n",
       "    </tr>\n",
       "    <tr>\n",
       "      <td>4</td>\n",
       "      <td>1000_4</td>\n",
       "      <td>302.5600</td>\n",
       "      <td>2018-09-24</td>\n",
       "      <td>1000</td>\n",
       "      <td>9</td>\n",
       "    </tr>\n",
       "  </tbody>\n",
       "</table>\n",
       "</div>"
      ],
      "text/plain": [
       "       id    mb_used session_date  user_id  month\n",
       "0  1000_0   112.9500   2018-11-25     1000     11\n",
       "1  1000_1 1,052.8100   2018-09-07     1000      9\n",
       "2  1000_2 1,197.2600   2018-06-25     1000      6\n",
       "3  1000_3   550.2700   2018-08-22     1000      8\n",
       "4  1000_4   302.5600   2018-09-24     1000      9"
      ]
     },
     "metadata": {},
     "output_type": "display_data"
    }
   ],
   "source": [
    "internet = internet.drop(columns='Unnamed: 0')\n",
    "display(internet.head())"
   ]
  },
  {
   "cell_type": "markdown",
   "metadata": {},
   "source": [
    "<div class=\"alert alert-block alert-warning\">\n",
    "    \n",
    "### Комментарии от ревьюера:\n",
    "    \n",
    "#### Совет\n",
    "\n",
    "Поскольку в задании сказано найти возможные ошибки в данных, я хочу, чтобы ты посмотрела на столбец internet['mb_used']. \n",
    "    \n",
    "Как ты думаешь, откуда здесь такое больше число нулей? почему оно могло появиться? \n",
    "\n",
    "</div>"
   ]
  },
  {
   "cell_type": "markdown",
   "metadata": {},
   "source": [
    "<div class=\"alert alert-info\"> <b>Комментарий студента:</b>   \n",
    "    в столбце mb_used - данные о количестве израсходованных мегабайт за месяц, максимальные значения - 1,724.83 мб, мне кажется, что это немного. Вполне возможен разный расход интернета по месяцам для одного человека.\n",
    "</div>"
   ]
  },
  {
   "cell_type": "markdown",
   "metadata": {},
   "source": [
    "<div class=\"alert alert-block alert-success\">\n",
    " \n",
    "### Комментарий ревьюера\n",
    "    \n",
    "#### Успех\n",
    "    \n",
    "Ты права. Этот столбец можно удлать.\n",
    "</div>"
   ]
  },
  {
   "cell_type": "markdown",
   "metadata": {},
   "source": [
    "## Общий вывод по пункту  \n",
    "  \n",
    "Данные адекватны. Типы исправлены. Колонка удалена "
   ]
  },
  {
   "cell_type": "markdown",
   "metadata": {},
   "source": [
    "<div class=\"alert alert-block alert-warning\">\n",
    "    \n",
    "### Комментарии от ревьюера:\n",
    "    \n",
    "#### Совет\n",
    "    \n",
    "Сперва здесь указал тебе об ошибке. Так как ты не округлила звонки до целой минуты. Позже заметил, что ты сделала это в объединенной таблице и при подсчете выручки все нормализовалось. Молодец:)\n",
    "    \n",
    "Единственный совет, лучше эти округления делай в предобработке, так как можешь случано забыть об этом при написании функции. \n",
    "</div>"
   ]
  },
  {
   "cell_type": "markdown",
   "metadata": {},
   "source": [
    "<div class=\"alert alert-info\"> <b>Комментарий студента:</b>   \n",
    "    мне было так удобнее, т.к. округление нужно лишь для расчёта выручки.\n",
    "</div>"
   ]
  },
  {
   "cell_type": "markdown",
   "metadata": {},
   "source": [
    "# Посчитать для каждого пользователя\n",
    "\n",
    "- количество сделанных звонков и израсходованных минут разговора по месяцам;  \n",
    "- количество отправленных сообщений по месяцам;  \n",
    "- объем израсходованного интернет-трафика по месяцам;  \n",
    "- помесячную выручку с каждого пользователя (вычтите бесплатный лимит из суммарного количества звонков, сообщений и интернет-трафика; остаток умножьте на значение из тарифного плана; прибавьте абонентскую плату, соответствующую тарифному плану)."
   ]
  },
  {
   "cell_type": "markdown",
   "metadata": {},
   "source": [
    "## Количество сделанных звонков и израсходованных минут разговора по месяцам"
   ]
  },
  {
   "cell_type": "code",
   "execution_count": 41,
   "metadata": {},
   "outputs": [],
   "source": [
    "calls['duration'] = np.ceil(calls['duration']).astype('int')"
   ]
  },
  {
   "cell_type": "code",
   "execution_count": 42,
   "metadata": {},
   "outputs": [
    {
     "data": {
      "text/html": [
       "<div>\n",
       "<style scoped>\n",
       "    .dataframe tbody tr th:only-of-type {\n",
       "        vertical-align: middle;\n",
       "    }\n",
       "\n",
       "    .dataframe tbody tr th {\n",
       "        vertical-align: top;\n",
       "    }\n",
       "\n",
       "    .dataframe thead th {\n",
       "        text-align: right;\n",
       "    }\n",
       "</style>\n",
       "<table border=\"1\" class=\"dataframe\">\n",
       "  <thead>\n",
       "    <tr style=\"text-align: right;\">\n",
       "      <th></th>\n",
       "      <th>user_id</th>\n",
       "      <th>month</th>\n",
       "      <th>count_duration</th>\n",
       "      <th>sum_duration</th>\n",
       "    </tr>\n",
       "  </thead>\n",
       "  <tbody>\n",
       "    <tr>\n",
       "      <td>0</td>\n",
       "      <td>1000</td>\n",
       "      <td>5</td>\n",
       "      <td>22</td>\n",
       "      <td>159</td>\n",
       "    </tr>\n",
       "    <tr>\n",
       "      <td>1</td>\n",
       "      <td>1000</td>\n",
       "      <td>6</td>\n",
       "      <td>43</td>\n",
       "      <td>172</td>\n",
       "    </tr>\n",
       "    <tr>\n",
       "      <td>2</td>\n",
       "      <td>1000</td>\n",
       "      <td>7</td>\n",
       "      <td>47</td>\n",
       "      <td>340</td>\n",
       "    </tr>\n",
       "    <tr>\n",
       "      <td>3</td>\n",
       "      <td>1000</td>\n",
       "      <td>8</td>\n",
       "      <td>52</td>\n",
       "      <td>408</td>\n",
       "    </tr>\n",
       "    <tr>\n",
       "      <td>4</td>\n",
       "      <td>1000</td>\n",
       "      <td>9</td>\n",
       "      <td>58</td>\n",
       "      <td>466</td>\n",
       "    </tr>\n",
       "    <tr>\n",
       "      <td>...</td>\n",
       "      <td>...</td>\n",
       "      <td>...</td>\n",
       "      <td>...</td>\n",
       "      <td>...</td>\n",
       "    </tr>\n",
       "    <tr>\n",
       "      <td>3169</td>\n",
       "      <td>1498</td>\n",
       "      <td>10</td>\n",
       "      <td>41</td>\n",
       "      <td>247</td>\n",
       "    </tr>\n",
       "    <tr>\n",
       "      <td>3170</td>\n",
       "      <td>1499</td>\n",
       "      <td>9</td>\n",
       "      <td>9</td>\n",
       "      <td>70</td>\n",
       "    </tr>\n",
       "    <tr>\n",
       "      <td>3171</td>\n",
       "      <td>1499</td>\n",
       "      <td>10</td>\n",
       "      <td>68</td>\n",
       "      <td>449</td>\n",
       "    </tr>\n",
       "    <tr>\n",
       "      <td>3172</td>\n",
       "      <td>1499</td>\n",
       "      <td>11</td>\n",
       "      <td>74</td>\n",
       "      <td>612</td>\n",
       "    </tr>\n",
       "    <tr>\n",
       "      <td>3173</td>\n",
       "      <td>1499</td>\n",
       "      <td>12</td>\n",
       "      <td>69</td>\n",
       "      <td>492</td>\n",
       "    </tr>\n",
       "  </tbody>\n",
       "</table>\n",
       "<p>3174 rows × 4 columns</p>\n",
       "</div>"
      ],
      "text/plain": [
       "      user_id  month  count_duration  sum_duration\n",
       "0        1000      5              22           159\n",
       "1        1000      6              43           172\n",
       "2        1000      7              47           340\n",
       "3        1000      8              52           408\n",
       "4        1000      9              58           466\n",
       "...       ...    ...             ...           ...\n",
       "3169     1498     10              41           247\n",
       "3170     1499      9               9            70\n",
       "3171     1499     10              68           449\n",
       "3172     1499     11              74           612\n",
       "3173     1499     12              69           492\n",
       "\n",
       "[3174 rows x 4 columns]"
      ]
     },
     "execution_count": 42,
     "metadata": {},
     "output_type": "execute_result"
    }
   ],
   "source": [
    "calls_pivot = calls.pivot_table(index=['user_id', 'month'], values='duration', aggfunc=['count', 'sum']).reset_index()\n",
    "calls_pivot.columns = ['user_id', 'month', 'count_duration', 'sum_duration']\n",
    "calls_pivot"
   ]
  },
  {
   "cell_type": "markdown",
   "metadata": {},
   "source": [
    "<div class=\"alert alert-block alert-success\">\n",
    " \n",
    "### Комментарий ревьюера\n",
    "    \n",
    "#### Успех\n",
    "    \n",
    "Отлично, что ты применила группировку по двум столбцам. Многие студенты забывают об этом.\n",
    "</div>"
   ]
  },
  {
   "cell_type": "markdown",
   "metadata": {},
   "source": [
    "## Количество отправленных сообщений по месяцам"
   ]
  },
  {
   "cell_type": "code",
   "execution_count": 43,
   "metadata": {},
   "outputs": [
    {
     "data": {
      "text/html": [
       "<div>\n",
       "<style scoped>\n",
       "    .dataframe tbody tr th:only-of-type {\n",
       "        vertical-align: middle;\n",
       "    }\n",
       "\n",
       "    .dataframe tbody tr th {\n",
       "        vertical-align: top;\n",
       "    }\n",
       "\n",
       "    .dataframe thead th {\n",
       "        text-align: right;\n",
       "    }\n",
       "</style>\n",
       "<table border=\"1\" class=\"dataframe\">\n",
       "  <thead>\n",
       "    <tr style=\"text-align: right;\">\n",
       "      <th></th>\n",
       "      <th>user_id</th>\n",
       "      <th>month</th>\n",
       "      <th>count_messages</th>\n",
       "    </tr>\n",
       "  </thead>\n",
       "  <tbody>\n",
       "    <tr>\n",
       "      <td>0</td>\n",
       "      <td>1000</td>\n",
       "      <td>5</td>\n",
       "      <td>22</td>\n",
       "    </tr>\n",
       "    <tr>\n",
       "      <td>1</td>\n",
       "      <td>1000</td>\n",
       "      <td>6</td>\n",
       "      <td>60</td>\n",
       "    </tr>\n",
       "    <tr>\n",
       "      <td>2</td>\n",
       "      <td>1000</td>\n",
       "      <td>7</td>\n",
       "      <td>75</td>\n",
       "    </tr>\n",
       "    <tr>\n",
       "      <td>3</td>\n",
       "      <td>1000</td>\n",
       "      <td>8</td>\n",
       "      <td>81</td>\n",
       "    </tr>\n",
       "    <tr>\n",
       "      <td>4</td>\n",
       "      <td>1000</td>\n",
       "      <td>9</td>\n",
       "      <td>57</td>\n",
       "    </tr>\n",
       "    <tr>\n",
       "      <td>...</td>\n",
       "      <td>...</td>\n",
       "      <td>...</td>\n",
       "      <td>...</td>\n",
       "    </tr>\n",
       "    <tr>\n",
       "      <td>2712</td>\n",
       "      <td>1498</td>\n",
       "      <td>10</td>\n",
       "      <td>42</td>\n",
       "    </tr>\n",
       "    <tr>\n",
       "      <td>2713</td>\n",
       "      <td>1499</td>\n",
       "      <td>9</td>\n",
       "      <td>11</td>\n",
       "    </tr>\n",
       "    <tr>\n",
       "      <td>2714</td>\n",
       "      <td>1499</td>\n",
       "      <td>10</td>\n",
       "      <td>48</td>\n",
       "    </tr>\n",
       "    <tr>\n",
       "      <td>2715</td>\n",
       "      <td>1499</td>\n",
       "      <td>11</td>\n",
       "      <td>59</td>\n",
       "    </tr>\n",
       "    <tr>\n",
       "      <td>2716</td>\n",
       "      <td>1499</td>\n",
       "      <td>12</td>\n",
       "      <td>66</td>\n",
       "    </tr>\n",
       "  </tbody>\n",
       "</table>\n",
       "<p>2717 rows × 3 columns</p>\n",
       "</div>"
      ],
      "text/plain": [
       "      user_id  month  count_messages\n",
       "0        1000      5              22\n",
       "1        1000      6              60\n",
       "2        1000      7              75\n",
       "3        1000      8              81\n",
       "4        1000      9              57\n",
       "...       ...    ...             ...\n",
       "2712     1498     10              42\n",
       "2713     1499      9              11\n",
       "2714     1499     10              48\n",
       "2715     1499     11              59\n",
       "2716     1499     12              66\n",
       "\n",
       "[2717 rows x 3 columns]"
      ]
     },
     "execution_count": 43,
     "metadata": {},
     "output_type": "execute_result"
    }
   ],
   "source": [
    "messages_pivot = messages.pivot_table(index=['user_id', 'month'], values='id', aggfunc=['count']).reset_index()\n",
    "messages_pivot.columns = ['user_id', 'month', 'count_messages']\n",
    "messages_pivot"
   ]
  },
  {
   "cell_type": "markdown",
   "metadata": {},
   "source": [
    "## Объем израсходованного интернет-трафика по месяцам"
   ]
  },
  {
   "cell_type": "code",
   "execution_count": 44,
   "metadata": {},
   "outputs": [
    {
     "data": {
      "text/html": [
       "<div>\n",
       "<style scoped>\n",
       "    .dataframe tbody tr th:only-of-type {\n",
       "        vertical-align: middle;\n",
       "    }\n",
       "\n",
       "    .dataframe tbody tr th {\n",
       "        vertical-align: top;\n",
       "    }\n",
       "\n",
       "    .dataframe thead th {\n",
       "        text-align: right;\n",
       "    }\n",
       "</style>\n",
       "<table border=\"1\" class=\"dataframe\">\n",
       "  <thead>\n",
       "    <tr style=\"text-align: right;\">\n",
       "      <th></th>\n",
       "      <th>user_id</th>\n",
       "      <th>month</th>\n",
       "      <th>sum_mb</th>\n",
       "    </tr>\n",
       "  </thead>\n",
       "  <tbody>\n",
       "    <tr>\n",
       "      <td>0</td>\n",
       "      <td>1000</td>\n",
       "      <td>5</td>\n",
       "      <td>2,253.4900</td>\n",
       "    </tr>\n",
       "    <tr>\n",
       "      <td>1</td>\n",
       "      <td>1000</td>\n",
       "      <td>6</td>\n",
       "      <td>23,233.7700</td>\n",
       "    </tr>\n",
       "    <tr>\n",
       "      <td>2</td>\n",
       "      <td>1000</td>\n",
       "      <td>7</td>\n",
       "      <td>14,003.6400</td>\n",
       "    </tr>\n",
       "    <tr>\n",
       "      <td>3</td>\n",
       "      <td>1000</td>\n",
       "      <td>8</td>\n",
       "      <td>14,055.9300</td>\n",
       "    </tr>\n",
       "    <tr>\n",
       "      <td>4</td>\n",
       "      <td>1000</td>\n",
       "      <td>9</td>\n",
       "      <td>14,568.9100</td>\n",
       "    </tr>\n",
       "    <tr>\n",
       "      <td>...</td>\n",
       "      <td>...</td>\n",
       "      <td>...</td>\n",
       "      <td>...</td>\n",
       "    </tr>\n",
       "    <tr>\n",
       "      <td>3198</td>\n",
       "      <td>1498</td>\n",
       "      <td>10</td>\n",
       "      <td>20,579.3600</td>\n",
       "    </tr>\n",
       "    <tr>\n",
       "      <td>3199</td>\n",
       "      <td>1499</td>\n",
       "      <td>9</td>\n",
       "      <td>1,845.7500</td>\n",
       "    </tr>\n",
       "    <tr>\n",
       "      <td>3200</td>\n",
       "      <td>1499</td>\n",
       "      <td>10</td>\n",
       "      <td>17,788.5100</td>\n",
       "    </tr>\n",
       "    <tr>\n",
       "      <td>3201</td>\n",
       "      <td>1499</td>\n",
       "      <td>11</td>\n",
       "      <td>17,963.3100</td>\n",
       "    </tr>\n",
       "    <tr>\n",
       "      <td>3202</td>\n",
       "      <td>1499</td>\n",
       "      <td>12</td>\n",
       "      <td>13,055.5800</td>\n",
       "    </tr>\n",
       "  </tbody>\n",
       "</table>\n",
       "<p>3203 rows × 3 columns</p>\n",
       "</div>"
      ],
      "text/plain": [
       "      user_id  month      sum_mb\n",
       "0        1000      5  2,253.4900\n",
       "1        1000      6 23,233.7700\n",
       "2        1000      7 14,003.6400\n",
       "3        1000      8 14,055.9300\n",
       "4        1000      9 14,568.9100\n",
       "...       ...    ...         ...\n",
       "3198     1498     10 20,579.3600\n",
       "3199     1499      9  1,845.7500\n",
       "3200     1499     10 17,788.5100\n",
       "3201     1499     11 17,963.3100\n",
       "3202     1499     12 13,055.5800\n",
       "\n",
       "[3203 rows x 3 columns]"
      ]
     },
     "execution_count": 44,
     "metadata": {},
     "output_type": "execute_result"
    }
   ],
   "source": [
    "internet_pivot = internet.pivot_table(index=['user_id', 'month'], values='mb_used', aggfunc=['sum']).reset_index()\n",
    "internet_pivot.columns = ['user_id', 'month', 'sum_mb']\n",
    "internet_pivot"
   ]
  },
  {
   "cell_type": "markdown",
   "metadata": {},
   "source": [
    "<div class=\"alert alert-block alert-success\">\n",
    " \n",
    "### Комментарий ревьюера\n",
    "    \n",
    "#### Успех\n",
    "    \n",
    "Данные готовы к дальнейшему анализу. На мой взгляд, у тебя получилось отлично.\n",
    "</div>"
   ]
  },
  {
   "cell_type": "markdown",
   "metadata": {},
   "source": [
    "## Расчёт помесячной выручки с каждого пользователя"
   ]
  },
  {
   "cell_type": "markdown",
   "metadata": {},
   "source": [
    "Сведём данные по рассходам на сотовую связь в одну таблицу"
   ]
  },
  {
   "cell_type": "code",
   "execution_count": 45,
   "metadata": {},
   "outputs": [
    {
     "data": {
      "text/html": [
       "<div>\n",
       "<style scoped>\n",
       "    .dataframe tbody tr th:only-of-type {\n",
       "        vertical-align: middle;\n",
       "    }\n",
       "\n",
       "    .dataframe tbody tr th {\n",
       "        vertical-align: top;\n",
       "    }\n",
       "\n",
       "    .dataframe thead th {\n",
       "        text-align: right;\n",
       "    }\n",
       "</style>\n",
       "<table border=\"1\" class=\"dataframe\">\n",
       "  <thead>\n",
       "    <tr style=\"text-align: right;\">\n",
       "      <th></th>\n",
       "      <th>user_id</th>\n",
       "      <th>month</th>\n",
       "      <th>count_duration</th>\n",
       "      <th>sum_duration</th>\n",
       "      <th>count_messages</th>\n",
       "      <th>sum_mb</th>\n",
       "      <th>tariff</th>\n",
       "      <th>messages_included</th>\n",
       "      <th>mb_per_month_included</th>\n",
       "      <th>minutes_included</th>\n",
       "      <th>rub_monthly_fee</th>\n",
       "      <th>rub_per_gb</th>\n",
       "      <th>rub_per_message</th>\n",
       "      <th>rub_per_minute</th>\n",
       "      <th>age</th>\n",
       "      <th>churn_date</th>\n",
       "      <th>city</th>\n",
       "      <th>first_name</th>\n",
       "      <th>last_name</th>\n",
       "      <th>reg_date</th>\n",
       "    </tr>\n",
       "  </thead>\n",
       "  <tbody>\n",
       "    <tr>\n",
       "      <td>0</td>\n",
       "      <td>1000</td>\n",
       "      <td>5.0000</td>\n",
       "      <td>22.0000</td>\n",
       "      <td>159.0000</td>\n",
       "      <td>22.0000</td>\n",
       "      <td>2,253.4900</td>\n",
       "      <td>ultra</td>\n",
       "      <td>1000</td>\n",
       "      <td>30720</td>\n",
       "      <td>3000</td>\n",
       "      <td>1950</td>\n",
       "      <td>150</td>\n",
       "      <td>1</td>\n",
       "      <td>1</td>\n",
       "      <td>52</td>\n",
       "      <td>NaN</td>\n",
       "      <td>Краснодар</td>\n",
       "      <td>Рафаил</td>\n",
       "      <td>Верещагин</td>\n",
       "      <td>2018-05-25</td>\n",
       "    </tr>\n",
       "    <tr>\n",
       "      <td>1</td>\n",
       "      <td>1000</td>\n",
       "      <td>6.0000</td>\n",
       "      <td>43.0000</td>\n",
       "      <td>172.0000</td>\n",
       "      <td>60.0000</td>\n",
       "      <td>23,233.7700</td>\n",
       "      <td>ultra</td>\n",
       "      <td>1000</td>\n",
       "      <td>30720</td>\n",
       "      <td>3000</td>\n",
       "      <td>1950</td>\n",
       "      <td>150</td>\n",
       "      <td>1</td>\n",
       "      <td>1</td>\n",
       "      <td>52</td>\n",
       "      <td>NaN</td>\n",
       "      <td>Краснодар</td>\n",
       "      <td>Рафаил</td>\n",
       "      <td>Верещагин</td>\n",
       "      <td>2018-05-25</td>\n",
       "    </tr>\n",
       "    <tr>\n",
       "      <td>2</td>\n",
       "      <td>1000</td>\n",
       "      <td>7.0000</td>\n",
       "      <td>47.0000</td>\n",
       "      <td>340.0000</td>\n",
       "      <td>75.0000</td>\n",
       "      <td>14,003.6400</td>\n",
       "      <td>ultra</td>\n",
       "      <td>1000</td>\n",
       "      <td>30720</td>\n",
       "      <td>3000</td>\n",
       "      <td>1950</td>\n",
       "      <td>150</td>\n",
       "      <td>1</td>\n",
       "      <td>1</td>\n",
       "      <td>52</td>\n",
       "      <td>NaN</td>\n",
       "      <td>Краснодар</td>\n",
       "      <td>Рафаил</td>\n",
       "      <td>Верещагин</td>\n",
       "      <td>2018-05-25</td>\n",
       "    </tr>\n",
       "    <tr>\n",
       "      <td>3</td>\n",
       "      <td>1000</td>\n",
       "      <td>8.0000</td>\n",
       "      <td>52.0000</td>\n",
       "      <td>408.0000</td>\n",
       "      <td>81.0000</td>\n",
       "      <td>14,055.9300</td>\n",
       "      <td>ultra</td>\n",
       "      <td>1000</td>\n",
       "      <td>30720</td>\n",
       "      <td>3000</td>\n",
       "      <td>1950</td>\n",
       "      <td>150</td>\n",
       "      <td>1</td>\n",
       "      <td>1</td>\n",
       "      <td>52</td>\n",
       "      <td>NaN</td>\n",
       "      <td>Краснодар</td>\n",
       "      <td>Рафаил</td>\n",
       "      <td>Верещагин</td>\n",
       "      <td>2018-05-25</td>\n",
       "    </tr>\n",
       "    <tr>\n",
       "      <td>4</td>\n",
       "      <td>1000</td>\n",
       "      <td>9.0000</td>\n",
       "      <td>58.0000</td>\n",
       "      <td>466.0000</td>\n",
       "      <td>57.0000</td>\n",
       "      <td>14,568.9100</td>\n",
       "      <td>ultra</td>\n",
       "      <td>1000</td>\n",
       "      <td>30720</td>\n",
       "      <td>3000</td>\n",
       "      <td>1950</td>\n",
       "      <td>150</td>\n",
       "      <td>1</td>\n",
       "      <td>1</td>\n",
       "      <td>52</td>\n",
       "      <td>NaN</td>\n",
       "      <td>Краснодар</td>\n",
       "      <td>Рафаил</td>\n",
       "      <td>Верещагин</td>\n",
       "      <td>2018-05-25</td>\n",
       "    </tr>\n",
       "  </tbody>\n",
       "</table>\n",
       "</div>"
      ],
      "text/plain": [
       "   user_id  month  count_duration  sum_duration  count_messages      sum_mb  \\\n",
       "0     1000 5.0000         22.0000      159.0000         22.0000  2,253.4900   \n",
       "1     1000 6.0000         43.0000      172.0000         60.0000 23,233.7700   \n",
       "2     1000 7.0000         47.0000      340.0000         75.0000 14,003.6400   \n",
       "3     1000 8.0000         52.0000      408.0000         81.0000 14,055.9300   \n",
       "4     1000 9.0000         58.0000      466.0000         57.0000 14,568.9100   \n",
       "\n",
       "  tariff  messages_included  mb_per_month_included  minutes_included  \\\n",
       "0  ultra               1000                  30720              3000   \n",
       "1  ultra               1000                  30720              3000   \n",
       "2  ultra               1000                  30720              3000   \n",
       "3  ultra               1000                  30720              3000   \n",
       "4  ultra               1000                  30720              3000   \n",
       "\n",
       "   rub_monthly_fee  rub_per_gb  rub_per_message  rub_per_minute  age  \\\n",
       "0             1950         150                1               1   52   \n",
       "1             1950         150                1               1   52   \n",
       "2             1950         150                1               1   52   \n",
       "3             1950         150                1               1   52   \n",
       "4             1950         150                1               1   52   \n",
       "\n",
       "  churn_date       city first_name  last_name    reg_date  \n",
       "0        NaN  Краснодар     Рафаил  Верещагин  2018-05-25  \n",
       "1        NaN  Краснодар     Рафаил  Верещагин  2018-05-25  \n",
       "2        NaN  Краснодар     Рафаил  Верещагин  2018-05-25  \n",
       "3        NaN  Краснодар     Рафаил  Верещагин  2018-05-25  \n",
       "4        NaN  Краснодар     Рафаил  Верещагин  2018-05-25  "
      ]
     },
     "metadata": {},
     "output_type": "display_data"
    },
    {
     "name": "stdout",
     "output_type": "stream",
     "text": [
      "<class 'pandas.core.frame.DataFrame'>\n",
      "Int64Index: 3216 entries, 0 to 3215\n",
      "Data columns (total 20 columns):\n",
      "user_id                  3216 non-null int64\n",
      "month                    3214 non-null float64\n",
      "count_duration           3174 non-null float64\n",
      "sum_duration             3174 non-null float64\n",
      "count_messages           2717 non-null float64\n",
      "sum_mb                   3203 non-null float64\n",
      "tariff                   3216 non-null object\n",
      "messages_included        3216 non-null int64\n",
      "mb_per_month_included    3216 non-null int64\n",
      "minutes_included         3216 non-null int64\n",
      "rub_monthly_fee          3216 non-null int64\n",
      "rub_per_gb               3216 non-null int64\n",
      "rub_per_message          3216 non-null int64\n",
      "rub_per_minute           3216 non-null int64\n",
      "age                      3216 non-null int64\n",
      "churn_date               189 non-null object\n",
      "city                     3216 non-null object\n",
      "first_name               3216 non-null object\n",
      "last_name                3216 non-null object\n",
      "reg_date                 3216 non-null object\n",
      "dtypes: float64(5), int64(9), object(6)\n",
      "memory usage: 527.6+ KB\n"
     ]
    }
   ],
   "source": [
    "data_merged = calls_pivot.merge(messages_pivot, \n",
    "                                on = ['user_id', 'month'], \n",
    "                                how = 'outer').merge(internet_pivot,\n",
    "                                                     on = ['user_id', 'month'], \n",
    "                                                     how = 'outer').merge(users[['user_id', 'tariff']],\n",
    "                                                     on = ['user_id'], \n",
    "                                                     how = 'outer').merge(tariffs, \n",
    "                                                                          on='tariff', \n",
    "                                                                          how='outer').merge(users,\n",
    "                                                                                             on = ['user_id','tariff'], \n",
    "                                                                                             how = 'outer')\n",
    "\n",
    "display(data_merged.head())\n",
    "data_merged.info()"
   ]
  },
  {
   "cell_type": "markdown",
   "metadata": {},
   "source": [
    "<div class=\"alert alert-block alert-success\">\n",
    " \n",
    "### Комментарий ревьюера\n",
    "    \n",
    "#### Успех\n",
    "    \n",
    "Очень хороший вариант объединения таблицы. Главное не запутаться.\n",
    "</div>"
   ]
  },
  {
   "cell_type": "markdown",
   "metadata": {},
   "source": [
    "Заменим nan нулём, т.к. nan в столбцах count_duration, sum_duration, count_messages, sum_mb - это неиспользуемая опция в тарифе. Nan в churn_date - это значит, что тариф ещё используется на момент выгрузки данных. В month оказалось 2 пропуска. посмотрим на них подробнее."
   ]
  },
  {
   "cell_type": "code",
   "execution_count": 46,
   "metadata": {},
   "outputs": [
    {
     "data": {
      "text/html": [
       "<div>\n",
       "<style scoped>\n",
       "    .dataframe tbody tr th:only-of-type {\n",
       "        vertical-align: middle;\n",
       "    }\n",
       "\n",
       "    .dataframe tbody tr th {\n",
       "        vertical-align: top;\n",
       "    }\n",
       "\n",
       "    .dataframe thead th {\n",
       "        text-align: right;\n",
       "    }\n",
       "</style>\n",
       "<table border=\"1\" class=\"dataframe\">\n",
       "  <thead>\n",
       "    <tr style=\"text-align: right;\">\n",
       "      <th></th>\n",
       "      <th>user_id</th>\n",
       "      <th>month</th>\n",
       "      <th>count_duration</th>\n",
       "      <th>sum_duration</th>\n",
       "      <th>count_messages</th>\n",
       "      <th>sum_mb</th>\n",
       "      <th>tariff</th>\n",
       "      <th>messages_included</th>\n",
       "      <th>mb_per_month_included</th>\n",
       "      <th>minutes_included</th>\n",
       "      <th>rub_monthly_fee</th>\n",
       "      <th>rub_per_gb</th>\n",
       "      <th>rub_per_message</th>\n",
       "      <th>rub_per_minute</th>\n",
       "      <th>age</th>\n",
       "      <th>churn_date</th>\n",
       "      <th>city</th>\n",
       "      <th>first_name</th>\n",
       "      <th>last_name</th>\n",
       "      <th>reg_date</th>\n",
       "    </tr>\n",
       "  </thead>\n",
       "  <tbody>\n",
       "    <tr>\n",
       "      <td>985</td>\n",
       "      <td>1128</td>\n",
       "      <td>nan</td>\n",
       "      <td>nan</td>\n",
       "      <td>nan</td>\n",
       "      <td>nan</td>\n",
       "      <td>nan</td>\n",
       "      <td>ultra</td>\n",
       "      <td>1000</td>\n",
       "      <td>30720</td>\n",
       "      <td>3000</td>\n",
       "      <td>1950</td>\n",
       "      <td>150</td>\n",
       "      <td>1</td>\n",
       "      <td>1</td>\n",
       "      <td>51</td>\n",
       "      <td>2018-12-23</td>\n",
       "      <td>Волжский</td>\n",
       "      <td>Ксения</td>\n",
       "      <td>Агаева</td>\n",
       "      <td>2018-12-15</td>\n",
       "    </tr>\n",
       "    <tr>\n",
       "      <td>3215</td>\n",
       "      <td>1371</td>\n",
       "      <td>nan</td>\n",
       "      <td>nan</td>\n",
       "      <td>nan</td>\n",
       "      <td>nan</td>\n",
       "      <td>nan</td>\n",
       "      <td>smart</td>\n",
       "      <td>50</td>\n",
       "      <td>15360</td>\n",
       "      <td>500</td>\n",
       "      <td>550</td>\n",
       "      <td>200</td>\n",
       "      <td>3</td>\n",
       "      <td>3</td>\n",
       "      <td>50</td>\n",
       "      <td>2018-12-30</td>\n",
       "      <td>Омск</td>\n",
       "      <td>Ириней</td>\n",
       "      <td>Трофимов</td>\n",
       "      <td>2018-12-25</td>\n",
       "    </tr>\n",
       "  </tbody>\n",
       "</table>\n",
       "</div>"
      ],
      "text/plain": [
       "      user_id  month  count_duration  sum_duration  count_messages  sum_mb  \\\n",
       "985      1128    nan             nan           nan             nan     nan   \n",
       "3215     1371    nan             nan           nan             nan     nan   \n",
       "\n",
       "     tariff  messages_included  mb_per_month_included  minutes_included  \\\n",
       "985   ultra               1000                  30720              3000   \n",
       "3215  smart                 50                  15360               500   \n",
       "\n",
       "      rub_monthly_fee  rub_per_gb  rub_per_message  rub_per_minute  age  \\\n",
       "985              1950         150                1               1   51   \n",
       "3215              550         200                3               3   50   \n",
       "\n",
       "      churn_date      city first_name last_name    reg_date  \n",
       "985   2018-12-23  Волжский     Ксения    Агаева  2018-12-15  \n",
       "3215  2018-12-30      Омск     Ириней  Трофимов  2018-12-25  "
      ]
     },
     "execution_count": 46,
     "metadata": {},
     "output_type": "execute_result"
    }
   ],
   "source": [
    "data_merged.loc[data_merged['month'].isna()]"
   ]
  },
  {
   "cell_type": "code",
   "execution_count": 47,
   "metadata": {},
   "outputs": [
    {
     "data": {
      "text/html": [
       "<div>\n",
       "<style scoped>\n",
       "    .dataframe tbody tr th:only-of-type {\n",
       "        vertical-align: middle;\n",
       "    }\n",
       "\n",
       "    .dataframe tbody tr th {\n",
       "        vertical-align: top;\n",
       "    }\n",
       "\n",
       "    .dataframe thead th {\n",
       "        text-align: right;\n",
       "    }\n",
       "</style>\n",
       "<table border=\"1\" class=\"dataframe\">\n",
       "  <thead>\n",
       "    <tr style=\"text-align: right;\">\n",
       "      <th></th>\n",
       "      <th>user_id</th>\n",
       "      <th>month</th>\n",
       "      <th>count_duration</th>\n",
       "      <th>sum_duration</th>\n",
       "      <th>count_messages</th>\n",
       "      <th>sum_mb</th>\n",
       "      <th>tariff</th>\n",
       "      <th>messages_included</th>\n",
       "      <th>mb_per_month_included</th>\n",
       "      <th>minutes_included</th>\n",
       "      <th>rub_monthly_fee</th>\n",
       "      <th>rub_per_gb</th>\n",
       "      <th>rub_per_message</th>\n",
       "      <th>rub_per_minute</th>\n",
       "      <th>age</th>\n",
       "      <th>churn_date</th>\n",
       "      <th>city</th>\n",
       "      <th>first_name</th>\n",
       "      <th>last_name</th>\n",
       "      <th>reg_date</th>\n",
       "    </tr>\n",
       "  </thead>\n",
       "  <tbody>\n",
       "    <tr>\n",
       "      <td>985</td>\n",
       "      <td>1128</td>\n",
       "      <td>nan</td>\n",
       "      <td>nan</td>\n",
       "      <td>nan</td>\n",
       "      <td>nan</td>\n",
       "      <td>nan</td>\n",
       "      <td>ultra</td>\n",
       "      <td>1000</td>\n",
       "      <td>30720</td>\n",
       "      <td>3000</td>\n",
       "      <td>1950</td>\n",
       "      <td>150</td>\n",
       "      <td>1</td>\n",
       "      <td>1</td>\n",
       "      <td>51</td>\n",
       "      <td>2018-12-23</td>\n",
       "      <td>Волжский</td>\n",
       "      <td>Ксения</td>\n",
       "      <td>Агаева</td>\n",
       "      <td>2018-12-15</td>\n",
       "    </tr>\n",
       "    <tr>\n",
       "      <td>3215</td>\n",
       "      <td>1371</td>\n",
       "      <td>nan</td>\n",
       "      <td>nan</td>\n",
       "      <td>nan</td>\n",
       "      <td>nan</td>\n",
       "      <td>nan</td>\n",
       "      <td>smart</td>\n",
       "      <td>50</td>\n",
       "      <td>15360</td>\n",
       "      <td>500</td>\n",
       "      <td>550</td>\n",
       "      <td>200</td>\n",
       "      <td>3</td>\n",
       "      <td>3</td>\n",
       "      <td>50</td>\n",
       "      <td>2018-12-30</td>\n",
       "      <td>Омск</td>\n",
       "      <td>Ириней</td>\n",
       "      <td>Трофимов</td>\n",
       "      <td>2018-12-25</td>\n",
       "    </tr>\n",
       "  </tbody>\n",
       "</table>\n",
       "</div>"
      ],
      "text/plain": [
       "      user_id  month  count_duration  sum_duration  count_messages  sum_mb  \\\n",
       "985      1128    nan             nan           nan             nan     nan   \n",
       "3215     1371    nan             nan           nan             nan     nan   \n",
       "\n",
       "     tariff  messages_included  mb_per_month_included  minutes_included  \\\n",
       "985   ultra               1000                  30720              3000   \n",
       "3215  smart                 50                  15360               500   \n",
       "\n",
       "      rub_monthly_fee  rub_per_gb  rub_per_message  rub_per_minute  age  \\\n",
       "985              1950         150                1               1   51   \n",
       "3215              550         200                3               3   50   \n",
       "\n",
       "      churn_date      city first_name last_name    reg_date  \n",
       "985   2018-12-23  Волжский     Ксения    Агаева  2018-12-15  \n",
       "3215  2018-12-30      Омск     Ириней  Трофимов  2018-12-25  "
      ]
     },
     "execution_count": 47,
     "metadata": {},
     "output_type": "execute_result"
    }
   ],
   "source": [
    "data_merged.loc[ (data_merged['user_id']==1128) | (data_merged['user_id']==1371) ]"
   ]
  },
  {
   "cell_type": "markdown",
   "metadata": {},
   "source": [
    "Видно, что в этих строках содержаться данные, которые описывают краткосрочное пользование тарифом (8 и 5 дней). Поведение этих пользователей в рамках данного исследования нам неитересно, т.к. услугами связи они не практически пользовались и тарифный план не меняли. Можно их удалить."
   ]
  },
  {
   "cell_type": "code",
   "execution_count": 48,
   "metadata": {},
   "outputs": [
    {
     "name": "stdout",
     "output_type": "stream",
     "text": [
      "<class 'pandas.core.frame.DataFrame'>\n",
      "Int64Index: 3214 entries, 0 to 3214\n",
      "Data columns (total 20 columns):\n",
      "user_id                  3214 non-null int64\n",
      "month                    3214 non-null float64\n",
      "count_duration           3174 non-null float64\n",
      "sum_duration             3174 non-null float64\n",
      "count_messages           2717 non-null float64\n",
      "sum_mb                   3203 non-null float64\n",
      "tariff                   3214 non-null object\n",
      "messages_included        3214 non-null int64\n",
      "mb_per_month_included    3214 non-null int64\n",
      "minutes_included         3214 non-null int64\n",
      "rub_monthly_fee          3214 non-null int64\n",
      "rub_per_gb               3214 non-null int64\n",
      "rub_per_message          3214 non-null int64\n",
      "rub_per_minute           3214 non-null int64\n",
      "age                      3214 non-null int64\n",
      "churn_date               187 non-null object\n",
      "city                     3214 non-null object\n",
      "first_name               3214 non-null object\n",
      "last_name                3214 non-null object\n",
      "reg_date                 3214 non-null object\n",
      "dtypes: float64(5), int64(9), object(6)\n",
      "memory usage: 527.3+ KB\n"
     ]
    }
   ],
   "source": [
    "data_merged = data_merged[(data_merged['user_id']!=1128) & (data_merged['user_id']!=1371)]\n",
    "data_merged.info()"
   ]
  },
  {
   "cell_type": "markdown",
   "metadata": {},
   "source": [
    "<div class=\"alert alert-block alert-success\">\n",
    " \n",
    "### Комментарий ревьюера\n",
    "    \n",
    "#### Успех\n",
    "    \n",
    "Дейстительно, удаление данных здесь не повлияет\n",
    "</div>"
   ]
  },
  {
   "cell_type": "markdown",
   "metadata": {},
   "source": [
    "В столбце month нет пропущенных значений. Заменим 0 пропуски в услугах"
   ]
  },
  {
   "cell_type": "code",
   "execution_count": 49,
   "metadata": {},
   "outputs": [
    {
     "name": "stdout",
     "output_type": "stream",
     "text": [
      "<class 'pandas.core.frame.DataFrame'>\n",
      "Int64Index: 3214 entries, 0 to 3214\n",
      "Data columns (total 20 columns):\n",
      "user_id                  3214 non-null int64\n",
      "month                    3214 non-null float64\n",
      "count_duration           3214 non-null float64\n",
      "sum_duration             3214 non-null float64\n",
      "count_messages           3214 non-null float64\n",
      "sum_mb                   3214 non-null float64\n",
      "tariff                   3214 non-null object\n",
      "messages_included        3214 non-null int64\n",
      "mb_per_month_included    3214 non-null int64\n",
      "minutes_included         3214 non-null int64\n",
      "rub_monthly_fee          3214 non-null int64\n",
      "rub_per_gb               3214 non-null int64\n",
      "rub_per_message          3214 non-null int64\n",
      "rub_per_minute           3214 non-null int64\n",
      "age                      3214 non-null int64\n",
      "churn_date               187 non-null object\n",
      "city                     3214 non-null object\n",
      "first_name               3214 non-null object\n",
      "last_name                3214 non-null object\n",
      "reg_date                 3214 non-null object\n",
      "dtypes: float64(5), int64(9), object(6)\n",
      "memory usage: 527.3+ KB\n"
     ]
    }
   ],
   "source": [
    "for col_with_nan in ['count_duration', 'sum_duration', 'count_messages', 'sum_mb']:\n",
    "    data_merged[col_with_nan] = data_merged[col_with_nan].fillna(0)\n",
    "data_merged.info()"
   ]
  },
  {
   "cell_type": "markdown",
   "metadata": {},
   "source": [
    "Пропусков нет, кроме churn_date. Оставим их без изменения."
   ]
  },
  {
   "cell_type": "markdown",
   "metadata": {},
   "source": [
    "Рассчитаем теперь доход компании от каждого пользователя помесячно. "
   ]
  },
  {
   "cell_type": "code",
   "execution_count": 50,
   "metadata": {},
   "outputs": [
    {
     "data": {
      "text/html": [
       "<div>\n",
       "<style scoped>\n",
       "    .dataframe tbody tr th:only-of-type {\n",
       "        vertical-align: middle;\n",
       "    }\n",
       "\n",
       "    .dataframe tbody tr th {\n",
       "        vertical-align: top;\n",
       "    }\n",
       "\n",
       "    .dataframe thead th {\n",
       "        text-align: right;\n",
       "    }\n",
       "</style>\n",
       "<table border=\"1\" class=\"dataframe\">\n",
       "  <thead>\n",
       "    <tr style=\"text-align: right;\">\n",
       "      <th></th>\n",
       "      <th>user_id</th>\n",
       "      <th>month</th>\n",
       "      <th>count_duration</th>\n",
       "      <th>sum_duration</th>\n",
       "      <th>count_messages</th>\n",
       "      <th>sum_mb</th>\n",
       "      <th>tariff</th>\n",
       "      <th>messages_included</th>\n",
       "      <th>mb_per_month_included</th>\n",
       "      <th>minutes_included</th>\n",
       "      <th>...</th>\n",
       "      <th>rub_per_gb</th>\n",
       "      <th>rub_per_message</th>\n",
       "      <th>rub_per_minute</th>\n",
       "      <th>age</th>\n",
       "      <th>churn_date</th>\n",
       "      <th>city</th>\n",
       "      <th>first_name</th>\n",
       "      <th>last_name</th>\n",
       "      <th>reg_date</th>\n",
       "      <th>revenue</th>\n",
       "    </tr>\n",
       "  </thead>\n",
       "  <tbody>\n",
       "    <tr>\n",
       "      <td>0</td>\n",
       "      <td>1000</td>\n",
       "      <td>5.0000</td>\n",
       "      <td>22.0000</td>\n",
       "      <td>159.0000</td>\n",
       "      <td>22.0000</td>\n",
       "      <td>2,253.4900</td>\n",
       "      <td>ultra</td>\n",
       "      <td>1000</td>\n",
       "      <td>30720</td>\n",
       "      <td>3000</td>\n",
       "      <td>...</td>\n",
       "      <td>150</td>\n",
       "      <td>1</td>\n",
       "      <td>1</td>\n",
       "      <td>52</td>\n",
       "      <td>NaN</td>\n",
       "      <td>Краснодар</td>\n",
       "      <td>Рафаил</td>\n",
       "      <td>Верещагин</td>\n",
       "      <td>2018-05-25</td>\n",
       "      <td>1,950.0000</td>\n",
       "    </tr>\n",
       "    <tr>\n",
       "      <td>1</td>\n",
       "      <td>1000</td>\n",
       "      <td>6.0000</td>\n",
       "      <td>43.0000</td>\n",
       "      <td>172.0000</td>\n",
       "      <td>60.0000</td>\n",
       "      <td>23,233.7700</td>\n",
       "      <td>ultra</td>\n",
       "      <td>1000</td>\n",
       "      <td>30720</td>\n",
       "      <td>3000</td>\n",
       "      <td>...</td>\n",
       "      <td>150</td>\n",
       "      <td>1</td>\n",
       "      <td>1</td>\n",
       "      <td>52</td>\n",
       "      <td>NaN</td>\n",
       "      <td>Краснодар</td>\n",
       "      <td>Рафаил</td>\n",
       "      <td>Верещагин</td>\n",
       "      <td>2018-05-25</td>\n",
       "      <td>1,950.0000</td>\n",
       "    </tr>\n",
       "    <tr>\n",
       "      <td>2</td>\n",
       "      <td>1000</td>\n",
       "      <td>7.0000</td>\n",
       "      <td>47.0000</td>\n",
       "      <td>340.0000</td>\n",
       "      <td>75.0000</td>\n",
       "      <td>14,003.6400</td>\n",
       "      <td>ultra</td>\n",
       "      <td>1000</td>\n",
       "      <td>30720</td>\n",
       "      <td>3000</td>\n",
       "      <td>...</td>\n",
       "      <td>150</td>\n",
       "      <td>1</td>\n",
       "      <td>1</td>\n",
       "      <td>52</td>\n",
       "      <td>NaN</td>\n",
       "      <td>Краснодар</td>\n",
       "      <td>Рафаил</td>\n",
       "      <td>Верещагин</td>\n",
       "      <td>2018-05-25</td>\n",
       "      <td>1,950.0000</td>\n",
       "    </tr>\n",
       "    <tr>\n",
       "      <td>3</td>\n",
       "      <td>1000</td>\n",
       "      <td>8.0000</td>\n",
       "      <td>52.0000</td>\n",
       "      <td>408.0000</td>\n",
       "      <td>81.0000</td>\n",
       "      <td>14,055.9300</td>\n",
       "      <td>ultra</td>\n",
       "      <td>1000</td>\n",
       "      <td>30720</td>\n",
       "      <td>3000</td>\n",
       "      <td>...</td>\n",
       "      <td>150</td>\n",
       "      <td>1</td>\n",
       "      <td>1</td>\n",
       "      <td>52</td>\n",
       "      <td>NaN</td>\n",
       "      <td>Краснодар</td>\n",
       "      <td>Рафаил</td>\n",
       "      <td>Верещагин</td>\n",
       "      <td>2018-05-25</td>\n",
       "      <td>1,950.0000</td>\n",
       "    </tr>\n",
       "    <tr>\n",
       "      <td>4</td>\n",
       "      <td>1000</td>\n",
       "      <td>9.0000</td>\n",
       "      <td>58.0000</td>\n",
       "      <td>466.0000</td>\n",
       "      <td>57.0000</td>\n",
       "      <td>14,568.9100</td>\n",
       "      <td>ultra</td>\n",
       "      <td>1000</td>\n",
       "      <td>30720</td>\n",
       "      <td>3000</td>\n",
       "      <td>...</td>\n",
       "      <td>150</td>\n",
       "      <td>1</td>\n",
       "      <td>1</td>\n",
       "      <td>52</td>\n",
       "      <td>NaN</td>\n",
       "      <td>Краснодар</td>\n",
       "      <td>Рафаил</td>\n",
       "      <td>Верещагин</td>\n",
       "      <td>2018-05-25</td>\n",
       "      <td>1,950.0000</td>\n",
       "    </tr>\n",
       "  </tbody>\n",
       "</table>\n",
       "<p>5 rows × 21 columns</p>\n",
       "</div>"
      ],
      "text/plain": [
       "   user_id  month  count_duration  sum_duration  count_messages      sum_mb  \\\n",
       "0     1000 5.0000         22.0000      159.0000         22.0000  2,253.4900   \n",
       "1     1000 6.0000         43.0000      172.0000         60.0000 23,233.7700   \n",
       "2     1000 7.0000         47.0000      340.0000         75.0000 14,003.6400   \n",
       "3     1000 8.0000         52.0000      408.0000         81.0000 14,055.9300   \n",
       "4     1000 9.0000         58.0000      466.0000         57.0000 14,568.9100   \n",
       "\n",
       "  tariff  messages_included  mb_per_month_included  minutes_included  ...  \\\n",
       "0  ultra               1000                  30720              3000  ...   \n",
       "1  ultra               1000                  30720              3000  ...   \n",
       "2  ultra               1000                  30720              3000  ...   \n",
       "3  ultra               1000                  30720              3000  ...   \n",
       "4  ultra               1000                  30720              3000  ...   \n",
       "\n",
       "   rub_per_gb  rub_per_message  rub_per_minute  age  churn_date       city  \\\n",
       "0         150                1               1   52         NaN  Краснодар   \n",
       "1         150                1               1   52         NaN  Краснодар   \n",
       "2         150                1               1   52         NaN  Краснодар   \n",
       "3         150                1               1   52         NaN  Краснодар   \n",
       "4         150                1               1   52         NaN  Краснодар   \n",
       "\n",
       "  first_name  last_name    reg_date    revenue  \n",
       "0     Рафаил  Верещагин  2018-05-25 1,950.0000  \n",
       "1     Рафаил  Верещагин  2018-05-25 1,950.0000  \n",
       "2     Рафаил  Верещагин  2018-05-25 1,950.0000  \n",
       "3     Рафаил  Верещагин  2018-05-25 1,950.0000  \n",
       "4     Рафаил  Верещагин  2018-05-25 1,950.0000  \n",
       "\n",
       "[5 rows x 21 columns]"
      ]
     },
     "execution_count": 50,
     "metadata": {},
     "output_type": "execute_result"
    }
   ],
   "source": [
    "def revenue(row): # Создадим функцию, которая будет рассчитывать доход в зависимости от потребления пользователем услуг компании\n",
    "    monthly_fee=row['rub_monthly_fee'] # Абонентская плата\n",
    "    \n",
    "    if (row['sum_mb'] - row['mb_per_month_included']) > 0: # Сравниваем количество мб израсходованных и включённых в тариф\n",
    "        internet_fee = (mt.ceil((row['sum_mb'] - row['mb_per_month_included'])/1024)) * (row['rub_per_gb']) # Плата за интернет\n",
    "    else: internet_fee = 0 \n",
    "        \n",
    "    if (row['count_messages'] - row['messages_included']) > 0: # Сравниваем количество сообщений израсходованных и включённых в тариф\n",
    "        messages_fee = (row['count_messages'] - \n",
    "                       row['messages_included']) * (row['rub_per_message']) # Плата за сообщения\n",
    "    else: messages_fee = 0\n",
    "                      \n",
    "    if (mt.ceil(row['sum_duration']) - row['minutes_included']) > 0:# Сравниваем количество минут израсходованных и включённых в тариф\n",
    "        minutes_fee=(mt.ceil(row['sum_duration']) - row['minutes_included']) * (row['rub_per_minute'])# Плата за звонки\n",
    "    else: minutes_fee=0\n",
    "                     \n",
    "    revenue_per_user = monthly_fee + internet_fee + messages_fee + minutes_fee # Плата за всё или доход с пользователя в месяц\n",
    "                     \n",
    "    return revenue_per_user\n",
    "\n",
    "data_merged['revenue'] = data_merged.apply(revenue, axis=1) # Применим к таблице и сохраним в новом столбце\n",
    "data_merged.head() # Проверка"
   ]
  },
  {
   "cell_type": "markdown",
   "metadata": {},
   "source": [
    "<div class=\"alert alert-block alert-warning\">\n",
    "    \n",
    "### Комментарии от ревьюера:\n",
    "    \n",
    "#### Совет\n",
    "\n",
    "Поскольку мы считает расход интернета в ГБ, то лучше добавить в эту итоговую таблицу столбец с количеством израсходованных Гб.\n",
    "\n",
    "</div>"
   ]
  },
  {
   "cell_type": "markdown",
   "metadata": {},
   "source": [
    "<div class=\"alert alert-info\"> <b>Комментарий студента:</b>   \n",
    "    опять же, я думала, что это требуется при расчёте выручки, поэтому там и округляла\n",
    "</div>"
   ]
  },
  {
   "cell_type": "markdown",
   "metadata": {},
   "source": [
    "Найдём средний доход от каждого пользователя в месяц"
   ]
  },
  {
   "cell_type": "code",
   "execution_count": 51,
   "metadata": {},
   "outputs": [
    {
     "data": {
      "text/html": [
       "<div>\n",
       "<style scoped>\n",
       "    .dataframe tbody tr th:only-of-type {\n",
       "        vertical-align: middle;\n",
       "    }\n",
       "\n",
       "    .dataframe tbody tr th {\n",
       "        vertical-align: top;\n",
       "    }\n",
       "\n",
       "    .dataframe thead th {\n",
       "        text-align: right;\n",
       "    }\n",
       "</style>\n",
       "<table border=\"1\" class=\"dataframe\">\n",
       "  <thead>\n",
       "    <tr style=\"text-align: right;\">\n",
       "      <th></th>\n",
       "      <th>user_id</th>\n",
       "      <th>revenue</th>\n",
       "    </tr>\n",
       "  </thead>\n",
       "  <tbody>\n",
       "    <tr>\n",
       "      <td>484</td>\n",
       "      <td>1486</td>\n",
       "      <td>4,333.3333</td>\n",
       "    </tr>\n",
       "    <tr>\n",
       "      <td>260</td>\n",
       "      <td>1261</td>\n",
       "      <td>3,628.6667</td>\n",
       "    </tr>\n",
       "    <tr>\n",
       "      <td>124</td>\n",
       "      <td>1124</td>\n",
       "      <td>3,225.0000</td>\n",
       "    </tr>\n",
       "    <tr>\n",
       "      <td>303</td>\n",
       "      <td>1304</td>\n",
       "      <td>3,225.0000</td>\n",
       "    </tr>\n",
       "    <tr>\n",
       "      <td>42</td>\n",
       "      <td>1042</td>\n",
       "      <td>3,129.5000</td>\n",
       "    </tr>\n",
       "    <tr>\n",
       "      <td>...</td>\n",
       "      <td>...</td>\n",
       "      <td>...</td>\n",
       "    </tr>\n",
       "    <tr>\n",
       "      <td>117</td>\n",
       "      <td>1117</td>\n",
       "      <td>550.0000</td>\n",
       "    </tr>\n",
       "    <tr>\n",
       "      <td>114</td>\n",
       "      <td>1114</td>\n",
       "      <td>550.0000</td>\n",
       "    </tr>\n",
       "    <tr>\n",
       "      <td>62</td>\n",
       "      <td>1062</td>\n",
       "      <td>550.0000</td>\n",
       "    </tr>\n",
       "    <tr>\n",
       "      <td>103</td>\n",
       "      <td>1103</td>\n",
       "      <td>550.0000</td>\n",
       "    </tr>\n",
       "    <tr>\n",
       "      <td>162</td>\n",
       "      <td>1163</td>\n",
       "      <td>550.0000</td>\n",
       "    </tr>\n",
       "  </tbody>\n",
       "</table>\n",
       "<p>498 rows × 2 columns</p>\n",
       "</div>"
      ],
      "text/plain": [
       "     user_id    revenue\n",
       "484     1486 4,333.3333\n",
       "260     1261 3,628.6667\n",
       "124     1124 3,225.0000\n",
       "303     1304 3,225.0000\n",
       "42      1042 3,129.5000\n",
       "..       ...        ...\n",
       "117     1117   550.0000\n",
       "114     1114   550.0000\n",
       "62      1062   550.0000\n",
       "103     1103   550.0000\n",
       "162     1163   550.0000\n",
       "\n",
       "[498 rows x 2 columns]"
      ]
     },
     "execution_count": 51,
     "metadata": {},
     "output_type": "execute_result"
    }
   ],
   "source": [
    "revenue_per_user = data_merged.groupby(['user_id'])['revenue'].mean().reset_index()\n",
    "revenue_per_user.sort_values(by='revenue', ascending=False)"
   ]
  },
  {
   "cell_type": "markdown",
   "metadata": {},
   "source": [
    "## Общий вывод по пункту  \n",
    "  \n"
   ]
  },
  {
   "cell_type": "markdown",
   "metadata": {},
   "source": [
    "В результате проделанной работы у нас появилась сводная объединённая таблица, которую легко группировать по пользователям и месяцам, также добавилась выручка."
   ]
  },
  {
   "cell_type": "markdown",
   "metadata": {},
   "source": [
    "# Проанализировать данные и описать поведение клиентов оператора "
   ]
  },
  {
   "cell_type": "markdown",
   "metadata": {},
   "source": [
    "Разделим таблицу по тарифам."
   ]
  },
  {
   "cell_type": "code",
   "execution_count": 22,
   "metadata": {},
   "outputs": [
    {
     "data": {
      "text/html": [
       "<div>\n",
       "<style scoped>\n",
       "    .dataframe tbody tr th:only-of-type {\n",
       "        vertical-align: middle;\n",
       "    }\n",
       "\n",
       "    .dataframe tbody tr th {\n",
       "        vertical-align: top;\n",
       "    }\n",
       "\n",
       "    .dataframe thead th {\n",
       "        text-align: right;\n",
       "    }\n",
       "</style>\n",
       "<table border=\"1\" class=\"dataframe\">\n",
       "  <thead>\n",
       "    <tr style=\"text-align: right;\">\n",
       "      <th></th>\n",
       "      <th>user_id</th>\n",
       "      <th>month</th>\n",
       "      <th>sum_duration</th>\n",
       "      <th>count_messages</th>\n",
       "      <th>sum_mb</th>\n",
       "      <th>city</th>\n",
       "      <th>revenue</th>\n",
       "    </tr>\n",
       "  </thead>\n",
       "  <tbody>\n",
       "    <tr>\n",
       "      <td>0</td>\n",
       "      <td>1000</td>\n",
       "      <td>5.0000</td>\n",
       "      <td>150.0600</td>\n",
       "      <td>22.0000</td>\n",
       "      <td>2,253.4900</td>\n",
       "      <td>Краснодар</td>\n",
       "      <td>1,950.0000</td>\n",
       "    </tr>\n",
       "    <tr>\n",
       "      <td>1</td>\n",
       "      <td>1000</td>\n",
       "      <td>6.0000</td>\n",
       "      <td>158.9000</td>\n",
       "      <td>60.0000</td>\n",
       "      <td>23,233.7700</td>\n",
       "      <td>Краснодар</td>\n",
       "      <td>1,950.0000</td>\n",
       "    </tr>\n",
       "    <tr>\n",
       "      <td>2</td>\n",
       "      <td>1000</td>\n",
       "      <td>7.0000</td>\n",
       "      <td>318.8000</td>\n",
       "      <td>75.0000</td>\n",
       "      <td>14,003.6400</td>\n",
       "      <td>Краснодар</td>\n",
       "      <td>1,950.0000</td>\n",
       "    </tr>\n",
       "    <tr>\n",
       "      <td>3</td>\n",
       "      <td>1000</td>\n",
       "      <td>8.0000</td>\n",
       "      <td>389.8700</td>\n",
       "      <td>81.0000</td>\n",
       "      <td>14,055.9300</td>\n",
       "      <td>Краснодар</td>\n",
       "      <td>1,950.0000</td>\n",
       "    </tr>\n",
       "    <tr>\n",
       "      <td>4</td>\n",
       "      <td>1000</td>\n",
       "      <td>9.0000</td>\n",
       "      <td>440.1400</td>\n",
       "      <td>57.0000</td>\n",
       "      <td>14,568.9100</td>\n",
       "      <td>Краснодар</td>\n",
       "      <td>1,950.0000</td>\n",
       "    </tr>\n",
       "    <tr>\n",
       "      <td>...</td>\n",
       "      <td>...</td>\n",
       "      <td>...</td>\n",
       "      <td>...</td>\n",
       "      <td>...</td>\n",
       "      <td>...</td>\n",
       "      <td>...</td>\n",
       "      <td>...</td>\n",
       "    </tr>\n",
       "    <tr>\n",
       "      <td>980</td>\n",
       "      <td>1473</td>\n",
       "      <td>8.0000</td>\n",
       "      <td>0.0000</td>\n",
       "      <td>17.0000</td>\n",
       "      <td>12,905.4000</td>\n",
       "      <td>Красноярск</td>\n",
       "      <td>1,950.0000</td>\n",
       "    </tr>\n",
       "    <tr>\n",
       "      <td>981</td>\n",
       "      <td>1473</td>\n",
       "      <td>9.0000</td>\n",
       "      <td>0.0000</td>\n",
       "      <td>19.0000</td>\n",
       "      <td>17,289.8500</td>\n",
       "      <td>Красноярск</td>\n",
       "      <td>1,950.0000</td>\n",
       "    </tr>\n",
       "    <tr>\n",
       "      <td>982</td>\n",
       "      <td>1473</td>\n",
       "      <td>10.0000</td>\n",
       "      <td>0.0000</td>\n",
       "      <td>20.0000</td>\n",
       "      <td>13,688.6500</td>\n",
       "      <td>Красноярск</td>\n",
       "      <td>1,950.0000</td>\n",
       "    </tr>\n",
       "    <tr>\n",
       "      <td>983</td>\n",
       "      <td>1473</td>\n",
       "      <td>11.0000</td>\n",
       "      <td>0.0000</td>\n",
       "      <td>14.0000</td>\n",
       "      <td>21,673.8000</td>\n",
       "      <td>Красноярск</td>\n",
       "      <td>1,950.0000</td>\n",
       "    </tr>\n",
       "    <tr>\n",
       "      <td>984</td>\n",
       "      <td>1473</td>\n",
       "      <td>12.0000</td>\n",
       "      <td>0.0000</td>\n",
       "      <td>20.0000</td>\n",
       "      <td>18,418.2600</td>\n",
       "      <td>Красноярск</td>\n",
       "      <td>1,950.0000</td>\n",
       "    </tr>\n",
       "  </tbody>\n",
       "</table>\n",
       "<p>985 rows × 7 columns</p>\n",
       "</div>"
      ],
      "text/plain": [
       "     user_id   month  sum_duration  count_messages      sum_mb        city  \\\n",
       "0       1000  5.0000      150.0600         22.0000  2,253.4900   Краснодар   \n",
       "1       1000  6.0000      158.9000         60.0000 23,233.7700   Краснодар   \n",
       "2       1000  7.0000      318.8000         75.0000 14,003.6400   Краснодар   \n",
       "3       1000  8.0000      389.8700         81.0000 14,055.9300   Краснодар   \n",
       "4       1000  9.0000      440.1400         57.0000 14,568.9100   Краснодар   \n",
       "..       ...     ...           ...             ...         ...         ...   \n",
       "980     1473  8.0000        0.0000         17.0000 12,905.4000  Красноярск   \n",
       "981     1473  9.0000        0.0000         19.0000 17,289.8500  Красноярск   \n",
       "982     1473 10.0000        0.0000         20.0000 13,688.6500  Красноярск   \n",
       "983     1473 11.0000        0.0000         14.0000 21,673.8000  Красноярск   \n",
       "984     1473 12.0000        0.0000         20.0000 18,418.2600  Красноярск   \n",
       "\n",
       "       revenue  \n",
       "0   1,950.0000  \n",
       "1   1,950.0000  \n",
       "2   1,950.0000  \n",
       "3   1,950.0000  \n",
       "4   1,950.0000  \n",
       "..         ...  \n",
       "980 1,950.0000  \n",
       "981 1,950.0000  \n",
       "982 1,950.0000  \n",
       "983 1,950.0000  \n",
       "984 1,950.0000  \n",
       "\n",
       "[985 rows x 7 columns]"
      ]
     },
     "execution_count": 22,
     "metadata": {},
     "output_type": "execute_result"
    }
   ],
   "source": [
    "# data_merged_ultra - таблица, в которой сосредоточены данные по использовнию услуг пользователями ТП Ультра\n",
    "\n",
    "data_merged_ultra = data_merged[data_merged['tariff']=='ultra'].drop(columns=['tariff', 'count_duration', 'messages_included', \n",
    "                                                                              'mb_per_month_included', 'minutes_included', \n",
    "                                                                              'rub_monthly_fee', 'rub_per_gb', 'rub_per_message',\n",
    "                                                                              'rub_per_minute', 'age', 'churn_date', 'first_name',\n",
    "                                                                              'last_name', 'reg_date'])\n",
    "data_merged_ultra"
   ]
  },
  {
   "cell_type": "code",
   "execution_count": 23,
   "metadata": {},
   "outputs": [
    {
     "data": {
      "text/html": [
       "<div>\n",
       "<style scoped>\n",
       "    .dataframe tbody tr th:only-of-type {\n",
       "        vertical-align: middle;\n",
       "    }\n",
       "\n",
       "    .dataframe tbody tr th {\n",
       "        vertical-align: top;\n",
       "    }\n",
       "\n",
       "    .dataframe thead th {\n",
       "        text-align: right;\n",
       "    }\n",
       "</style>\n",
       "<table border=\"1\" class=\"dataframe\">\n",
       "  <thead>\n",
       "    <tr style=\"text-align: right;\">\n",
       "      <th></th>\n",
       "      <th>user_id</th>\n",
       "      <th>month</th>\n",
       "      <th>sum_duration</th>\n",
       "      <th>count_messages</th>\n",
       "      <th>sum_mb</th>\n",
       "      <th>city</th>\n",
       "      <th>revenue</th>\n",
       "    </tr>\n",
       "  </thead>\n",
       "  <tbody>\n",
       "    <tr>\n",
       "      <td>986</td>\n",
       "      <td>1001</td>\n",
       "      <td>11.0000</td>\n",
       "      <td>408.1200</td>\n",
       "      <td>0.0000</td>\n",
       "      <td>18,429.3400</td>\n",
       "      <td>Москва</td>\n",
       "      <td>1,150.0000</td>\n",
       "    </tr>\n",
       "    <tr>\n",
       "      <td>987</td>\n",
       "      <td>1001</td>\n",
       "      <td>12.0000</td>\n",
       "      <td>391.3400</td>\n",
       "      <td>0.0000</td>\n",
       "      <td>14,036.6600</td>\n",
       "      <td>Москва</td>\n",
       "      <td>550.0000</td>\n",
       "    </tr>\n",
       "    <tr>\n",
       "      <td>988</td>\n",
       "      <td>1002</td>\n",
       "      <td>6.0000</td>\n",
       "      <td>110.3700</td>\n",
       "      <td>4.0000</td>\n",
       "      <td>10,856.8200</td>\n",
       "      <td>Стерлитамак</td>\n",
       "      <td>550.0000</td>\n",
       "    </tr>\n",
       "    <tr>\n",
       "      <td>989</td>\n",
       "      <td>1002</td>\n",
       "      <td>7.0000</td>\n",
       "      <td>204.7500</td>\n",
       "      <td>11.0000</td>\n",
       "      <td>17,580.1000</td>\n",
       "      <td>Стерлитамак</td>\n",
       "      <td>1,150.0000</td>\n",
       "    </tr>\n",
       "    <tr>\n",
       "      <td>990</td>\n",
       "      <td>1002</td>\n",
       "      <td>8.0000</td>\n",
       "      <td>269.7100</td>\n",
       "      <td>13.0000</td>\n",
       "      <td>20,319.2600</td>\n",
       "      <td>Стерлитамак</td>\n",
       "      <td>1,550.0000</td>\n",
       "    </tr>\n",
       "    <tr>\n",
       "      <td>...</td>\n",
       "      <td>...</td>\n",
       "      <td>...</td>\n",
       "      <td>...</td>\n",
       "      <td>...</td>\n",
       "      <td>...</td>\n",
       "      <td>...</td>\n",
       "      <td>...</td>\n",
       "    </tr>\n",
       "    <tr>\n",
       "      <td>3210</td>\n",
       "      <td>1489</td>\n",
       "      <td>8.0000</td>\n",
       "      <td>0.0000</td>\n",
       "      <td>17.0000</td>\n",
       "      <td>11,050.5600</td>\n",
       "      <td>Санкт-Петербург</td>\n",
       "      <td>550.0000</td>\n",
       "    </tr>\n",
       "    <tr>\n",
       "      <td>3211</td>\n",
       "      <td>1489</td>\n",
       "      <td>9.0000</td>\n",
       "      <td>0.0000</td>\n",
       "      <td>32.0000</td>\n",
       "      <td>17,206.3000</td>\n",
       "      <td>Санкт-Петербург</td>\n",
       "      <td>950.0000</td>\n",
       "    </tr>\n",
       "    <tr>\n",
       "      <td>3212</td>\n",
       "      <td>1489</td>\n",
       "      <td>10.0000</td>\n",
       "      <td>0.0000</td>\n",
       "      <td>21.0000</td>\n",
       "      <td>19,559.4400</td>\n",
       "      <td>Санкт-Петербург</td>\n",
       "      <td>1,550.0000</td>\n",
       "    </tr>\n",
       "    <tr>\n",
       "      <td>3213</td>\n",
       "      <td>1489</td>\n",
       "      <td>11.0000</td>\n",
       "      <td>0.0000</td>\n",
       "      <td>20.0000</td>\n",
       "      <td>17,491.5600</td>\n",
       "      <td>Санкт-Петербург</td>\n",
       "      <td>1,150.0000</td>\n",
       "    </tr>\n",
       "    <tr>\n",
       "      <td>3214</td>\n",
       "      <td>1489</td>\n",
       "      <td>12.0000</td>\n",
       "      <td>0.0000</td>\n",
       "      <td>35.0000</td>\n",
       "      <td>17,322.5100</td>\n",
       "      <td>Санкт-Петербург</td>\n",
       "      <td>950.0000</td>\n",
       "    </tr>\n",
       "  </tbody>\n",
       "</table>\n",
       "<p>2229 rows × 7 columns</p>\n",
       "</div>"
      ],
      "text/plain": [
       "      user_id   month  sum_duration  count_messages      sum_mb  \\\n",
       "986      1001 11.0000      408.1200          0.0000 18,429.3400   \n",
       "987      1001 12.0000      391.3400          0.0000 14,036.6600   \n",
       "988      1002  6.0000      110.3700          4.0000 10,856.8200   \n",
       "989      1002  7.0000      204.7500         11.0000 17,580.1000   \n",
       "990      1002  8.0000      269.7100         13.0000 20,319.2600   \n",
       "...       ...     ...           ...             ...         ...   \n",
       "3210     1489  8.0000        0.0000         17.0000 11,050.5600   \n",
       "3211     1489  9.0000        0.0000         32.0000 17,206.3000   \n",
       "3212     1489 10.0000        0.0000         21.0000 19,559.4400   \n",
       "3213     1489 11.0000        0.0000         20.0000 17,491.5600   \n",
       "3214     1489 12.0000        0.0000         35.0000 17,322.5100   \n",
       "\n",
       "                 city    revenue  \n",
       "986            Москва 1,150.0000  \n",
       "987            Москва   550.0000  \n",
       "988       Стерлитамак   550.0000  \n",
       "989       Стерлитамак 1,150.0000  \n",
       "990       Стерлитамак 1,550.0000  \n",
       "...               ...        ...  \n",
       "3210  Санкт-Петербург   550.0000  \n",
       "3211  Санкт-Петербург   950.0000  \n",
       "3212  Санкт-Петербург 1,550.0000  \n",
       "3213  Санкт-Петербург 1,150.0000  \n",
       "3214  Санкт-Петербург   950.0000  \n",
       "\n",
       "[2229 rows x 7 columns]"
      ]
     },
     "execution_count": 23,
     "metadata": {},
     "output_type": "execute_result"
    }
   ],
   "source": [
    "# data_merged_smart - таблица, в которой сосредоточены данные по использовнию услуг пользователями ТП Смарт\n",
    "\n",
    "data_merged_smart = data_merged[data_merged['tariff']=='smart'].drop(columns=['tariff', 'count_duration', 'messages_included', \n",
    "                                                                              'mb_per_month_included', 'minutes_included', \n",
    "                                                                              'rub_monthly_fee', 'rub_per_gb', 'rub_per_message',\n",
    "                                                                              'rub_per_minute', 'age', 'churn_date','first_name',\n",
    "                                                                              'last_name', 'reg_date'])\n",
    "data_merged_smart"
   ]
  },
  {
   "cell_type": "markdown",
   "metadata": {},
   "source": [
    "<div class=\"alert alert-block alert-success\">\n",
    " \n",
    "### Комментарий ревьюера\n",
    "    \n",
    "#### Успех\n",
    "    \n",
    "Отличная практика. Ты сделала срезы отдельно по тарифам.\n",
    "</div>"
   ]
  },
  {
   "cell_type": "markdown",
   "metadata": {},
   "source": [
    "Сгруппируем данные по пользователям, чтобы найти сколько минут разговора, сколько сообщений и какой объём интернет-трафика требуется пользователям каждого тарифа в месяц.  \n",
    "Посчитаем среднее количество, дисперсию и стандартное отклонение. Построим гистограммы. Опишем распределения."
   ]
  },
  {
   "cell_type": "code",
   "execution_count": 26,
   "metadata": {},
   "outputs": [
    {
     "name": "stdout",
     "output_type": "stream",
     "text": [
      "*************************************************************************************\n",
      "В ТАРИФЕ SMART\n",
      "\n",
      "\n",
      "Cредняя sum_duration равна: 396.07\n",
      "Медиана sum_duration равна: 400.63\n",
      "Дисперсия sum_duration равна: 18776.38\n",
      "Стандартное отклонение sum_duration равно: 137.03\n"
     ]
    },
    {
     "data": {
      "image/png": "[encoded data removed]",
      "text/plain": [
       "<Figure size 1080x360 with 2 Axes>"
      ]
     },
     "metadata": {
      "needs_background": "light"
     },
     "output_type": "display_data"
    },
    {
     "name": "stdout",
     "output_type": "stream",
     "text": [
      "\n",
      "_____________________________________________________________________________________\n",
      "\n",
      "\n",
      "Cредняя count_messages равна: 32.35\n",
      "Медиана count_messages равна: 27.75\n",
      "Дисперсия count_messages равна: 702.91\n",
      "Стандартное отклонение count_messages равно: 26.51\n"
     ]
    },
    {
     "data": {
      "image/png": "[encoded data removed]",
      "text/plain": [
       "<Figure size 1080x360 with 2 Axes>"
      ]
     },
     "metadata": {
      "needs_background": "light"
     },
     "output_type": "display_data"
    },
    {
     "name": "stdout",
     "output_type": "stream",
     "text": [
      "\n",
      "_____________________________________________________________________________________\n",
      "\n",
      "\n",
      "Cредняя sum_mb равна: 16180.61\n",
      "Медиана sum_mb равна: 16250.36\n",
      "Дисперсия sum_mb равна: 12810825.62\n",
      "Стандартное отклонение sum_mb равно: 3579.22\n"
     ]
    },
    {
     "data": {
      "image/png": "[encoded data removed]",
      "text/plain": [
       "<Figure size 1080x360 with 2 Axes>"
      ]
     },
     "metadata": {
      "needs_background": "light"
     },
     "output_type": "display_data"
    },
    {
     "name": "stdout",
     "output_type": "stream",
     "text": [
      "\n",
      "_____________________________________________________________________________________\n",
      "\n",
      "\n",
      "Cредняя revenue равна: 1290.91\n",
      "Медиана revenue равна: 1150.0\n",
      "Дисперсия revenue равна: 350609.83\n",
      "Стандартное отклонение revenue равно: 592.12\n"
     ]
    },
    {
     "data": {
      "image/png": "[encoded data removed]",
      "text/plain": [
       "<Figure size 1080x360 with 2 Axes>"
      ]
     },
     "metadata": {
      "needs_background": "light"
     },
     "output_type": "display_data"
    },
    {
     "name": "stdout",
     "output_type": "stream",
     "text": [
      "\n",
      "_____________________________________________________________________________________\n",
      "\n",
      "     user_id  sum_duration  count_messages      sum_mb    revenue\n",
      "0       1001      399.7300          0.0000 16,233.0000   850.0000\n",
      "1       1002      204.4529         10.0000 16,576.6457 1,035.7143\n",
      "2       1005      520.2208         46.0000  8,307.2758   753.7500\n",
      "3       1006      299.0327          0.0000 14,926.2555   931.8182\n",
      "4       1007      459.9411         25.0000 14,625.0744   874.1111\n",
      "..       ...           ...             ...         ...        ...\n",
      "345     1494      365.3800          0.0000 15,398.8320   990.0000\n",
      "346     1496      471.7808         39.0000 22,578.5242 2,308.3333\n",
      "347     1497      441.5600         17.0000 15,191.6567   899.3333\n",
      "348     1498      305.4000         42.0000 18,606.3050 1,659.0000\n",
      "349     1499      384.0550         46.0000 12,663.2875   926.5000\n",
      "\n",
      "[350 rows x 5 columns]\n",
      "*************************************************************************************\n",
      "В ТАРИФЕ ULTRA\n",
      "\n",
      "\n",
      "Cредняя sum_duration равна: 498.28\n",
      "Медиана sum_duration равна: 485.3\n",
      "Дисперсия sum_duration равна: 70658.01\n",
      "Стандартное отклонение sum_duration равно: 265.82\n"
     ]
    },
    {
     "data": {
      "image/png": "[encoded data removed]",
      "text/plain": [
       "<Figure size 1080x360 with 2 Axes>"
      ]
     },
     "metadata": {
      "needs_background": "light"
     },
     "output_type": "display_data"
    },
    {
     "name": "stdout",
     "output_type": "stream",
     "text": [
      "\n",
      "_____________________________________________________________________________________\n",
      "\n",
      "\n",
      "Cредняя count_messages равна: 54.03\n",
      "Медиана count_messages равна: 45.5\n",
      "Дисперсия count_messages равна: 2149.83\n",
      "Стандартное отклонение count_messages равно: 46.37\n"
     ]
    },
    {
     "data": {
      "image/png": "[encoded data removed]",
      "text/plain": [
       "<Figure size 1080x360 with 2 Axes>"
      ]
     },
     "metadata": {
      "needs_background": "light"
     },
     "output_type": "display_data"
    },
    {
     "name": "stdout",
     "output_type": "stream",
     "text": [
      "\n",
      "_____________________________________________________________________________________\n",
      "\n",
      "\n",
      "Cредняя sum_mb равна: 19574.64\n",
      "Медиана sum_mb равна: 18699.44\n",
      "Дисперсия sum_mb равна: 69075748.21\n",
      "Стандартное отклонение sum_mb равно: 8311.18\n"
     ]
    },
    {
     "data": {
      "image/png": "[encoded data removed]",
      "text/plain": [
       "<Figure size 1080x360 with 2 Axes>"
      ]
     },
     "metadata": {
      "needs_background": "light"
     },
     "output_type": "display_data"
    },
    {
     "name": "stdout",
     "output_type": "stream",
     "text": [
      "\n",
      "_____________________________________________________________________________________\n",
      "\n",
      "\n",
      "Cредняя revenue равна: 2086.46\n",
      "Медиана revenue равна: 1950.0\n",
      "Дисперсия revenue равна: 89121.78\n",
      "Стандартное отклонение revenue равно: 298.53\n"
     ]
    },
    {
     "data": {
      "image/png": "[encoded data removed]",
      "text/plain": [
       "<Figure size 1080x360 with 2 Axes>"
      ]
     },
     "metadata": {
      "needs_background": "light"
     },
     "output_type": "display_data"
    },
    {
     "name": "stdout",
     "output_type": "stream",
     "text": [
      "\n",
      "_____________________________________________________________________________________\n",
      "\n",
      "     user_id  sum_duration  count_messages      sum_mb    revenue\n",
      "0       1000      302.2800         62.0000 13,424.0387 1,950.0000\n",
      "1       1003      720.1040         76.0000 11,456.1280 1,950.0000\n",
      "2       1004      115.1513        149.0000 18,629.9350 1,950.0000\n",
      "3       1013      443.8900         21.0000 15,258.5800 1,950.0000\n",
      "4       1016       57.4200         71.0000 13,405.2200 1,950.0000\n",
      "..       ...           ...             ...         ...        ...\n",
      "143     1476      441.7833          5.0000 16,698.4344 1,950.0000\n",
      "144     1485      547.2200        155.0000 23,422.7600 1,950.0000\n",
      "145     1491      483.2500         48.0000 17,940.2489 1,950.0000\n",
      "146     1493      350.5050         47.0000 27,209.6850 2,850.0000\n",
      "147     1495      737.7140         68.0000 25,482.1120 2,310.0000\n",
      "\n",
      "[148 rows x 5 columns]\n"
     ]
    }
   ],
   "source": [
    "data_merged_smart.name = 'SMART'\n",
    "data_merged_ultra.name = 'ULTRA'\n",
    "\n",
    "for frame in [data_merged_smart, data_merged_ultra]:\n",
    "    print('*************************************************************************************')\n",
    "    print(f'В ТАРИФЕ {frame.name}')\n",
    "    print()\n",
    "    frame=frame.groupby(['user_id'])['sum_duration','count_messages','sum_mb', 'revenue'].mean().reset_index()\n",
    "    \n",
    "    for col in ['sum_duration','count_messages','sum_mb', 'revenue']:\n",
    "\n",
    "        print()\n",
    "        # выводим на экран статистику\n",
    "        print(f'Cредняя {col} равна:', round(frame[col].mean(), 2))\n",
    "        print(f'Медиана {col} равна:', round(frame[col].median(), 2))\n",
    "        print(f'Дисперсия {col} равна:', round(np.var(frame[col], ddof=1), 2))\n",
    "        print(f'Стандартное отклонение {col} равно:', round(np.std(frame[col], ddof=1), 2))\n",
    "        \n",
    "        \n",
    "        # строим qq-plot для нормального распределения и гистограмму\n",
    "        plt.figure(figsize=(15,5))\n",
    "        plt.subplot(1,2,1)\n",
    "        st.probplot(frame[col], dist=\"norm\", plot=plt)\n",
    "        plt.subplot(1,2,2)\n",
    "        frame[col].hist(bins=12)\n",
    "        plt.show()\n",
    "    \n",
    "        print()\n",
    "        print('_____________________________________________________________________________________')\n",
    "        print()\n",
    "    print(frame)"
   ]
  },
  {
   "cell_type": "markdown",
   "metadata": {},
   "source": [
    "## Общий вывод по пункту  "
   ]
  },
  {
   "cell_type": "markdown",
   "metadata": {},
   "source": [
    "\n",
    "\n",
    "|   |Средние значения Smart|Средние значения Ultra|Дисперсии Smart|Дисперсии Ultra|Стандартное отклонение Smart| Стандартное отклонение Ultra|\n",
    "|:---|:---:  |:---:  |:---:  |:---:  |:---:  |:---:  |\n",
    "|кол-во сообщений   |32.35     |54.03     |702.91     |2149.83     |26.51       |46.37     |\n",
    "|прод-ть звонков    |396.07     |498.28      |18776.38    |70658.01     |137.03     |265.82     |\n",
    "|кол-во исп. мб   |16180.61     |19574.64     |12810825.62     |69075748.21     |3579.22     |8311.18     |\n",
    "|выручка    |1290.91       |2086.46     |350609.83    |89121.78     |592.12     |298.53     |\n"
   ]
  },
  {
   "cell_type": "markdown",
   "metadata": {},
   "source": [
    "Как видно из таблицы, средние значения, дисперсия и стандартное отклонение почти по всем показателям в ТП Ultra больше, чем в ТП Smart. Однако, выручка по ТП Smart отличается в среднем большей изменчивостью, т.к. дисперсия и СО больше, чем в ТП Ultra, что означает, что пользователи ТП Smart склоны к использованию услуг компании в большем объёме, чем им предоставлено в рамках тарифного плана. Пользователи ТП Ultra наоборот, редко нуждаются в учеличении количества предоставленных услуг.   \n",
    "  \n",
    "Рассмотрим распределения.  \n",
    "1) кол-во сообщений:  \n",
    "Smart - ненормальное распределение, много нулевых значений  \n",
    "Ultra - ненормальное распределение, похожее на ТП Smart  \n",
    "  \n",
    "2) прод-ть звонков:  \n",
    "Smart - нормальное распределение,  \n",
    "Ultra - нормальное распределение, похожее на ТП Smart  \n",
    "  \n",
    "3) кол-во исп. мб:  \n",
    "Smart - нормальное распределение,  \n",
    "Ultra - нормальное распределение, похожее на ТП Smart  \n",
    "  \n",
    "4) выручка:  \n",
    "Smart - ненормальное распределение,  \n",
    "Ultra - ненормальное распределение, сосредоточено около среднего значения\n",
    "\n",
    "\n"
   ]
  },
  {
   "cell_type": "markdown",
   "metadata": {},
   "source": [
    "<div class=\"alert alert-info\"> <b>Комментарий студента:</b>   \n",
    "   спасибо за тёплые слова. Но  с этим выводом я долго мучалась. Мне интересно, можно ли как-нибудь в цикле создать таблицу, как она в тексте выше, т.е. как автоматизировать создание сводной таблицы сравнения?\n",
    "</div>"
   ]
  },
  {
   "cell_type": "markdown",
   "metadata": {},
   "source": [
    "<div class=\"alert alert-block alert-success\">\n",
    " \n",
    "### Комментарий ревьюера\n",
    "    \n",
    "#### Успех\n",
    "    \n",
    "Браво. У меня нет других слов. За всю мою практику проверок проектов, я не видел лучшего описания поведения клиентов.\n",
    "\n",
    "Здесь очень хорошие графики. Есть пояснения статистических параметров. А главное, мы видим разницу между двумя тарифами.\n",
    "</div>"
   ]
  },
  {
   "cell_type": "markdown",
   "metadata": {},
   "source": [
    "# Проверяем гипотезы "
   ]
  },
  {
   "cell_type": "markdown",
   "metadata": {},
   "source": [
    "## Проверим двустороннюю гипотезу о равенстве средней выручки с каждого пользователя в месяц по разным тарифам"
   ]
  },
  {
   "cell_type": "markdown",
   "metadata": {},
   "source": [
    "$\\begin{equation*}\n",
    " \\begin{cases}\n",
    "   H_0 :\\text{средняя выручка компании с пользователей тарифов «Ультра» и «Смарт» одинаковая}\\\\\n",
    "   H_1 :\\text{средняя выручка компании с пользователей тарифов «Ультра» и «Смарт» различается}\n",
    " \\end{cases}\n",
    "\\end{equation*}$"
   ]
  },
  {
   "cell_type": "markdown",
   "metadata": {},
   "source": [
    "Посмотрим на выбросы в значении выручки:"
   ]
  },
  {
   "cell_type": "code",
   "execution_count": 27,
   "metadata": {},
   "outputs": [
    {
     "data": {
      "image/png": "[encoded data removed]",
      "text/plain": [
       "<Figure size 432x288 with 1 Axes>"
      ]
     },
     "metadata": {
      "needs_background": "light"
     },
     "output_type": "display_data"
    }
   ],
   "source": [
    "data_merged_smart.boxplot('revenue');"
   ]
  },
  {
   "cell_type": "code",
   "execution_count": 28,
   "metadata": {},
   "outputs": [
    {
     "data": {
      "text/plain": [
       "3507.5"
      ]
     },
     "execution_count": 28,
     "metadata": {},
     "output_type": "execute_result"
    }
   ],
   "source": [
    "q1_limit_high_smart_revenue = data_merged_smart['revenue'].quantile(0.25)\n",
    "q3_limit_high_smart_revenue = data_merged_smart['revenue'].quantile(0.75)\n",
    "iqr_smart_revenue = q3_limit_high_smart_revenue - q1_limit_high_smart_revenue # iqr\n",
    "    \n",
    "    # границы верхнего интервала наиболее вероятных значений\n",
    "limit_high_smart_revenue = q3_limit_high_smart_revenue + 1.5 * iqr_smart_revenue\n",
    "\n",
    "limit_high_smart_revenue"
   ]
  },
  {
   "cell_type": "code",
   "execution_count": 29,
   "metadata": {},
   "outputs": [
    {
     "data": {
      "image/png": "[encoded data removed]",
      "text/plain": [
       "<Figure size 432x288 with 1 Axes>"
      ]
     },
     "metadata": {
      "needs_background": "light"
     },
     "output_type": "display_data"
    }
   ],
   "source": [
    "data_merged_ultra.boxplot('revenue');"
   ]
  },
  {
   "cell_type": "code",
   "execution_count": 30,
   "metadata": {},
   "outputs": [
    {
     "data": {
      "text/plain": [
       "1950.0"
      ]
     },
     "execution_count": 30,
     "metadata": {},
     "output_type": "execute_result"
    }
   ],
   "source": [
    "q1_limit_high_ultra_revenue = data_merged_ultra['revenue'].quantile(0.25)\n",
    "q3_limit_high_ultra_revenue = data_merged_ultra['revenue'].quantile(0.75)\n",
    "iqr_ultra_revenue = q3_limit_high_ultra_revenue - q1_limit_high_ultra_revenue # iqr\n",
    "    \n",
    "    # границы верхнего интервала наиболее вероятных значений\n",
    "limit_high_ultra_revenue = q3_limit_high_ultra_revenue + 1.5 * iqr_ultra_revenue\n",
    "\n",
    "limit_high_ultra_revenue"
   ]
  },
  {
   "cell_type": "markdown",
   "metadata": {},
   "source": [
    "Выручка более 3500 - считаем выбросом, их можно увалить из анализа, т.к.:  \n",
    "- данных достаточно для построения надёжных выводов,  \n",
    "- тест Стьюдента чувствителен к выбросам"
   ]
  },
  {
   "cell_type": "code",
   "execution_count": 31,
   "metadata": {},
   "outputs": [
    {
     "data": {
      "text/plain": [
       "(3214, 21)"
      ]
     },
     "execution_count": 31,
     "metadata": {},
     "output_type": "execute_result"
    }
   ],
   "source": [
    "data_merged.shape"
   ]
  },
  {
   "cell_type": "code",
   "execution_count": 32,
   "metadata": {},
   "outputs": [],
   "source": [
    "data_merged = data_merged[data_merged['revenue'] < 3500 ]"
   ]
  },
  {
   "cell_type": "code",
   "execution_count": 33,
   "metadata": {},
   "outputs": [
    {
     "data": {
      "text/plain": [
       "(3160, 21)"
      ]
     },
     "execution_count": 33,
     "metadata": {},
     "output_type": "execute_result"
    }
   ],
   "source": [
    "data_merged.shape"
   ]
  },
  {
   "cell_type": "markdown",
   "metadata": {},
   "source": [
    "<div class=\"alert alert-block alert-success\">\n",
    " \n",
    "### Комментарий ревьюера\n",
    "    \n",
    "#### Успех\n",
    "    \n",
    "Очень качественный подход. Здесь ты верно определила каким методом мы будет пользоваться. А еще убрала лишние значения.\n",
    "</div>"
   ]
  },
  {
   "cell_type": "markdown",
   "metadata": {},
   "source": [
    "Чтобы проверить гипотезы о различии средних по выручке для двух тарифов необходимо:  \n",
    "1) установить, есть ли зависимость между двумя генеральными совокупностями;  \n",
    "2) посмотреть распределение выборочных средних для двух совокупностей;  \n",
    "3) доказать/опровергнуть равенство дисперсий двух генеральных совокупностей\n",
    "\n",
    "Пороговое значение альфа зададим равное 0,01    \n",
    "  \n",
    "Итак, (1) в нашем случае мы рассматриваем генеральные совокупности пользователей двух разных тарифов, они друг с другом не связаны, т.к. представлены людьми с разными потребностями в услугах связи. (2) В нашей выборке 497 человек, поэтому, ссылаясь на ЦПТ, можно утверждать, что распределение выборочных средних для двух совокупностей будет нормальным. (3) Дисперсии двух генеральных совокупностей скорее всего не равны, т.к. рассматриваемые тарифы предполагают разное поведение пользователей.  \n",
    "  \n",
    "Следовательно, для проверки гипотезы о различии средних применим ttest_ind из библиотеки scipy.stats, параметр equal_var зададим False.  \n",
    "Найдём p-value. Если p-value будет меньше выбранного уровня значимости  𝛼=0.01 , то нулевую гипотезу о равенстве средних отвергнем. Иначе сделаем вывод, что данные не позволили нам отвергнуть нулевую гипотезу."
   ]
  },
  {
   "cell_type": "code",
   "execution_count": 34,
   "metadata": {},
   "outputs": [
    {
     "name": "stdout",
     "output_type": "stream",
     "text": [
      "p-значение:  6.179723168444486e-274\n",
      "Отвергаем нулевую гипотезу\n"
     ]
    }
   ],
   "source": [
    "alpha = 0.01\n",
    "results = st.ttest_ind(data_merged_smart['revenue'], data_merged_ultra['revenue'],equal_var=False)\n",
    "\n",
    "print('p-значение: ', results.pvalue)\n",
    "\n",
    "if results.pvalue < alpha:\n",
    "    print(\"Отвергаем нулевую гипотезу\")\n",
    "else:\n",
    "    print(\"Не получилось отвергнуть нулевую гипотезу\") "
   ]
  },
  {
   "cell_type": "markdown",
   "metadata": {},
   "source": [
    "### Вывод\n",
    "Результат проверки по тесту Стьюдента показал, что необходимо отвергнуть нулевую гипотезу, значит, средняя выручка компании с пользователей тарифов «Ультра» и «Смарт» различается. Т.к. тест двухсторонний, то мы не знаем точно с какого тарифа компания получает больше выручки."
   ]
  },
  {
   "cell_type": "markdown",
   "metadata": {},
   "source": [
    "<div class=\"alert alert-block alert-success\">\n",
    " \n",
    "### Комментарий ревьюера\n",
    "    \n",
    "#### Успех\n",
    "    \n",
    "Абсолютно верно. По результата теста средняя выручка различается.\n",
    "</div>"
   ]
  },
  {
   "cell_type": "markdown",
   "metadata": {},
   "source": [
    "## Проверим двустороннюю гипотезу о равенстве средней выручки Москвы и регионов"
   ]
  },
  {
   "cell_type": "markdown",
   "metadata": {},
   "source": [
    "$\\begin{equation*}\n",
    " \\begin{cases}\n",
    "   H_0 :\\text{средняя выручка пользователей из Москвы такая же, как и пользователей из других регионов}\\\\\n",
    "   H_1 :\\text{средняя выручка пользователей из Москвы отличается от выручки пользователей из других регионов}\n",
    " \\end{cases}\n",
    "\\end{equation*}$"
   ]
  },
  {
   "cell_type": "markdown",
   "metadata": {},
   "source": [
    "Разделим таблицу data_merged на две:  \n",
    "1) пользователели из Москвы  \n",
    "2) пользователи из регионов"
   ]
  },
  {
   "cell_type": "code",
   "execution_count": 35,
   "metadata": {},
   "outputs": [
    {
     "name": "stdout",
     "output_type": "stream",
     "text": [
      "<class 'pandas.core.frame.DataFrame'>\n",
      "Int64Index: 606 entries, 8 to 3174\n",
      "Data columns (total 21 columns):\n",
      "user_id                  606 non-null int64\n",
      "month                    606 non-null float64\n",
      "count_duration           606 non-null float64\n",
      "sum_duration             606 non-null float64\n",
      "count_messages           606 non-null float64\n",
      "sum_mb                   606 non-null float64\n",
      "tariff                   606 non-null object\n",
      "messages_included        606 non-null int64\n",
      "mb_per_month_included    606 non-null int64\n",
      "minutes_included         606 non-null int64\n",
      "rub_monthly_fee          606 non-null int64\n",
      "rub_per_gb               606 non-null int64\n",
      "rub_per_message          606 non-null int64\n",
      "rub_per_minute           606 non-null int64\n",
      "age                      606 non-null int64\n",
      "churn_date               41 non-null object\n",
      "city                     606 non-null object\n",
      "first_name               606 non-null object\n",
      "last_name                606 non-null object\n",
      "reg_date                 606 non-null object\n",
      "revenue                  606 non-null float64\n",
      "dtypes: float64(6), int64(9), object(6)\n",
      "memory usage: 104.2+ KB\n"
     ]
    }
   ],
   "source": [
    "data_merged_moscow = data_merged[data_merged['city'] == 'Москва']\n",
    "data_merged_moscow.info()"
   ]
  },
  {
   "cell_type": "code",
   "execution_count": 36,
   "metadata": {},
   "outputs": [
    {
     "name": "stdout",
     "output_type": "stream",
     "text": [
      "<class 'pandas.core.frame.DataFrame'>\n",
      "Int64Index: 2554 entries, 0 to 3214\n",
      "Data columns (total 21 columns):\n",
      "user_id                  2554 non-null int64\n",
      "month                    2554 non-null float64\n",
      "count_duration           2554 non-null float64\n",
      "sum_duration             2554 non-null float64\n",
      "count_messages           2554 non-null float64\n",
      "sum_mb                   2554 non-null float64\n",
      "tariff                   2554 non-null object\n",
      "messages_included        2554 non-null int64\n",
      "mb_per_month_included    2554 non-null int64\n",
      "minutes_included         2554 non-null int64\n",
      "rub_monthly_fee          2554 non-null int64\n",
      "rub_per_gb               2554 non-null int64\n",
      "rub_per_message          2554 non-null int64\n",
      "rub_per_minute           2554 non-null int64\n",
      "age                      2554 non-null int64\n",
      "churn_date               143 non-null object\n",
      "city                     2554 non-null object\n",
      "first_name               2554 non-null object\n",
      "last_name                2554 non-null object\n",
      "reg_date                 2554 non-null object\n",
      "revenue                  2554 non-null float64\n",
      "dtypes: float64(6), int64(9), object(6)\n",
      "memory usage: 439.0+ KB\n"
     ]
    }
   ],
   "source": [
    "data_merged_region = data_merged[data_merged['city'] != 'Москва']\n",
    "data_merged_region.info()"
   ]
  },
  {
   "cell_type": "markdown",
   "metadata": {},
   "source": [
    "Проведём тот же тест, что и в предыдущем пункте, т.к.:  \n",
    "1) выборки независимы друг от друга  \n",
    "2) тест двухсторонний  \n",
    "3) количество наблюдений в обеих выборках достаточное для ЦПТ  \n",
    "4) выборки различны - дисперсии генераьльных совокупностей тоже примем различными  \n",
    "5) критическое значение примем 0,01"
   ]
  },
  {
   "cell_type": "markdown",
   "metadata": {},
   "source": [
    "<div class=\"alert alert-block alert-success\">\n",
    " \n",
    "### Комментарий ревьюера\n",
    "    \n",
    "#### Успех\n",
    "    \n",
    "В каком же я восторге от твоей работы:)\n",
    "</div>"
   ]
  },
  {
   "cell_type": "code",
   "execution_count": 37,
   "metadata": {},
   "outputs": [
    {
     "name": "stdout",
     "output_type": "stream",
     "text": [
      "p-значение:  0.09881020016387963\n",
      "Не получилось отвергнуть нулевую гипотезу\n"
     ]
    }
   ],
   "source": [
    "alpha = 0.01\n",
    "results = st.ttest_ind(data_merged_moscow['revenue'], data_merged_region['revenue'],equal_var=False)\n",
    "\n",
    "print('p-значение: ', results.pvalue)\n",
    "\n",
    "if results.pvalue < alpha:\n",
    "    print(\"Отвергаем нулевую гипотезу\")\n",
    "else:\n",
    "    print(\"Не получилось отвергнуть нулевую гипотезу\") "
   ]
  },
  {
   "cell_type": "markdown",
   "metadata": {},
   "source": [
    "### Вывод\n",
    "Результат проверки по тесту Стьюдента показал, что не получается отвергнуть нулевую гипотезу, значит, средняя выручка компании с пользователей в Москве и регионах одинаковая."
   ]
  },
  {
   "cell_type": "markdown",
   "metadata": {},
   "source": [
    "<div class=\"alert alert-block alert-success\">\n",
    " \n",
    "### Комментарий ревьюера\n",
    "    \n",
    "#### Успех\n",
    "    \n",
    "И здесь не могу поспорить.\n",
    "</div>"
   ]
  },
  {
   "cell_type": "markdown",
   "metadata": {},
   "source": [
    "## Общий вывод по пункту  \n",
    "  \n"
   ]
  },
  {
   "cell_type": "markdown",
   "metadata": {},
   "source": [
    "Итак, в этом пункте мы провели статистический анализ гипотез о равенстве средних значений выручки с пользователей за месяц в зависимости от разного (1) тарифного плана и (2) места проживания.  \n",
    "  \n",
    "Нами получены следующие выводы:  \n",
    "  \n",
    "  1) пользователи разных тарифных планов приносят в среднем в месяц разное количество выручки для компании - гипотеза о равенстве средних выручек по разным тарифным планам не подтвердилась;  \n",
    "  \n",
    "  2) нет оснований считать, что выручка с одного пользователя в месяц в Москве отличается от таковой в регионах - гипотеза о равенстве средних выручек по разным регионам проживания пользователей не опровергнута.\n"
   ]
  },
  {
   "cell_type": "markdown",
   "metadata": {},
   "source": [
    "# Ощий вывод"
   ]
  },
  {
   "cell_type": "markdown",
   "metadata": {},
   "source": [
    "Целью исследования было узнать, какой тариф приносит больше денег компании. На наш взгляд, это ТП Ультра, т.к. среднее значение выручки за месяц с каждого пользователя в нём больше. Это происходит, т.к. абонентская плата на ТП Ультра завышенная. ТП Смарт приносит больше денег компании, чем только стоимость абонплаты, когда пользователям не хватает включённых в тариф услуг, что происходит достаточно часто.  \n",
    "  \n",
    "В ходе исследования нами были:  \n",
    "1) изучены данные  \n",
    "  \n",
    "2) проведена их предобработка: приведение к нужным типам, исправлены ошибки в данных, проведена группировка по пользователю и месяцу и объединение таблиц  \n",
    "  \n",
    "3) посчитаны и добавлены в таблицу для каждого пользователя:  \n",
    "- количество сделанных звонков и израсходованных минут разговора по месяцам;  \n",
    "- количество отправленных сообщений по месяцам;  \n",
    "- объем израсходованного интернет-трафика по месяцам;  \n",
    "- помесячная выручка с каждого пользователя.  \n",
    "  \n",
    "4) проанализированы данные: поведение клиентов оператора, исходя из выборки, можно описать следующим образом: клиенты ТП Ультра - потребляют меньше чем покупают, следовательно, они запасливые и хотят иметь возможности больше, чем потребности; клиенты ТП Смарт - наоборот, хотят платить только за потреблённые ими услуги. Средние значения, дисперсия и стандартное отклонение по всем услугам в ТП Ultra больше, чем в ТП Smart.  \n",
    "  \n",
    "5) проверены гипотезы (при alpha=0,01):  \n",
    "  \n",
    "* средняя выручка пользователей тарифов «Ультра» и «Смарт» различаются;  \n",
    "* средняя выручка пользователей из Москвы отличается от выручки пользователей из других регионов - не нашла подтверждения.  \n",
    "При проверке гипотез использовался двухсторонний тест Стьюдента, т.к. выборки в обоих случаях были независимы друг от друга и различны,  количество наблюдений в достаточное для ЦПТ."
   ]
  },
  {
   "cell_type": "markdown",
   "metadata": {},
   "source": [
    "<div class=\"alert alert-block alert-success\">\n",
    " \n",
    "### Комментарий ревьюера\n",
    "    \n",
    "#### Успех\n",
    "    \n",
    "И в выводе мне не за что зацепиться. Ты отвечаешь на главный вопрос по поводу тарифа.\n",
    "Пользователи тарифа Смарт чаще всего выходят за рамки своих лимитов. При Ультре такого почти нет. Кажется, нужно тариф Ультра Активнее продвигать маркетологам, чтобы и у него становилось больше пользователей.\n",
    "</div>"
   ]
  },
  {
   "cell_type": "markdown",
   "metadata": {},
   "source": [
    "<div class=\"alert alert-info\"> <b>Комментарий студента:</b>   \n",
    "    Замечания учла, поправила!  \n",
    "</div>"
   ]
  },
  {
   "cell_type": "markdown",
   "metadata": {},
   "source": [
    "<div class=\"alert alert-block alert-warning\">\n",
    "    \n",
    "### Комментарии от ревьюера:\n",
    "    \n",
    "#### Совет\n",
    "\n",
    "Все же одну неточность в формулировке вывода я нашел:) Смотри, в последнем пункте по гипотезам ты пишешь. \"средняя выручка пользователей тарифов «Ультра» и «Смарт» различаются - `подтвердилась`;\"\n",
    "    \n",
    "Тут есть один важный момент - в статистике гипотезы подтвердить невозможно. Так что, просто убери это слово и не используй  его в дальнейшем при описании результатов проверки гипотез\n",
    "\n",
    "</div>"
   ]
  },
  {
   "cell_type": "markdown",
   "metadata": {},
   "source": [
    "<div class=\"alert alert-block alert-info\">\n",
    "\n",
    "## Итоговый комментарии от ревьюера:\n",
    "    \n",
    "#### Успех\n",
    "\n",
    "Я в дичайшем восторге от твоего проекта. Мне нравится здесь абсолютно все. Я вижу, что у тебя есть хорошая база и самое важное, ты понимаешь каждое свое действие. \n",
    "    \n",
    "Отдельная благодарность за структуру проекта. А еще, ты умеешь хорошо оптимизировать свою работу и код написан лаконично.\n",
    "    \n",
    "Убежден на 100%, что с дальнейшими проектами проблем у тебя не возникнет. Ты станешь хорошим Аналитиком, я в этом не сомневаюсь.\n",
    "</div>"
   ]
  }
 ],
 "metadata": {
  "ExecuteTimeLog": [
   {
    "duration": 1492,
    "start_time": "2022-01-27T13:16:19.766Z"
   },
   {
    "duration": 531,
    "start_time": "2022-01-27T13:16:21.261Z"
   },
   {
    "duration": 9,
    "start_time": "2022-01-27T13:16:21.796Z"
   },
   {
    "duration": 940,
    "start_time": "2022-01-27T13:16:21.808Z"
   },
   {
    "duration": 632,
    "start_time": "2022-01-27T13:16:22.751Z"
   },
   {
    "duration": 477,
    "start_time": "2022-01-27T13:16:23.386Z"
   },
   {
    "duration": 282,
    "start_time": "2022-01-27T13:16:23.866Z"
   },
   {
    "duration": 312,
    "start_time": "2022-01-27T13:16:24.156Z"
   },
   {
    "duration": 345,
    "start_time": "2022-01-27T13:16:24.472Z"
   },
   {
    "duration": 28,
    "start_time": "2022-01-27T13:16:24.820Z"
   },
   {
    "duration": 50,
    "start_time": "2022-01-27T13:16:24.851Z"
   },
   {
    "duration": 112,
    "start_time": "2022-01-27T13:16:24.904Z"
   },
   {
    "duration": 57,
    "start_time": "2022-01-27T13:16:25.019Z"
   },
   {
    "duration": 62,
    "start_time": "2022-01-27T13:16:25.079Z"
   },
   {
    "duration": 68,
    "start_time": "2022-01-27T13:16:25.144Z"
   },
   {
    "duration": 24,
    "start_time": "2022-01-27T13:16:25.234Z"
   },
   {
    "duration": 48,
    "start_time": "2022-01-27T13:16:25.261Z"
   },
   {
    "duration": 39,
    "start_time": "2022-01-27T13:16:25.311Z"
   },
   {
    "duration": 15,
    "start_time": "2022-01-27T13:16:25.353Z"
   },
   {
    "duration": 413,
    "start_time": "2022-01-27T13:16:25.371Z"
   },
   {
    "duration": 17,
    "start_time": "2022-01-27T13:16:25.786Z"
   },
   {
    "duration": 51,
    "start_time": "2022-01-27T13:16:25.805Z"
   },
   {
    "duration": 54,
    "start_time": "2022-01-27T13:16:25.860Z"
   },
   {
    "duration": 1048,
    "start_time": "2022-01-27T13:16:25.917Z"
   },
   {
    "duration": 13,
    "start_time": "2022-01-27T13:16:26.955Z"
   },
   {
    "duration": 11,
    "start_time": "2022-01-27T13:16:26.959Z"
   },
   {
    "duration": 5,
    "start_time": "2022-01-27T13:16:26.967Z"
   },
   {
    "duration": 3,
    "start_time": "2022-01-27T13:16:26.971Z"
   },
   {
    "duration": 1,
    "start_time": "2022-01-27T13:16:26.975Z"
   },
   {
    "duration": -4,
    "start_time": "2022-01-27T13:16:26.982Z"
   },
   {
    "duration": -6,
    "start_time": "2022-01-27T13:16:26.986Z"
   },
   {
    "duration": -9,
    "start_time": "2022-01-27T13:16:26.990Z"
   },
   {
    "duration": -11,
    "start_time": "2022-01-27T13:16:26.994Z"
   },
   {
    "duration": -15,
    "start_time": "2022-01-27T13:16:26.999Z"
   },
   {
    "duration": -17,
    "start_time": "2022-01-27T13:16:27.003Z"
   },
   {
    "duration": 5227,
    "start_time": "2022-01-27T13:17:16.546Z"
   },
   {
    "duration": 5471,
    "start_time": "2022-01-27T13:17:44.608Z"
   },
   {
    "duration": 236,
    "start_time": "2022-01-27T13:17:50.082Z"
   },
   {
    "duration": 21,
    "start_time": "2022-01-27T13:17:50.321Z"
   },
   {
    "duration": 232,
    "start_time": "2022-01-27T13:17:50.346Z"
   },
   {
    "duration": 12,
    "start_time": "2022-01-27T13:17:50.581Z"
   },
   {
    "duration": 12,
    "start_time": "2022-01-27T13:17:50.595Z"
   },
   {
    "duration": 7,
    "start_time": "2022-01-27T13:17:50.633Z"
   },
   {
    "duration": 22,
    "start_time": "2022-01-27T13:17:50.644Z"
   },
   {
    "duration": 15,
    "start_time": "2022-01-27T13:17:50.669Z"
   },
   {
    "duration": 21,
    "start_time": "2022-01-27T13:17:50.687Z"
   },
   {
    "duration": 29,
    "start_time": "2022-01-27T13:17:50.710Z"
   },
   {
    "duration": 8,
    "start_time": "2022-01-27T13:17:50.741Z"
   },
   {
    "duration": 1533,
    "start_time": "2022-02-05T07:42:20.035Z"
   },
   {
    "duration": 529,
    "start_time": "2022-02-05T07:42:21.571Z"
   },
   {
    "duration": 8,
    "start_time": "2022-02-05T07:42:22.103Z"
   },
   {
    "duration": 896,
    "start_time": "2022-02-05T07:42:22.114Z"
   },
   {
    "duration": 614,
    "start_time": "2022-02-05T07:42:23.012Z"
   },
   {
    "duration": 496,
    "start_time": "2022-02-05T07:42:23.629Z"
   },
   {
    "duration": 264,
    "start_time": "2022-02-05T07:42:24.127Z"
   },
   {
    "duration": 293,
    "start_time": "2022-02-05T07:42:24.395Z"
   },
   {
    "duration": 334,
    "start_time": "2022-02-05T07:42:24.691Z"
   },
   {
    "duration": 14,
    "start_time": "2022-02-05T07:42:25.027Z"
   },
   {
    "duration": 43,
    "start_time": "2022-02-05T07:42:25.045Z"
   },
   {
    "duration": 17,
    "start_time": "2022-02-05T07:42:47.739Z"
   },
   {
    "duration": 16,
    "start_time": "2022-02-05T07:47:32.056Z"
   },
   {
    "duration": 17,
    "start_time": "2022-02-05T07:50:06.592Z"
   },
   {
    "duration": 6,
    "start_time": "2022-02-05T07:53:51.241Z"
   },
   {
    "duration": 724,
    "start_time": "2022-02-05T07:53:51.251Z"
   },
   {
    "duration": 9,
    "start_time": "2022-02-05T07:53:51.984Z"
   },
   {
    "duration": 1274,
    "start_time": "2022-02-05T07:53:51.997Z"
   },
   {
    "duration": 800,
    "start_time": "2022-02-05T07:53:53.275Z"
   },
   {
    "duration": 537,
    "start_time": "2022-02-05T07:53:54.078Z"
   },
   {
    "duration": 286,
    "start_time": "2022-02-05T07:53:54.618Z"
   },
   {
    "duration": 367,
    "start_time": "2022-02-05T07:53:54.907Z"
   },
   {
    "duration": 330,
    "start_time": "2022-02-05T07:53:55.277Z"
   },
   {
    "duration": 13,
    "start_time": "2022-02-05T07:53:55.609Z"
   },
   {
    "duration": 46,
    "start_time": "2022-02-05T07:53:55.625Z"
   },
   {
    "duration": 17,
    "start_time": "2022-02-05T07:53:55.674Z"
   },
   {
    "duration": 8,
    "start_time": "2022-02-05T07:54:43.081Z"
   },
   {
    "duration": 66,
    "start_time": "2022-02-05T07:54:52.340Z"
   },
   {
    "duration": 424,
    "start_time": "2022-02-05T08:06:05.139Z"
   },
   {
    "duration": 5,
    "start_time": "2022-02-05T08:06:08.128Z"
   },
   {
    "duration": 508,
    "start_time": "2022-02-05T08:06:08.136Z"
   },
   {
    "duration": 8,
    "start_time": "2022-02-05T08:06:08.646Z"
   },
   {
    "duration": 848,
    "start_time": "2022-02-05T08:06:08.657Z"
   },
   {
    "duration": 628,
    "start_time": "2022-02-05T08:06:09.507Z"
   },
   {
    "duration": 457,
    "start_time": "2022-02-05T08:06:10.137Z"
   },
   {
    "duration": 279,
    "start_time": "2022-02-05T08:06:10.597Z"
   },
   {
    "duration": 295,
    "start_time": "2022-02-05T08:06:10.879Z"
   },
   {
    "duration": 316,
    "start_time": "2022-02-05T08:06:11.176Z"
   },
   {
    "duration": 13,
    "start_time": "2022-02-05T08:06:11.495Z"
   },
   {
    "duration": 24,
    "start_time": "2022-02-05T08:06:11.510Z"
   },
   {
    "duration": 32,
    "start_time": "2022-02-05T08:06:11.537Z"
   },
   {
    "duration": 77,
    "start_time": "2022-02-05T08:06:11.572Z"
   },
   {
    "duration": 56,
    "start_time": "2022-02-05T08:06:11.651Z"
   },
   {
    "duration": 36,
    "start_time": "2022-02-05T08:06:11.709Z"
   },
   {
    "duration": 64,
    "start_time": "2022-02-05T08:06:11.769Z"
   },
   {
    "duration": 41,
    "start_time": "2022-02-05T08:06:11.836Z"
   },
   {
    "duration": 22,
    "start_time": "2022-02-05T08:06:11.880Z"
   },
   {
    "duration": 15,
    "start_time": "2022-02-05T08:06:11.906Z"
   },
   {
    "duration": 47,
    "start_time": "2022-02-05T08:06:11.924Z"
   },
   {
    "duration": 368,
    "start_time": "2022-02-05T08:06:11.974Z"
   },
   {
    "duration": 29,
    "start_time": "2022-02-05T08:06:12.344Z"
   },
   {
    "duration": 45,
    "start_time": "2022-02-05T08:06:13.927Z"
   }
  ],
  "kernelspec": {
   "display_name": "Python 3",
   "language": "python",
   "name": "python3"
  },
  "language_info": {
   "codemirror_mode": {
    "name": "ipython",
    "version": 3
   },
   "file_extension": ".py",
   "mimetype": "text/x-python",
   "name": "python",
   "nbconvert_exporter": "python",
   "pygments_lexer": "ipython3",
   "version": "3.8.8"
  },
  "toc": {
   "base_numbering": 1,
   "nav_menu": {},
   "number_sections": true,
   "sideBar": true,
   "skip_h1_title": false,
   "title_cell": "Table of Contents",
   "title_sidebar": "Contents",
   "toc_cell": false,
   "toc_position": {},
   "toc_section_display": true,
   "toc_window_display": false
  }
 },
 "nbformat": 4,
 "nbformat_minor": 2
}
