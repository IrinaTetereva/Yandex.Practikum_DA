{
 "cells": [
  {
   "cell_type": "markdown",
   "metadata": {},
   "source": [
    "# Название проекта: Исследование надёжности заёмщиков\n",
    "\n",
    "**Описание ситуации**    \n",
    "\n",
    "    Заказчик — кредитный отдел банка.  Входные данные от банка — статистика о платёжеспособности клиентов.\n",
    "\n",
    "    Результаты исследования будут учтены при построении модели **кредитного скоринга** — специальной системы, которая оценивает способность потенциального заёмщика вернуть кредит банку. \n",
    "\n",
    "**Цель исследования**:    \n",
    "\n",
    "    выяснить, влияет ли семейное положение и количество детей клиента на факт погашения кредита в срок.\n",
    "\n",
    "**Ход исследования**  \n",
    "  \n",
    "    1) Проведём обзор данных и их предобработку: \n",
    "    * проверим данные на ошибки (дубликаты, пропуски, неправильные типы данных и другие аномалии)  \n",
    "    * оценим их влияние на исследование,  \n",
    "    * поищем возможность исправить самые критичные ошибки данных.  \n",
    "    2) Далее проведём анализ, ответим на вопросы:\n",
    "    * Есть ли зависимость между наличием детей и возвратом кредита в срок?  \n",
    "    * Есть ли зависимость между семейным положением и возвратом кредита в срок?  \n",
    "    * Есть ли зависимость между уровнем дохода и возвратом кредита в срок?  \n",
    "    * Как разные цели кредита влияют на его возврат в срок?  \n",
    "    Найдём среднее количество плательщиков по кредиту для каждой категории клиентов. Сопроводим текущими выводами.\n",
    "    3) Сделаем общие выводы по проекту."
   ]
  },
  {
   "cell_type": "markdown",
   "metadata": {
    "toc": true
   },
   "source": [
    "<h1>Table of Contents<span class=\"tocSkip\"></span></h1>\n",
    "<div class=\"toc\"><ul class=\"toc-item\"><li><span><a href=\"#Название-проекта:-Исследование-надёжности-заёмщиков\" data-toc-modified-id=\"Название-проекта:-Исследование-надёжности-заёмщиков-1\">Название проекта: Исследование надёжности заёмщиков</a></span></li><li><span><a href=\"#Шаг-1.-Изучим-общую-информацию\" data-toc-modified-id=\"Шаг-1.-Изучим-общую-информацию-2\">Шаг 1. Изучим общую информацию</a></span><ul class=\"toc-item\"><li><span><a href=\"#Загрузим-библиотеки-и-посмотрим-на-данные\" data-toc-modified-id=\"Загрузим-библиотеки-и-посмотрим-на-данные-2.1\">Загрузим библиотеки и посмотрим на данные</a></span></li><li><span><a href=\"#Вывод\" data-toc-modified-id=\"Вывод-2.2\">Вывод</a></span></li></ul></li><li><span><a href=\"#Шаг-2.-Предобработка-данных\" data-toc-modified-id=\"Шаг-2.-Предобработка-данных-3\">Шаг 2. Предобработка данных</a></span><ul class=\"toc-item\"><li><span><a href=\"#Обработка-пропусков\" data-toc-modified-id=\"Обработка-пропусков-3.1\">Обработка пропусков</a></span></li><li><span><a href=\"#Замена-странных-значений\" data-toc-modified-id=\"Замена-странных-значений-3.2\">Замена странных значений</a></span></li><li><span><a href=\"#Замена-типа-данных\" data-toc-modified-id=\"Замена-типа-данных-3.3\">Замена типа данных</a></span></li><li><span><a href=\"#Обработка-дубликатов\" data-toc-modified-id=\"Обработка-дубликатов-3.4\">Обработка дубликатов</a></span></li><li><span><a href=\"#Лемматизация\" data-toc-modified-id=\"Лемматизация-3.5\">Лемматизация</a></span></li><li><span><a href=\"#Категоризация-данных\" data-toc-modified-id=\"Категоризация-данных-3.6\">Категоризация данных</a></span></li><li><span><a href=\"#Вывод\" data-toc-modified-id=\"Вывод-3.7\">Вывод</a></span></li></ul></li><li><span><a href=\"#Шаг-3.-Исследовательский-анализ-данных\" data-toc-modified-id=\"Шаг-3.-Исследовательский-анализ-данных-4\">Шаг 3. Исследовательский анализ данных</a></span><ul class=\"toc-item\"><li><span><a href=\"#Есть-ли-зависимость-между-наличием-детей-и-возвратом-кредита-в-срок?\" data-toc-modified-id=\"Есть-ли-зависимость-между-наличием-детей-и-возвратом-кредита-в-срок?-4.1\">Есть ли зависимость между наличием детей и возвратом кредита в срок?</a></span><ul class=\"toc-item\"><li><span><a href=\"#Вывод\" data-toc-modified-id=\"Вывод-4.1.1\">Вывод</a></span></li></ul></li><li><span><a href=\"#Есть-ли-зависимость-между-семейным-положением-и-возвратом-кредита-в-срок?\" data-toc-modified-id=\"Есть-ли-зависимость-между-семейным-положением-и-возвратом-кредита-в-срок?-4.2\">Есть ли зависимость между семейным положением и возвратом кредита в срок?</a></span><ul class=\"toc-item\"><li><span><a href=\"#Вывод\" data-toc-modified-id=\"Вывод-4.2.1\">Вывод</a></span></li></ul></li><li><span><a href=\"#Есть-ли-зависимость-между-уровнем-дохода-и-возвратом-кредита-в-срок?\" data-toc-modified-id=\"Есть-ли-зависимость-между-уровнем-дохода-и-возвратом-кредита-в-срок?-4.3\">Есть ли зависимость между уровнем дохода и возвратом кредита в срок?</a></span><ul class=\"toc-item\"><li><span><a href=\"#Вывод\" data-toc-modified-id=\"Вывод-4.3.1\">Вывод</a></span></li></ul></li><li><span><a href=\"#Как-разные-цели-кредита-влияют-на-его-возврат-в-срок?\" data-toc-modified-id=\"Как-разные-цели-кредита-влияют-на-его-возврат-в-срок?-4.4\">Как разные цели кредита влияют на его возврат в срок?</a></span><ul class=\"toc-item\"><li><span><a href=\"#Вывод\" data-toc-modified-id=\"Вывод-4.4.1\">Вывод</a></span></li></ul></li></ul></li><li><span><a href=\"#Шаг-4.-Общий-вывод\" data-toc-modified-id=\"Шаг-4.-Общий-вывод-5\">Шаг 4. Общий вывод</a></span></li></ul></div>"
   ]
  },
  {
   "cell_type": "markdown",
   "metadata": {},
   "source": [
    "# Шаг 1. Изучим общую информацию"
   ]
  },
  {
   "cell_type": "markdown",
   "metadata": {},
   "source": [
    "## Загрузим библиотеки и посмотрим на данные"
   ]
  },
  {
   "cell_type": "code",
   "execution_count": 1,
   "metadata": {},
   "outputs": [
    {
     "name": "stdout",
     "output_type": "stream",
     "text": [
      "Requirement already satisfied: pymystem3 in c:\\users\\user\\anaconda3\\lib\\site-packages (0.2.0)\n",
      "Requirement already satisfied: requests in c:\\users\\user\\anaconda3\\lib\\site-packages (from pymystem3) (2.25.1)\n",
      "Requirement already satisfied: idna<3,>=2.5 in c:\\users\\user\\anaconda3\\lib\\site-packages (from requests->pymystem3) (2.10)\n",
      "Requirement already satisfied: certifi>=2017.4.17 in c:\\users\\user\\anaconda3\\lib\\site-packages (from requests->pymystem3) (2020.12.5)\n",
      "Requirement already satisfied: chardet<5,>=3.0.2 in c:\\users\\user\\anaconda3\\lib\\site-packages (from requests->pymystem3) (4.0.0)\n",
      "Requirement already satisfied: urllib3<1.27,>=1.21.1 in c:\\users\\user\\anaconda3\\lib\\site-packages (from requests->pymystem3) (1.26.4)\n"
     ]
    }
   ],
   "source": [
    "import pandas as pd # Импорт библиотеки\n",
    "\n",
    "!pip install pymystem3\n",
    "from pymystem3 import Mystem # импортируем библиотеку pymystem3 для лемматизации\n",
    "m = Mystem() \n",
    "from collections import Counter # импортируем счётчик"
   ]
  },
  {
   "cell_type": "code",
   "execution_count": 2,
   "metadata": {},
   "outputs": [
    {
     "name": "stdout",
     "output_type": "stream",
     "text": [
      "<class 'pandas.core.frame.DataFrame'>\n",
      "RangeIndex: 21525 entries, 0 to 21524\n",
      "Data columns (total 12 columns):\n",
      " #   Column            Non-Null Count  Dtype  \n",
      "---  ------            --------------  -----  \n",
      " 0   children          21525 non-null  int64  \n",
      " 1   days_employed     19351 non-null  float64\n",
      " 2   dob_years         21525 non-null  int64  \n",
      " 3   education         21525 non-null  object \n",
      " 4   education_id      21525 non-null  int64  \n",
      " 5   family_status     21525 non-null  object \n",
      " 6   family_status_id  21525 non-null  int64  \n",
      " 7   gender            21525 non-null  object \n",
      " 8   income_type       21525 non-null  object \n",
      " 9   debt              21525 non-null  int64  \n",
      " 10  total_income      19351 non-null  float64\n",
      " 11  purpose           21525 non-null  object \n",
      "dtypes: float64(2), int64(5), object(5)\n",
      "memory usage: 2.0+ MB\n"
     ]
    }
   ],
   "source": [
    "data = pd.read_csv('data.csv')\n",
    "data.info() # смотрим общую информацию о датафрейме"
   ]
  },
  {
   "cell_type": "code",
   "execution_count": 3,
   "metadata": {},
   "outputs": [
    {
     "data": {
      "text/html": [
       "<div>\n",
       "<style scoped>\n",
       "    .dataframe tbody tr th:only-of-type {\n",
       "        vertical-align: middle;\n",
       "    }\n",
       "\n",
       "    .dataframe tbody tr th {\n",
       "        vertical-align: top;\n",
       "    }\n",
       "\n",
       "    .dataframe thead th {\n",
       "        text-align: right;\n",
       "    }\n",
       "</style>\n",
       "<table border=\"1\" class=\"dataframe\">\n",
       "  <thead>\n",
       "    <tr style=\"text-align: right;\">\n",
       "      <th></th>\n",
       "      <th>children</th>\n",
       "      <th>days_employed</th>\n",
       "      <th>dob_years</th>\n",
       "      <th>education</th>\n",
       "      <th>education_id</th>\n",
       "      <th>family_status</th>\n",
       "      <th>family_status_id</th>\n",
       "      <th>gender</th>\n",
       "      <th>income_type</th>\n",
       "      <th>debt</th>\n",
       "      <th>total_income</th>\n",
       "      <th>purpose</th>\n",
       "    </tr>\n",
       "  </thead>\n",
       "  <tbody>\n",
       "    <tr>\n",
       "      <th>0</th>\n",
       "      <td>1</td>\n",
       "      <td>-8437.673028</td>\n",
       "      <td>42</td>\n",
       "      <td>высшее</td>\n",
       "      <td>0</td>\n",
       "      <td>женат / замужем</td>\n",
       "      <td>0</td>\n",
       "      <td>F</td>\n",
       "      <td>сотрудник</td>\n",
       "      <td>0</td>\n",
       "      <td>253875.639453</td>\n",
       "      <td>покупка жилья</td>\n",
       "    </tr>\n",
       "    <tr>\n",
       "      <th>1</th>\n",
       "      <td>1</td>\n",
       "      <td>-4024.803754</td>\n",
       "      <td>36</td>\n",
       "      <td>среднее</td>\n",
       "      <td>1</td>\n",
       "      <td>женат / замужем</td>\n",
       "      <td>0</td>\n",
       "      <td>F</td>\n",
       "      <td>сотрудник</td>\n",
       "      <td>0</td>\n",
       "      <td>112080.014102</td>\n",
       "      <td>приобретение автомобиля</td>\n",
       "    </tr>\n",
       "    <tr>\n",
       "      <th>2</th>\n",
       "      <td>0</td>\n",
       "      <td>-5623.422610</td>\n",
       "      <td>33</td>\n",
       "      <td>Среднее</td>\n",
       "      <td>1</td>\n",
       "      <td>женат / замужем</td>\n",
       "      <td>0</td>\n",
       "      <td>M</td>\n",
       "      <td>сотрудник</td>\n",
       "      <td>0</td>\n",
       "      <td>145885.952297</td>\n",
       "      <td>покупка жилья</td>\n",
       "    </tr>\n",
       "    <tr>\n",
       "      <th>3</th>\n",
       "      <td>3</td>\n",
       "      <td>-4124.747207</td>\n",
       "      <td>32</td>\n",
       "      <td>среднее</td>\n",
       "      <td>1</td>\n",
       "      <td>женат / замужем</td>\n",
       "      <td>0</td>\n",
       "      <td>M</td>\n",
       "      <td>сотрудник</td>\n",
       "      <td>0</td>\n",
       "      <td>267628.550329</td>\n",
       "      <td>дополнительное образование</td>\n",
       "    </tr>\n",
       "    <tr>\n",
       "      <th>4</th>\n",
       "      <td>0</td>\n",
       "      <td>340266.072047</td>\n",
       "      <td>53</td>\n",
       "      <td>среднее</td>\n",
       "      <td>1</td>\n",
       "      <td>гражданский брак</td>\n",
       "      <td>1</td>\n",
       "      <td>F</td>\n",
       "      <td>пенсионер</td>\n",
       "      <td>0</td>\n",
       "      <td>158616.077870</td>\n",
       "      <td>сыграть свадьбу</td>\n",
       "    </tr>\n",
       "  </tbody>\n",
       "</table>\n",
       "</div>"
      ],
      "text/plain": [
       "   children  days_employed  dob_years education  education_id  \\\n",
       "0         1   -8437.673028         42    высшее             0   \n",
       "1         1   -4024.803754         36   среднее             1   \n",
       "2         0   -5623.422610         33   Среднее             1   \n",
       "3         3   -4124.747207         32   среднее             1   \n",
       "4         0  340266.072047         53   среднее             1   \n",
       "\n",
       "      family_status  family_status_id gender income_type  debt   total_income  \\\n",
       "0   женат / замужем                 0      F   сотрудник     0  253875.639453   \n",
       "1   женат / замужем                 0      F   сотрудник     0  112080.014102   \n",
       "2   женат / замужем                 0      M   сотрудник     0  145885.952297   \n",
       "3   женат / замужем                 0      M   сотрудник     0  267628.550329   \n",
       "4  гражданский брак                 1      F   пенсионер     0  158616.077870   \n",
       "\n",
       "                      purpose  \n",
       "0               покупка жилья  \n",
       "1     приобретение автомобиля  \n",
       "2               покупка жилья  \n",
       "3  дополнительное образование  \n",
       "4             сыграть свадьбу  "
      ]
     },
     "metadata": {},
     "output_type": "display_data"
    },
    {
     "data": {
      "text/html": [
       "<div>\n",
       "<style scoped>\n",
       "    .dataframe tbody tr th:only-of-type {\n",
       "        vertical-align: middle;\n",
       "    }\n",
       "\n",
       "    .dataframe tbody tr th {\n",
       "        vertical-align: top;\n",
       "    }\n",
       "\n",
       "    .dataframe thead th {\n",
       "        text-align: right;\n",
       "    }\n",
       "</style>\n",
       "<table border=\"1\" class=\"dataframe\">\n",
       "  <thead>\n",
       "    <tr style=\"text-align: right;\">\n",
       "      <th></th>\n",
       "      <th>children</th>\n",
       "      <th>days_employed</th>\n",
       "      <th>dob_years</th>\n",
       "      <th>education</th>\n",
       "      <th>education_id</th>\n",
       "      <th>family_status</th>\n",
       "      <th>family_status_id</th>\n",
       "      <th>gender</th>\n",
       "      <th>income_type</th>\n",
       "      <th>debt</th>\n",
       "      <th>total_income</th>\n",
       "      <th>purpose</th>\n",
       "    </tr>\n",
       "  </thead>\n",
       "  <tbody>\n",
       "    <tr>\n",
       "      <th>21520</th>\n",
       "      <td>1</td>\n",
       "      <td>-4529.316663</td>\n",
       "      <td>43</td>\n",
       "      <td>среднее</td>\n",
       "      <td>1</td>\n",
       "      <td>гражданский брак</td>\n",
       "      <td>1</td>\n",
       "      <td>F</td>\n",
       "      <td>компаньон</td>\n",
       "      <td>0</td>\n",
       "      <td>224791.862382</td>\n",
       "      <td>операции с жильем</td>\n",
       "    </tr>\n",
       "    <tr>\n",
       "      <th>21521</th>\n",
       "      <td>0</td>\n",
       "      <td>343937.404131</td>\n",
       "      <td>67</td>\n",
       "      <td>среднее</td>\n",
       "      <td>1</td>\n",
       "      <td>женат / замужем</td>\n",
       "      <td>0</td>\n",
       "      <td>F</td>\n",
       "      <td>пенсионер</td>\n",
       "      <td>0</td>\n",
       "      <td>155999.806512</td>\n",
       "      <td>сделка с автомобилем</td>\n",
       "    </tr>\n",
       "    <tr>\n",
       "      <th>21522</th>\n",
       "      <td>1</td>\n",
       "      <td>-2113.346888</td>\n",
       "      <td>38</td>\n",
       "      <td>среднее</td>\n",
       "      <td>1</td>\n",
       "      <td>гражданский брак</td>\n",
       "      <td>1</td>\n",
       "      <td>M</td>\n",
       "      <td>сотрудник</td>\n",
       "      <td>1</td>\n",
       "      <td>89672.561153</td>\n",
       "      <td>недвижимость</td>\n",
       "    </tr>\n",
       "    <tr>\n",
       "      <th>21523</th>\n",
       "      <td>3</td>\n",
       "      <td>-3112.481705</td>\n",
       "      <td>38</td>\n",
       "      <td>среднее</td>\n",
       "      <td>1</td>\n",
       "      <td>женат / замужем</td>\n",
       "      <td>0</td>\n",
       "      <td>M</td>\n",
       "      <td>сотрудник</td>\n",
       "      <td>1</td>\n",
       "      <td>244093.050500</td>\n",
       "      <td>на покупку своего автомобиля</td>\n",
       "    </tr>\n",
       "    <tr>\n",
       "      <th>21524</th>\n",
       "      <td>2</td>\n",
       "      <td>-1984.507589</td>\n",
       "      <td>40</td>\n",
       "      <td>среднее</td>\n",
       "      <td>1</td>\n",
       "      <td>женат / замужем</td>\n",
       "      <td>0</td>\n",
       "      <td>F</td>\n",
       "      <td>сотрудник</td>\n",
       "      <td>0</td>\n",
       "      <td>82047.418899</td>\n",
       "      <td>на покупку автомобиля</td>\n",
       "    </tr>\n",
       "  </tbody>\n",
       "</table>\n",
       "</div>"
      ],
      "text/plain": [
       "       children  days_employed  dob_years education  education_id  \\\n",
       "21520         1   -4529.316663         43   среднее             1   \n",
       "21521         0  343937.404131         67   среднее             1   \n",
       "21522         1   -2113.346888         38   среднее             1   \n",
       "21523         3   -3112.481705         38   среднее             1   \n",
       "21524         2   -1984.507589         40   среднее             1   \n",
       "\n",
       "          family_status  family_status_id gender income_type  debt  \\\n",
       "21520  гражданский брак                 1      F   компаньон     0   \n",
       "21521   женат / замужем                 0      F   пенсионер     0   \n",
       "21522  гражданский брак                 1      M   сотрудник     1   \n",
       "21523   женат / замужем                 0      M   сотрудник     1   \n",
       "21524   женат / замужем                 0      F   сотрудник     0   \n",
       "\n",
       "        total_income                       purpose  \n",
       "21520  224791.862382             операции с жильем  \n",
       "21521  155999.806512          сделка с автомобилем  \n",
       "21522   89672.561153                  недвижимость  \n",
       "21523  244093.050500  на покупку своего автомобиля  \n",
       "21524   82047.418899         на покупку автомобиля  "
      ]
     },
     "metadata": {},
     "output_type": "display_data"
    }
   ],
   "source": [
    "display(data.head()) # выводим на экран первые и последние строки\n",
    "display(data.tail())"
   ]
  },
  {
   "cell_type": "markdown",
   "metadata": {},
   "source": [
    "Посмотрим описательную статистику и уникальные значения в каждом столбце:"
   ]
  },
  {
   "cell_type": "code",
   "execution_count": 4,
   "metadata": {},
   "outputs": [
    {
     "data": {
      "text/plain": [
       "'children'"
      ]
     },
     "metadata": {},
     "output_type": "display_data"
    },
    {
     "data": {
      "text/plain": [
       "count    21525.000000\n",
       "mean         0.538908\n",
       "std          1.381587\n",
       "min         -1.000000\n",
       "25%          0.000000\n",
       "50%          0.000000\n",
       "75%          1.000000\n",
       "max         20.000000\n",
       "Name: children, dtype: float64"
      ]
     },
     "metadata": {},
     "output_type": "display_data"
    },
    {
     "data": {
      "text/html": [
       "<div>\n",
       "<style scoped>\n",
       "    .dataframe tbody tr th:only-of-type {\n",
       "        vertical-align: middle;\n",
       "    }\n",
       "\n",
       "    .dataframe tbody tr th {\n",
       "        vertical-align: top;\n",
       "    }\n",
       "\n",
       "    .dataframe thead th {\n",
       "        text-align: right;\n",
       "    }\n",
       "</style>\n",
       "<table border=\"1\" class=\"dataframe\">\n",
       "  <thead>\n",
       "    <tr style=\"text-align: right;\">\n",
       "      <th></th>\n",
       "      <th>children</th>\n",
       "    </tr>\n",
       "  </thead>\n",
       "  <tbody>\n",
       "    <tr>\n",
       "      <th>0</th>\n",
       "      <td>14149</td>\n",
       "    </tr>\n",
       "    <tr>\n",
       "      <th>1</th>\n",
       "      <td>4818</td>\n",
       "    </tr>\n",
       "    <tr>\n",
       "      <th>2</th>\n",
       "      <td>2055</td>\n",
       "    </tr>\n",
       "    <tr>\n",
       "      <th>3</th>\n",
       "      <td>330</td>\n",
       "    </tr>\n",
       "    <tr>\n",
       "      <th>20</th>\n",
       "      <td>76</td>\n",
       "    </tr>\n",
       "    <tr>\n",
       "      <th>-1</th>\n",
       "      <td>47</td>\n",
       "    </tr>\n",
       "    <tr>\n",
       "      <th>4</th>\n",
       "      <td>41</td>\n",
       "    </tr>\n",
       "    <tr>\n",
       "      <th>5</th>\n",
       "      <td>9</td>\n",
       "    </tr>\n",
       "  </tbody>\n",
       "</table>\n",
       "</div>"
      ],
      "text/plain": [
       "     children\n",
       " 0      14149\n",
       " 1       4818\n",
       " 2       2055\n",
       " 3        330\n",
       " 20        76\n",
       "-1         47\n",
       " 4         41\n",
       " 5          9"
      ]
     },
     "metadata": {},
     "output_type": "display_data"
    },
    {
     "data": {
      "text/plain": [
       "'--------------------------------------------------'"
      ]
     },
     "metadata": {},
     "output_type": "display_data"
    },
    {
     "data": {
      "text/plain": [
       "'days_employed'"
      ]
     },
     "metadata": {},
     "output_type": "display_data"
    },
    {
     "data": {
      "text/plain": [
       "count     19351.000000\n",
       "mean      63046.497661\n",
       "std      140827.311974\n",
       "min      -18388.949901\n",
       "25%       -2747.423625\n",
       "50%       -1203.369529\n",
       "75%        -291.095954\n",
       "max      401755.400475\n",
       "Name: days_employed, dtype: float64"
      ]
     },
     "metadata": {},
     "output_type": "display_data"
    },
    {
     "data": {
      "text/html": [
       "<div>\n",
       "<style scoped>\n",
       "    .dataframe tbody tr th:only-of-type {\n",
       "        vertical-align: middle;\n",
       "    }\n",
       "\n",
       "    .dataframe tbody tr th {\n",
       "        vertical-align: top;\n",
       "    }\n",
       "\n",
       "    .dataframe thead th {\n",
       "        text-align: right;\n",
       "    }\n",
       "</style>\n",
       "<table border=\"1\" class=\"dataframe\">\n",
       "  <thead>\n",
       "    <tr style=\"text-align: right;\">\n",
       "      <th></th>\n",
       "      <th>days_employed</th>\n",
       "    </tr>\n",
       "  </thead>\n",
       "  <tbody>\n",
       "    <tr>\n",
       "      <th>-327.685916</th>\n",
       "      <td>1</td>\n",
       "    </tr>\n",
       "    <tr>\n",
       "      <th>-1580.622577</th>\n",
       "      <td>1</td>\n",
       "    </tr>\n",
       "    <tr>\n",
       "      <th>-4122.460569</th>\n",
       "      <td>1</td>\n",
       "    </tr>\n",
       "    <tr>\n",
       "      <th>-2828.237691</th>\n",
       "      <td>1</td>\n",
       "    </tr>\n",
       "    <tr>\n",
       "      <th>-2636.090517</th>\n",
       "      <td>1</td>\n",
       "    </tr>\n",
       "    <tr>\n",
       "      <th>...</th>\n",
       "      <td>...</td>\n",
       "    </tr>\n",
       "    <tr>\n",
       "      <th>-7120.517564</th>\n",
       "      <td>1</td>\n",
       "    </tr>\n",
       "    <tr>\n",
       "      <th>-2146.884040</th>\n",
       "      <td>1</td>\n",
       "    </tr>\n",
       "    <tr>\n",
       "      <th>-881.454684</th>\n",
       "      <td>1</td>\n",
       "    </tr>\n",
       "    <tr>\n",
       "      <th>-794.666350</th>\n",
       "      <td>1</td>\n",
       "    </tr>\n",
       "    <tr>\n",
       "      <th>-3382.113891</th>\n",
       "      <td>1</td>\n",
       "    </tr>\n",
       "  </tbody>\n",
       "</table>\n",
       "<p>19351 rows × 1 columns</p>\n",
       "</div>"
      ],
      "text/plain": [
       "              days_employed\n",
       "-327.685916               1\n",
       "-1580.622577              1\n",
       "-4122.460569              1\n",
       "-2828.237691              1\n",
       "-2636.090517              1\n",
       "...                     ...\n",
       "-7120.517564              1\n",
       "-2146.884040              1\n",
       "-881.454684               1\n",
       "-794.666350               1\n",
       "-3382.113891              1\n",
       "\n",
       "[19351 rows x 1 columns]"
      ]
     },
     "metadata": {},
     "output_type": "display_data"
    },
    {
     "data": {
      "text/plain": [
       "'--------------------------------------------------'"
      ]
     },
     "metadata": {},
     "output_type": "display_data"
    },
    {
     "data": {
      "text/plain": [
       "'dob_years'"
      ]
     },
     "metadata": {},
     "output_type": "display_data"
    },
    {
     "data": {
      "text/plain": [
       "count    21525.000000\n",
       "mean        43.293380\n",
       "std         12.574584\n",
       "min          0.000000\n",
       "25%         33.000000\n",
       "50%         42.000000\n",
       "75%         53.000000\n",
       "max         75.000000\n",
       "Name: dob_years, dtype: float64"
      ]
     },
     "metadata": {},
     "output_type": "display_data"
    },
    {
     "data": {
      "text/html": [
       "<div>\n",
       "<style scoped>\n",
       "    .dataframe tbody tr th:only-of-type {\n",
       "        vertical-align: middle;\n",
       "    }\n",
       "\n",
       "    .dataframe tbody tr th {\n",
       "        vertical-align: top;\n",
       "    }\n",
       "\n",
       "    .dataframe thead th {\n",
       "        text-align: right;\n",
       "    }\n",
       "</style>\n",
       "<table border=\"1\" class=\"dataframe\">\n",
       "  <thead>\n",
       "    <tr style=\"text-align: right;\">\n",
       "      <th></th>\n",
       "      <th>dob_years</th>\n",
       "    </tr>\n",
       "  </thead>\n",
       "  <tbody>\n",
       "    <tr>\n",
       "      <th>35</th>\n",
       "      <td>617</td>\n",
       "    </tr>\n",
       "    <tr>\n",
       "      <th>40</th>\n",
       "      <td>609</td>\n",
       "    </tr>\n",
       "    <tr>\n",
       "      <th>41</th>\n",
       "      <td>607</td>\n",
       "    </tr>\n",
       "    <tr>\n",
       "      <th>34</th>\n",
       "      <td>603</td>\n",
       "    </tr>\n",
       "    <tr>\n",
       "      <th>38</th>\n",
       "      <td>598</td>\n",
       "    </tr>\n",
       "    <tr>\n",
       "      <th>42</th>\n",
       "      <td>597</td>\n",
       "    </tr>\n",
       "    <tr>\n",
       "      <th>33</th>\n",
       "      <td>581</td>\n",
       "    </tr>\n",
       "    <tr>\n",
       "      <th>39</th>\n",
       "      <td>573</td>\n",
       "    </tr>\n",
       "    <tr>\n",
       "      <th>31</th>\n",
       "      <td>560</td>\n",
       "    </tr>\n",
       "    <tr>\n",
       "      <th>36</th>\n",
       "      <td>555</td>\n",
       "    </tr>\n",
       "    <tr>\n",
       "      <th>44</th>\n",
       "      <td>547</td>\n",
       "    </tr>\n",
       "    <tr>\n",
       "      <th>29</th>\n",
       "      <td>545</td>\n",
       "    </tr>\n",
       "    <tr>\n",
       "      <th>30</th>\n",
       "      <td>540</td>\n",
       "    </tr>\n",
       "    <tr>\n",
       "      <th>48</th>\n",
       "      <td>538</td>\n",
       "    </tr>\n",
       "    <tr>\n",
       "      <th>37</th>\n",
       "      <td>537</td>\n",
       "    </tr>\n",
       "    <tr>\n",
       "      <th>50</th>\n",
       "      <td>514</td>\n",
       "    </tr>\n",
       "    <tr>\n",
       "      <th>43</th>\n",
       "      <td>513</td>\n",
       "    </tr>\n",
       "    <tr>\n",
       "      <th>32</th>\n",
       "      <td>510</td>\n",
       "    </tr>\n",
       "    <tr>\n",
       "      <th>49</th>\n",
       "      <td>508</td>\n",
       "    </tr>\n",
       "    <tr>\n",
       "      <th>28</th>\n",
       "      <td>503</td>\n",
       "    </tr>\n",
       "    <tr>\n",
       "      <th>45</th>\n",
       "      <td>497</td>\n",
       "    </tr>\n",
       "    <tr>\n",
       "      <th>27</th>\n",
       "      <td>493</td>\n",
       "    </tr>\n",
       "    <tr>\n",
       "      <th>56</th>\n",
       "      <td>487</td>\n",
       "    </tr>\n",
       "    <tr>\n",
       "      <th>52</th>\n",
       "      <td>484</td>\n",
       "    </tr>\n",
       "    <tr>\n",
       "      <th>47</th>\n",
       "      <td>480</td>\n",
       "    </tr>\n",
       "    <tr>\n",
       "      <th>54</th>\n",
       "      <td>479</td>\n",
       "    </tr>\n",
       "    <tr>\n",
       "      <th>46</th>\n",
       "      <td>475</td>\n",
       "    </tr>\n",
       "    <tr>\n",
       "      <th>58</th>\n",
       "      <td>461</td>\n",
       "    </tr>\n",
       "    <tr>\n",
       "      <th>57</th>\n",
       "      <td>460</td>\n",
       "    </tr>\n",
       "    <tr>\n",
       "      <th>53</th>\n",
       "      <td>459</td>\n",
       "    </tr>\n",
       "    <tr>\n",
       "      <th>51</th>\n",
       "      <td>448</td>\n",
       "    </tr>\n",
       "    <tr>\n",
       "      <th>59</th>\n",
       "      <td>444</td>\n",
       "    </tr>\n",
       "    <tr>\n",
       "      <th>55</th>\n",
       "      <td>443</td>\n",
       "    </tr>\n",
       "    <tr>\n",
       "      <th>26</th>\n",
       "      <td>408</td>\n",
       "    </tr>\n",
       "    <tr>\n",
       "      <th>60</th>\n",
       "      <td>377</td>\n",
       "    </tr>\n",
       "    <tr>\n",
       "      <th>25</th>\n",
       "      <td>357</td>\n",
       "    </tr>\n",
       "    <tr>\n",
       "      <th>61</th>\n",
       "      <td>355</td>\n",
       "    </tr>\n",
       "    <tr>\n",
       "      <th>62</th>\n",
       "      <td>352</td>\n",
       "    </tr>\n",
       "    <tr>\n",
       "      <th>63</th>\n",
       "      <td>269</td>\n",
       "    </tr>\n",
       "    <tr>\n",
       "      <th>64</th>\n",
       "      <td>265</td>\n",
       "    </tr>\n",
       "    <tr>\n",
       "      <th>24</th>\n",
       "      <td>264</td>\n",
       "    </tr>\n",
       "    <tr>\n",
       "      <th>23</th>\n",
       "      <td>254</td>\n",
       "    </tr>\n",
       "    <tr>\n",
       "      <th>65</th>\n",
       "      <td>194</td>\n",
       "    </tr>\n",
       "    <tr>\n",
       "      <th>66</th>\n",
       "      <td>183</td>\n",
       "    </tr>\n",
       "    <tr>\n",
       "      <th>22</th>\n",
       "      <td>183</td>\n",
       "    </tr>\n",
       "    <tr>\n",
       "      <th>67</th>\n",
       "      <td>167</td>\n",
       "    </tr>\n",
       "    <tr>\n",
       "      <th>21</th>\n",
       "      <td>111</td>\n",
       "    </tr>\n",
       "    <tr>\n",
       "      <th>0</th>\n",
       "      <td>101</td>\n",
       "    </tr>\n",
       "    <tr>\n",
       "      <th>68</th>\n",
       "      <td>99</td>\n",
       "    </tr>\n",
       "    <tr>\n",
       "      <th>69</th>\n",
       "      <td>85</td>\n",
       "    </tr>\n",
       "    <tr>\n",
       "      <th>70</th>\n",
       "      <td>65</td>\n",
       "    </tr>\n",
       "    <tr>\n",
       "      <th>71</th>\n",
       "      <td>58</td>\n",
       "    </tr>\n",
       "    <tr>\n",
       "      <th>20</th>\n",
       "      <td>51</td>\n",
       "    </tr>\n",
       "    <tr>\n",
       "      <th>72</th>\n",
       "      <td>33</td>\n",
       "    </tr>\n",
       "    <tr>\n",
       "      <th>19</th>\n",
       "      <td>14</td>\n",
       "    </tr>\n",
       "    <tr>\n",
       "      <th>73</th>\n",
       "      <td>8</td>\n",
       "    </tr>\n",
       "    <tr>\n",
       "      <th>74</th>\n",
       "      <td>6</td>\n",
       "    </tr>\n",
       "    <tr>\n",
       "      <th>75</th>\n",
       "      <td>1</td>\n",
       "    </tr>\n",
       "  </tbody>\n",
       "</table>\n",
       "</div>"
      ],
      "text/plain": [
       "    dob_years\n",
       "35        617\n",
       "40        609\n",
       "41        607\n",
       "34        603\n",
       "38        598\n",
       "42        597\n",
       "33        581\n",
       "39        573\n",
       "31        560\n",
       "36        555\n",
       "44        547\n",
       "29        545\n",
       "30        540\n",
       "48        538\n",
       "37        537\n",
       "50        514\n",
       "43        513\n",
       "32        510\n",
       "49        508\n",
       "28        503\n",
       "45        497\n",
       "27        493\n",
       "56        487\n",
       "52        484\n",
       "47        480\n",
       "54        479\n",
       "46        475\n",
       "58        461\n",
       "57        460\n",
       "53        459\n",
       "51        448\n",
       "59        444\n",
       "55        443\n",
       "26        408\n",
       "60        377\n",
       "25        357\n",
       "61        355\n",
       "62        352\n",
       "63        269\n",
       "64        265\n",
       "24        264\n",
       "23        254\n",
       "65        194\n",
       "66        183\n",
       "22        183\n",
       "67        167\n",
       "21        111\n",
       "0         101\n",
       "68         99\n",
       "69         85\n",
       "70         65\n",
       "71         58\n",
       "20         51\n",
       "72         33\n",
       "19         14\n",
       "73          8\n",
       "74          6\n",
       "75          1"
      ]
     },
     "metadata": {},
     "output_type": "display_data"
    },
    {
     "data": {
      "text/plain": [
       "'--------------------------------------------------'"
      ]
     },
     "metadata": {},
     "output_type": "display_data"
    },
    {
     "data": {
      "text/plain": [
       "'education'"
      ]
     },
     "metadata": {},
     "output_type": "display_data"
    },
    {
     "data": {
      "text/plain": [
       "count       21525\n",
       "unique         15\n",
       "top       среднее\n",
       "freq        13750\n",
       "Name: education, dtype: object"
      ]
     },
     "metadata": {},
     "output_type": "display_data"
    },
    {
     "data": {
      "text/html": [
       "<div>\n",
       "<style scoped>\n",
       "    .dataframe tbody tr th:only-of-type {\n",
       "        vertical-align: middle;\n",
       "    }\n",
       "\n",
       "    .dataframe tbody tr th {\n",
       "        vertical-align: top;\n",
       "    }\n",
       "\n",
       "    .dataframe thead th {\n",
       "        text-align: right;\n",
       "    }\n",
       "</style>\n",
       "<table border=\"1\" class=\"dataframe\">\n",
       "  <thead>\n",
       "    <tr style=\"text-align: right;\">\n",
       "      <th></th>\n",
       "      <th>education</th>\n",
       "    </tr>\n",
       "  </thead>\n",
       "  <tbody>\n",
       "    <tr>\n",
       "      <th>среднее</th>\n",
       "      <td>13750</td>\n",
       "    </tr>\n",
       "    <tr>\n",
       "      <th>высшее</th>\n",
       "      <td>4718</td>\n",
       "    </tr>\n",
       "    <tr>\n",
       "      <th>СРЕДНЕЕ</th>\n",
       "      <td>772</td>\n",
       "    </tr>\n",
       "    <tr>\n",
       "      <th>Среднее</th>\n",
       "      <td>711</td>\n",
       "    </tr>\n",
       "    <tr>\n",
       "      <th>неоконченное высшее</th>\n",
       "      <td>668</td>\n",
       "    </tr>\n",
       "    <tr>\n",
       "      <th>ВЫСШЕЕ</th>\n",
       "      <td>274</td>\n",
       "    </tr>\n",
       "    <tr>\n",
       "      <th>Высшее</th>\n",
       "      <td>268</td>\n",
       "    </tr>\n",
       "    <tr>\n",
       "      <th>начальное</th>\n",
       "      <td>250</td>\n",
       "    </tr>\n",
       "    <tr>\n",
       "      <th>Неоконченное высшее</th>\n",
       "      <td>47</td>\n",
       "    </tr>\n",
       "    <tr>\n",
       "      <th>НЕОКОНЧЕННОЕ ВЫСШЕЕ</th>\n",
       "      <td>29</td>\n",
       "    </tr>\n",
       "    <tr>\n",
       "      <th>НАЧАЛЬНОЕ</th>\n",
       "      <td>17</td>\n",
       "    </tr>\n",
       "    <tr>\n",
       "      <th>Начальное</th>\n",
       "      <td>15</td>\n",
       "    </tr>\n",
       "    <tr>\n",
       "      <th>ученая степень</th>\n",
       "      <td>4</td>\n",
       "    </tr>\n",
       "    <tr>\n",
       "      <th>УЧЕНАЯ СТЕПЕНЬ</th>\n",
       "      <td>1</td>\n",
       "    </tr>\n",
       "    <tr>\n",
       "      <th>Ученая степень</th>\n",
       "      <td>1</td>\n",
       "    </tr>\n",
       "  </tbody>\n",
       "</table>\n",
       "</div>"
      ],
      "text/plain": [
       "                     education\n",
       "среднее                  13750\n",
       "высшее                    4718\n",
       "СРЕДНЕЕ                    772\n",
       "Среднее                    711\n",
       "неоконченное высшее        668\n",
       "ВЫСШЕЕ                     274\n",
       "Высшее                     268\n",
       "начальное                  250\n",
       "Неоконченное высшее         47\n",
       "НЕОКОНЧЕННОЕ ВЫСШЕЕ         29\n",
       "НАЧАЛЬНОЕ                   17\n",
       "Начальное                   15\n",
       "ученая степень               4\n",
       "УЧЕНАЯ СТЕПЕНЬ               1\n",
       "Ученая степень               1"
      ]
     },
     "metadata": {},
     "output_type": "display_data"
    },
    {
     "data": {
      "text/plain": [
       "'--------------------------------------------------'"
      ]
     },
     "metadata": {},
     "output_type": "display_data"
    },
    {
     "data": {
      "text/plain": [
       "'education_id'"
      ]
     },
     "metadata": {},
     "output_type": "display_data"
    },
    {
     "data": {
      "text/plain": [
       "count    21525.000000\n",
       "mean         0.817236\n",
       "std          0.548138\n",
       "min          0.000000\n",
       "25%          1.000000\n",
       "50%          1.000000\n",
       "75%          1.000000\n",
       "max          4.000000\n",
       "Name: education_id, dtype: float64"
      ]
     },
     "metadata": {},
     "output_type": "display_data"
    },
    {
     "data": {
      "text/html": [
       "<div>\n",
       "<style scoped>\n",
       "    .dataframe tbody tr th:only-of-type {\n",
       "        vertical-align: middle;\n",
       "    }\n",
       "\n",
       "    .dataframe tbody tr th {\n",
       "        vertical-align: top;\n",
       "    }\n",
       "\n",
       "    .dataframe thead th {\n",
       "        text-align: right;\n",
       "    }\n",
       "</style>\n",
       "<table border=\"1\" class=\"dataframe\">\n",
       "  <thead>\n",
       "    <tr style=\"text-align: right;\">\n",
       "      <th></th>\n",
       "      <th>education_id</th>\n",
       "    </tr>\n",
       "  </thead>\n",
       "  <tbody>\n",
       "    <tr>\n",
       "      <th>1</th>\n",
       "      <td>15233</td>\n",
       "    </tr>\n",
       "    <tr>\n",
       "      <th>0</th>\n",
       "      <td>5260</td>\n",
       "    </tr>\n",
       "    <tr>\n",
       "      <th>2</th>\n",
       "      <td>744</td>\n",
       "    </tr>\n",
       "    <tr>\n",
       "      <th>3</th>\n",
       "      <td>282</td>\n",
       "    </tr>\n",
       "    <tr>\n",
       "      <th>4</th>\n",
       "      <td>6</td>\n",
       "    </tr>\n",
       "  </tbody>\n",
       "</table>\n",
       "</div>"
      ],
      "text/plain": [
       "   education_id\n",
       "1         15233\n",
       "0          5260\n",
       "2           744\n",
       "3           282\n",
       "4             6"
      ]
     },
     "metadata": {},
     "output_type": "display_data"
    },
    {
     "data": {
      "text/plain": [
       "'--------------------------------------------------'"
      ]
     },
     "metadata": {},
     "output_type": "display_data"
    },
    {
     "data": {
      "text/plain": [
       "'family_status'"
      ]
     },
     "metadata": {},
     "output_type": "display_data"
    },
    {
     "data": {
      "text/plain": [
       "count               21525\n",
       "unique                  5\n",
       "top       женат / замужем\n",
       "freq                12380\n",
       "Name: family_status, dtype: object"
      ]
     },
     "metadata": {},
     "output_type": "display_data"
    },
    {
     "data": {
      "text/html": [
       "<div>\n",
       "<style scoped>\n",
       "    .dataframe tbody tr th:only-of-type {\n",
       "        vertical-align: middle;\n",
       "    }\n",
       "\n",
       "    .dataframe tbody tr th {\n",
       "        vertical-align: top;\n",
       "    }\n",
       "\n",
       "    .dataframe thead th {\n",
       "        text-align: right;\n",
       "    }\n",
       "</style>\n",
       "<table border=\"1\" class=\"dataframe\">\n",
       "  <thead>\n",
       "    <tr style=\"text-align: right;\">\n",
       "      <th></th>\n",
       "      <th>family_status</th>\n",
       "    </tr>\n",
       "  </thead>\n",
       "  <tbody>\n",
       "    <tr>\n",
       "      <th>женат / замужем</th>\n",
       "      <td>12380</td>\n",
       "    </tr>\n",
       "    <tr>\n",
       "      <th>гражданский брак</th>\n",
       "      <td>4177</td>\n",
       "    </tr>\n",
       "    <tr>\n",
       "      <th>Не женат / не замужем</th>\n",
       "      <td>2813</td>\n",
       "    </tr>\n",
       "    <tr>\n",
       "      <th>в разводе</th>\n",
       "      <td>1195</td>\n",
       "    </tr>\n",
       "    <tr>\n",
       "      <th>вдовец / вдова</th>\n",
       "      <td>960</td>\n",
       "    </tr>\n",
       "  </tbody>\n",
       "</table>\n",
       "</div>"
      ],
      "text/plain": [
       "                       family_status\n",
       "женат / замужем                12380\n",
       "гражданский брак                4177\n",
       "Не женат / не замужем           2813\n",
       "в разводе                       1195\n",
       "вдовец / вдова                   960"
      ]
     },
     "metadata": {},
     "output_type": "display_data"
    },
    {
     "data": {
      "text/plain": [
       "'--------------------------------------------------'"
      ]
     },
     "metadata": {},
     "output_type": "display_data"
    },
    {
     "data": {
      "text/plain": [
       "'family_status_id'"
      ]
     },
     "metadata": {},
     "output_type": "display_data"
    },
    {
     "data": {
      "text/plain": [
       "count    21525.000000\n",
       "mean         0.972544\n",
       "std          1.420324\n",
       "min          0.000000\n",
       "25%          0.000000\n",
       "50%          0.000000\n",
       "75%          1.000000\n",
       "max          4.000000\n",
       "Name: family_status_id, dtype: float64"
      ]
     },
     "metadata": {},
     "output_type": "display_data"
    },
    {
     "data": {
      "text/html": [
       "<div>\n",
       "<style scoped>\n",
       "    .dataframe tbody tr th:only-of-type {\n",
       "        vertical-align: middle;\n",
       "    }\n",
       "\n",
       "    .dataframe tbody tr th {\n",
       "        vertical-align: top;\n",
       "    }\n",
       "\n",
       "    .dataframe thead th {\n",
       "        text-align: right;\n",
       "    }\n",
       "</style>\n",
       "<table border=\"1\" class=\"dataframe\">\n",
       "  <thead>\n",
       "    <tr style=\"text-align: right;\">\n",
       "      <th></th>\n",
       "      <th>family_status_id</th>\n",
       "    </tr>\n",
       "  </thead>\n",
       "  <tbody>\n",
       "    <tr>\n",
       "      <th>0</th>\n",
       "      <td>12380</td>\n",
       "    </tr>\n",
       "    <tr>\n",
       "      <th>1</th>\n",
       "      <td>4177</td>\n",
       "    </tr>\n",
       "    <tr>\n",
       "      <th>4</th>\n",
       "      <td>2813</td>\n",
       "    </tr>\n",
       "    <tr>\n",
       "      <th>3</th>\n",
       "      <td>1195</td>\n",
       "    </tr>\n",
       "    <tr>\n",
       "      <th>2</th>\n",
       "      <td>960</td>\n",
       "    </tr>\n",
       "  </tbody>\n",
       "</table>\n",
       "</div>"
      ],
      "text/plain": [
       "   family_status_id\n",
       "0             12380\n",
       "1              4177\n",
       "4              2813\n",
       "3              1195\n",
       "2               960"
      ]
     },
     "metadata": {},
     "output_type": "display_data"
    },
    {
     "data": {
      "text/plain": [
       "'--------------------------------------------------'"
      ]
     },
     "metadata": {},
     "output_type": "display_data"
    },
    {
     "data": {
      "text/plain": [
       "'gender'"
      ]
     },
     "metadata": {},
     "output_type": "display_data"
    },
    {
     "data": {
      "text/plain": [
       "count     21525\n",
       "unique        3\n",
       "top           F\n",
       "freq      14236\n",
       "Name: gender, dtype: object"
      ]
     },
     "metadata": {},
     "output_type": "display_data"
    },
    {
     "data": {
      "text/html": [
       "<div>\n",
       "<style scoped>\n",
       "    .dataframe tbody tr th:only-of-type {\n",
       "        vertical-align: middle;\n",
       "    }\n",
       "\n",
       "    .dataframe tbody tr th {\n",
       "        vertical-align: top;\n",
       "    }\n",
       "\n",
       "    .dataframe thead th {\n",
       "        text-align: right;\n",
       "    }\n",
       "</style>\n",
       "<table border=\"1\" class=\"dataframe\">\n",
       "  <thead>\n",
       "    <tr style=\"text-align: right;\">\n",
       "      <th></th>\n",
       "      <th>gender</th>\n",
       "    </tr>\n",
       "  </thead>\n",
       "  <tbody>\n",
       "    <tr>\n",
       "      <th>F</th>\n",
       "      <td>14236</td>\n",
       "    </tr>\n",
       "    <tr>\n",
       "      <th>M</th>\n",
       "      <td>7288</td>\n",
       "    </tr>\n",
       "    <tr>\n",
       "      <th>XNA</th>\n",
       "      <td>1</td>\n",
       "    </tr>\n",
       "  </tbody>\n",
       "</table>\n",
       "</div>"
      ],
      "text/plain": [
       "     gender\n",
       "F     14236\n",
       "M      7288\n",
       "XNA       1"
      ]
     },
     "metadata": {},
     "output_type": "display_data"
    },
    {
     "data": {
      "text/plain": [
       "'--------------------------------------------------'"
      ]
     },
     "metadata": {},
     "output_type": "display_data"
    },
    {
     "data": {
      "text/plain": [
       "'income_type'"
      ]
     },
     "metadata": {},
     "output_type": "display_data"
    },
    {
     "data": {
      "text/plain": [
       "count         21525\n",
       "unique            8\n",
       "top       сотрудник\n",
       "freq          11119\n",
       "Name: income_type, dtype: object"
      ]
     },
     "metadata": {},
     "output_type": "display_data"
    },
    {
     "data": {
      "text/html": [
       "<div>\n",
       "<style scoped>\n",
       "    .dataframe tbody tr th:only-of-type {\n",
       "        vertical-align: middle;\n",
       "    }\n",
       "\n",
       "    .dataframe tbody tr th {\n",
       "        vertical-align: top;\n",
       "    }\n",
       "\n",
       "    .dataframe thead th {\n",
       "        text-align: right;\n",
       "    }\n",
       "</style>\n",
       "<table border=\"1\" class=\"dataframe\">\n",
       "  <thead>\n",
       "    <tr style=\"text-align: right;\">\n",
       "      <th></th>\n",
       "      <th>income_type</th>\n",
       "    </tr>\n",
       "  </thead>\n",
       "  <tbody>\n",
       "    <tr>\n",
       "      <th>сотрудник</th>\n",
       "      <td>11119</td>\n",
       "    </tr>\n",
       "    <tr>\n",
       "      <th>компаньон</th>\n",
       "      <td>5085</td>\n",
       "    </tr>\n",
       "    <tr>\n",
       "      <th>пенсионер</th>\n",
       "      <td>3856</td>\n",
       "    </tr>\n",
       "    <tr>\n",
       "      <th>госслужащий</th>\n",
       "      <td>1459</td>\n",
       "    </tr>\n",
       "    <tr>\n",
       "      <th>предприниматель</th>\n",
       "      <td>2</td>\n",
       "    </tr>\n",
       "    <tr>\n",
       "      <th>безработный</th>\n",
       "      <td>2</td>\n",
       "    </tr>\n",
       "    <tr>\n",
       "      <th>в декрете</th>\n",
       "      <td>1</td>\n",
       "    </tr>\n",
       "    <tr>\n",
       "      <th>студент</th>\n",
       "      <td>1</td>\n",
       "    </tr>\n",
       "  </tbody>\n",
       "</table>\n",
       "</div>"
      ],
      "text/plain": [
       "                 income_type\n",
       "сотрудник              11119\n",
       "компаньон               5085\n",
       "пенсионер               3856\n",
       "госслужащий             1459\n",
       "предприниматель            2\n",
       "безработный                2\n",
       "в декрете                  1\n",
       "студент                    1"
      ]
     },
     "metadata": {},
     "output_type": "display_data"
    },
    {
     "data": {
      "text/plain": [
       "'--------------------------------------------------'"
      ]
     },
     "metadata": {},
     "output_type": "display_data"
    },
    {
     "data": {
      "text/plain": [
       "'debt'"
      ]
     },
     "metadata": {},
     "output_type": "display_data"
    },
    {
     "data": {
      "text/plain": [
       "count    21525.000000\n",
       "mean         0.080883\n",
       "std          0.272661\n",
       "min          0.000000\n",
       "25%          0.000000\n",
       "50%          0.000000\n",
       "75%          0.000000\n",
       "max          1.000000\n",
       "Name: debt, dtype: float64"
      ]
     },
     "metadata": {},
     "output_type": "display_data"
    },
    {
     "data": {
      "text/html": [
       "<div>\n",
       "<style scoped>\n",
       "    .dataframe tbody tr th:only-of-type {\n",
       "        vertical-align: middle;\n",
       "    }\n",
       "\n",
       "    .dataframe tbody tr th {\n",
       "        vertical-align: top;\n",
       "    }\n",
       "\n",
       "    .dataframe thead th {\n",
       "        text-align: right;\n",
       "    }\n",
       "</style>\n",
       "<table border=\"1\" class=\"dataframe\">\n",
       "  <thead>\n",
       "    <tr style=\"text-align: right;\">\n",
       "      <th></th>\n",
       "      <th>debt</th>\n",
       "    </tr>\n",
       "  </thead>\n",
       "  <tbody>\n",
       "    <tr>\n",
       "      <th>0</th>\n",
       "      <td>19784</td>\n",
       "    </tr>\n",
       "    <tr>\n",
       "      <th>1</th>\n",
       "      <td>1741</td>\n",
       "    </tr>\n",
       "  </tbody>\n",
       "</table>\n",
       "</div>"
      ],
      "text/plain": [
       "    debt\n",
       "0  19784\n",
       "1   1741"
      ]
     },
     "metadata": {},
     "output_type": "display_data"
    },
    {
     "data": {
      "text/plain": [
       "'--------------------------------------------------'"
      ]
     },
     "metadata": {},
     "output_type": "display_data"
    },
    {
     "data": {
      "text/plain": [
       "'total_income'"
      ]
     },
     "metadata": {},
     "output_type": "display_data"
    },
    {
     "data": {
      "text/plain": [
       "count    1.935100e+04\n",
       "mean     1.674223e+05\n",
       "std      1.029716e+05\n",
       "min      2.066726e+04\n",
       "25%      1.030532e+05\n",
       "50%      1.450179e+05\n",
       "75%      2.034351e+05\n",
       "max      2.265604e+06\n",
       "Name: total_income, dtype: float64"
      ]
     },
     "metadata": {},
     "output_type": "display_data"
    },
    {
     "data": {
      "text/html": [
       "<div>\n",
       "<style scoped>\n",
       "    .dataframe tbody tr th:only-of-type {\n",
       "        vertical-align: middle;\n",
       "    }\n",
       "\n",
       "    .dataframe tbody tr th {\n",
       "        vertical-align: top;\n",
       "    }\n",
       "\n",
       "    .dataframe thead th {\n",
       "        text-align: right;\n",
       "    }\n",
       "</style>\n",
       "<table border=\"1\" class=\"dataframe\">\n",
       "  <thead>\n",
       "    <tr style=\"text-align: right;\">\n",
       "      <th></th>\n",
       "      <th>total_income</th>\n",
       "    </tr>\n",
       "  </thead>\n",
       "  <tbody>\n",
       "    <tr>\n",
       "      <th>169846.427535</th>\n",
       "      <td>1</td>\n",
       "    </tr>\n",
       "    <tr>\n",
       "      <th>257737.077768</th>\n",
       "      <td>1</td>\n",
       "    </tr>\n",
       "    <tr>\n",
       "      <th>200508.675866</th>\n",
       "      <td>1</td>\n",
       "    </tr>\n",
       "    <tr>\n",
       "      <th>106196.235958</th>\n",
       "      <td>1</td>\n",
       "    </tr>\n",
       "    <tr>\n",
       "      <th>248730.171354</th>\n",
       "      <td>1</td>\n",
       "    </tr>\n",
       "    <tr>\n",
       "      <th>...</th>\n",
       "      <td>...</td>\n",
       "    </tr>\n",
       "    <tr>\n",
       "      <th>175057.266090</th>\n",
       "      <td>1</td>\n",
       "    </tr>\n",
       "    <tr>\n",
       "      <th>101516.604975</th>\n",
       "      <td>1</td>\n",
       "    </tr>\n",
       "    <tr>\n",
       "      <th>239154.168013</th>\n",
       "      <td>1</td>\n",
       "    </tr>\n",
       "    <tr>\n",
       "      <th>165009.733021</th>\n",
       "      <td>1</td>\n",
       "    </tr>\n",
       "    <tr>\n",
       "      <th>189255.286637</th>\n",
       "      <td>1</td>\n",
       "    </tr>\n",
       "  </tbody>\n",
       "</table>\n",
       "<p>19351 rows × 1 columns</p>\n",
       "</div>"
      ],
      "text/plain": [
       "               total_income\n",
       "169846.427535             1\n",
       "257737.077768             1\n",
       "200508.675866             1\n",
       "106196.235958             1\n",
       "248730.171354             1\n",
       "...                     ...\n",
       "175057.266090             1\n",
       "101516.604975             1\n",
       "239154.168013             1\n",
       "165009.733021             1\n",
       "189255.286637             1\n",
       "\n",
       "[19351 rows x 1 columns]"
      ]
     },
     "metadata": {},
     "output_type": "display_data"
    },
    {
     "data": {
      "text/plain": [
       "'--------------------------------------------------'"
      ]
     },
     "metadata": {},
     "output_type": "display_data"
    },
    {
     "data": {
      "text/plain": [
       "'purpose'"
      ]
     },
     "metadata": {},
     "output_type": "display_data"
    },
    {
     "data": {
      "text/plain": [
       "count       21525\n",
       "unique         38\n",
       "top       свадьба\n",
       "freq          797\n",
       "Name: purpose, dtype: object"
      ]
     },
     "metadata": {},
     "output_type": "display_data"
    },
    {
     "data": {
      "text/html": [
       "<div>\n",
       "<style scoped>\n",
       "    .dataframe tbody tr th:only-of-type {\n",
       "        vertical-align: middle;\n",
       "    }\n",
       "\n",
       "    .dataframe tbody tr th {\n",
       "        vertical-align: top;\n",
       "    }\n",
       "\n",
       "    .dataframe thead th {\n",
       "        text-align: right;\n",
       "    }\n",
       "</style>\n",
       "<table border=\"1\" class=\"dataframe\">\n",
       "  <thead>\n",
       "    <tr style=\"text-align: right;\">\n",
       "      <th></th>\n",
       "      <th>purpose</th>\n",
       "    </tr>\n",
       "  </thead>\n",
       "  <tbody>\n",
       "    <tr>\n",
       "      <th>свадьба</th>\n",
       "      <td>797</td>\n",
       "    </tr>\n",
       "    <tr>\n",
       "      <th>на проведение свадьбы</th>\n",
       "      <td>777</td>\n",
       "    </tr>\n",
       "    <tr>\n",
       "      <th>сыграть свадьбу</th>\n",
       "      <td>774</td>\n",
       "    </tr>\n",
       "    <tr>\n",
       "      <th>операции с недвижимостью</th>\n",
       "      <td>676</td>\n",
       "    </tr>\n",
       "    <tr>\n",
       "      <th>покупка коммерческой недвижимости</th>\n",
       "      <td>664</td>\n",
       "    </tr>\n",
       "    <tr>\n",
       "      <th>покупка жилья для сдачи</th>\n",
       "      <td>653</td>\n",
       "    </tr>\n",
       "    <tr>\n",
       "      <th>операции с жильем</th>\n",
       "      <td>653</td>\n",
       "    </tr>\n",
       "    <tr>\n",
       "      <th>операции с коммерческой недвижимостью</th>\n",
       "      <td>651</td>\n",
       "    </tr>\n",
       "    <tr>\n",
       "      <th>жилье</th>\n",
       "      <td>647</td>\n",
       "    </tr>\n",
       "    <tr>\n",
       "      <th>покупка жилья</th>\n",
       "      <td>647</td>\n",
       "    </tr>\n",
       "    <tr>\n",
       "      <th>покупка жилья для семьи</th>\n",
       "      <td>641</td>\n",
       "    </tr>\n",
       "    <tr>\n",
       "      <th>строительство собственной недвижимости</th>\n",
       "      <td>635</td>\n",
       "    </tr>\n",
       "    <tr>\n",
       "      <th>недвижимость</th>\n",
       "      <td>634</td>\n",
       "    </tr>\n",
       "    <tr>\n",
       "      <th>операции со своей недвижимостью</th>\n",
       "      <td>630</td>\n",
       "    </tr>\n",
       "    <tr>\n",
       "      <th>строительство жилой недвижимости</th>\n",
       "      <td>626</td>\n",
       "    </tr>\n",
       "    <tr>\n",
       "      <th>покупка недвижимости</th>\n",
       "      <td>624</td>\n",
       "    </tr>\n",
       "    <tr>\n",
       "      <th>покупка своего жилья</th>\n",
       "      <td>620</td>\n",
       "    </tr>\n",
       "    <tr>\n",
       "      <th>строительство недвижимости</th>\n",
       "      <td>620</td>\n",
       "    </tr>\n",
       "    <tr>\n",
       "      <th>ремонт жилью</th>\n",
       "      <td>612</td>\n",
       "    </tr>\n",
       "    <tr>\n",
       "      <th>покупка жилой недвижимости</th>\n",
       "      <td>607</td>\n",
       "    </tr>\n",
       "    <tr>\n",
       "      <th>на покупку своего автомобиля</th>\n",
       "      <td>505</td>\n",
       "    </tr>\n",
       "    <tr>\n",
       "      <th>заняться высшим образованием</th>\n",
       "      <td>496</td>\n",
       "    </tr>\n",
       "    <tr>\n",
       "      <th>автомобиль</th>\n",
       "      <td>495</td>\n",
       "    </tr>\n",
       "    <tr>\n",
       "      <th>сделка с подержанным автомобилем</th>\n",
       "      <td>489</td>\n",
       "    </tr>\n",
       "    <tr>\n",
       "      <th>свой автомобиль</th>\n",
       "      <td>480</td>\n",
       "    </tr>\n",
       "    <tr>\n",
       "      <th>на покупку подержанного автомобиля</th>\n",
       "      <td>479</td>\n",
       "    </tr>\n",
       "    <tr>\n",
       "      <th>автомобили</th>\n",
       "      <td>478</td>\n",
       "    </tr>\n",
       "    <tr>\n",
       "      <th>на покупку автомобиля</th>\n",
       "      <td>472</td>\n",
       "    </tr>\n",
       "    <tr>\n",
       "      <th>дополнительное образование</th>\n",
       "      <td>462</td>\n",
       "    </tr>\n",
       "    <tr>\n",
       "      <th>приобретение автомобиля</th>\n",
       "      <td>462</td>\n",
       "    </tr>\n",
       "    <tr>\n",
       "      <th>сделка с автомобилем</th>\n",
       "      <td>455</td>\n",
       "    </tr>\n",
       "    <tr>\n",
       "      <th>высшее образование</th>\n",
       "      <td>453</td>\n",
       "    </tr>\n",
       "    <tr>\n",
       "      <th>получение дополнительного образования</th>\n",
       "      <td>447</td>\n",
       "    </tr>\n",
       "    <tr>\n",
       "      <th>образование</th>\n",
       "      <td>447</td>\n",
       "    </tr>\n",
       "    <tr>\n",
       "      <th>получение образования</th>\n",
       "      <td>443</td>\n",
       "    </tr>\n",
       "    <tr>\n",
       "      <th>профильное образование</th>\n",
       "      <td>436</td>\n",
       "    </tr>\n",
       "    <tr>\n",
       "      <th>получение высшего образования</th>\n",
       "      <td>426</td>\n",
       "    </tr>\n",
       "    <tr>\n",
       "      <th>заняться образованием</th>\n",
       "      <td>412</td>\n",
       "    </tr>\n",
       "  </tbody>\n",
       "</table>\n",
       "</div>"
      ],
      "text/plain": [
       "                                        purpose\n",
       "свадьба                                     797\n",
       "на проведение свадьбы                       777\n",
       "сыграть свадьбу                             774\n",
       "операции с недвижимостью                    676\n",
       "покупка коммерческой недвижимости           664\n",
       "покупка жилья для сдачи                     653\n",
       "операции с жильем                           653\n",
       "операции с коммерческой недвижимостью       651\n",
       "жилье                                       647\n",
       "покупка жилья                               647\n",
       "покупка жилья для семьи                     641\n",
       "строительство собственной недвижимости      635\n",
       "недвижимость                                634\n",
       "операции со своей недвижимостью             630\n",
       "строительство жилой недвижимости            626\n",
       "покупка недвижимости                        624\n",
       "покупка своего жилья                        620\n",
       "строительство недвижимости                  620\n",
       "ремонт жилью                                612\n",
       "покупка жилой недвижимости                  607\n",
       "на покупку своего автомобиля                505\n",
       "заняться высшим образованием                496\n",
       "автомобиль                                  495\n",
       "сделка с подержанным автомобилем            489\n",
       "свой автомобиль                             480\n",
       "на покупку подержанного автомобиля          479\n",
       "автомобили                                  478\n",
       "на покупку автомобиля                       472\n",
       "дополнительное образование                  462\n",
       "приобретение автомобиля                     462\n",
       "сделка с автомобилем                        455\n",
       "высшее образование                          453\n",
       "получение дополнительного образования       447\n",
       "образование                                 447\n",
       "получение образования                       443\n",
       "профильное образование                      436\n",
       "получение высшего образования               426\n",
       "заняться образованием                       412"
      ]
     },
     "metadata": {},
     "output_type": "display_data"
    },
    {
     "data": {
      "text/plain": [
       "'--------------------------------------------------'"
      ]
     },
     "metadata": {},
     "output_type": "display_data"
    }
   ],
   "source": [
    "for column_name in data.columns:\n",
    "    display(column_name)\n",
    "    display(data[column_name].describe())\n",
    "    display(data[column_name].value_counts().to_frame())\n",
    "    display('-'*50)"
   ]
  },
  {
   "cell_type": "markdown",
   "metadata": {},
   "source": [
    "## Вывод\n",
    "\n",
    "Файл с данными находится в переменной `data`. Всего в нём 21525 строк и 12 колонок. Присутствуют данные типов int64 (целое), float64 (с точкой), object (объект).\n",
    "\n",
    "Согласно документации в каждом столбце содержатся следующие данные:\n",
    "  \n",
    "`children` — количество детей в семье  \n",
    "`days_employed` — общий трудовой стаж в днях  \n",
    "`dob_years` — возраст клиента в годах  \n",
    "`education` — уровень образования клиента  \n",
    "`education_id` — идентификатор уровня образования  \n",
    "`family_status` — семейное положение  \n",
    "`family_status_id` — идентификатор семейного положения  \n",
    "`gender` — пол клиента  \n",
    "`income_type` — тип занятости  \n",
    "`debt` — имел ли задолженность по возврату кредитов  \n",
    "`total_income` — ежемесячный доход  \n",
    "`purpose` — цель получения кредита  \n",
    "\n",
    "Названия столбцов корректны и не требуют исправления.   \n",
    "  \n",
    "Описание данных и **аномальные** значения в каждой колонке:  \n",
    "1. `children` есть 47 отрицательных значений (-1), и 76 подозрительно больших (20 детей). Предполагаю, что это ошибки в данных. Содержит категориальные данные.  \n",
    "2. `days_employed` много отрицательных, большой разброс и тип float64. По описанию из документации, в этой колонке должны быть целые и неотрицательные числа. Есть пропуски типа NaN. Содержит количественные данные.  \n",
    "3. `dob_years` 101 значение равно 0, что тоже быть не может, т.к. в таблице данные о кредиторах. Содержит категориальные данные.  \n",
    "4. `education` много неявных повторов, написано разным шрифтом. Содержит категориальные данные.  \n",
    "5. `education_id` ОК. Содержит категориальные данные.  \n",
    "6. `family_status` ОК. Содержит категориальные данные.  \n",
    "7. `family_status_id` ОК. Содержит категориальные данные.  \n",
    "8. `gender` 1 странное значение XNA. Содержит категориальные данные.  \n",
    "9. `income_type` ОК. Содержит категориальные данные.   \n",
    "10. `debt` ОК. Содержит логические (булевы) данные.   \n",
    "11. `total_income` Есть пропуски типа NaN. Содержит количественные данные.    \n",
    "12. `purpose` много неявных повторов. Содержит категориальные данные."
   ]
  },
  {
   "cell_type": "markdown",
   "metadata": {},
   "source": [
    "# Шаг 2. Предобработка данных"
   ]
  },
  {
   "cell_type": "markdown",
   "metadata": {},
   "source": [
    "## Обработка пропусков"
   ]
  },
  {
   "cell_type": "markdown",
   "metadata": {},
   "source": [
    "Как было написано выше, пропуски есть в двух колонках: `days_employed` и `total_income`.  \n",
    "Для начала необходимо посмотреть на них:"
   ]
  },
  {
   "cell_type": "code",
   "execution_count": 5,
   "metadata": {},
   "outputs": [
    {
     "data": {
      "text/html": [
       "<div>\n",
       "<style scoped>\n",
       "    .dataframe tbody tr th:only-of-type {\n",
       "        vertical-align: middle;\n",
       "    }\n",
       "\n",
       "    .dataframe tbody tr th {\n",
       "        vertical-align: top;\n",
       "    }\n",
       "\n",
       "    .dataframe thead th {\n",
       "        text-align: right;\n",
       "    }\n",
       "</style>\n",
       "<table border=\"1\" class=\"dataframe\">\n",
       "  <thead>\n",
       "    <tr style=\"text-align: right;\">\n",
       "      <th></th>\n",
       "      <th>children</th>\n",
       "      <th>days_employed</th>\n",
       "      <th>dob_years</th>\n",
       "      <th>education</th>\n",
       "      <th>education_id</th>\n",
       "      <th>family_status</th>\n",
       "      <th>family_status_id</th>\n",
       "      <th>gender</th>\n",
       "      <th>income_type</th>\n",
       "      <th>debt</th>\n",
       "      <th>total_income</th>\n",
       "      <th>purpose</th>\n",
       "    </tr>\n",
       "  </thead>\n",
       "  <tbody>\n",
       "    <tr>\n",
       "      <th>12</th>\n",
       "      <td>0</td>\n",
       "      <td>NaN</td>\n",
       "      <td>65</td>\n",
       "      <td>среднее</td>\n",
       "      <td>1</td>\n",
       "      <td>гражданский брак</td>\n",
       "      <td>1</td>\n",
       "      <td>M</td>\n",
       "      <td>пенсионер</td>\n",
       "      <td>0</td>\n",
       "      <td>NaN</td>\n",
       "      <td>сыграть свадьбу</td>\n",
       "    </tr>\n",
       "    <tr>\n",
       "      <th>26</th>\n",
       "      <td>0</td>\n",
       "      <td>NaN</td>\n",
       "      <td>41</td>\n",
       "      <td>среднее</td>\n",
       "      <td>1</td>\n",
       "      <td>женат / замужем</td>\n",
       "      <td>0</td>\n",
       "      <td>M</td>\n",
       "      <td>госслужащий</td>\n",
       "      <td>0</td>\n",
       "      <td>NaN</td>\n",
       "      <td>образование</td>\n",
       "    </tr>\n",
       "    <tr>\n",
       "      <th>29</th>\n",
       "      <td>0</td>\n",
       "      <td>NaN</td>\n",
       "      <td>63</td>\n",
       "      <td>среднее</td>\n",
       "      <td>1</td>\n",
       "      <td>Не женат / не замужем</td>\n",
       "      <td>4</td>\n",
       "      <td>F</td>\n",
       "      <td>пенсионер</td>\n",
       "      <td>0</td>\n",
       "      <td>NaN</td>\n",
       "      <td>строительство жилой недвижимости</td>\n",
       "    </tr>\n",
       "    <tr>\n",
       "      <th>41</th>\n",
       "      <td>0</td>\n",
       "      <td>NaN</td>\n",
       "      <td>50</td>\n",
       "      <td>среднее</td>\n",
       "      <td>1</td>\n",
       "      <td>женат / замужем</td>\n",
       "      <td>0</td>\n",
       "      <td>F</td>\n",
       "      <td>госслужащий</td>\n",
       "      <td>0</td>\n",
       "      <td>NaN</td>\n",
       "      <td>сделка с подержанным автомобилем</td>\n",
       "    </tr>\n",
       "    <tr>\n",
       "      <th>55</th>\n",
       "      <td>0</td>\n",
       "      <td>NaN</td>\n",
       "      <td>54</td>\n",
       "      <td>среднее</td>\n",
       "      <td>1</td>\n",
       "      <td>гражданский брак</td>\n",
       "      <td>1</td>\n",
       "      <td>F</td>\n",
       "      <td>пенсионер</td>\n",
       "      <td>1</td>\n",
       "      <td>NaN</td>\n",
       "      <td>сыграть свадьбу</td>\n",
       "    </tr>\n",
       "    <tr>\n",
       "      <th>...</th>\n",
       "      <td>...</td>\n",
       "      <td>...</td>\n",
       "      <td>...</td>\n",
       "      <td>...</td>\n",
       "      <td>...</td>\n",
       "      <td>...</td>\n",
       "      <td>...</td>\n",
       "      <td>...</td>\n",
       "      <td>...</td>\n",
       "      <td>...</td>\n",
       "      <td>...</td>\n",
       "      <td>...</td>\n",
       "    </tr>\n",
       "    <tr>\n",
       "      <th>21489</th>\n",
       "      <td>2</td>\n",
       "      <td>NaN</td>\n",
       "      <td>47</td>\n",
       "      <td>Среднее</td>\n",
       "      <td>1</td>\n",
       "      <td>женат / замужем</td>\n",
       "      <td>0</td>\n",
       "      <td>M</td>\n",
       "      <td>компаньон</td>\n",
       "      <td>0</td>\n",
       "      <td>NaN</td>\n",
       "      <td>сделка с автомобилем</td>\n",
       "    </tr>\n",
       "    <tr>\n",
       "      <th>21495</th>\n",
       "      <td>1</td>\n",
       "      <td>NaN</td>\n",
       "      <td>50</td>\n",
       "      <td>среднее</td>\n",
       "      <td>1</td>\n",
       "      <td>гражданский брак</td>\n",
       "      <td>1</td>\n",
       "      <td>F</td>\n",
       "      <td>сотрудник</td>\n",
       "      <td>0</td>\n",
       "      <td>NaN</td>\n",
       "      <td>свадьба</td>\n",
       "    </tr>\n",
       "    <tr>\n",
       "      <th>21497</th>\n",
       "      <td>0</td>\n",
       "      <td>NaN</td>\n",
       "      <td>48</td>\n",
       "      <td>ВЫСШЕЕ</td>\n",
       "      <td>0</td>\n",
       "      <td>женат / замужем</td>\n",
       "      <td>0</td>\n",
       "      <td>F</td>\n",
       "      <td>компаньон</td>\n",
       "      <td>0</td>\n",
       "      <td>NaN</td>\n",
       "      <td>строительство недвижимости</td>\n",
       "    </tr>\n",
       "    <tr>\n",
       "      <th>21502</th>\n",
       "      <td>1</td>\n",
       "      <td>NaN</td>\n",
       "      <td>42</td>\n",
       "      <td>среднее</td>\n",
       "      <td>1</td>\n",
       "      <td>женат / замужем</td>\n",
       "      <td>0</td>\n",
       "      <td>F</td>\n",
       "      <td>сотрудник</td>\n",
       "      <td>0</td>\n",
       "      <td>NaN</td>\n",
       "      <td>строительство жилой недвижимости</td>\n",
       "    </tr>\n",
       "    <tr>\n",
       "      <th>21510</th>\n",
       "      <td>2</td>\n",
       "      <td>NaN</td>\n",
       "      <td>28</td>\n",
       "      <td>среднее</td>\n",
       "      <td>1</td>\n",
       "      <td>женат / замужем</td>\n",
       "      <td>0</td>\n",
       "      <td>F</td>\n",
       "      <td>сотрудник</td>\n",
       "      <td>0</td>\n",
       "      <td>NaN</td>\n",
       "      <td>приобретение автомобиля</td>\n",
       "    </tr>\n",
       "  </tbody>\n",
       "</table>\n",
       "<p>2174 rows × 12 columns</p>\n",
       "</div>"
      ],
      "text/plain": [
       "       children  days_employed  dob_years education  education_id  \\\n",
       "12            0            NaN         65   среднее             1   \n",
       "26            0            NaN         41   среднее             1   \n",
       "29            0            NaN         63   среднее             1   \n",
       "41            0            NaN         50   среднее             1   \n",
       "55            0            NaN         54   среднее             1   \n",
       "...         ...            ...        ...       ...           ...   \n",
       "21489         2            NaN         47   Среднее             1   \n",
       "21495         1            NaN         50   среднее             1   \n",
       "21497         0            NaN         48    ВЫСШЕЕ             0   \n",
       "21502         1            NaN         42   среднее             1   \n",
       "21510         2            NaN         28   среднее             1   \n",
       "\n",
       "               family_status  family_status_id gender  income_type  debt  \\\n",
       "12          гражданский брак                 1      M    пенсионер     0   \n",
       "26           женат / замужем                 0      M  госслужащий     0   \n",
       "29     Не женат / не замужем                 4      F    пенсионер     0   \n",
       "41           женат / замужем                 0      F  госслужащий     0   \n",
       "55          гражданский брак                 1      F    пенсионер     1   \n",
       "...                      ...               ...    ...          ...   ...   \n",
       "21489        женат / замужем                 0      M    компаньон     0   \n",
       "21495       гражданский брак                 1      F    сотрудник     0   \n",
       "21497        женат / замужем                 0      F    компаньон     0   \n",
       "21502        женат / замужем                 0      F    сотрудник     0   \n",
       "21510        женат / замужем                 0      F    сотрудник     0   \n",
       "\n",
       "       total_income                           purpose  \n",
       "12              NaN                   сыграть свадьбу  \n",
       "26              NaN                       образование  \n",
       "29              NaN  строительство жилой недвижимости  \n",
       "41              NaN  сделка с подержанным автомобилем  \n",
       "55              NaN                   сыграть свадьбу  \n",
       "...             ...                               ...  \n",
       "21489           NaN              сделка с автомобилем  \n",
       "21495           NaN                           свадьба  \n",
       "21497           NaN        строительство недвижимости  \n",
       "21502           NaN  строительство жилой недвижимости  \n",
       "21510           NaN           приобретение автомобиля  \n",
       "\n",
       "[2174 rows x 12 columns]"
      ]
     },
     "execution_count": 5,
     "metadata": {},
     "output_type": "execute_result"
    }
   ],
   "source": [
    "data[data['days_employed'].isna()]"
   ]
  },
  {
   "cell_type": "code",
   "execution_count": 6,
   "metadata": {},
   "outputs": [
    {
     "data": {
      "text/html": [
       "<div>\n",
       "<style scoped>\n",
       "    .dataframe tbody tr th:only-of-type {\n",
       "        vertical-align: middle;\n",
       "    }\n",
       "\n",
       "    .dataframe tbody tr th {\n",
       "        vertical-align: top;\n",
       "    }\n",
       "\n",
       "    .dataframe thead th {\n",
       "        text-align: right;\n",
       "    }\n",
       "</style>\n",
       "<table border=\"1\" class=\"dataframe\">\n",
       "  <thead>\n",
       "    <tr style=\"text-align: right;\">\n",
       "      <th></th>\n",
       "      <th>children</th>\n",
       "      <th>days_employed</th>\n",
       "      <th>dob_years</th>\n",
       "      <th>education</th>\n",
       "      <th>education_id</th>\n",
       "      <th>family_status</th>\n",
       "      <th>family_status_id</th>\n",
       "      <th>gender</th>\n",
       "      <th>income_type</th>\n",
       "      <th>debt</th>\n",
       "      <th>total_income</th>\n",
       "      <th>purpose</th>\n",
       "    </tr>\n",
       "  </thead>\n",
       "  <tbody>\n",
       "    <tr>\n",
       "      <th>12</th>\n",
       "      <td>0</td>\n",
       "      <td>NaN</td>\n",
       "      <td>65</td>\n",
       "      <td>среднее</td>\n",
       "      <td>1</td>\n",
       "      <td>гражданский брак</td>\n",
       "      <td>1</td>\n",
       "      <td>M</td>\n",
       "      <td>пенсионер</td>\n",
       "      <td>0</td>\n",
       "      <td>NaN</td>\n",
       "      <td>сыграть свадьбу</td>\n",
       "    </tr>\n",
       "    <tr>\n",
       "      <th>26</th>\n",
       "      <td>0</td>\n",
       "      <td>NaN</td>\n",
       "      <td>41</td>\n",
       "      <td>среднее</td>\n",
       "      <td>1</td>\n",
       "      <td>женат / замужем</td>\n",
       "      <td>0</td>\n",
       "      <td>M</td>\n",
       "      <td>госслужащий</td>\n",
       "      <td>0</td>\n",
       "      <td>NaN</td>\n",
       "      <td>образование</td>\n",
       "    </tr>\n",
       "    <tr>\n",
       "      <th>29</th>\n",
       "      <td>0</td>\n",
       "      <td>NaN</td>\n",
       "      <td>63</td>\n",
       "      <td>среднее</td>\n",
       "      <td>1</td>\n",
       "      <td>Не женат / не замужем</td>\n",
       "      <td>4</td>\n",
       "      <td>F</td>\n",
       "      <td>пенсионер</td>\n",
       "      <td>0</td>\n",
       "      <td>NaN</td>\n",
       "      <td>строительство жилой недвижимости</td>\n",
       "    </tr>\n",
       "    <tr>\n",
       "      <th>41</th>\n",
       "      <td>0</td>\n",
       "      <td>NaN</td>\n",
       "      <td>50</td>\n",
       "      <td>среднее</td>\n",
       "      <td>1</td>\n",
       "      <td>женат / замужем</td>\n",
       "      <td>0</td>\n",
       "      <td>F</td>\n",
       "      <td>госслужащий</td>\n",
       "      <td>0</td>\n",
       "      <td>NaN</td>\n",
       "      <td>сделка с подержанным автомобилем</td>\n",
       "    </tr>\n",
       "    <tr>\n",
       "      <th>55</th>\n",
       "      <td>0</td>\n",
       "      <td>NaN</td>\n",
       "      <td>54</td>\n",
       "      <td>среднее</td>\n",
       "      <td>1</td>\n",
       "      <td>гражданский брак</td>\n",
       "      <td>1</td>\n",
       "      <td>F</td>\n",
       "      <td>пенсионер</td>\n",
       "      <td>1</td>\n",
       "      <td>NaN</td>\n",
       "      <td>сыграть свадьбу</td>\n",
       "    </tr>\n",
       "    <tr>\n",
       "      <th>...</th>\n",
       "      <td>...</td>\n",
       "      <td>...</td>\n",
       "      <td>...</td>\n",
       "      <td>...</td>\n",
       "      <td>...</td>\n",
       "      <td>...</td>\n",
       "      <td>...</td>\n",
       "      <td>...</td>\n",
       "      <td>...</td>\n",
       "      <td>...</td>\n",
       "      <td>...</td>\n",
       "      <td>...</td>\n",
       "    </tr>\n",
       "    <tr>\n",
       "      <th>21489</th>\n",
       "      <td>2</td>\n",
       "      <td>NaN</td>\n",
       "      <td>47</td>\n",
       "      <td>Среднее</td>\n",
       "      <td>1</td>\n",
       "      <td>женат / замужем</td>\n",
       "      <td>0</td>\n",
       "      <td>M</td>\n",
       "      <td>компаньон</td>\n",
       "      <td>0</td>\n",
       "      <td>NaN</td>\n",
       "      <td>сделка с автомобилем</td>\n",
       "    </tr>\n",
       "    <tr>\n",
       "      <th>21495</th>\n",
       "      <td>1</td>\n",
       "      <td>NaN</td>\n",
       "      <td>50</td>\n",
       "      <td>среднее</td>\n",
       "      <td>1</td>\n",
       "      <td>гражданский брак</td>\n",
       "      <td>1</td>\n",
       "      <td>F</td>\n",
       "      <td>сотрудник</td>\n",
       "      <td>0</td>\n",
       "      <td>NaN</td>\n",
       "      <td>свадьба</td>\n",
       "    </tr>\n",
       "    <tr>\n",
       "      <th>21497</th>\n",
       "      <td>0</td>\n",
       "      <td>NaN</td>\n",
       "      <td>48</td>\n",
       "      <td>ВЫСШЕЕ</td>\n",
       "      <td>0</td>\n",
       "      <td>женат / замужем</td>\n",
       "      <td>0</td>\n",
       "      <td>F</td>\n",
       "      <td>компаньон</td>\n",
       "      <td>0</td>\n",
       "      <td>NaN</td>\n",
       "      <td>строительство недвижимости</td>\n",
       "    </tr>\n",
       "    <tr>\n",
       "      <th>21502</th>\n",
       "      <td>1</td>\n",
       "      <td>NaN</td>\n",
       "      <td>42</td>\n",
       "      <td>среднее</td>\n",
       "      <td>1</td>\n",
       "      <td>женат / замужем</td>\n",
       "      <td>0</td>\n",
       "      <td>F</td>\n",
       "      <td>сотрудник</td>\n",
       "      <td>0</td>\n",
       "      <td>NaN</td>\n",
       "      <td>строительство жилой недвижимости</td>\n",
       "    </tr>\n",
       "    <tr>\n",
       "      <th>21510</th>\n",
       "      <td>2</td>\n",
       "      <td>NaN</td>\n",
       "      <td>28</td>\n",
       "      <td>среднее</td>\n",
       "      <td>1</td>\n",
       "      <td>женат / замужем</td>\n",
       "      <td>0</td>\n",
       "      <td>F</td>\n",
       "      <td>сотрудник</td>\n",
       "      <td>0</td>\n",
       "      <td>NaN</td>\n",
       "      <td>приобретение автомобиля</td>\n",
       "    </tr>\n",
       "  </tbody>\n",
       "</table>\n",
       "<p>2174 rows × 12 columns</p>\n",
       "</div>"
      ],
      "text/plain": [
       "       children  days_employed  dob_years education  education_id  \\\n",
       "12            0            NaN         65   среднее             1   \n",
       "26            0            NaN         41   среднее             1   \n",
       "29            0            NaN         63   среднее             1   \n",
       "41            0            NaN         50   среднее             1   \n",
       "55            0            NaN         54   среднее             1   \n",
       "...         ...            ...        ...       ...           ...   \n",
       "21489         2            NaN         47   Среднее             1   \n",
       "21495         1            NaN         50   среднее             1   \n",
       "21497         0            NaN         48    ВЫСШЕЕ             0   \n",
       "21502         1            NaN         42   среднее             1   \n",
       "21510         2            NaN         28   среднее             1   \n",
       "\n",
       "               family_status  family_status_id gender  income_type  debt  \\\n",
       "12          гражданский брак                 1      M    пенсионер     0   \n",
       "26           женат / замужем                 0      M  госслужащий     0   \n",
       "29     Не женат / не замужем                 4      F    пенсионер     0   \n",
       "41           женат / замужем                 0      F  госслужащий     0   \n",
       "55          гражданский брак                 1      F    пенсионер     1   \n",
       "...                      ...               ...    ...          ...   ...   \n",
       "21489        женат / замужем                 0      M    компаньон     0   \n",
       "21495       гражданский брак                 1      F    сотрудник     0   \n",
       "21497        женат / замужем                 0      F    компаньон     0   \n",
       "21502        женат / замужем                 0      F    сотрудник     0   \n",
       "21510        женат / замужем                 0      F    сотрудник     0   \n",
       "\n",
       "       total_income                           purpose  \n",
       "12              NaN                   сыграть свадьбу  \n",
       "26              NaN                       образование  \n",
       "29              NaN  строительство жилой недвижимости  \n",
       "41              NaN  сделка с подержанным автомобилем  \n",
       "55              NaN                   сыграть свадьбу  \n",
       "...             ...                               ...  \n",
       "21489           NaN              сделка с автомобилем  \n",
       "21495           NaN                           свадьба  \n",
       "21497           NaN        строительство недвижимости  \n",
       "21502           NaN  строительство жилой недвижимости  \n",
       "21510           NaN           приобретение автомобиля  \n",
       "\n",
       "[2174 rows x 12 columns]"
      ]
     },
     "execution_count": 6,
     "metadata": {},
     "output_type": "execute_result"
    }
   ],
   "source": [
    "data[data['total_income'].isna()]"
   ]
  },
  {
   "cell_type": "markdown",
   "metadata": {},
   "source": [
    "Похоже, что данные пропущены в одинаковых строках в двух указанных выше столбцах. "
   ]
  },
  {
   "cell_type": "code",
   "execution_count": 7,
   "metadata": {},
   "outputs": [
    {
     "data": {
      "text/plain": [
       "'Процент пропущенных значений: 10.1%'"
      ]
     },
     "metadata": {},
     "output_type": "display_data"
    }
   ],
   "source": [
    "#определим процент пропущенных значений\n",
    "display(\"Процент пропущенных значений: {:.1%}\".format(len(data[data['total_income'].isna()])/len(data['total_income'])))"
   ]
  },
  {
   "cell_type": "markdown",
   "metadata": {},
   "source": [
    "Как видим, процент пропусков достаточно большой, чтобы его удалять.\n",
    "\n",
    "Предположим, что данные в столбцах `days_employed` и `total_income` пропущены по случайной причине. Т.к. в этих столбцах находятся количественные переменные, то пропуски есть смысл заменить на характерное значение выборки - среднее значение. Действуя таким образом, мы не потеряем важные данные.  \n",
    "Однако, в столбце `days_employed` встречаются ещё и отрицательные значения, эта ошибка в данных может испортить среднее в столбце. Предположим, что отрицательные значения появились случайно, и заменим их на модульные значения."
   ]
  },
  {
   "cell_type": "code",
   "execution_count": 8,
   "metadata": {},
   "outputs": [
    {
     "data": {
      "text/html": [
       "<div>\n",
       "<style scoped>\n",
       "    .dataframe tbody tr th:only-of-type {\n",
       "        vertical-align: middle;\n",
       "    }\n",
       "\n",
       "    .dataframe tbody tr th {\n",
       "        vertical-align: top;\n",
       "    }\n",
       "\n",
       "    .dataframe thead th {\n",
       "        text-align: right;\n",
       "    }\n",
       "</style>\n",
       "<table border=\"1\" class=\"dataframe\">\n",
       "  <thead>\n",
       "    <tr style=\"text-align: right;\">\n",
       "      <th></th>\n",
       "      <th>days_employed</th>\n",
       "    </tr>\n",
       "  </thead>\n",
       "  <tbody>\n",
       "    <tr>\n",
       "      <th>count</th>\n",
       "      <td>19351.000000</td>\n",
       "    </tr>\n",
       "    <tr>\n",
       "      <th>mean</th>\n",
       "      <td>66914.728907</td>\n",
       "    </tr>\n",
       "    <tr>\n",
       "      <th>std</th>\n",
       "      <td>139030.880527</td>\n",
       "    </tr>\n",
       "    <tr>\n",
       "      <th>min</th>\n",
       "      <td>24.141633</td>\n",
       "    </tr>\n",
       "    <tr>\n",
       "      <th>10%</th>\n",
       "      <td>385.009877</td>\n",
       "    </tr>\n",
       "    <tr>\n",
       "      <th>25%</th>\n",
       "      <td>927.009265</td>\n",
       "    </tr>\n",
       "    <tr>\n",
       "      <th>50%</th>\n",
       "      <td>2194.220567</td>\n",
       "    </tr>\n",
       "    <tr>\n",
       "      <th>75%</th>\n",
       "      <td>5537.882441</td>\n",
       "    </tr>\n",
       "    <tr>\n",
       "      <th>80%</th>\n",
       "      <td>8795.549101</td>\n",
       "    </tr>\n",
       "    <tr>\n",
       "      <th>90%</th>\n",
       "      <td>360310.974923</td>\n",
       "    </tr>\n",
       "    <tr>\n",
       "      <th>max</th>\n",
       "      <td>401755.400475</td>\n",
       "    </tr>\n",
       "  </tbody>\n",
       "</table>\n",
       "</div>"
      ],
      "text/plain": [
       "       days_employed\n",
       "count   19351.000000\n",
       "mean    66914.728907\n",
       "std    139030.880527\n",
       "min        24.141633\n",
       "10%       385.009877\n",
       "25%       927.009265\n",
       "50%      2194.220567\n",
       "75%      5537.882441\n",
       "80%      8795.549101\n",
       "90%    360310.974923\n",
       "max    401755.400475"
      ]
     },
     "metadata": {},
     "output_type": "display_data"
    }
   ],
   "source": [
    "data['days_employed'] = data['days_employed'].abs() # убираем отрицательные значения в столбце days_employed\n",
    "display(data['days_employed'].describe(percentiles=[.10,.25,.5, .75, .80,.9]).to_frame())"
   ]
  },
  {
   "cell_type": "markdown",
   "metadata": {},
   "source": [
    "Значения в столбце `days_employed` стали положительные, изменились и характеристики переменной.\n",
    "\n",
    "Из описания столбца `days_employed` видно, что в данных есть большой разброс по значениям (std=139030.9, примерно 80% значений в пределах 9000, тогда как последние 10% значений сильно отличаются от основной группы). Возможно, часть данных записана в часах, а остальные в днях. \n",
    "\n",
    "Приведём значения к единому формату в днях. Для этого применим логическую индексацию. Предположим, что количество дней стажа не может превышать 30000 (примерно 82 года). "
   ]
  },
  {
   "cell_type": "code",
   "execution_count": 9,
   "metadata": {},
   "outputs": [
    {
     "data": {
      "text/html": [
       "<div>\n",
       "<style scoped>\n",
       "    .dataframe tbody tr th:only-of-type {\n",
       "        vertical-align: middle;\n",
       "    }\n",
       "\n",
       "    .dataframe tbody tr th {\n",
       "        vertical-align: top;\n",
       "    }\n",
       "\n",
       "    .dataframe thead th {\n",
       "        text-align: right;\n",
       "    }\n",
       "</style>\n",
       "<table border=\"1\" class=\"dataframe\">\n",
       "  <thead>\n",
       "    <tr style=\"text-align: right;\">\n",
       "      <th></th>\n",
       "      <th>days_employed</th>\n",
       "    </tr>\n",
       "  </thead>\n",
       "  <tbody>\n",
       "    <tr>\n",
       "      <th>count</th>\n",
       "      <td>19351.000000</td>\n",
       "    </tr>\n",
       "    <tr>\n",
       "      <th>mean</th>\n",
       "      <td>4641.641176</td>\n",
       "    </tr>\n",
       "    <tr>\n",
       "      <th>std</th>\n",
       "      <td>5355.964289</td>\n",
       "    </tr>\n",
       "    <tr>\n",
       "      <th>min</th>\n",
       "      <td>24.141633</td>\n",
       "    </tr>\n",
       "    <tr>\n",
       "      <th>25%</th>\n",
       "      <td>927.009265</td>\n",
       "    </tr>\n",
       "    <tr>\n",
       "      <th>50%</th>\n",
       "      <td>2194.220567</td>\n",
       "    </tr>\n",
       "    <tr>\n",
       "      <th>75%</th>\n",
       "      <td>5537.882441</td>\n",
       "    </tr>\n",
       "    <tr>\n",
       "      <th>max</th>\n",
       "      <td>18388.949901</td>\n",
       "    </tr>\n",
       "  </tbody>\n",
       "</table>\n",
       "</div>"
      ],
      "text/plain": [
       "       days_employed\n",
       "count   19351.000000\n",
       "mean     4641.641176\n",
       "std      5355.964289\n",
       "min        24.141633\n",
       "25%       927.009265\n",
       "50%      2194.220567\n",
       "75%      5537.882441\n",
       "max     18388.949901"
      ]
     },
     "metadata": {},
     "output_type": "display_data"
    }
   ],
   "source": [
    "data.loc[data['days_employed'] > 30000, 'days_employed'] = data.loc[data['days_employed'] >30000, 'days_employed'] / 24 \n",
    "display(data['days_employed'].describe().to_frame()) #выводим на экран описательную статистику"
   ]
  },
  {
   "cell_type": "markdown",
   "metadata": {},
   "source": [
    "Данные и их распределение изменились, нет отрицательных значений и большого разброса.\n",
    "\n",
    "Расмотрим теперь пропуски. Возможно пропуски связаны с какой-либо переменной. Проверим это: посчитаем процент пропусков для каждой категории для следующих переменных: `children`, `education_id`, `family_status_id`, `gender`, `income_type`."
   ]
  },
  {
   "cell_type": "code",
   "execution_count": 10,
   "metadata": {},
   "outputs": [
    {
     "data": {
      "text/html": [
       "<div>\n",
       "<style scoped>\n",
       "    .dataframe tbody tr th:only-of-type {\n",
       "        vertical-align: middle;\n",
       "    }\n",
       "\n",
       "    .dataframe tbody tr th {\n",
       "        vertical-align: top;\n",
       "    }\n",
       "\n",
       "    .dataframe thead th {\n",
       "        text-align: right;\n",
       "    }\n",
       "</style>\n",
       "<table border=\"1\" class=\"dataframe\">\n",
       "  <thead>\n",
       "    <tr style=\"text-align: right;\">\n",
       "      <th></th>\n",
       "      <th>days_employed_nan</th>\n",
       "      <th>total_income_nan</th>\n",
       "    </tr>\n",
       "    <tr>\n",
       "      <th>children</th>\n",
       "      <th></th>\n",
       "      <th></th>\n",
       "    </tr>\n",
       "  </thead>\n",
       "  <tbody>\n",
       "    <tr>\n",
       "      <th>4</th>\n",
       "      <td>0.170732</td>\n",
       "      <td>0.170732</td>\n",
       "    </tr>\n",
       "    <tr>\n",
       "      <th>20</th>\n",
       "      <td>0.118421</td>\n",
       "      <td>0.118421</td>\n",
       "    </tr>\n",
       "    <tr>\n",
       "      <th>5</th>\n",
       "      <td>0.111111</td>\n",
       "      <td>0.111111</td>\n",
       "    </tr>\n",
       "    <tr>\n",
       "      <th>3</th>\n",
       "      <td>0.109091</td>\n",
       "      <td>0.109091</td>\n",
       "    </tr>\n",
       "    <tr>\n",
       "      <th>0</th>\n",
       "      <td>0.101703</td>\n",
       "      <td>0.101703</td>\n",
       "    </tr>\n",
       "    <tr>\n",
       "      <th>2</th>\n",
       "      <td>0.099270</td>\n",
       "      <td>0.099270</td>\n",
       "    </tr>\n",
       "    <tr>\n",
       "      <th>1</th>\n",
       "      <td>0.098589</td>\n",
       "      <td>0.098589</td>\n",
       "    </tr>\n",
       "    <tr>\n",
       "      <th>-1</th>\n",
       "      <td>0.063830</td>\n",
       "      <td>0.063830</td>\n",
       "    </tr>\n",
       "  </tbody>\n",
       "</table>\n",
       "</div>"
      ],
      "text/plain": [
       "          days_employed_nan  total_income_nan\n",
       "children                                     \n",
       " 4                 0.170732          0.170732\n",
       " 20                0.118421          0.118421\n",
       " 5                 0.111111          0.111111\n",
       " 3                 0.109091          0.109091\n",
       " 0                 0.101703          0.101703\n",
       " 2                 0.099270          0.099270\n",
       " 1                 0.098589          0.098589\n",
       "-1                 0.063830          0.063830"
      ]
     },
     "metadata": {},
     "output_type": "display_data"
    },
    {
     "data": {
      "text/html": [
       "<div>\n",
       "<style scoped>\n",
       "    .dataframe tbody tr th:only-of-type {\n",
       "        vertical-align: middle;\n",
       "    }\n",
       "\n",
       "    .dataframe tbody tr th {\n",
       "        vertical-align: top;\n",
       "    }\n",
       "\n",
       "    .dataframe thead th {\n",
       "        text-align: right;\n",
       "    }\n",
       "</style>\n",
       "<table border=\"1\" class=\"dataframe\">\n",
       "  <thead>\n",
       "    <tr style=\"text-align: right;\">\n",
       "      <th></th>\n",
       "      <th>children</th>\n",
       "    </tr>\n",
       "    <tr>\n",
       "      <th>children</th>\n",
       "      <th></th>\n",
       "    </tr>\n",
       "  </thead>\n",
       "  <tbody>\n",
       "    <tr>\n",
       "      <th>-1</th>\n",
       "      <td>47</td>\n",
       "    </tr>\n",
       "    <tr>\n",
       "      <th>0</th>\n",
       "      <td>14149</td>\n",
       "    </tr>\n",
       "    <tr>\n",
       "      <th>1</th>\n",
       "      <td>4818</td>\n",
       "    </tr>\n",
       "    <tr>\n",
       "      <th>2</th>\n",
       "      <td>2055</td>\n",
       "    </tr>\n",
       "    <tr>\n",
       "      <th>3</th>\n",
       "      <td>330</td>\n",
       "    </tr>\n",
       "    <tr>\n",
       "      <th>4</th>\n",
       "      <td>41</td>\n",
       "    </tr>\n",
       "    <tr>\n",
       "      <th>5</th>\n",
       "      <td>9</td>\n",
       "    </tr>\n",
       "    <tr>\n",
       "      <th>20</th>\n",
       "      <td>76</td>\n",
       "    </tr>\n",
       "  </tbody>\n",
       "</table>\n",
       "</div>"
      ],
      "text/plain": [
       "          children\n",
       "children          \n",
       "-1              47\n",
       " 0           14149\n",
       " 1            4818\n",
       " 2            2055\n",
       " 3             330\n",
       " 4              41\n",
       " 5               9\n",
       " 20             76"
      ]
     },
     "metadata": {},
     "output_type": "display_data"
    },
    {
     "data": {
      "text/html": [
       "<div>\n",
       "<style scoped>\n",
       "    .dataframe tbody tr th:only-of-type {\n",
       "        vertical-align: middle;\n",
       "    }\n",
       "\n",
       "    .dataframe tbody tr th {\n",
       "        vertical-align: top;\n",
       "    }\n",
       "\n",
       "    .dataframe thead th {\n",
       "        text-align: right;\n",
       "    }\n",
       "</style>\n",
       "<table border=\"1\" class=\"dataframe\">\n",
       "  <thead>\n",
       "    <tr style=\"text-align: right;\">\n",
       "      <th></th>\n",
       "      <th>days_employed_nan</th>\n",
       "      <th>total_income_nan</th>\n",
       "    </tr>\n",
       "    <tr>\n",
       "      <th>education_id</th>\n",
       "      <th></th>\n",
       "      <th></th>\n",
       "    </tr>\n",
       "  </thead>\n",
       "  <tbody>\n",
       "    <tr>\n",
       "      <th>0</th>\n",
       "      <td>0.103422</td>\n",
       "      <td>0.103422</td>\n",
       "    </tr>\n",
       "    <tr>\n",
       "      <th>1</th>\n",
       "      <td>0.101096</td>\n",
       "      <td>0.101096</td>\n",
       "    </tr>\n",
       "    <tr>\n",
       "      <th>2</th>\n",
       "      <td>0.092742</td>\n",
       "      <td>0.092742</td>\n",
       "    </tr>\n",
       "    <tr>\n",
       "      <th>3</th>\n",
       "      <td>0.074468</td>\n",
       "      <td>0.074468</td>\n",
       "    </tr>\n",
       "    <tr>\n",
       "      <th>4</th>\n",
       "      <td>0.000000</td>\n",
       "      <td>0.000000</td>\n",
       "    </tr>\n",
       "  </tbody>\n",
       "</table>\n",
       "</div>"
      ],
      "text/plain": [
       "              days_employed_nan  total_income_nan\n",
       "education_id                                     \n",
       "0                      0.103422          0.103422\n",
       "1                      0.101096          0.101096\n",
       "2                      0.092742          0.092742\n",
       "3                      0.074468          0.074468\n",
       "4                      0.000000          0.000000"
      ]
     },
     "metadata": {},
     "output_type": "display_data"
    },
    {
     "data": {
      "text/html": [
       "<div>\n",
       "<style scoped>\n",
       "    .dataframe tbody tr th:only-of-type {\n",
       "        vertical-align: middle;\n",
       "    }\n",
       "\n",
       "    .dataframe tbody tr th {\n",
       "        vertical-align: top;\n",
       "    }\n",
       "\n",
       "    .dataframe thead th {\n",
       "        text-align: right;\n",
       "    }\n",
       "</style>\n",
       "<table border=\"1\" class=\"dataframe\">\n",
       "  <thead>\n",
       "    <tr style=\"text-align: right;\">\n",
       "      <th></th>\n",
       "      <th>education_id</th>\n",
       "    </tr>\n",
       "    <tr>\n",
       "      <th>education_id</th>\n",
       "      <th></th>\n",
       "    </tr>\n",
       "  </thead>\n",
       "  <tbody>\n",
       "    <tr>\n",
       "      <th>0</th>\n",
       "      <td>5260</td>\n",
       "    </tr>\n",
       "    <tr>\n",
       "      <th>1</th>\n",
       "      <td>15233</td>\n",
       "    </tr>\n",
       "    <tr>\n",
       "      <th>2</th>\n",
       "      <td>744</td>\n",
       "    </tr>\n",
       "    <tr>\n",
       "      <th>3</th>\n",
       "      <td>282</td>\n",
       "    </tr>\n",
       "    <tr>\n",
       "      <th>4</th>\n",
       "      <td>6</td>\n",
       "    </tr>\n",
       "  </tbody>\n",
       "</table>\n",
       "</div>"
      ],
      "text/plain": [
       "              education_id\n",
       "education_id              \n",
       "0                     5260\n",
       "1                    15233\n",
       "2                      744\n",
       "3                      282\n",
       "4                        6"
      ]
     },
     "metadata": {},
     "output_type": "display_data"
    },
    {
     "data": {
      "text/html": [
       "<div>\n",
       "<style scoped>\n",
       "    .dataframe tbody tr th:only-of-type {\n",
       "        vertical-align: middle;\n",
       "    }\n",
       "\n",
       "    .dataframe tbody tr th {\n",
       "        vertical-align: top;\n",
       "    }\n",
       "\n",
       "    .dataframe thead th {\n",
       "        text-align: right;\n",
       "    }\n",
       "</style>\n",
       "<table border=\"1\" class=\"dataframe\">\n",
       "  <thead>\n",
       "    <tr style=\"text-align: right;\">\n",
       "      <th></th>\n",
       "      <th>days_employed_nan</th>\n",
       "      <th>total_income_nan</th>\n",
       "    </tr>\n",
       "    <tr>\n",
       "      <th>family_status_id</th>\n",
       "      <th></th>\n",
       "      <th></th>\n",
       "    </tr>\n",
       "  </thead>\n",
       "  <tbody>\n",
       "    <tr>\n",
       "      <th>1</th>\n",
       "      <td>0.105818</td>\n",
       "      <td>0.105818</td>\n",
       "    </tr>\n",
       "    <tr>\n",
       "      <th>4</th>\n",
       "      <td>0.102382</td>\n",
       "      <td>0.102382</td>\n",
       "    </tr>\n",
       "    <tr>\n",
       "      <th>0</th>\n",
       "      <td>0.099919</td>\n",
       "      <td>0.099919</td>\n",
       "    </tr>\n",
       "    <tr>\n",
       "      <th>2</th>\n",
       "      <td>0.098958</td>\n",
       "      <td>0.098958</td>\n",
       "    </tr>\n",
       "    <tr>\n",
       "      <th>3</th>\n",
       "      <td>0.093724</td>\n",
       "      <td>0.093724</td>\n",
       "    </tr>\n",
       "  </tbody>\n",
       "</table>\n",
       "</div>"
      ],
      "text/plain": [
       "                  days_employed_nan  total_income_nan\n",
       "family_status_id                                     \n",
       "1                          0.105818          0.105818\n",
       "4                          0.102382          0.102382\n",
       "0                          0.099919          0.099919\n",
       "2                          0.098958          0.098958\n",
       "3                          0.093724          0.093724"
      ]
     },
     "metadata": {},
     "output_type": "display_data"
    },
    {
     "data": {
      "text/html": [
       "<div>\n",
       "<style scoped>\n",
       "    .dataframe tbody tr th:only-of-type {\n",
       "        vertical-align: middle;\n",
       "    }\n",
       "\n",
       "    .dataframe tbody tr th {\n",
       "        vertical-align: top;\n",
       "    }\n",
       "\n",
       "    .dataframe thead th {\n",
       "        text-align: right;\n",
       "    }\n",
       "</style>\n",
       "<table border=\"1\" class=\"dataframe\">\n",
       "  <thead>\n",
       "    <tr style=\"text-align: right;\">\n",
       "      <th></th>\n",
       "      <th>family_status_id</th>\n",
       "    </tr>\n",
       "    <tr>\n",
       "      <th>family_status_id</th>\n",
       "      <th></th>\n",
       "    </tr>\n",
       "  </thead>\n",
       "  <tbody>\n",
       "    <tr>\n",
       "      <th>0</th>\n",
       "      <td>12380</td>\n",
       "    </tr>\n",
       "    <tr>\n",
       "      <th>1</th>\n",
       "      <td>4177</td>\n",
       "    </tr>\n",
       "    <tr>\n",
       "      <th>2</th>\n",
       "      <td>960</td>\n",
       "    </tr>\n",
       "    <tr>\n",
       "      <th>3</th>\n",
       "      <td>1195</td>\n",
       "    </tr>\n",
       "    <tr>\n",
       "      <th>4</th>\n",
       "      <td>2813</td>\n",
       "    </tr>\n",
       "  </tbody>\n",
       "</table>\n",
       "</div>"
      ],
      "text/plain": [
       "                  family_status_id\n",
       "family_status_id                  \n",
       "0                            12380\n",
       "1                             4177\n",
       "2                              960\n",
       "3                             1195\n",
       "4                             2813"
      ]
     },
     "metadata": {},
     "output_type": "display_data"
    },
    {
     "data": {
      "text/html": [
       "<div>\n",
       "<style scoped>\n",
       "    .dataframe tbody tr th:only-of-type {\n",
       "        vertical-align: middle;\n",
       "    }\n",
       "\n",
       "    .dataframe tbody tr th {\n",
       "        vertical-align: top;\n",
       "    }\n",
       "\n",
       "    .dataframe thead th {\n",
       "        text-align: right;\n",
       "    }\n",
       "</style>\n",
       "<table border=\"1\" class=\"dataframe\">\n",
       "  <thead>\n",
       "    <tr style=\"text-align: right;\">\n",
       "      <th></th>\n",
       "      <th>days_employed_nan</th>\n",
       "      <th>total_income_nan</th>\n",
       "    </tr>\n",
       "    <tr>\n",
       "      <th>gender</th>\n",
       "      <th></th>\n",
       "      <th></th>\n",
       "    </tr>\n",
       "  </thead>\n",
       "  <tbody>\n",
       "    <tr>\n",
       "      <th>F</th>\n",
       "      <td>0.104243</td>\n",
       "      <td>0.104243</td>\n",
       "    </tr>\n",
       "    <tr>\n",
       "      <th>M</th>\n",
       "      <td>0.094676</td>\n",
       "      <td>0.094676</td>\n",
       "    </tr>\n",
       "    <tr>\n",
       "      <th>XNA</th>\n",
       "      <td>0.000000</td>\n",
       "      <td>0.000000</td>\n",
       "    </tr>\n",
       "  </tbody>\n",
       "</table>\n",
       "</div>"
      ],
      "text/plain": [
       "        days_employed_nan  total_income_nan\n",
       "gender                                     \n",
       "F                0.104243          0.104243\n",
       "M                0.094676          0.094676\n",
       "XNA              0.000000          0.000000"
      ]
     },
     "metadata": {},
     "output_type": "display_data"
    },
    {
     "data": {
      "text/html": [
       "<div>\n",
       "<style scoped>\n",
       "    .dataframe tbody tr th:only-of-type {\n",
       "        vertical-align: middle;\n",
       "    }\n",
       "\n",
       "    .dataframe tbody tr th {\n",
       "        vertical-align: top;\n",
       "    }\n",
       "\n",
       "    .dataframe thead th {\n",
       "        text-align: right;\n",
       "    }\n",
       "</style>\n",
       "<table border=\"1\" class=\"dataframe\">\n",
       "  <thead>\n",
       "    <tr style=\"text-align: right;\">\n",
       "      <th></th>\n",
       "      <th>gender</th>\n",
       "    </tr>\n",
       "    <tr>\n",
       "      <th>gender</th>\n",
       "      <th></th>\n",
       "    </tr>\n",
       "  </thead>\n",
       "  <tbody>\n",
       "    <tr>\n",
       "      <th>F</th>\n",
       "      <td>14236</td>\n",
       "    </tr>\n",
       "    <tr>\n",
       "      <th>M</th>\n",
       "      <td>7288</td>\n",
       "    </tr>\n",
       "    <tr>\n",
       "      <th>XNA</th>\n",
       "      <td>1</td>\n",
       "    </tr>\n",
       "  </tbody>\n",
       "</table>\n",
       "</div>"
      ],
      "text/plain": [
       "        gender\n",
       "gender        \n",
       "F        14236\n",
       "M         7288\n",
       "XNA          1"
      ]
     },
     "metadata": {},
     "output_type": "display_data"
    },
    {
     "data": {
      "text/html": [
       "<div>\n",
       "<style scoped>\n",
       "    .dataframe tbody tr th:only-of-type {\n",
       "        vertical-align: middle;\n",
       "    }\n",
       "\n",
       "    .dataframe tbody tr th {\n",
       "        vertical-align: top;\n",
       "    }\n",
       "\n",
       "    .dataframe thead th {\n",
       "        text-align: right;\n",
       "    }\n",
       "</style>\n",
       "<table border=\"1\" class=\"dataframe\">\n",
       "  <thead>\n",
       "    <tr style=\"text-align: right;\">\n",
       "      <th></th>\n",
       "      <th>days_employed_nan</th>\n",
       "      <th>total_income_nan</th>\n",
       "    </tr>\n",
       "    <tr>\n",
       "      <th>income_type</th>\n",
       "      <th></th>\n",
       "      <th></th>\n",
       "    </tr>\n",
       "  </thead>\n",
       "  <tbody>\n",
       "    <tr>\n",
       "      <th>предприниматель</th>\n",
       "      <td>0.500000</td>\n",
       "      <td>0.500000</td>\n",
       "    </tr>\n",
       "    <tr>\n",
       "      <th>пенсионер</th>\n",
       "      <td>0.107106</td>\n",
       "      <td>0.107106</td>\n",
       "    </tr>\n",
       "    <tr>\n",
       "      <th>госслужащий</th>\n",
       "      <td>0.100754</td>\n",
       "      <td>0.100754</td>\n",
       "    </tr>\n",
       "    <tr>\n",
       "      <th>компаньон</th>\n",
       "      <td>0.099902</td>\n",
       "      <td>0.099902</td>\n",
       "    </tr>\n",
       "    <tr>\n",
       "      <th>сотрудник</th>\n",
       "      <td>0.099379</td>\n",
       "      <td>0.099379</td>\n",
       "    </tr>\n",
       "    <tr>\n",
       "      <th>безработный</th>\n",
       "      <td>0.000000</td>\n",
       "      <td>0.000000</td>\n",
       "    </tr>\n",
       "    <tr>\n",
       "      <th>в декрете</th>\n",
       "      <td>0.000000</td>\n",
       "      <td>0.000000</td>\n",
       "    </tr>\n",
       "    <tr>\n",
       "      <th>студент</th>\n",
       "      <td>0.000000</td>\n",
       "      <td>0.000000</td>\n",
       "    </tr>\n",
       "  </tbody>\n",
       "</table>\n",
       "</div>"
      ],
      "text/plain": [
       "                 days_employed_nan  total_income_nan\n",
       "income_type                                         \n",
       "предприниматель           0.500000          0.500000\n",
       "пенсионер                 0.107106          0.107106\n",
       "госслужащий               0.100754          0.100754\n",
       "компаньон                 0.099902          0.099902\n",
       "сотрудник                 0.099379          0.099379\n",
       "безработный               0.000000          0.000000\n",
       "в декрете                 0.000000          0.000000\n",
       "студент                   0.000000          0.000000"
      ]
     },
     "metadata": {},
     "output_type": "display_data"
    },
    {
     "data": {
      "text/html": [
       "<div>\n",
       "<style scoped>\n",
       "    .dataframe tbody tr th:only-of-type {\n",
       "        vertical-align: middle;\n",
       "    }\n",
       "\n",
       "    .dataframe tbody tr th {\n",
       "        vertical-align: top;\n",
       "    }\n",
       "\n",
       "    .dataframe thead th {\n",
       "        text-align: right;\n",
       "    }\n",
       "</style>\n",
       "<table border=\"1\" class=\"dataframe\">\n",
       "  <thead>\n",
       "    <tr style=\"text-align: right;\">\n",
       "      <th></th>\n",
       "      <th>income_type</th>\n",
       "    </tr>\n",
       "    <tr>\n",
       "      <th>income_type</th>\n",
       "      <th></th>\n",
       "    </tr>\n",
       "  </thead>\n",
       "  <tbody>\n",
       "    <tr>\n",
       "      <th>безработный</th>\n",
       "      <td>2</td>\n",
       "    </tr>\n",
       "    <tr>\n",
       "      <th>в декрете</th>\n",
       "      <td>1</td>\n",
       "    </tr>\n",
       "    <tr>\n",
       "      <th>госслужащий</th>\n",
       "      <td>1459</td>\n",
       "    </tr>\n",
       "    <tr>\n",
       "      <th>компаньон</th>\n",
       "      <td>5085</td>\n",
       "    </tr>\n",
       "    <tr>\n",
       "      <th>пенсионер</th>\n",
       "      <td>3856</td>\n",
       "    </tr>\n",
       "    <tr>\n",
       "      <th>предприниматель</th>\n",
       "      <td>2</td>\n",
       "    </tr>\n",
       "    <tr>\n",
       "      <th>сотрудник</th>\n",
       "      <td>11119</td>\n",
       "    </tr>\n",
       "    <tr>\n",
       "      <th>студент</th>\n",
       "      <td>1</td>\n",
       "    </tr>\n",
       "  </tbody>\n",
       "</table>\n",
       "</div>"
      ],
      "text/plain": [
       "                 income_type\n",
       "income_type                 \n",
       "безработный                2\n",
       "в декрете                  1\n",
       "госслужащий             1459\n",
       "компаньон               5085\n",
       "пенсионер               3856\n",
       "предприниматель            2\n",
       "сотрудник              11119\n",
       "студент                    1"
      ]
     },
     "metadata": {},
     "output_type": "display_data"
    }
   ],
   "source": [
    "data['days_employed_nan'] = data['days_employed'].isna() #сохраним в отдельную переменные          \n",
    "data['total_income_nan'] = data['total_income'].isna()   #пропущенные значения в столбце days_employed и total_income\n",
    "\n",
    "# Создадим цикл для перебора всех переменных.  \n",
    "# Внутри цикла сгруппируем значения по выбранной переменной, \n",
    "# найдём среднее значение количества пропущенных значений \n",
    "# для каждой категории внутри переменной, \n",
    "# затем отсортируем полученную таблицу по days_employed_nan по убыванию.\n",
    "# выводим на экран ещё информацию о количестве каждой категории внутри переменной.\n",
    "\n",
    "for item in ['children', 'education_id', 'family_status_id', 'gender', 'income_type']:\n",
    "    display(data.groupby(item).agg({'days_employed_nan': 'mean', \n",
    "                                    'total_income_nan': 'mean'}).sort_values(by='days_employed_nan',\n",
    "                                                                               ascending=False))\n",
    "    display(data.groupby(item)[item].count().to_frame())"
   ]
  },
  {
   "cell_type": "markdown",
   "metadata": {},
   "source": [
    "Таким образом, я могу сделать следующий вывод: учитывая количество каждой категории для каждой переменной, нет сильных различий в распределении пропущенных значений. В большинстве случаев количество пропущенных значений примерно 10% (+-0,2%).\n",
    "\n",
    "Явные пропуски находятся в столбцах `days_employed` и `total_income`, т.к. данные в них должны быть связаны с занимаемой должностью, обработаем пропуски по категории `income_type`."
   ]
  },
  {
   "cell_type": "code",
   "execution_count": 11,
   "metadata": {},
   "outputs": [
    {
     "data": {
      "text/plain": [
       "'Количество пропусков после их замены в столбце days_employed'"
      ]
     },
     "metadata": {},
     "output_type": "display_data"
    },
    {
     "data": {
      "text/plain": [
       "0"
      ]
     },
     "metadata": {},
     "output_type": "display_data"
    },
    {
     "data": {
      "text/plain": [
       "'Количество пропусков после их замены в столбце total_income'"
      ]
     },
     "metadata": {},
     "output_type": "display_data"
    },
    {
     "data": {
      "text/plain": [
       "0"
      ]
     },
     "metadata": {},
     "output_type": "display_data"
    }
   ],
   "source": [
    "for column_with_nan in ['days_employed','total_income']:\n",
    "    for income_type in data['income_type'].unique():\n",
    "        data[column_with_nan] = data[column_with_nan].fillna(data.groupby('income_type')[column_with_nan].transform('median')) \n",
    "    \n",
    "    display(f'Количество пропусков после их замены в столбце {column_with_nan}', data[column_with_nan].isna().sum())"
   ]
  },
  {
   "cell_type": "markdown",
   "metadata": {},
   "source": [
    "Столбцы `days_employed_nan` и `total_income_nan` больше не нужны, можно их удалить."
   ]
  },
  {
   "cell_type": "code",
   "execution_count": 12,
   "metadata": {},
   "outputs": [
    {
     "data": {
      "text/html": [
       "<div>\n",
       "<style scoped>\n",
       "    .dataframe tbody tr th:only-of-type {\n",
       "        vertical-align: middle;\n",
       "    }\n",
       "\n",
       "    .dataframe tbody tr th {\n",
       "        vertical-align: top;\n",
       "    }\n",
       "\n",
       "    .dataframe thead th {\n",
       "        text-align: right;\n",
       "    }\n",
       "</style>\n",
       "<table border=\"1\" class=\"dataframe\">\n",
       "  <thead>\n",
       "    <tr style=\"text-align: right;\">\n",
       "      <th></th>\n",
       "      <th>children</th>\n",
       "      <th>days_employed</th>\n",
       "      <th>dob_years</th>\n",
       "      <th>education</th>\n",
       "      <th>education_id</th>\n",
       "      <th>family_status</th>\n",
       "      <th>family_status_id</th>\n",
       "      <th>gender</th>\n",
       "      <th>income_type</th>\n",
       "      <th>debt</th>\n",
       "      <th>total_income</th>\n",
       "      <th>purpose</th>\n",
       "    </tr>\n",
       "  </thead>\n",
       "  <tbody>\n",
       "    <tr>\n",
       "      <th>0</th>\n",
       "      <td>1</td>\n",
       "      <td>8437.673028</td>\n",
       "      <td>42</td>\n",
       "      <td>высшее</td>\n",
       "      <td>0</td>\n",
       "      <td>женат / замужем</td>\n",
       "      <td>0</td>\n",
       "      <td>F</td>\n",
       "      <td>сотрудник</td>\n",
       "      <td>0</td>\n",
       "      <td>253875.639453</td>\n",
       "      <td>покупка жилья</td>\n",
       "    </tr>\n",
       "    <tr>\n",
       "      <th>1</th>\n",
       "      <td>1</td>\n",
       "      <td>4024.803754</td>\n",
       "      <td>36</td>\n",
       "      <td>среднее</td>\n",
       "      <td>1</td>\n",
       "      <td>женат / замужем</td>\n",
       "      <td>0</td>\n",
       "      <td>F</td>\n",
       "      <td>сотрудник</td>\n",
       "      <td>0</td>\n",
       "      <td>112080.014102</td>\n",
       "      <td>приобретение автомобиля</td>\n",
       "    </tr>\n",
       "    <tr>\n",
       "      <th>2</th>\n",
       "      <td>0</td>\n",
       "      <td>5623.422610</td>\n",
       "      <td>33</td>\n",
       "      <td>Среднее</td>\n",
       "      <td>1</td>\n",
       "      <td>женат / замужем</td>\n",
       "      <td>0</td>\n",
       "      <td>M</td>\n",
       "      <td>сотрудник</td>\n",
       "      <td>0</td>\n",
       "      <td>145885.952297</td>\n",
       "      <td>покупка жилья</td>\n",
       "    </tr>\n",
       "    <tr>\n",
       "      <th>3</th>\n",
       "      <td>3</td>\n",
       "      <td>4124.747207</td>\n",
       "      <td>32</td>\n",
       "      <td>среднее</td>\n",
       "      <td>1</td>\n",
       "      <td>женат / замужем</td>\n",
       "      <td>0</td>\n",
       "      <td>M</td>\n",
       "      <td>сотрудник</td>\n",
       "      <td>0</td>\n",
       "      <td>267628.550329</td>\n",
       "      <td>дополнительное образование</td>\n",
       "    </tr>\n",
       "    <tr>\n",
       "      <th>4</th>\n",
       "      <td>0</td>\n",
       "      <td>14177.753002</td>\n",
       "      <td>53</td>\n",
       "      <td>среднее</td>\n",
       "      <td>1</td>\n",
       "      <td>гражданский брак</td>\n",
       "      <td>1</td>\n",
       "      <td>F</td>\n",
       "      <td>пенсионер</td>\n",
       "      <td>0</td>\n",
       "      <td>158616.077870</td>\n",
       "      <td>сыграть свадьбу</td>\n",
       "    </tr>\n",
       "  </tbody>\n",
       "</table>\n",
       "</div>"
      ],
      "text/plain": [
       "   children  days_employed  dob_years education  education_id  \\\n",
       "0         1    8437.673028         42    высшее             0   \n",
       "1         1    4024.803754         36   среднее             1   \n",
       "2         0    5623.422610         33   Среднее             1   \n",
       "3         3    4124.747207         32   среднее             1   \n",
       "4         0   14177.753002         53   среднее             1   \n",
       "\n",
       "      family_status  family_status_id gender income_type  debt   total_income  \\\n",
       "0   женат / замужем                 0      F   сотрудник     0  253875.639453   \n",
       "1   женат / замужем                 0      F   сотрудник     0  112080.014102   \n",
       "2   женат / замужем                 0      M   сотрудник     0  145885.952297   \n",
       "3   женат / замужем                 0      M   сотрудник     0  267628.550329   \n",
       "4  гражданский брак                 1      F   пенсионер     0  158616.077870   \n",
       "\n",
       "                      purpose  \n",
       "0               покупка жилья  \n",
       "1     приобретение автомобиля  \n",
       "2               покупка жилья  \n",
       "3  дополнительное образование  \n",
       "4             сыграть свадьбу  "
      ]
     },
     "metadata": {},
     "output_type": "display_data"
    }
   ],
   "source": [
    "data = data.drop(columns=['days_employed_nan', 'total_income_nan'])\n",
    "display(data.head())"
   ]
  },
  {
   "cell_type": "markdown",
   "metadata": {},
   "source": [
    "Пропуски в столбцах `days_employed` и `total_income` отсутствуют. "
   ]
  },
  {
   "cell_type": "markdown",
   "metadata": {},
   "source": [
    "## Замена странных значений"
   ]
  },
  {
   "cell_type": "markdown",
   "metadata": {},
   "source": [
    "Ранее было описано, что некоторые столбцы содержат странные значения. А именно:  \n",
    "1) `children`: есть 47 отрицательных значений (-1), и 76 подозрительно больших (20 детей).  \n",
    "2) `dob_years`: 101 значение равно 0  \n",
    "3) `gender`: 1 странное значение XNA. \n",
    "\n",
    "Предположим, что природа выявленных аномалий в данных случайна. Тогда:  \n",
    "1) -1 детей заменим на 1, 20 детей заменим на 2  \n",
    "2) 0 заменим на среднее значение по столбцу  \n",
    "3) заменим на М"
   ]
  },
  {
   "cell_type": "code",
   "execution_count": 13,
   "metadata": {
    "scrolled": true
   },
   "outputs": [
    {
     "data": {
      "text/plain": [
       "0    14149\n",
       "1     4865\n",
       "2     2131\n",
       "3      330\n",
       "4       41\n",
       "5        9\n",
       "Name: children, dtype: int64"
      ]
     },
     "metadata": {},
     "output_type": "display_data"
    },
    {
     "data": {
      "text/plain": [
       "35.00000    617\n",
       "40.00000    609\n",
       "41.00000    607\n",
       "34.00000    603\n",
       "38.00000    598\n",
       "42.00000    597\n",
       "33.00000    581\n",
       "39.00000    573\n",
       "31.00000    560\n",
       "36.00000    555\n",
       "44.00000    547\n",
       "29.00000    545\n",
       "30.00000    540\n",
       "48.00000    538\n",
       "37.00000    537\n",
       "50.00000    514\n",
       "43.00000    513\n",
       "32.00000    510\n",
       "49.00000    508\n",
       "28.00000    503\n",
       "45.00000    497\n",
       "27.00000    493\n",
       "56.00000    487\n",
       "52.00000    484\n",
       "47.00000    480\n",
       "54.00000    479\n",
       "46.00000    475\n",
       "58.00000    461\n",
       "57.00000    460\n",
       "53.00000    459\n",
       "51.00000    448\n",
       "59.00000    444\n",
       "55.00000    443\n",
       "26.00000    408\n",
       "60.00000    377\n",
       "25.00000    357\n",
       "61.00000    355\n",
       "62.00000    352\n",
       "63.00000    269\n",
       "64.00000    265\n",
       "24.00000    264\n",
       "23.00000    254\n",
       "65.00000    194\n",
       "22.00000    183\n",
       "66.00000    183\n",
       "67.00000    167\n",
       "21.00000    111\n",
       "43.29338    101\n",
       "68.00000     99\n",
       "69.00000     85\n",
       "70.00000     65\n",
       "71.00000     58\n",
       "20.00000     51\n",
       "72.00000     33\n",
       "19.00000     14\n",
       "73.00000      8\n",
       "74.00000      6\n",
       "75.00000      1\n",
       "Name: dob_years, dtype: int64"
      ]
     },
     "metadata": {},
     "output_type": "display_data"
    },
    {
     "data": {
      "text/plain": [
       "F    14236\n",
       "M     7289\n",
       "Name: gender, dtype: int64"
      ]
     },
     "metadata": {},
     "output_type": "display_data"
    }
   ],
   "source": [
    "data.loc[data['children']==-1, 'children'] = 1 # заменяем -1 на 1\n",
    "data.loc[data['children']==20, 'children'] = 2 # заменяем 20 на 2\n",
    "data.loc[data['dob_years']==0, 'dob_years'] = data['dob_years'].mean() # 0 заменяем на среднее значение по столбцу 'dob_years'\n",
    "data.loc[data['gender']=='XNA', 'gender'] = 'M' # XNA заменяем на М\n",
    "\n",
    "# проверим, все ли значения изменились\n",
    "for column_name in ['children', 'dob_years', 'gender']: \n",
    "    display(data[column_name].value_counts())"
   ]
  },
  {
   "cell_type": "markdown",
   "metadata": {},
   "source": [
    "## Замена типа данных"
   ]
  },
  {
   "cell_type": "markdown",
   "metadata": {},
   "source": [
    "Данные в столбцах `days_employed` согласно документации содержат информацию о количестве отработанных дней, а в столбеце `total_income` - количестве ежемесячного дохода. Скорее всего значения в этих столбцах должны быть целочисленные, в то время как в датафрейме они относятся к типу float64 (с точкой).  \n",
    "Заменим тип данных, применив метод astype()."
   ]
  },
  {
   "cell_type": "code",
   "execution_count": 14,
   "metadata": {},
   "outputs": [
    {
     "name": "stdout",
     "output_type": "stream",
     "text": [
      "<class 'pandas.core.frame.DataFrame'>\n",
      "RangeIndex: 21525 entries, 0 to 21524\n",
      "Data columns (total 12 columns):\n",
      " #   Column            Non-Null Count  Dtype  \n",
      "---  ------            --------------  -----  \n",
      " 0   children          21525 non-null  int64  \n",
      " 1   days_employed     21525 non-null  int32  \n",
      " 2   dob_years         21525 non-null  float64\n",
      " 3   education         21525 non-null  object \n",
      " 4   education_id      21525 non-null  int64  \n",
      " 5   family_status     21525 non-null  object \n",
      " 6   family_status_id  21525 non-null  int64  \n",
      " 7   gender            21525 non-null  object \n",
      " 8   income_type       21525 non-null  object \n",
      " 9   debt              21525 non-null  int64  \n",
      " 10  total_income      21525 non-null  int32  \n",
      " 11  purpose           21525 non-null  object \n",
      "dtypes: float64(1), int32(2), int64(4), object(5)\n",
      "memory usage: 1.8+ MB\n"
     ]
    }
   ],
   "source": [
    "for column_name in ['days_employed','total_income']:\n",
    "    data[column_name] = data[column_name].astype('int')\n",
    "data.info()"
   ]
  },
  {
   "cell_type": "markdown",
   "metadata": {},
   "source": [
    "## Обработка дубликатов"
   ]
  },
  {
   "cell_type": "markdown",
   "metadata": {},
   "source": [
    "Возможно в данных есть дубликаты. Но для начала работы с ними необходимо привести значения в столбце `education` к единому формату. Применим метод str.lower() для приведения всех строк к нижнему регистру."
   ]
  },
  {
   "cell_type": "code",
   "execution_count": 15,
   "metadata": {},
   "outputs": [
    {
     "data": {
      "text/html": [
       "<div>\n",
       "<style scoped>\n",
       "    .dataframe tbody tr th:only-of-type {\n",
       "        vertical-align: middle;\n",
       "    }\n",
       "\n",
       "    .dataframe tbody tr th {\n",
       "        vertical-align: top;\n",
       "    }\n",
       "\n",
       "    .dataframe thead th {\n",
       "        text-align: right;\n",
       "    }\n",
       "</style>\n",
       "<table border=\"1\" class=\"dataframe\">\n",
       "  <thead>\n",
       "    <tr style=\"text-align: right;\">\n",
       "      <th></th>\n",
       "      <th>education</th>\n",
       "    </tr>\n",
       "  </thead>\n",
       "  <tbody>\n",
       "    <tr>\n",
       "      <th>среднее</th>\n",
       "      <td>15233</td>\n",
       "    </tr>\n",
       "    <tr>\n",
       "      <th>высшее</th>\n",
       "      <td>5260</td>\n",
       "    </tr>\n",
       "    <tr>\n",
       "      <th>неоконченное высшее</th>\n",
       "      <td>744</td>\n",
       "    </tr>\n",
       "    <tr>\n",
       "      <th>начальное</th>\n",
       "      <td>282</td>\n",
       "    </tr>\n",
       "    <tr>\n",
       "      <th>ученая степень</th>\n",
       "      <td>6</td>\n",
       "    </tr>\n",
       "  </tbody>\n",
       "</table>\n",
       "</div>"
      ],
      "text/plain": [
       "                     education\n",
       "среднее                  15233\n",
       "высшее                    5260\n",
       "неоконченное высшее        744\n",
       "начальное                  282\n",
       "ученая степень               6"
      ]
     },
     "metadata": {},
     "output_type": "display_data"
    }
   ],
   "source": [
    "data['education'] = data['education'].str.lower()\n",
    "display(data['education'].value_counts().to_frame()) #проверка результатов"
   ]
  },
  {
   "cell_type": "code",
   "execution_count": 16,
   "metadata": {},
   "outputs": [
    {
     "data": {
      "text/plain": [
       "71"
      ]
     },
     "execution_count": 16,
     "metadata": {},
     "output_type": "execute_result"
    }
   ],
   "source": [
    "data.duplicated().sum() # всего дубликатов"
   ]
  },
  {
   "cell_type": "markdown",
   "metadata": {},
   "source": [
    "В таблице 71 дубликат. Скорее всего причиной появления дубликатов стало склеивание единой таблицы из нескольких источников, которые составлялись разными подразделениями банка (людьми)."
   ]
  },
  {
   "cell_type": "code",
   "execution_count": 17,
   "metadata": {
    "scrolled": false
   },
   "outputs": [
    {
     "data": {
      "text/plain": [
       "'Всего строк в датафрейме до удаления дубликатов:'"
      ]
     },
     "metadata": {},
     "output_type": "display_data"
    },
    {
     "data": {
      "text/plain": [
       "21525"
      ]
     },
     "metadata": {},
     "output_type": "display_data"
    },
    {
     "data": {
      "text/plain": [
       "'Всего строк в датафрейме после удаления дубликатов:'"
      ]
     },
     "metadata": {},
     "output_type": "display_data"
    },
    {
     "data": {
      "text/plain": [
       "21454"
      ]
     },
     "metadata": {},
     "output_type": "display_data"
    }
   ],
   "source": [
    "display('Всего строк в датафрейме до удаления дубликатов:', len(data))\n",
    "data = data.drop_duplicates().reset_index(drop=True) # Удалим дубликаты и перезапишем все индексы\n",
    "display('Всего строк в датафрейме после удаления дубликатов:', len(data))"
   ]
  },
  {
   "cell_type": "markdown",
   "metadata": {},
   "source": [
    "## Лемматизация"
   ]
  },
  {
   "cell_type": "markdown",
   "metadata": {},
   "source": [
    "Столбец `purpose` полон текстовыми значениями. В таком виде их сложно обрабатывать и получить ответы на целевые вопросы исследования. Поэтому необходимо каждую причину получения кредита отнести к определённой категории. Чтобы это сделать, можно использовать лемматизацию, при помощи которой можно выделить основу слов, посчитать количество повторений каждого и выявить наиболее частовстречаемые - это и будут основные категории причин обращения в банк за кредитом."
   ]
  },
  {
   "cell_type": "code",
   "execution_count": 18,
   "metadata": {},
   "outputs": [
    {
     "data": {
      "text/plain": [
       "[(' ', 55023),\n",
       " ('недвижимость', 6351),\n",
       " ('покупка', 5897),\n",
       " ('жилье', 4460),\n",
       " ('автомобиль', 4306),\n",
       " ('образование', 4013),\n",
       " ('с', 2918),\n",
       " ('операция', 2604),\n",
       " ('свадьба', 2324),\n",
       " ('свой', 2230)]"
      ]
     },
     "metadata": {},
     "output_type": "display_data"
    }
   ],
   "source": [
    "lemmas = m.lemmatize(' '.join(data['purpose'])) # лемматизируем значения в столбце purpose и сохраняем их в переменной lemmas\n",
    "lemmas = Counter(lemmas)                        # добавляем счётчик\n",
    "display(lemmas.most_common(10))                 # просматриваем 10 наиболее частовстречаемых лемм"
   ]
  },
  {
   "cell_type": "code",
   "execution_count": 19,
   "metadata": {},
   "outputs": [
    {
     "data": {
      "text/html": [
       "<div>\n",
       "<style scoped>\n",
       "    .dataframe tbody tr th:only-of-type {\n",
       "        vertical-align: middle;\n",
       "    }\n",
       "\n",
       "    .dataframe tbody tr th {\n",
       "        vertical-align: top;\n",
       "    }\n",
       "\n",
       "    .dataframe thead th {\n",
       "        text-align: right;\n",
       "    }\n",
       "</style>\n",
       "<table border=\"1\" class=\"dataframe\">\n",
       "  <thead>\n",
       "    <tr style=\"text-align: right;\">\n",
       "      <th></th>\n",
       "      <th>children</th>\n",
       "      <th>days_employed</th>\n",
       "      <th>dob_years</th>\n",
       "      <th>education</th>\n",
       "      <th>education_id</th>\n",
       "      <th>family_status</th>\n",
       "      <th>family_status_id</th>\n",
       "      <th>gender</th>\n",
       "      <th>income_type</th>\n",
       "      <th>debt</th>\n",
       "      <th>total_income</th>\n",
       "      <th>purpose</th>\n",
       "      <th>purpose_category</th>\n",
       "    </tr>\n",
       "  </thead>\n",
       "  <tbody>\n",
       "    <tr>\n",
       "      <th>0</th>\n",
       "      <td>1</td>\n",
       "      <td>8437</td>\n",
       "      <td>42.0</td>\n",
       "      <td>высшее</td>\n",
       "      <td>0</td>\n",
       "      <td>женат / замужем</td>\n",
       "      <td>0</td>\n",
       "      <td>F</td>\n",
       "      <td>сотрудник</td>\n",
       "      <td>0</td>\n",
       "      <td>253875</td>\n",
       "      <td>покупка жилья</td>\n",
       "      <td>недвижимость</td>\n",
       "    </tr>\n",
       "    <tr>\n",
       "      <th>1</th>\n",
       "      <td>1</td>\n",
       "      <td>4024</td>\n",
       "      <td>36.0</td>\n",
       "      <td>среднее</td>\n",
       "      <td>1</td>\n",
       "      <td>женат / замужем</td>\n",
       "      <td>0</td>\n",
       "      <td>F</td>\n",
       "      <td>сотрудник</td>\n",
       "      <td>0</td>\n",
       "      <td>112080</td>\n",
       "      <td>приобретение автомобиля</td>\n",
       "      <td>автомобиль</td>\n",
       "    </tr>\n",
       "    <tr>\n",
       "      <th>2</th>\n",
       "      <td>0</td>\n",
       "      <td>5623</td>\n",
       "      <td>33.0</td>\n",
       "      <td>среднее</td>\n",
       "      <td>1</td>\n",
       "      <td>женат / замужем</td>\n",
       "      <td>0</td>\n",
       "      <td>M</td>\n",
       "      <td>сотрудник</td>\n",
       "      <td>0</td>\n",
       "      <td>145885</td>\n",
       "      <td>покупка жилья</td>\n",
       "      <td>недвижимость</td>\n",
       "    </tr>\n",
       "    <tr>\n",
       "      <th>3</th>\n",
       "      <td>3</td>\n",
       "      <td>4124</td>\n",
       "      <td>32.0</td>\n",
       "      <td>среднее</td>\n",
       "      <td>1</td>\n",
       "      <td>женат / замужем</td>\n",
       "      <td>0</td>\n",
       "      <td>M</td>\n",
       "      <td>сотрудник</td>\n",
       "      <td>0</td>\n",
       "      <td>267628</td>\n",
       "      <td>дополнительное образование</td>\n",
       "      <td>образование</td>\n",
       "    </tr>\n",
       "    <tr>\n",
       "      <th>4</th>\n",
       "      <td>0</td>\n",
       "      <td>14177</td>\n",
       "      <td>53.0</td>\n",
       "      <td>среднее</td>\n",
       "      <td>1</td>\n",
       "      <td>гражданский брак</td>\n",
       "      <td>1</td>\n",
       "      <td>F</td>\n",
       "      <td>пенсионер</td>\n",
       "      <td>0</td>\n",
       "      <td>158616</td>\n",
       "      <td>сыграть свадьбу</td>\n",
       "      <td>свадьба</td>\n",
       "    </tr>\n",
       "  </tbody>\n",
       "</table>\n",
       "</div>"
      ],
      "text/plain": [
       "   children  days_employed  dob_years education  education_id  \\\n",
       "0         1           8437       42.0    высшее             0   \n",
       "1         1           4024       36.0   среднее             1   \n",
       "2         0           5623       33.0   среднее             1   \n",
       "3         3           4124       32.0   среднее             1   \n",
       "4         0          14177       53.0   среднее             1   \n",
       "\n",
       "      family_status  family_status_id gender income_type  debt  total_income  \\\n",
       "0   женат / замужем                 0      F   сотрудник     0        253875   \n",
       "1   женат / замужем                 0      F   сотрудник     0        112080   \n",
       "2   женат / замужем                 0      M   сотрудник     0        145885   \n",
       "3   женат / замужем                 0      M   сотрудник     0        267628   \n",
       "4  гражданский брак                 1      F   пенсионер     0        158616   \n",
       "\n",
       "                      purpose purpose_category  \n",
       "0               покупка жилья     недвижимость  \n",
       "1     приобретение автомобиля       автомобиль  \n",
       "2               покупка жилья     недвижимость  \n",
       "3  дополнительное образование      образование  \n",
       "4             сыграть свадьбу          свадьба  "
      ]
     },
     "metadata": {},
     "output_type": "display_data"
    }
   ],
   "source": [
    "def purpose_categorize(item): # создадим функцию для категоризации причин по выявленным наиболее частовстречаемым леммам\n",
    "    if 'недвижим' in item or 'жиль' in item:\n",
    "        return 'недвижимость'\n",
    "    if 'автомоб' in item:\n",
    "        return 'автомобиль'\n",
    "    if 'образован' in item:\n",
    "        return 'образование'\n",
    "    if 'свадьб' in item:\n",
    "        return 'свадьба'\n",
    "    return 'прочее'\n",
    "\n",
    "data['purpose_category'] = data['purpose'].apply(purpose_categorize)\n",
    "\n",
    "display(data.head())"
   ]
  },
  {
   "cell_type": "code",
   "execution_count": 20,
   "metadata": {},
   "outputs": [
    {
     "data": {
      "text/plain": [
       "array(['недвижимость', 'автомобиль', 'образование', 'свадьба'],\n",
       "      dtype=object)"
      ]
     },
     "metadata": {},
     "output_type": "display_data"
    }
   ],
   "source": [
    "display(data['purpose_category'].unique()) # посмотрим уникальные значения в столбце причин"
   ]
  },
  {
   "cell_type": "markdown",
   "metadata": {},
   "source": [
    "## Категоризация данных"
   ]
  },
  {
   "cell_type": "markdown",
   "metadata": {},
   "source": [
    "Исходя из цели исследования нам необходимо выделить словарь категорий в следующих данных:  \n",
    "- `children`  \n",
    "- `family_status` (`family_status_id`)   \n",
    "- `total_income`  \n",
    "  \n",
    "дополнительно рассмотрим категории `education`, `education_id`, чтобы посмотреть какие значения уровня образования соответствуют каждому id."
   ]
  },
  {
   "cell_type": "code",
   "execution_count": 21,
   "metadata": {
    "scrolled": true
   },
   "outputs": [
    {
     "data": {
      "text/html": [
       "<div>\n",
       "<style scoped>\n",
       "    .dataframe tbody tr th:only-of-type {\n",
       "        vertical-align: middle;\n",
       "    }\n",
       "\n",
       "    .dataframe tbody tr th {\n",
       "        vertical-align: top;\n",
       "    }\n",
       "\n",
       "    .dataframe thead th {\n",
       "        text-align: right;\n",
       "    }\n",
       "</style>\n",
       "<table border=\"1\" class=\"dataframe\">\n",
       "  <thead>\n",
       "    <tr style=\"text-align: right;\">\n",
       "      <th></th>\n",
       "      <th>education</th>\n",
       "      <th>education_id</th>\n",
       "    </tr>\n",
       "  </thead>\n",
       "  <tbody>\n",
       "    <tr>\n",
       "      <th>0</th>\n",
       "      <td>высшее</td>\n",
       "      <td>0</td>\n",
       "    </tr>\n",
       "    <tr>\n",
       "      <th>1</th>\n",
       "      <td>среднее</td>\n",
       "      <td>1</td>\n",
       "    </tr>\n",
       "    <tr>\n",
       "      <th>2</th>\n",
       "      <td>неоконченное высшее</td>\n",
       "      <td>2</td>\n",
       "    </tr>\n",
       "    <tr>\n",
       "      <th>3</th>\n",
       "      <td>начальное</td>\n",
       "      <td>3</td>\n",
       "    </tr>\n",
       "    <tr>\n",
       "      <th>4</th>\n",
       "      <td>ученая степень</td>\n",
       "      <td>4</td>\n",
       "    </tr>\n",
       "  </tbody>\n",
       "</table>\n",
       "</div>"
      ],
      "text/plain": [
       "             education  education_id\n",
       "0               высшее             0\n",
       "1              среднее             1\n",
       "2  неоконченное высшее             2\n",
       "3            начальное             3\n",
       "4       ученая степень             4"
      ]
     },
     "metadata": {},
     "output_type": "display_data"
    }
   ],
   "source": [
    "education = data[['education','education_id']] # создадим новую переменную, в которой сохраним данные по категорям образования\n",
    "education = education.drop_duplicates().reset_index(drop=True) # Удалим дубликаты и перезапишем все индексы\n",
    "display(education)"
   ]
  },
  {
   "cell_type": "markdown",
   "metadata": {},
   "source": [
    "теперь наглядно видно, какое значение id соответствует какому уровню образования. в переменной `education` лежит словарь категорий уровня образования клиентов банка.\n",
    "\n",
    "Поступим также и с семейным статусом:"
   ]
  },
  {
   "cell_type": "code",
   "execution_count": 22,
   "metadata": {},
   "outputs": [
    {
     "data": {
      "text/html": [
       "<div>\n",
       "<style scoped>\n",
       "    .dataframe tbody tr th:only-of-type {\n",
       "        vertical-align: middle;\n",
       "    }\n",
       "\n",
       "    .dataframe tbody tr th {\n",
       "        vertical-align: top;\n",
       "    }\n",
       "\n",
       "    .dataframe thead th {\n",
       "        text-align: right;\n",
       "    }\n",
       "</style>\n",
       "<table border=\"1\" class=\"dataframe\">\n",
       "  <thead>\n",
       "    <tr style=\"text-align: right;\">\n",
       "      <th></th>\n",
       "      <th>family_status</th>\n",
       "      <th>family_status_id</th>\n",
       "    </tr>\n",
       "  </thead>\n",
       "  <tbody>\n",
       "    <tr>\n",
       "      <th>0</th>\n",
       "      <td>женат / замужем</td>\n",
       "      <td>0</td>\n",
       "    </tr>\n",
       "    <tr>\n",
       "      <th>1</th>\n",
       "      <td>гражданский брак</td>\n",
       "      <td>1</td>\n",
       "    </tr>\n",
       "    <tr>\n",
       "      <th>2</th>\n",
       "      <td>вдовец / вдова</td>\n",
       "      <td>2</td>\n",
       "    </tr>\n",
       "    <tr>\n",
       "      <th>3</th>\n",
       "      <td>в разводе</td>\n",
       "      <td>3</td>\n",
       "    </tr>\n",
       "    <tr>\n",
       "      <th>4</th>\n",
       "      <td>Не женат / не замужем</td>\n",
       "      <td>4</td>\n",
       "    </tr>\n",
       "  </tbody>\n",
       "</table>\n",
       "</div>"
      ],
      "text/plain": [
       "           family_status  family_status_id\n",
       "0        женат / замужем                 0\n",
       "1       гражданский брак                 1\n",
       "2         вдовец / вдова                 2\n",
       "3              в разводе                 3\n",
       "4  Не женат / не замужем                 4"
      ]
     },
     "metadata": {},
     "output_type": "display_data"
    }
   ],
   "source": [
    "family = data[['family_status', 'family_status_id']] # создадим новую переменную, в которой сохраним данные по категорям семей\n",
    "family = family.drop_duplicates().reset_index(drop=True) # Удалим дубликаты и перезапишем все индексы\n",
    "display(family)"
   ]
  },
  {
   "cell_type": "markdown",
   "metadata": {},
   "source": [
    "А в переменной `family` лежит словарь категорий семейного статуса клиентов банка."
   ]
  },
  {
   "cell_type": "code",
   "execution_count": 23,
   "metadata": {},
   "outputs": [
    {
     "data": {
      "text/html": [
       "<div>\n",
       "<style scoped>\n",
       "    .dataframe tbody tr th:only-of-type {\n",
       "        vertical-align: middle;\n",
       "    }\n",
       "\n",
       "    .dataframe tbody tr th {\n",
       "        vertical-align: top;\n",
       "    }\n",
       "\n",
       "    .dataframe thead th {\n",
       "        text-align: right;\n",
       "    }\n",
       "</style>\n",
       "<table border=\"1\" class=\"dataframe\">\n",
       "  <thead>\n",
       "    <tr style=\"text-align: right;\">\n",
       "      <th></th>\n",
       "      <th>children</th>\n",
       "      <th>days_employed</th>\n",
       "      <th>dob_years</th>\n",
       "      <th>education</th>\n",
       "      <th>education_id</th>\n",
       "      <th>family_status</th>\n",
       "      <th>family_status_id</th>\n",
       "      <th>gender</th>\n",
       "      <th>income_type</th>\n",
       "      <th>debt</th>\n",
       "      <th>total_income</th>\n",
       "      <th>purpose</th>\n",
       "      <th>purpose_category</th>\n",
       "      <th>children_category</th>\n",
       "    </tr>\n",
       "  </thead>\n",
       "  <tbody>\n",
       "    <tr>\n",
       "      <th>0</th>\n",
       "      <td>1</td>\n",
       "      <td>8437</td>\n",
       "      <td>42.0</td>\n",
       "      <td>высшее</td>\n",
       "      <td>0</td>\n",
       "      <td>женат / замужем</td>\n",
       "      <td>0</td>\n",
       "      <td>F</td>\n",
       "      <td>сотрудник</td>\n",
       "      <td>0</td>\n",
       "      <td>253875</td>\n",
       "      <td>покупка жилья</td>\n",
       "      <td>недвижимость</td>\n",
       "      <td>есть дети</td>\n",
       "    </tr>\n",
       "    <tr>\n",
       "      <th>1</th>\n",
       "      <td>1</td>\n",
       "      <td>4024</td>\n",
       "      <td>36.0</td>\n",
       "      <td>среднее</td>\n",
       "      <td>1</td>\n",
       "      <td>женат / замужем</td>\n",
       "      <td>0</td>\n",
       "      <td>F</td>\n",
       "      <td>сотрудник</td>\n",
       "      <td>0</td>\n",
       "      <td>112080</td>\n",
       "      <td>приобретение автомобиля</td>\n",
       "      <td>автомобиль</td>\n",
       "      <td>есть дети</td>\n",
       "    </tr>\n",
       "    <tr>\n",
       "      <th>2</th>\n",
       "      <td>0</td>\n",
       "      <td>5623</td>\n",
       "      <td>33.0</td>\n",
       "      <td>среднее</td>\n",
       "      <td>1</td>\n",
       "      <td>женат / замужем</td>\n",
       "      <td>0</td>\n",
       "      <td>M</td>\n",
       "      <td>сотрудник</td>\n",
       "      <td>0</td>\n",
       "      <td>145885</td>\n",
       "      <td>покупка жилья</td>\n",
       "      <td>недвижимость</td>\n",
       "      <td>нет детей</td>\n",
       "    </tr>\n",
       "    <tr>\n",
       "      <th>3</th>\n",
       "      <td>3</td>\n",
       "      <td>4124</td>\n",
       "      <td>32.0</td>\n",
       "      <td>среднее</td>\n",
       "      <td>1</td>\n",
       "      <td>женат / замужем</td>\n",
       "      <td>0</td>\n",
       "      <td>M</td>\n",
       "      <td>сотрудник</td>\n",
       "      <td>0</td>\n",
       "      <td>267628</td>\n",
       "      <td>дополнительное образование</td>\n",
       "      <td>образование</td>\n",
       "      <td>есть дети</td>\n",
       "    </tr>\n",
       "    <tr>\n",
       "      <th>4</th>\n",
       "      <td>0</td>\n",
       "      <td>14177</td>\n",
       "      <td>53.0</td>\n",
       "      <td>среднее</td>\n",
       "      <td>1</td>\n",
       "      <td>гражданский брак</td>\n",
       "      <td>1</td>\n",
       "      <td>F</td>\n",
       "      <td>пенсионер</td>\n",
       "      <td>0</td>\n",
       "      <td>158616</td>\n",
       "      <td>сыграть свадьбу</td>\n",
       "      <td>свадьба</td>\n",
       "      <td>нет детей</td>\n",
       "    </tr>\n",
       "  </tbody>\n",
       "</table>\n",
       "</div>"
      ],
      "text/plain": [
       "   children  days_employed  dob_years education  education_id  \\\n",
       "0         1           8437       42.0    высшее             0   \n",
       "1         1           4024       36.0   среднее             1   \n",
       "2         0           5623       33.0   среднее             1   \n",
       "3         3           4124       32.0   среднее             1   \n",
       "4         0          14177       53.0   среднее             1   \n",
       "\n",
       "      family_status  family_status_id gender income_type  debt  total_income  \\\n",
       "0   женат / замужем                 0      F   сотрудник     0        253875   \n",
       "1   женат / замужем                 0      F   сотрудник     0        112080   \n",
       "2   женат / замужем                 0      M   сотрудник     0        145885   \n",
       "3   женат / замужем                 0      M   сотрудник     0        267628   \n",
       "4  гражданский брак                 1      F   пенсионер     0        158616   \n",
       "\n",
       "                      purpose purpose_category children_category  \n",
       "0               покупка жилья     недвижимость         есть дети  \n",
       "1     приобретение автомобиля       автомобиль         есть дети  \n",
       "2               покупка жилья     недвижимость         нет детей  \n",
       "3  дополнительное образование      образование         есть дети  \n",
       "4             сыграть свадьбу          свадьба         нет детей  "
      ]
     },
     "metadata": {},
     "output_type": "display_data"
    }
   ],
   "source": [
    "def children_categorize(item): # создадим функцию, которая разделит на категории данные столбца о детях\n",
    "    if item == 0:\n",
    "        return 'нет детей'\n",
    "    return 'есть дети'\n",
    "\n",
    "data['children_category'] = data['children'].apply(children_categorize) # применим метод apply для создания нового столбца из другого\n",
    "display(data.head())"
   ]
  },
  {
   "cell_type": "code",
   "execution_count": 24,
   "metadata": {
    "scrolled": true
   },
   "outputs": [
    {
     "data": {
      "text/html": [
       "<div>\n",
       "<style scoped>\n",
       "    .dataframe tbody tr th:only-of-type {\n",
       "        vertical-align: middle;\n",
       "    }\n",
       "\n",
       "    .dataframe tbody tr th {\n",
       "        vertical-align: top;\n",
       "    }\n",
       "\n",
       "    .dataframe thead th {\n",
       "        text-align: right;\n",
       "    }\n",
       "</style>\n",
       "<table border=\"1\" class=\"dataframe\">\n",
       "  <thead>\n",
       "    <tr style=\"text-align: right;\">\n",
       "      <th></th>\n",
       "      <th>children</th>\n",
       "      <th>days_employed</th>\n",
       "      <th>dob_years</th>\n",
       "      <th>education</th>\n",
       "      <th>education_id</th>\n",
       "      <th>family_status</th>\n",
       "      <th>family_status_id</th>\n",
       "      <th>gender</th>\n",
       "      <th>income_type</th>\n",
       "      <th>debt</th>\n",
       "      <th>total_income</th>\n",
       "      <th>purpose</th>\n",
       "      <th>purpose_category</th>\n",
       "      <th>children_category</th>\n",
       "      <th>total_income_category</th>\n",
       "    </tr>\n",
       "  </thead>\n",
       "  <tbody>\n",
       "    <tr>\n",
       "      <th>0</th>\n",
       "      <td>1</td>\n",
       "      <td>8437</td>\n",
       "      <td>42.0</td>\n",
       "      <td>высшее</td>\n",
       "      <td>0</td>\n",
       "      <td>женат / замужем</td>\n",
       "      <td>0</td>\n",
       "      <td>F</td>\n",
       "      <td>сотрудник</td>\n",
       "      <td>0</td>\n",
       "      <td>253875</td>\n",
       "      <td>покупка жилья</td>\n",
       "      <td>недвижимость</td>\n",
       "      <td>есть дети</td>\n",
       "      <td>богатый</td>\n",
       "    </tr>\n",
       "    <tr>\n",
       "      <th>1</th>\n",
       "      <td>1</td>\n",
       "      <td>4024</td>\n",
       "      <td>36.0</td>\n",
       "      <td>среднее</td>\n",
       "      <td>1</td>\n",
       "      <td>женат / замужем</td>\n",
       "      <td>0</td>\n",
       "      <td>F</td>\n",
       "      <td>сотрудник</td>\n",
       "      <td>0</td>\n",
       "      <td>112080</td>\n",
       "      <td>приобретение автомобиля</td>\n",
       "      <td>автомобиль</td>\n",
       "      <td>есть дети</td>\n",
       "      <td>бедный</td>\n",
       "    </tr>\n",
       "    <tr>\n",
       "      <th>2</th>\n",
       "      <td>0</td>\n",
       "      <td>5623</td>\n",
       "      <td>33.0</td>\n",
       "      <td>среднее</td>\n",
       "      <td>1</td>\n",
       "      <td>женат / замужем</td>\n",
       "      <td>0</td>\n",
       "      <td>M</td>\n",
       "      <td>сотрудник</td>\n",
       "      <td>0</td>\n",
       "      <td>145885</td>\n",
       "      <td>покупка жилья</td>\n",
       "      <td>недвижимость</td>\n",
       "      <td>нет детей</td>\n",
       "      <td>выше среднего</td>\n",
       "    </tr>\n",
       "    <tr>\n",
       "      <th>3</th>\n",
       "      <td>3</td>\n",
       "      <td>4124</td>\n",
       "      <td>32.0</td>\n",
       "      <td>среднее</td>\n",
       "      <td>1</td>\n",
       "      <td>женат / замужем</td>\n",
       "      <td>0</td>\n",
       "      <td>M</td>\n",
       "      <td>сотрудник</td>\n",
       "      <td>0</td>\n",
       "      <td>267628</td>\n",
       "      <td>дополнительное образование</td>\n",
       "      <td>образование</td>\n",
       "      <td>есть дети</td>\n",
       "      <td>богатый</td>\n",
       "    </tr>\n",
       "    <tr>\n",
       "      <th>4</th>\n",
       "      <td>0</td>\n",
       "      <td>14177</td>\n",
       "      <td>53.0</td>\n",
       "      <td>среднее</td>\n",
       "      <td>1</td>\n",
       "      <td>гражданский брак</td>\n",
       "      <td>1</td>\n",
       "      <td>F</td>\n",
       "      <td>пенсионер</td>\n",
       "      <td>0</td>\n",
       "      <td>158616</td>\n",
       "      <td>сыграть свадьбу</td>\n",
       "      <td>свадьба</td>\n",
       "      <td>нет детей</td>\n",
       "      <td>выше среднего</td>\n",
       "    </tr>\n",
       "  </tbody>\n",
       "</table>\n",
       "</div>"
      ],
      "text/plain": [
       "   children  days_employed  dob_years education  education_id  \\\n",
       "0         1           8437       42.0    высшее             0   \n",
       "1         1           4024       36.0   среднее             1   \n",
       "2         0           5623       33.0   среднее             1   \n",
       "3         3           4124       32.0   среднее             1   \n",
       "4         0          14177       53.0   среднее             1   \n",
       "\n",
       "      family_status  family_status_id gender income_type  debt  total_income  \\\n",
       "0   женат / замужем                 0      F   сотрудник     0        253875   \n",
       "1   женат / замужем                 0      F   сотрудник     0        112080   \n",
       "2   женат / замужем                 0      M   сотрудник     0        145885   \n",
       "3   женат / замужем                 0      M   сотрудник     0        267628   \n",
       "4  гражданский брак                 1      F   пенсионер     0        158616   \n",
       "\n",
       "                      purpose purpose_category children_category  \\\n",
       "0               покупка жилья     недвижимость         есть дети   \n",
       "1     приобретение автомобиля       автомобиль         есть дети   \n",
       "2               покупка жилья     недвижимость         нет детей   \n",
       "3  дополнительное образование      образование         есть дети   \n",
       "4             сыграть свадьбу          свадьба         нет детей   \n",
       "\n",
       "  total_income_category  \n",
       "0               богатый  \n",
       "1                бедный  \n",
       "2         выше среднего  \n",
       "3               богатый  \n",
       "4         выше среднего  "
      ]
     },
     "metadata": {},
     "output_type": "display_data"
    }
   ],
   "source": [
    "def total_income_categorize(item): # теперь создадим функцию, которая разделит на категории данные столбца о доходе\n",
    "    if item <= data['total_income'].quantile(0.25):\n",
    "        return 'очень бедный'\n",
    "    if item <= data['total_income'].quantile(0.5):\n",
    "        return 'бедный'\n",
    "    if item <= data['total_income'].quantile(0.75):\n",
    "        return 'выше среднего'\n",
    "    return 'богатый'\n",
    "\n",
    "data['total_income_category'] = data['total_income'].apply(total_income_categorize)\n",
    "display(data.head())"
   ]
  },
  {
   "cell_type": "markdown",
   "metadata": {},
   "source": [
    "## Вывод\n",
    "\n",
    "В ходе предобработки были получены следующие результаты:  \n",
    "  \n",
    "1) данные очистились от пропусков и странных значений, изменили тип.  \n",
    "2) дубликатов больше нет, количество уникальных значений в столбцах `education` и `education_id` совпадает.  \n",
    "3) В результате лемматизации в исходную таблицу добавился новый столбец `purpose_category`, в котором причина получения кредита категоризированы и, следовательно, пригодны для дальнейшего анализа.  \n",
    "Выделилось всего 4 причины обращения за кредитом:  \n",
    "'недвижимость',  \n",
    "'автомобиль',  \n",
    "'образование',  \n",
    "'свадьба'.  \n",
    "4) добавили в таблицу несколько новых столбцов (`children_category` и `total_income_category`), полученных из исходных данных, а также два словаря, хранящихся в отдельных переменных `education` и `family`. Благодаря проделанной работе доступность данных для дальнейшего анализа улучшилась. Можно приступать к ответам на вопросы исследования."
   ]
  },
  {
   "cell_type": "markdown",
   "metadata": {},
   "source": [
    "# Шаг 3. Исследовательский анализ данных"
   ]
  },
  {
   "cell_type": "markdown",
   "metadata": {},
   "source": [
    "## Есть ли зависимость между наличием детей и возвратом кредита в срок?"
   ]
  },
  {
   "cell_type": "markdown",
   "metadata": {},
   "source": [
    "Вернул ли клиент кредит в срок или нет - отражено в даннх в столбце `debt`: значение 1 - кредит не вернул, значение 0 - вернул.  \n",
    "Чтобы ответить на вопрос о влиянии наличия детей на возврат кредита, посчитаем среднее значение в столбце `debt` для каждой группы клиентов. Чем ближе оно к 1, тем вероятнее невозврат для данной категории."
   ]
  },
  {
   "cell_type": "code",
   "execution_count": 25,
   "metadata": {},
   "outputs": [
    {
     "data": {
      "text/html": [
       "<div>\n",
       "<style scoped>\n",
       "    .dataframe tbody tr th:only-of-type {\n",
       "        vertical-align: middle;\n",
       "    }\n",
       "\n",
       "    .dataframe tbody tr th {\n",
       "        vertical-align: top;\n",
       "    }\n",
       "\n",
       "    .dataframe thead tr th {\n",
       "        text-align: left;\n",
       "    }\n",
       "\n",
       "    .dataframe thead tr:last-of-type th {\n",
       "        text-align: right;\n",
       "    }\n",
       "</style>\n",
       "<table border=\"1\" class=\"dataframe\">\n",
       "  <thead>\n",
       "    <tr>\n",
       "      <th></th>\n",
       "      <th>mean</th>\n",
       "      <th>count</th>\n",
       "    </tr>\n",
       "    <tr>\n",
       "      <th></th>\n",
       "      <th>debt</th>\n",
       "      <th>debt</th>\n",
       "    </tr>\n",
       "    <tr>\n",
       "      <th>children_category</th>\n",
       "      <th></th>\n",
       "      <th></th>\n",
       "    </tr>\n",
       "  </thead>\n",
       "  <tbody>\n",
       "    <tr>\n",
       "      <th>есть дети</th>\n",
       "      <td>0.092082</td>\n",
       "      <td>7363</td>\n",
       "    </tr>\n",
       "    <tr>\n",
       "      <th>нет детей</th>\n",
       "      <td>0.075438</td>\n",
       "      <td>14091</td>\n",
       "    </tr>\n",
       "  </tbody>\n",
       "</table>\n",
       "</div>"
      ],
      "text/plain": [
       "                       mean  count\n",
       "                       debt   debt\n",
       "children_category                 \n",
       "есть дети          0.092082   7363\n",
       "нет детей          0.075438  14091"
      ]
     },
     "metadata": {},
     "output_type": "display_data"
    }
   ],
   "source": [
    "debt_children_pivot = data.pivot_table(index='children_category', \n",
    "                                       values='debt', \n",
    "                                       aggfunc=['mean', 'count']).sort_values([('mean','debt')], ascending=False)\n",
    "display(debt_children_pivot) "
   ]
  },
  {
   "cell_type": "markdown",
   "metadata": {},
   "source": [
    "### Вывод\n",
    "\n",
    "Для тех клиентов, у которых есть дети невозврат кредита вероятнее, чем для тех, у кого детей нет, т.к. 9,2% > 7,5%."
   ]
  },
  {
   "cell_type": "markdown",
   "metadata": {},
   "source": [
    "## Есть ли зависимость между семейным положением и возвратом кредита в срок?"
   ]
  },
  {
   "cell_type": "code",
   "execution_count": 26,
   "metadata": {},
   "outputs": [
    {
     "data": {
      "text/html": [
       "<div>\n",
       "<style scoped>\n",
       "    .dataframe tbody tr th:only-of-type {\n",
       "        vertical-align: middle;\n",
       "    }\n",
       "\n",
       "    .dataframe tbody tr th {\n",
       "        vertical-align: top;\n",
       "    }\n",
       "\n",
       "    .dataframe thead tr th {\n",
       "        text-align: left;\n",
       "    }\n",
       "\n",
       "    .dataframe thead tr:last-of-type th {\n",
       "        text-align: right;\n",
       "    }\n",
       "</style>\n",
       "<table border=\"1\" class=\"dataframe\">\n",
       "  <thead>\n",
       "    <tr>\n",
       "      <th></th>\n",
       "      <th>mean</th>\n",
       "      <th>count</th>\n",
       "    </tr>\n",
       "    <tr>\n",
       "      <th></th>\n",
       "      <th>debt</th>\n",
       "      <th>debt</th>\n",
       "    </tr>\n",
       "    <tr>\n",
       "      <th>family_status</th>\n",
       "      <th></th>\n",
       "      <th></th>\n",
       "    </tr>\n",
       "  </thead>\n",
       "  <tbody>\n",
       "    <tr>\n",
       "      <th>Не женат / не замужем</th>\n",
       "      <td>0.097509</td>\n",
       "      <td>2810</td>\n",
       "    </tr>\n",
       "    <tr>\n",
       "      <th>гражданский брак</th>\n",
       "      <td>0.093471</td>\n",
       "      <td>4151</td>\n",
       "    </tr>\n",
       "    <tr>\n",
       "      <th>женат / замужем</th>\n",
       "      <td>0.075452</td>\n",
       "      <td>12339</td>\n",
       "    </tr>\n",
       "    <tr>\n",
       "      <th>в разводе</th>\n",
       "      <td>0.071130</td>\n",
       "      <td>1195</td>\n",
       "    </tr>\n",
       "    <tr>\n",
       "      <th>вдовец / вдова</th>\n",
       "      <td>0.065693</td>\n",
       "      <td>959</td>\n",
       "    </tr>\n",
       "  </tbody>\n",
       "</table>\n",
       "</div>"
      ],
      "text/plain": [
       "                           mean  count\n",
       "                           debt   debt\n",
       "family_status                         \n",
       "Не женат / не замужем  0.097509   2810\n",
       "гражданский брак       0.093471   4151\n",
       "женат / замужем        0.075452  12339\n",
       "в разводе              0.071130   1195\n",
       "вдовец / вдова         0.065693    959"
      ]
     },
     "metadata": {},
     "output_type": "display_data"
    }
   ],
   "source": [
    "debt_family_pivot = data.pivot_table(index='family_status', \n",
    "                                     values='debt', \n",
    "                                     aggfunc=['mean', 'count']).sort_values([('mean','debt')], ascending=False)\n",
    "display(debt_family_pivot)"
   ]
  },
  {
   "cell_type": "markdown",
   "metadata": {},
   "source": [
    "### Вывод\n",
    "\n",
    "Самая высокая вероятность невозврата кредита в срок у незамужних/неженатых и в гражданском браке 9,3-9,8%.  \n",
    "Для тех, кто состоит в браке и в разводе примерно одинаковая вероятность невозврата кредита 7,1-7,5%.  \n",
    "Самые надёжные - вдовы/вдовцы - 6,6%."
   ]
  },
  {
   "cell_type": "markdown",
   "metadata": {},
   "source": [
    "## Есть ли зависимость между уровнем дохода и возвратом кредита в срок?"
   ]
  },
  {
   "cell_type": "code",
   "execution_count": 27,
   "metadata": {},
   "outputs": [
    {
     "data": {
      "text/html": [
       "<div>\n",
       "<style scoped>\n",
       "    .dataframe tbody tr th:only-of-type {\n",
       "        vertical-align: middle;\n",
       "    }\n",
       "\n",
       "    .dataframe tbody tr th {\n",
       "        vertical-align: top;\n",
       "    }\n",
       "\n",
       "    .dataframe thead tr th {\n",
       "        text-align: left;\n",
       "    }\n",
       "\n",
       "    .dataframe thead tr:last-of-type th {\n",
       "        text-align: right;\n",
       "    }\n",
       "</style>\n",
       "<table border=\"1\" class=\"dataframe\">\n",
       "  <thead>\n",
       "    <tr>\n",
       "      <th></th>\n",
       "      <th>mean</th>\n",
       "      <th>count</th>\n",
       "    </tr>\n",
       "    <tr>\n",
       "      <th></th>\n",
       "      <th>debt</th>\n",
       "      <th>debt</th>\n",
       "    </tr>\n",
       "    <tr>\n",
       "      <th>total_income_category</th>\n",
       "      <th></th>\n",
       "      <th></th>\n",
       "    </tr>\n",
       "  </thead>\n",
       "  <tbody>\n",
       "    <tr>\n",
       "      <th>бедный</th>\n",
       "      <td>0.088155</td>\n",
       "      <td>5479</td>\n",
       "    </tr>\n",
       "    <tr>\n",
       "      <th>выше среднего</th>\n",
       "      <td>0.085382</td>\n",
       "      <td>5247</td>\n",
       "    </tr>\n",
       "    <tr>\n",
       "      <th>очень бедный</th>\n",
       "      <td>0.079605</td>\n",
       "      <td>5364</td>\n",
       "    </tr>\n",
       "    <tr>\n",
       "      <th>богатый</th>\n",
       "      <td>0.071402</td>\n",
       "      <td>5364</td>\n",
       "    </tr>\n",
       "  </tbody>\n",
       "</table>\n",
       "</div>"
      ],
      "text/plain": [
       "                           mean count\n",
       "                           debt  debt\n",
       "total_income_category                \n",
       "бедный                 0.088155  5479\n",
       "выше среднего          0.085382  5247\n",
       "очень бедный           0.079605  5364\n",
       "богатый                0.071402  5364"
      ]
     },
     "metadata": {},
     "output_type": "display_data"
    }
   ],
   "source": [
    "debt_income_pivot = data.pivot_table(index='total_income_category', \n",
    "                                     values='debt', \n",
    "                                     aggfunc=['mean', 'count']).sort_values([('mean','debt')], ascending=False)\n",
    "display(debt_income_pivot)"
   ]
  },
  {
   "cell_type": "markdown",
   "metadata": {},
   "source": [
    "### Вывод\n",
    "\n",
    "Получились неожиданные выводы: наиболее высокая вероятнось невозврата кредита у бедных (чей общий доход от нижнего квартиля до медианы) и людей с доходом выше среднего (от медианы до третьего квартиля). В это же время наиболее надёжными заёмщиками стали крайние квартильные группы: очень бедные и богатые. "
   ]
  },
  {
   "cell_type": "markdown",
   "metadata": {},
   "source": [
    "## Как разные цели кредита влияют на его возврат в срок?"
   ]
  },
  {
   "cell_type": "code",
   "execution_count": 28,
   "metadata": {},
   "outputs": [
    {
     "data": {
      "text/html": [
       "<div>\n",
       "<style scoped>\n",
       "    .dataframe tbody tr th:only-of-type {\n",
       "        vertical-align: middle;\n",
       "    }\n",
       "\n",
       "    .dataframe tbody tr th {\n",
       "        vertical-align: top;\n",
       "    }\n",
       "\n",
       "    .dataframe thead tr th {\n",
       "        text-align: left;\n",
       "    }\n",
       "\n",
       "    .dataframe thead tr:last-of-type th {\n",
       "        text-align: right;\n",
       "    }\n",
       "</style>\n",
       "<table border=\"1\" class=\"dataframe\">\n",
       "  <thead>\n",
       "    <tr>\n",
       "      <th></th>\n",
       "      <th>mean</th>\n",
       "      <th>count</th>\n",
       "    </tr>\n",
       "    <tr>\n",
       "      <th></th>\n",
       "      <th>debt</th>\n",
       "      <th>debt</th>\n",
       "    </tr>\n",
       "    <tr>\n",
       "      <th>purpose_category</th>\n",
       "      <th></th>\n",
       "      <th></th>\n",
       "    </tr>\n",
       "  </thead>\n",
       "  <tbody>\n",
       "    <tr>\n",
       "      <th>автомобиль</th>\n",
       "      <td>0.093590</td>\n",
       "      <td>4306</td>\n",
       "    </tr>\n",
       "    <tr>\n",
       "      <th>образование</th>\n",
       "      <td>0.092200</td>\n",
       "      <td>4013</td>\n",
       "    </tr>\n",
       "    <tr>\n",
       "      <th>свадьба</th>\n",
       "      <td>0.080034</td>\n",
       "      <td>2324</td>\n",
       "    </tr>\n",
       "    <tr>\n",
       "      <th>недвижимость</th>\n",
       "      <td>0.072334</td>\n",
       "      <td>10811</td>\n",
       "    </tr>\n",
       "  </tbody>\n",
       "</table>\n",
       "</div>"
      ],
      "text/plain": [
       "                      mean  count\n",
       "                      debt   debt\n",
       "purpose_category                 \n",
       "автомобиль        0.093590   4306\n",
       "образование       0.092200   4013\n",
       "свадьба           0.080034   2324\n",
       "недвижимость      0.072334  10811"
      ]
     },
     "metadata": {},
     "output_type": "display_data"
    }
   ],
   "source": [
    "debt_purpose_pivot = data.pivot_table(index='purpose_category', \n",
    "                                      values='debt', \n",
    "                                      aggfunc=['mean', 'count']).sort_values([('mean','debt')], ascending=False)\n",
    "display(debt_purpose_pivot)"
   ]
  },
  {
   "cell_type": "markdown",
   "metadata": {},
   "source": [
    "### Вывод\n",
    "\n",
    "Кредит, взятый на автомобиль (9,3%) и образование (9,2%), реже возвращается в срок, чем на свадьбу (8%) и недвижимость (7,2%)."
   ]
  },
  {
   "cell_type": "markdown",
   "metadata": {},
   "source": [
    "# Шаг 4. Общий вывод"
   ]
  },
  {
   "cell_type": "markdown",
   "metadata": {},
   "source": [
    "Заказчиком была поставлена задача ответа на вопросы о влиянии семейного положения, количества детей, дохода и причины обращения клиента на факт погашения кредита в срок. Были предоставлены входные данные от банка (файл data.csv), в котором представлена статистика о платёжеспособности клиентов. Известно, что результаты исследования будут учитываться в дальнейшем при построении модели кредитного скоринга.  \n",
    "Изначально данные содержали пропуски, явные и неявные дубликаты, ошибки в формате записи и типе данных, что делало их малопригодными для обработки. Поэтому основная часть исследования была посвященна предобработке данных и их приведению в пригодный для анализа вид. Над данными были произведены следующие действия:  \n",
    "- обработаны пропуски - благодаря этому этапу, все явные пропуски были заменены на среднее значение по категориям, что не повлияло на качество данных;  \n",
    "- заменены аномальные значения - все странные значения были исправлены;  \n",
    "- заменен тип данных - в двух столбцах исправлен тип данных с плавающего сточкой на целочисленный;  \n",
    "- обработаны дубликаты - были найдены и удалены одинаковые строки;  \n",
    "- лемматизированы причины кредита - позволило выявить основные 4 категории обращения за кредитом;   \n",
    "- категоризированы основные переменные - финальный этап перед ответом на вопросы заказчика.  \n",
    "  \n",
    "В результате исследования были обнаружены следующие зависимости:  \n",
    "**1) Наличие детей повышает вероятность невозврата кредита в срок.**    \n",
    "**2) Незамужние/неженатые и в гражданском браке больше склоны к невозврату кредита, чем те, кто состоит в браке и в разводе. Самые надёжные кредиторы - вдовы/вдовцы.**  \n",
    "**3) Средние значения общего дохода соответствуют наименьшей вероятности возврата кредита в срок.**   \n",
    "**4) Кредит, взятый на автомобиль и образование, реже возвращается в срок, чем на свадьбу. Причина: недвижимость - самая надёжная.**  \n",
    "  \n",
    "Таким образом, исследование подтвердило наличие зависимости возврата кредита в срок от следующего: наличия детей, незамужнего/неженатого семейного статуса, низкого дохода, обращение за кредитом на автомобиль. "
   ]
  }
 ],
 "metadata": {
  "ExecuteTimeLog": [
   {
    "duration": 688,
    "start_time": "2021-12-20T11:23:15.550Z"
   },
   {
    "duration": 18,
    "start_time": "2021-12-20T11:30:31.946Z"
   },
   {
    "duration": 13,
    "start_time": "2021-12-20T11:31:54.856Z"
   },
   {
    "duration": 21,
    "start_time": "2021-12-20T11:37:33.878Z"
   },
   {
    "duration": 24,
    "start_time": "2021-12-20T11:38:11.589Z"
   },
   {
    "duration": 1957,
    "start_time": "2021-12-21T09:38:12.021Z"
   },
   {
    "duration": 564,
    "start_time": "2021-12-21T09:38:25.040Z"
   },
   {
    "duration": 27,
    "start_time": "2021-12-21T09:38:25.606Z"
   },
   {
    "duration": 196,
    "start_time": "2021-12-21T09:38:25.635Z"
   },
   {
    "duration": 189,
    "start_time": "2021-12-21T09:38:59.328Z"
   },
   {
    "duration": 69,
    "start_time": "2021-12-21T09:42:27.511Z"
   },
   {
    "duration": 1249,
    "start_time": "2021-12-21T09:42:31.322Z"
   },
   {
    "duration": 176,
    "start_time": "2021-12-21T09:43:06.187Z"
   },
   {
    "duration": 261,
    "start_time": "2021-12-21T09:43:12.079Z"
   },
   {
    "duration": 232,
    "start_time": "2021-12-21T09:43:17.821Z"
   },
   {
    "duration": 254,
    "start_time": "2021-12-21T09:44:43.060Z"
   },
   {
    "duration": 7,
    "start_time": "2021-12-21T10:06:09.869Z"
   },
   {
    "duration": 5,
    "start_time": "2021-12-21T10:08:46.326Z"
   },
   {
    "duration": 22,
    "start_time": "2021-12-21T10:09:31.883Z"
   },
   {
    "duration": 22,
    "start_time": "2021-12-21T10:10:22.956Z"
   },
   {
    "duration": 13,
    "start_time": "2021-12-21T10:16:24.729Z"
   },
   {
    "duration": 13,
    "start_time": "2021-12-21T10:16:46.527Z"
   },
   {
    "duration": 15,
    "start_time": "2021-12-21T10:19:50.331Z"
   },
   {
    "duration": 1890,
    "start_time": "2021-12-21T10:43:16.144Z"
   },
   {
    "duration": 7,
    "start_time": "2021-12-21T10:43:53.897Z"
   },
   {
    "duration": 4444,
    "start_time": "2021-12-21T10:44:16.028Z"
   },
   {
    "duration": 8,
    "start_time": "2021-12-21T10:44:55.442Z"
   },
   {
    "duration": 8,
    "start_time": "2021-12-21T10:45:40.088Z"
   },
   {
    "duration": 27,
    "start_time": "2021-12-21T10:50:33.378Z"
   },
   {
    "duration": 66,
    "start_time": "2021-12-21T10:51:00.122Z"
   },
   {
    "duration": 183,
    "start_time": "2021-12-21T10:58:12.760Z"
   },
   {
    "duration": 70,
    "start_time": "2021-12-21T10:58:44.970Z"
   },
   {
    "duration": 62,
    "start_time": "2021-12-21T10:59:06.279Z"
   },
   {
    "duration": 14,
    "start_time": "2021-12-21T11:16:52.390Z"
   },
   {
    "duration": 9,
    "start_time": "2021-12-21T11:27:03.067Z"
   },
   {
    "duration": 12,
    "start_time": "2021-12-21T11:27:24.086Z"
   },
   {
    "duration": 13,
    "start_time": "2021-12-21T11:28:09.942Z"
   },
   {
    "duration": 18,
    "start_time": "2021-12-21T11:28:35.130Z"
   },
   {
    "duration": 197,
    "start_time": "2021-12-21T11:28:59.151Z"
   },
   {
    "duration": 18,
    "start_time": "2021-12-21T11:29:04.956Z"
   },
   {
    "duration": 4,
    "start_time": "2021-12-21T11:44:04.130Z"
   },
   {
    "duration": 201,
    "start_time": "2021-12-21T11:44:34.950Z"
   },
   {
    "duration": 11,
    "start_time": "2021-12-21T11:45:04.926Z"
   },
   {
    "duration": 5,
    "start_time": "2021-12-21T11:50:05.801Z"
   },
   {
    "duration": 75,
    "start_time": "2021-12-21T11:52:46.796Z"
   },
   {
    "duration": 7,
    "start_time": "2021-12-21T11:53:01.025Z"
   },
   {
    "duration": 6,
    "start_time": "2021-12-21T11:53:34.866Z"
   },
   {
    "duration": 3,
    "start_time": "2021-12-21T11:54:47.282Z"
   },
   {
    "duration": 15,
    "start_time": "2021-12-21T12:14:33.497Z"
   },
   {
    "duration": 16,
    "start_time": "2021-12-21T12:14:41.918Z"
   },
   {
    "duration": 14,
    "start_time": "2021-12-21T12:15:02.538Z"
   },
   {
    "duration": 344,
    "start_time": "2021-12-22T08:27:18.332Z"
   },
   {
    "duration": 696,
    "start_time": "2021-12-22T08:27:23.947Z"
   },
   {
    "duration": 30,
    "start_time": "2021-12-22T08:27:24.646Z"
   },
   {
    "duration": 97,
    "start_time": "2021-12-22T08:27:24.678Z"
   },
   {
    "duration": 14,
    "start_time": "2021-12-22T08:27:24.777Z"
   },
   {
    "duration": 49,
    "start_time": "2021-12-22T08:27:24.792Z"
   },
   {
    "duration": 22,
    "start_time": "2021-12-22T08:27:24.843Z"
   },
   {
    "duration": 13,
    "start_time": "2021-12-22T08:27:24.867Z"
   },
   {
    "duration": 7,
    "start_time": "2021-12-22T08:27:24.883Z"
   },
   {
    "duration": 17,
    "start_time": "2021-12-22T08:27:24.891Z"
   },
   {
    "duration": 413,
    "start_time": "2021-12-22T08:27:24.909Z"
   },
   {
    "duration": 266,
    "start_time": "2021-12-22T08:27:32.348Z"
   },
   {
    "duration": 7,
    "start_time": "2021-12-22T08:27:47.647Z"
   },
   {
    "duration": 65,
    "start_time": "2021-12-22T08:28:22.241Z"
   },
   {
    "duration": 24,
    "start_time": "2021-12-22T08:28:22.308Z"
   },
   {
    "duration": 118,
    "start_time": "2021-12-22T08:28:22.344Z"
   },
   {
    "duration": 13,
    "start_time": "2021-12-22T08:28:22.464Z"
   },
   {
    "duration": 23,
    "start_time": "2021-12-22T08:28:22.479Z"
   },
   {
    "duration": 57,
    "start_time": "2021-12-22T08:28:22.503Z"
   },
   {
    "duration": 14,
    "start_time": "2021-12-22T08:28:22.562Z"
   },
   {
    "duration": 7,
    "start_time": "2021-12-22T08:28:22.578Z"
   },
   {
    "duration": 4,
    "start_time": "2021-12-22T08:28:22.587Z"
   },
   {
    "duration": 15,
    "start_time": "2021-12-22T08:28:22.593Z"
   },
   {
    "duration": 14,
    "start_time": "2021-12-22T08:28:56.413Z"
   },
   {
    "duration": 93,
    "start_time": "2021-12-22T08:29:09.581Z"
   },
   {
    "duration": 8,
    "start_time": "2021-12-22T08:29:16.570Z"
   },
   {
    "duration": 9,
    "start_time": "2021-12-22T08:29:33.845Z"
   },
   {
    "duration": 9,
    "start_time": "2021-12-22T08:30:19.091Z"
   },
   {
    "duration": 13,
    "start_time": "2021-12-22T08:44:17.794Z"
   },
   {
    "duration": 887,
    "start_time": "2021-12-22T09:26:27.696Z"
   },
   {
    "duration": 322,
    "start_time": "2021-12-22T09:28:59.998Z"
   },
   {
    "duration": 2300,
    "start_time": "2021-12-22T09:29:56.392Z"
   },
   {
    "duration": 218,
    "start_time": "2021-12-22T09:30:10.279Z"
   },
   {
    "duration": 294,
    "start_time": "2021-12-22T09:32:08.579Z"
   },
   {
    "duration": 100,
    "start_time": "2021-12-22T09:32:32.939Z"
   },
   {
    "duration": 117,
    "start_time": "2021-12-22T09:32:51.246Z"
   },
   {
    "duration": 12,
    "start_time": "2021-12-22T09:56:02.376Z"
   },
   {
    "duration": 63,
    "start_time": "2021-12-22T09:56:23.535Z"
   },
   {
    "duration": 23,
    "start_time": "2021-12-22T09:56:23.601Z"
   },
   {
    "duration": 119,
    "start_time": "2021-12-22T09:56:23.642Z"
   },
   {
    "duration": 15,
    "start_time": "2021-12-22T09:56:23.764Z"
   },
   {
    "duration": 25,
    "start_time": "2021-12-22T09:56:23.781Z"
   },
   {
    "duration": 63,
    "start_time": "2021-12-22T09:56:23.808Z"
   },
   {
    "duration": 13,
    "start_time": "2021-12-22T09:56:23.873Z"
   },
   {
    "duration": 8,
    "start_time": "2021-12-22T09:56:23.888Z"
   },
   {
    "duration": 10,
    "start_time": "2021-12-22T09:56:23.899Z"
   },
   {
    "duration": 13,
    "start_time": "2021-12-22T09:56:31.979Z"
   },
   {
    "duration": 13,
    "start_time": "2021-12-22T09:56:40.192Z"
   },
   {
    "duration": 15,
    "start_time": "2021-12-22T09:56:44.652Z"
   },
   {
    "duration": 13,
    "start_time": "2021-12-22T09:56:49.936Z"
   },
   {
    "duration": 13,
    "start_time": "2021-12-22T09:57:03.920Z"
   },
   {
    "duration": 13,
    "start_time": "2021-12-22T09:57:09.395Z"
   },
   {
    "duration": 13,
    "start_time": "2021-12-22T09:57:24.061Z"
   },
   {
    "duration": 12,
    "start_time": "2021-12-22T09:57:39.091Z"
   },
   {
    "duration": 13,
    "start_time": "2021-12-22T09:58:49.572Z"
   },
   {
    "duration": 5,
    "start_time": "2021-12-22T10:11:31.466Z"
   },
   {
    "duration": 4,
    "start_time": "2021-12-22T10:11:44.430Z"
   },
   {
    "duration": 4,
    "start_time": "2021-12-22T10:11:49.566Z"
   },
   {
    "duration": 5,
    "start_time": "2021-12-22T10:11:54.361Z"
   },
   {
    "duration": 4,
    "start_time": "2021-12-22T10:11:58.561Z"
   },
   {
    "duration": 4,
    "start_time": "2021-12-22T10:12:11.737Z"
   },
   {
    "duration": 13,
    "start_time": "2021-12-22T10:16:34.135Z"
   },
   {
    "duration": 20,
    "start_time": "2021-12-22T10:16:52.151Z"
   },
   {
    "duration": 16,
    "start_time": "2021-12-22T10:17:03.794Z"
   },
   {
    "duration": 15,
    "start_time": "2021-12-22T10:23:59.472Z"
   },
   {
    "duration": 206,
    "start_time": "2021-12-22T10:27:53.874Z"
   },
   {
    "duration": 47,
    "start_time": "2021-12-22T10:46:47.257Z"
   },
   {
    "duration": 51,
    "start_time": "2021-12-22T10:50:18.863Z"
   },
   {
    "duration": 328,
    "start_time": "2021-12-22T11:00:00.824Z"
   },
   {
    "duration": 53,
    "start_time": "2021-12-22T11:00:11.517Z"
   },
   {
    "duration": 29,
    "start_time": "2021-12-22T11:00:42.178Z"
   },
   {
    "duration": 130,
    "start_time": "2021-12-22T11:01:27.130Z"
   },
   {
    "duration": 56,
    "start_time": "2021-12-22T11:01:52.783Z"
   },
   {
    "duration": 59,
    "start_time": "2021-12-22T11:02:07.835Z"
   },
   {
    "duration": 292,
    "start_time": "2021-12-22T11:34:08.391Z"
   },
   {
    "duration": 56,
    "start_time": "2021-12-22T11:34:25.776Z"
   },
   {
    "duration": 68,
    "start_time": "2021-12-22T11:35:51.840Z"
   },
   {
    "duration": 289,
    "start_time": "2021-12-22T11:36:33.761Z"
   },
   {
    "duration": 107,
    "start_time": "2021-12-22T11:36:50.940Z"
   },
   {
    "duration": 88,
    "start_time": "2021-12-22T12:07:31.289Z"
   },
   {
    "duration": 131,
    "start_time": "2021-12-22T12:08:14.515Z"
   },
   {
    "duration": 112,
    "start_time": "2021-12-22T12:10:02.086Z"
   },
   {
    "duration": 77,
    "start_time": "2021-12-22T12:14:51.965Z"
   },
   {
    "duration": 7,
    "start_time": "2021-12-22T12:40:51.494Z"
   },
   {
    "duration": 9,
    "start_time": "2021-12-22T12:42:09.725Z"
   },
   {
    "duration": 9,
    "start_time": "2021-12-22T12:42:12.497Z"
   },
   {
    "duration": 267,
    "start_time": "2021-12-22T12:43:20.312Z"
   },
   {
    "duration": 6,
    "start_time": "2021-12-22T12:45:00.961Z"
   },
   {
    "duration": 286,
    "start_time": "2021-12-22T12:49:50.318Z"
   },
   {
    "duration": 257,
    "start_time": "2021-12-22T12:50:09.200Z"
   },
   {
    "duration": 359,
    "start_time": "2021-12-22T12:50:15.003Z"
   },
   {
    "duration": 9,
    "start_time": "2021-12-22T12:50:25.740Z"
   },
   {
    "duration": 288,
    "start_time": "2021-12-22T12:51:39.139Z"
   },
   {
    "duration": 7,
    "start_time": "2021-12-22T12:54:05.112Z"
   },
   {
    "duration": 6,
    "start_time": "2021-12-22T12:54:40.467Z"
   },
   {
    "duration": 7,
    "start_time": "2021-12-22T12:58:26.369Z"
   },
   {
    "duration": 20,
    "start_time": "2021-12-22T12:59:50.634Z"
   },
   {
    "duration": 15,
    "start_time": "2021-12-22T13:00:21.964Z"
   },
   {
    "duration": 6,
    "start_time": "2021-12-22T13:01:54.055Z"
   },
   {
    "duration": 17,
    "start_time": "2021-12-22T13:02:00.668Z"
   },
   {
    "duration": 5,
    "start_time": "2021-12-22T13:02:25.903Z"
   },
   {
    "duration": 17,
    "start_time": "2021-12-22T13:02:29.183Z"
   },
   {
    "duration": 8,
    "start_time": "2021-12-22T13:03:54.557Z"
   },
   {
    "duration": 17,
    "start_time": "2021-12-22T13:03:59.584Z"
   },
   {
    "duration": 7,
    "start_time": "2021-12-22T13:04:17.647Z"
   },
   {
    "duration": 14,
    "start_time": "2021-12-22T13:04:19.646Z"
   },
   {
    "duration": 7,
    "start_time": "2021-12-22T13:04:27.849Z"
   },
   {
    "duration": 14,
    "start_time": "2021-12-22T13:04:29.805Z"
   },
   {
    "duration": 7,
    "start_time": "2021-12-22T13:04:38.000Z"
   },
   {
    "duration": 14,
    "start_time": "2021-12-22T13:04:40.302Z"
   },
   {
    "duration": 61,
    "start_time": "2021-12-22T13:04:52.649Z"
   },
   {
    "duration": 29,
    "start_time": "2021-12-22T13:04:52.712Z"
   },
   {
    "duration": 101,
    "start_time": "2021-12-22T13:04:52.744Z"
   },
   {
    "duration": 13,
    "start_time": "2021-12-22T13:04:52.847Z"
   },
   {
    "duration": 27,
    "start_time": "2021-12-22T13:04:52.862Z"
   },
   {
    "duration": 18,
    "start_time": "2021-12-22T13:04:52.891Z"
   },
   {
    "duration": 5,
    "start_time": "2021-12-22T13:04:52.911Z"
   },
   {
    "duration": 12,
    "start_time": "2021-12-22T13:04:52.942Z"
   },
   {
    "duration": 12,
    "start_time": "2021-12-22T13:04:52.956Z"
   },
   {
    "duration": 92,
    "start_time": "2021-12-22T13:04:52.969Z"
   },
   {
    "duration": 97,
    "start_time": "2021-12-22T13:04:53.062Z"
   },
   {
    "duration": 8,
    "start_time": "2021-12-22T13:04:53.160Z"
   },
   {
    "duration": 7,
    "start_time": "2021-12-22T13:04:53.170Z"
   },
   {
    "duration": 8,
    "start_time": "2021-12-22T13:04:53.178Z"
   },
   {
    "duration": 18,
    "start_time": "2021-12-22T13:04:53.187Z"
   },
   {
    "duration": 59,
    "start_time": "2021-12-22T13:05:14.191Z"
   },
   {
    "duration": 22,
    "start_time": "2021-12-22T13:05:14.252Z"
   },
   {
    "duration": 65,
    "start_time": "2021-12-22T13:05:14.720Z"
   },
   {
    "duration": 12,
    "start_time": "2021-12-22T13:05:14.787Z"
   },
   {
    "duration": 45,
    "start_time": "2021-12-22T13:05:14.801Z"
   },
   {
    "duration": 21,
    "start_time": "2021-12-22T13:05:14.848Z"
   },
   {
    "duration": 5,
    "start_time": "2021-12-22T13:05:14.870Z"
   },
   {
    "duration": 11,
    "start_time": "2021-12-22T13:05:14.877Z"
   },
   {
    "duration": 12,
    "start_time": "2021-12-22T13:05:14.890Z"
   },
   {
    "duration": 84,
    "start_time": "2021-12-22T13:05:15.189Z"
   },
   {
    "duration": 96,
    "start_time": "2021-12-22T13:05:15.275Z"
   },
   {
    "duration": 8,
    "start_time": "2021-12-22T13:05:15.373Z"
   },
   {
    "duration": 5,
    "start_time": "2021-12-22T13:05:15.383Z"
   },
   {
    "duration": 8,
    "start_time": "2021-12-22T13:05:15.390Z"
   },
   {
    "duration": 47,
    "start_time": "2021-12-22T13:05:15.400Z"
   },
   {
    "duration": 845,
    "start_time": "2021-12-23T09:08:54.949Z"
   },
   {
    "duration": 44,
    "start_time": "2021-12-23T09:08:55.797Z"
   },
   {
    "duration": 149,
    "start_time": "2021-12-23T09:08:55.844Z"
   },
   {
    "duration": 20,
    "start_time": "2021-12-23T09:08:55.996Z"
   },
   {
    "duration": 71,
    "start_time": "2021-12-23T09:08:56.018Z"
   },
   {
    "duration": 35,
    "start_time": "2021-12-23T09:08:56.091Z"
   },
   {
    "duration": 8,
    "start_time": "2021-12-23T09:08:56.129Z"
   },
   {
    "duration": 43,
    "start_time": "2021-12-23T09:08:56.140Z"
   },
   {
    "duration": 24,
    "start_time": "2021-12-23T09:08:56.185Z"
   },
   {
    "duration": 164,
    "start_time": "2021-12-23T09:08:56.212Z"
   },
   {
    "duration": 139,
    "start_time": "2021-12-23T09:08:56.379Z"
   },
   {
    "duration": 11,
    "start_time": "2021-12-23T09:08:56.520Z"
   },
   {
    "duration": 35,
    "start_time": "2021-12-23T09:08:56.533Z"
   },
   {
    "duration": 9,
    "start_time": "2021-12-23T09:08:56.571Z"
   },
   {
    "duration": 29,
    "start_time": "2021-12-23T09:08:56.582Z"
   },
   {
    "duration": 378,
    "start_time": "2021-12-23T09:23:57.934Z"
   },
   {
    "duration": -2526,
    "start_time": "2021-12-23T09:24:06.980Z"
   },
   {
    "duration": 530,
    "start_time": "2021-12-23T09:24:09.953Z"
   },
   {
    "duration": 289,
    "start_time": "2021-12-23T09:24:23.478Z"
   },
   {
    "duration": 33,
    "start_time": "2021-12-23T09:24:43.448Z"
   },
   {
    "duration": 29,
    "start_time": "2021-12-23T09:26:40.704Z"
   },
   {
    "duration": 17,
    "start_time": "2021-12-23T09:46:29.499Z"
   },
   {
    "duration": 37,
    "start_time": "2021-12-23T09:46:56.765Z"
   },
   {
    "duration": 31,
    "start_time": "2021-12-23T09:47:44.956Z"
   },
   {
    "duration": 6881,
    "start_time": "2021-12-23T09:50:41.574Z"
   },
   {
    "duration": 325,
    "start_time": "2021-12-23T09:51:09.853Z"
   },
   {
    "duration": 315,
    "start_time": "2021-12-23T09:53:35.173Z"
   },
   {
    "duration": 8,
    "start_time": "2021-12-23T10:04:10.967Z"
   },
   {
    "duration": 74,
    "start_time": "2021-12-23T10:04:16.213Z"
   },
   {
    "duration": 32,
    "start_time": "2021-12-23T10:04:16.290Z"
   },
   {
    "duration": 163,
    "start_time": "2021-12-23T10:04:16.325Z"
   },
   {
    "duration": 21,
    "start_time": "2021-12-23T10:04:16.490Z"
   },
   {
    "duration": 69,
    "start_time": "2021-12-23T10:04:16.514Z"
   },
   {
    "duration": 34,
    "start_time": "2021-12-23T10:04:16.586Z"
   },
   {
    "duration": 8,
    "start_time": "2021-12-23T10:04:16.622Z"
   },
   {
    "duration": 46,
    "start_time": "2021-12-23T10:04:16.634Z"
   },
   {
    "duration": 18,
    "start_time": "2021-12-23T10:04:16.683Z"
   },
   {
    "duration": 129,
    "start_time": "2021-12-23T10:04:16.704Z"
   },
   {
    "duration": 156,
    "start_time": "2021-12-23T10:04:16.836Z"
   },
   {
    "duration": 10,
    "start_time": "2021-12-23T10:04:16.994Z"
   },
   {
    "duration": 10,
    "start_time": "2021-12-23T10:04:17.007Z"
   },
   {
    "duration": 10,
    "start_time": "2021-12-23T10:04:17.019Z"
   },
   {
    "duration": 50,
    "start_time": "2021-12-23T10:04:17.032Z"
   },
   {
    "duration": 21,
    "start_time": "2021-12-23T10:04:17.084Z"
   },
   {
    "duration": 60,
    "start_time": "2021-12-23T10:04:17.107Z"
   },
   {
    "duration": 4,
    "start_time": "2021-12-23T10:04:17.169Z"
   },
   {
    "duration": 76,
    "start_time": "2021-12-23T11:13:09.757Z"
   },
   {
    "duration": 64,
    "start_time": "2021-12-23T11:13:09.836Z"
   },
   {
    "duration": 182,
    "start_time": "2021-12-23T11:13:09.904Z"
   },
   {
    "duration": 20,
    "start_time": "2021-12-23T11:13:10.089Z"
   },
   {
    "duration": 73,
    "start_time": "2021-12-23T11:13:10.111Z"
   },
   {
    "duration": 48,
    "start_time": "2021-12-23T11:13:10.187Z"
   },
   {
    "duration": 8,
    "start_time": "2021-12-23T11:13:10.266Z"
   },
   {
    "duration": 16,
    "start_time": "2021-12-23T11:13:10.278Z"
   },
   {
    "duration": 19,
    "start_time": "2021-12-23T11:13:10.297Z"
   },
   {
    "duration": 182,
    "start_time": "2021-12-23T11:13:10.318Z"
   },
   {
    "duration": 149,
    "start_time": "2021-12-23T11:13:10.503Z"
   },
   {
    "duration": 16,
    "start_time": "2021-12-23T11:13:10.668Z"
   },
   {
    "duration": 10,
    "start_time": "2021-12-23T11:13:10.688Z"
   },
   {
    "duration": 18,
    "start_time": "2021-12-23T11:13:10.701Z"
   },
   {
    "duration": 57,
    "start_time": "2021-12-23T11:13:10.723Z"
   },
   {
    "duration": 27,
    "start_time": "2021-12-23T11:13:10.783Z"
   },
   {
    "duration": 71,
    "start_time": "2021-12-23T11:13:10.813Z"
   },
   {
    "duration": 4,
    "start_time": "2021-12-23T11:13:10.887Z"
   },
   {
    "duration": 29,
    "start_time": "2021-12-23T11:20:43.285Z"
   },
   {
    "duration": 76,
    "start_time": "2021-12-23T11:20:51.634Z"
   },
   {
    "duration": 33,
    "start_time": "2021-12-23T11:20:51.713Z"
   },
   {
    "duration": 150,
    "start_time": "2021-12-23T11:20:51.769Z"
   },
   {
    "duration": 47,
    "start_time": "2021-12-23T11:20:51.922Z"
   },
   {
    "duration": 38,
    "start_time": "2021-12-23T11:20:51.971Z"
   },
   {
    "duration": 62,
    "start_time": "2021-12-23T11:20:52.012Z"
   },
   {
    "duration": 10,
    "start_time": "2021-12-23T11:20:52.076Z"
   },
   {
    "duration": 18,
    "start_time": "2021-12-23T11:20:52.088Z"
   },
   {
    "duration": 61,
    "start_time": "2021-12-23T11:20:52.112Z"
   },
   {
    "duration": 127,
    "start_time": "2021-12-23T11:20:52.177Z"
   },
   {
    "duration": 146,
    "start_time": "2021-12-23T11:20:52.306Z"
   },
   {
    "duration": 21,
    "start_time": "2021-12-23T11:20:52.455Z"
   },
   {
    "duration": 7,
    "start_time": "2021-12-23T11:20:52.479Z"
   },
   {
    "duration": 10,
    "start_time": "2021-12-23T11:20:52.489Z"
   },
   {
    "duration": 19,
    "start_time": "2021-12-23T11:20:52.502Z"
   },
   {
    "duration": 21,
    "start_time": "2021-12-23T11:20:52.568Z"
   },
   {
    "duration": 24,
    "start_time": "2021-12-23T11:20:52.591Z"
   },
   {
    "duration": 61,
    "start_time": "2021-12-23T11:20:52.617Z"
   },
   {
    "duration": 16,
    "start_time": "2021-12-23T11:20:52.681Z"
   },
   {
    "duration": 56,
    "start_time": "2021-12-23T11:22:31.036Z"
   },
   {
    "duration": 93,
    "start_time": "2021-12-23T11:24:52.034Z"
   },
   {
    "duration": 63,
    "start_time": "2021-12-23T11:26:09.498Z"
   },
   {
    "duration": 56,
    "start_time": "2021-12-23T11:28:42.720Z"
   },
   {
    "duration": 75,
    "start_time": "2021-12-23T11:29:50.857Z"
   },
   {
    "duration": 50,
    "start_time": "2021-12-23T11:29:50.934Z"
   },
   {
    "duration": 140,
    "start_time": "2021-12-23T11:29:50.987Z"
   },
   {
    "duration": 58,
    "start_time": "2021-12-23T11:29:51.129Z"
   },
   {
    "duration": 34,
    "start_time": "2021-12-23T11:29:51.190Z"
   },
   {
    "duration": 66,
    "start_time": "2021-12-23T11:29:51.227Z"
   },
   {
    "duration": 8,
    "start_time": "2021-12-23T11:29:51.295Z"
   },
   {
    "duration": 29,
    "start_time": "2021-12-23T11:29:51.307Z"
   },
   {
    "duration": 51,
    "start_time": "2021-12-23T11:29:51.339Z"
   },
   {
    "duration": 185,
    "start_time": "2021-12-23T11:29:51.394Z"
   },
   {
    "duration": 226,
    "start_time": "2021-12-23T11:29:51.581Z"
   },
   {
    "duration": 14,
    "start_time": "2021-12-23T11:29:51.810Z"
   },
   {
    "duration": 9,
    "start_time": "2021-12-23T11:29:51.827Z"
   },
   {
    "duration": 38,
    "start_time": "2021-12-23T11:29:51.839Z"
   },
   {
    "duration": 23,
    "start_time": "2021-12-23T11:29:51.880Z"
   },
   {
    "duration": 66,
    "start_time": "2021-12-23T11:29:51.906Z"
   },
   {
    "duration": 26,
    "start_time": "2021-12-23T11:29:51.975Z"
   },
   {
    "duration": 81,
    "start_time": "2021-12-23T11:29:52.003Z"
   },
   {
    "duration": 25,
    "start_time": "2021-12-23T11:29:52.087Z"
   },
   {
    "duration": 4,
    "start_time": "2021-12-23T11:29:52.115Z"
   },
   {
    "duration": 838,
    "start_time": "2021-12-24T06:10:27.470Z"
   },
   {
    "duration": 41,
    "start_time": "2021-12-24T06:10:28.311Z"
   },
   {
    "duration": 137,
    "start_time": "2021-12-24T06:10:28.367Z"
   },
   {
    "duration": 21,
    "start_time": "2021-12-24T06:10:28.506Z"
   },
   {
    "duration": 63,
    "start_time": "2021-12-24T06:10:28.529Z"
   },
   {
    "duration": 33,
    "start_time": "2021-12-24T06:10:28.595Z"
   },
   {
    "duration": 7,
    "start_time": "2021-12-24T06:10:28.631Z"
   },
   {
    "duration": 16,
    "start_time": "2021-12-24T06:10:28.669Z"
   },
   {
    "duration": 23,
    "start_time": "2021-12-24T06:10:28.688Z"
   },
   {
    "duration": 128,
    "start_time": "2021-12-24T06:10:28.713Z"
   },
   {
    "duration": 153,
    "start_time": "2021-12-24T06:10:28.844Z"
   },
   {
    "duration": 12,
    "start_time": "2021-12-24T06:10:29.000Z"
   },
   {
    "duration": 17,
    "start_time": "2021-12-24T06:10:29.015Z"
   },
   {
    "duration": 9,
    "start_time": "2021-12-24T06:10:29.035Z"
   },
   {
    "duration": 38,
    "start_time": "2021-12-24T06:10:29.046Z"
   },
   {
    "duration": 21,
    "start_time": "2021-12-24T06:10:29.086Z"
   },
   {
    "duration": 58,
    "start_time": "2021-12-24T06:10:29.109Z"
   },
   {
    "duration": 59,
    "start_time": "2021-12-24T06:10:29.169Z"
   },
   {
    "duration": 44,
    "start_time": "2021-12-24T06:10:29.230Z"
   },
   {
    "duration": 6,
    "start_time": "2021-12-24T06:10:29.277Z"
   },
   {
    "duration": 88,
    "start_time": "2021-12-24T06:19:39.793Z"
   },
   {
    "duration": 32,
    "start_time": "2021-12-24T06:19:39.884Z"
   },
   {
    "duration": 169,
    "start_time": "2021-12-24T06:19:39.919Z"
   },
   {
    "duration": 19,
    "start_time": "2021-12-24T06:19:40.092Z"
   },
   {
    "duration": 70,
    "start_time": "2021-12-24T06:19:40.113Z"
   },
   {
    "duration": 34,
    "start_time": "2021-12-24T06:19:40.186Z"
   },
   {
    "duration": 8,
    "start_time": "2021-12-24T06:19:40.223Z"
   },
   {
    "duration": 46,
    "start_time": "2021-12-24T06:19:40.235Z"
   },
   {
    "duration": 19,
    "start_time": "2021-12-24T06:19:40.284Z"
   },
   {
    "duration": 134,
    "start_time": "2021-12-24T06:19:40.306Z"
   },
   {
    "duration": 155,
    "start_time": "2021-12-24T06:19:40.443Z"
   },
   {
    "duration": 12,
    "start_time": "2021-12-24T06:19:40.601Z"
   },
   {
    "duration": 9,
    "start_time": "2021-12-24T06:19:40.616Z"
   },
   {
    "duration": 40,
    "start_time": "2021-12-24T06:19:40.627Z"
   },
   {
    "duration": 21,
    "start_time": "2021-12-24T06:19:40.670Z"
   },
   {
    "duration": 20,
    "start_time": "2021-12-24T06:19:40.694Z"
   },
   {
    "duration": 61,
    "start_time": "2021-12-24T06:19:40.716Z"
   },
   {
    "duration": 31,
    "start_time": "2021-12-24T06:19:40.780Z"
   },
   {
    "duration": 74,
    "start_time": "2021-12-24T06:19:45.348Z"
   },
   {
    "duration": 57,
    "start_time": "2021-12-24T06:19:45.425Z"
   },
   {
    "duration": 145,
    "start_time": "2021-12-24T06:19:45.486Z"
   },
   {
    "duration": 20,
    "start_time": "2021-12-24T06:19:45.669Z"
   },
   {
    "duration": 33,
    "start_time": "2021-12-24T06:19:45.691Z"
   },
   {
    "duration": 70,
    "start_time": "2021-12-24T06:19:45.728Z"
   },
   {
    "duration": 10,
    "start_time": "2021-12-24T06:19:45.801Z"
   },
   {
    "duration": 55,
    "start_time": "2021-12-24T06:19:45.816Z"
   },
   {
    "duration": 20,
    "start_time": "2021-12-24T06:19:45.874Z"
   },
   {
    "duration": 133,
    "start_time": "2021-12-24T06:19:45.896Z"
   },
   {
    "duration": 159,
    "start_time": "2021-12-24T06:19:46.033Z"
   },
   {
    "duration": 11,
    "start_time": "2021-12-24T06:19:46.195Z"
   },
   {
    "duration": 11,
    "start_time": "2021-12-24T06:19:46.208Z"
   },
   {
    "duration": 11,
    "start_time": "2021-12-24T06:19:46.221Z"
   },
   {
    "duration": 51,
    "start_time": "2021-12-24T06:19:46.235Z"
   },
   {
    "duration": 22,
    "start_time": "2021-12-24T06:19:46.288Z"
   },
   {
    "duration": 67,
    "start_time": "2021-12-24T06:19:46.313Z"
   },
   {
    "duration": 28,
    "start_time": "2021-12-24T06:19:46.383Z"
   },
   {
    "duration": 78,
    "start_time": "2021-12-24T06:19:46.414Z"
   },
   {
    "duration": 4,
    "start_time": "2021-12-24T06:19:46.495Z"
   },
   {
    "duration": 4972,
    "start_time": "2021-12-24T06:52:52.273Z"
   },
   {
    "duration": 6072,
    "start_time": "2021-12-24T07:03:56.726Z"
   },
   {
    "duration": 5336,
    "start_time": "2021-12-24T07:04:42.007Z"
   },
   {
    "duration": 3793,
    "start_time": "2021-12-24T07:05:19.865Z"
   },
   {
    "duration": 3715,
    "start_time": "2021-12-24T07:06:07.803Z"
   },
   {
    "duration": 3693,
    "start_time": "2021-12-24T07:11:23.222Z"
   },
   {
    "duration": 3900,
    "start_time": "2021-12-24T07:53:12.867Z"
   },
   {
    "duration": 3778,
    "start_time": "2021-12-24T07:53:30.178Z"
   },
   {
    "duration": 7128,
    "start_time": "2021-12-24T07:54:11.092Z"
   },
   {
    "duration": 4086,
    "start_time": "2021-12-24T07:54:25.504Z"
   },
   {
    "duration": 3712,
    "start_time": "2021-12-24T07:57:10.504Z"
   },
   {
    "duration": 3899,
    "start_time": "2021-12-24T07:57:39.220Z"
   },
   {
    "duration": 289,
    "start_time": "2021-12-24T08:03:27.795Z"
   },
   {
    "duration": 30,
    "start_time": "2021-12-24T08:03:36.240Z"
   },
   {
    "duration": 28,
    "start_time": "2021-12-24T08:03:51.060Z"
   },
   {
    "duration": 86,
    "start_time": "2021-12-24T08:04:39.852Z"
   },
   {
    "duration": 54,
    "start_time": "2021-12-24T08:04:39.942Z"
   },
   {
    "duration": 174,
    "start_time": "2021-12-24T08:04:40.001Z"
   },
   {
    "duration": 25,
    "start_time": "2021-12-24T08:04:40.179Z"
   },
   {
    "duration": 72,
    "start_time": "2021-12-24T08:04:40.207Z"
   },
   {
    "duration": 35,
    "start_time": "2021-12-24T08:04:40.282Z"
   },
   {
    "duration": 9,
    "start_time": "2021-12-24T08:04:40.319Z"
   },
   {
    "duration": 49,
    "start_time": "2021-12-24T08:04:40.332Z"
   },
   {
    "duration": 20,
    "start_time": "2021-12-24T08:04:40.384Z"
   },
   {
    "duration": 160,
    "start_time": "2021-12-24T08:04:40.407Z"
   },
   {
    "duration": 139,
    "start_time": "2021-12-24T08:04:40.570Z"
   },
   {
    "duration": 24,
    "start_time": "2021-12-24T08:04:40.711Z"
   },
   {
    "duration": 36,
    "start_time": "2021-12-24T08:04:40.737Z"
   },
   {
    "duration": 10,
    "start_time": "2021-12-24T08:04:40.775Z"
   },
   {
    "duration": 10,
    "start_time": "2021-12-24T08:04:40.787Z"
   },
   {
    "duration": 21,
    "start_time": "2021-12-24T08:04:40.799Z"
   },
   {
    "duration": 56,
    "start_time": "2021-12-24T08:04:40.823Z"
   },
   {
    "duration": 27,
    "start_time": "2021-12-24T08:04:40.881Z"
   },
   {
    "duration": 33,
    "start_time": "2021-12-24T08:04:40.911Z"
   },
   {
    "duration": 57,
    "start_time": "2021-12-24T08:04:40.967Z"
   },
   {
    "duration": 3931,
    "start_time": "2021-12-24T08:04:41.026Z"
   },
   {
    "duration": 4250,
    "start_time": "2021-12-24T08:04:44.960Z"
   },
   {
    "duration": 27,
    "start_time": "2021-12-24T08:06:02.425Z"
   },
   {
    "duration": 81,
    "start_time": "2021-12-24T08:06:40.280Z"
   },
   {
    "duration": 36,
    "start_time": "2021-12-24T08:06:40.363Z"
   },
   {
    "duration": 186,
    "start_time": "2021-12-24T08:06:40.403Z"
   },
   {
    "duration": 22,
    "start_time": "2021-12-24T08:06:40.592Z"
   },
   {
    "duration": 71,
    "start_time": "2021-12-24T08:06:40.617Z"
   },
   {
    "duration": 40,
    "start_time": "2021-12-24T08:06:40.691Z"
   },
   {
    "duration": 35,
    "start_time": "2021-12-24T08:06:40.734Z"
   },
   {
    "duration": 17,
    "start_time": "2021-12-24T08:06:40.773Z"
   },
   {
    "duration": 19,
    "start_time": "2021-12-24T08:06:40.793Z"
   },
   {
    "duration": 167,
    "start_time": "2021-12-24T08:06:40.814Z"
   },
   {
    "duration": 144,
    "start_time": "2021-12-24T08:06:40.984Z"
   },
   {
    "duration": 40,
    "start_time": "2021-12-24T08:06:41.130Z"
   },
   {
    "duration": 19,
    "start_time": "2021-12-24T08:06:41.172Z"
   },
   {
    "duration": 10,
    "start_time": "2021-12-24T08:06:41.193Z"
   },
   {
    "duration": 19,
    "start_time": "2021-12-24T08:06:41.206Z"
   },
   {
    "duration": 55,
    "start_time": "2021-12-24T08:06:41.228Z"
   },
   {
    "duration": 22,
    "start_time": "2021-12-24T08:06:41.286Z"
   },
   {
    "duration": 57,
    "start_time": "2021-12-24T08:06:41.310Z"
   },
   {
    "duration": 26,
    "start_time": "2021-12-24T08:06:41.370Z"
   },
   {
    "duration": 92,
    "start_time": "2021-12-24T08:06:41.399Z"
   },
   {
    "duration": 4077,
    "start_time": "2021-12-24T08:06:41.493Z"
   },
   {
    "duration": 4532,
    "start_time": "2021-12-24T08:06:45.574Z"
   },
   {
    "duration": 314,
    "start_time": "2021-12-24T08:43:37.152Z"
   },
   {
    "duration": 9,
    "start_time": "2021-12-24T08:43:52.507Z"
   },
   {
    "duration": 312,
    "start_time": "2021-12-24T08:45:27.987Z"
   },
   {
    "duration": 9,
    "start_time": "2021-12-24T08:45:41.192Z"
   },
   {
    "duration": 274,
    "start_time": "2021-12-24T08:46:31.065Z"
   },
   {
    "duration": 15,
    "start_time": "2021-12-24T08:46:52.120Z"
   },
   {
    "duration": 12,
    "start_time": "2021-12-24T08:47:55.749Z"
   },
   {
    "duration": 32,
    "start_time": "2021-12-24T08:49:17.689Z"
   },
   {
    "duration": 3643,
    "start_time": "2021-12-24T08:49:28.672Z"
   },
   {
    "duration": 3859,
    "start_time": "2021-12-24T08:49:35.830Z"
   },
   {
    "duration": 11,
    "start_time": "2021-12-24T08:49:59.110Z"
   },
   {
    "duration": 16,
    "start_time": "2021-12-24T08:52:58.788Z"
   },
   {
    "duration": 11,
    "start_time": "2021-12-24T08:53:35.398Z"
   },
   {
    "duration": 17,
    "start_time": "2021-12-24T08:53:48.119Z"
   },
   {
    "duration": 17,
    "start_time": "2021-12-24T09:07:32.521Z"
   },
   {
    "duration": 14,
    "start_time": "2021-12-24T09:13:45.931Z"
   },
   {
    "duration": 23,
    "start_time": "2021-12-24T09:14:40.347Z"
   },
   {
    "duration": 27,
    "start_time": "2021-12-24T09:15:14.163Z"
   },
   {
    "duration": 29,
    "start_time": "2021-12-24T09:15:53.103Z"
   },
   {
    "duration": 18,
    "start_time": "2021-12-24T09:16:25.459Z"
   },
   {
    "duration": 368,
    "start_time": "2021-12-24T09:19:23.088Z"
   },
   {
    "duration": 266,
    "start_time": "2021-12-24T09:19:38.515Z"
   },
   {
    "duration": 12,
    "start_time": "2021-12-24T09:20:22.562Z"
   },
   {
    "duration": 3065,
    "start_time": "2021-12-24T09:22:58.660Z"
   },
   {
    "duration": 8,
    "start_time": "2021-12-24T09:28:03.946Z"
   },
   {
    "duration": 567,
    "start_time": "2021-12-25T11:27:22.050Z"
   },
   {
    "duration": 31,
    "start_time": "2021-12-25T11:27:22.619Z"
   },
   {
    "duration": 94,
    "start_time": "2021-12-25T11:27:22.653Z"
   },
   {
    "duration": 13,
    "start_time": "2021-12-25T11:27:22.749Z"
   },
   {
    "duration": 44,
    "start_time": "2021-12-25T11:27:22.764Z"
   },
   {
    "duration": 33,
    "start_time": "2021-12-25T11:27:22.810Z"
   },
   {
    "duration": 10,
    "start_time": "2021-12-25T11:27:22.844Z"
   },
   {
    "duration": 20,
    "start_time": "2021-12-25T11:27:22.856Z"
   },
   {
    "duration": 26,
    "start_time": "2021-12-25T11:27:22.878Z"
   },
   {
    "duration": 59,
    "start_time": "2021-12-25T11:27:22.906Z"
   },
   {
    "duration": 99,
    "start_time": "2021-12-25T11:27:22.966Z"
   },
   {
    "duration": 31,
    "start_time": "2021-12-25T11:27:23.066Z"
   },
   {
    "duration": 28,
    "start_time": "2021-12-25T11:27:23.099Z"
   },
   {
    "duration": 21,
    "start_time": "2021-12-25T11:27:23.129Z"
   },
   {
    "duration": 28,
    "start_time": "2021-12-25T11:27:23.152Z"
   },
   {
    "duration": 31,
    "start_time": "2021-12-25T11:27:23.182Z"
   },
   {
    "duration": 21,
    "start_time": "2021-12-25T11:27:23.215Z"
   },
   {
    "duration": 17,
    "start_time": "2021-12-25T11:27:23.238Z"
   },
   {
    "duration": 32,
    "start_time": "2021-12-25T11:27:23.257Z"
   },
   {
    "duration": 17,
    "start_time": "2021-12-25T11:27:23.291Z"
   },
   {
    "duration": 2337,
    "start_time": "2021-12-25T11:27:23.309Z"
   },
   {
    "duration": 2785,
    "start_time": "2021-12-25T11:27:25.648Z"
   },
   {
    "duration": 12,
    "start_time": "2021-12-25T11:27:28.436Z"
   },
   {
    "duration": 10,
    "start_time": "2021-12-25T11:27:28.449Z"
   },
   {
    "duration": 33,
    "start_time": "2021-12-25T11:27:28.460Z"
   },
   {
    "duration": 1579,
    "start_time": "2021-12-25T11:27:28.495Z"
   },
   {
    "duration": 16,
    "start_time": "2021-12-25T11:27:30.076Z"
   },
   {
    "duration": 12,
    "start_time": "2021-12-25T11:29:09.610Z"
   },
   {
    "duration": 11,
    "start_time": "2021-12-25T11:30:03.055Z"
   },
   {
    "duration": 12,
    "start_time": "2021-12-25T11:30:16.324Z"
   },
   {
    "duration": 59,
    "start_time": "2021-12-25T11:31:57.088Z"
   },
   {
    "duration": 19,
    "start_time": "2021-12-25T11:31:57.149Z"
   },
   {
    "duration": 81,
    "start_time": "2021-12-25T11:31:57.170Z"
   },
   {
    "duration": 45,
    "start_time": "2021-12-25T11:31:57.252Z"
   },
   {
    "duration": 19,
    "start_time": "2021-12-25T11:31:57.299Z"
   },
   {
    "duration": 19,
    "start_time": "2021-12-25T11:31:57.319Z"
   },
   {
    "duration": 5,
    "start_time": "2021-12-25T11:31:57.339Z"
   },
   {
    "duration": 11,
    "start_time": "2021-12-25T11:31:57.346Z"
   },
   {
    "duration": 43,
    "start_time": "2021-12-25T11:31:57.360Z"
   },
   {
    "duration": 99,
    "start_time": "2021-12-25T11:31:57.405Z"
   },
   {
    "duration": 92,
    "start_time": "2021-12-25T11:31:57.506Z"
   },
   {
    "duration": 14,
    "start_time": "2021-12-25T11:31:57.600Z"
   },
   {
    "duration": 9,
    "start_time": "2021-12-25T11:31:57.616Z"
   },
   {
    "duration": 6,
    "start_time": "2021-12-25T11:31:57.626Z"
   },
   {
    "duration": 8,
    "start_time": "2021-12-25T11:31:57.634Z"
   },
   {
    "duration": 48,
    "start_time": "2021-12-25T11:31:57.643Z"
   },
   {
    "duration": 13,
    "start_time": "2021-12-25T11:31:57.693Z"
   },
   {
    "duration": 17,
    "start_time": "2021-12-25T11:31:57.708Z"
   },
   {
    "duration": 19,
    "start_time": "2021-12-25T11:31:57.726Z"
   },
   {
    "duration": 17,
    "start_time": "2021-12-25T11:31:57.746Z"
   },
   {
    "duration": 2485,
    "start_time": "2021-12-25T11:31:57.765Z"
   },
   {
    "duration": 2920,
    "start_time": "2021-12-25T11:32:00.252Z"
   },
   {
    "duration": 21,
    "start_time": "2021-12-25T11:32:03.175Z"
   },
   {
    "duration": 13,
    "start_time": "2021-12-25T11:32:03.198Z"
   },
   {
    "duration": 13,
    "start_time": "2021-12-25T11:32:03.213Z"
   },
   {
    "duration": 1784,
    "start_time": "2021-12-25T11:32:03.228Z"
   },
   {
    "duration": 7,
    "start_time": "2021-12-25T11:32:05.015Z"
   },
   {
    "duration": 9,
    "start_time": "2021-12-25T11:33:33.266Z"
   },
   {
    "duration": 246,
    "start_time": "2021-12-25T11:33:50.010Z"
   },
   {
    "duration": 15,
    "start_time": "2021-12-25T11:33:59.321Z"
   },
   {
    "duration": 173,
    "start_time": "2021-12-25T11:38:13.537Z"
   },
   {
    "duration": 8,
    "start_time": "2021-12-25T11:38:55.239Z"
   },
   {
    "duration": 63,
    "start_time": "2021-12-25T12:55:15.484Z"
   },
   {
    "duration": 21,
    "start_time": "2021-12-25T12:55:15.549Z"
   },
   {
    "duration": 128,
    "start_time": "2021-12-25T12:55:15.572Z"
   },
   {
    "duration": 13,
    "start_time": "2021-12-25T12:55:15.702Z"
   },
   {
    "duration": 22,
    "start_time": "2021-12-25T12:55:15.716Z"
   },
   {
    "duration": 53,
    "start_time": "2021-12-25T12:55:15.739Z"
   },
   {
    "duration": 5,
    "start_time": "2021-12-25T12:55:15.794Z"
   },
   {
    "duration": 15,
    "start_time": "2021-12-25T12:55:15.802Z"
   },
   {
    "duration": 13,
    "start_time": "2021-12-25T12:55:15.819Z"
   },
   {
    "duration": 102,
    "start_time": "2021-12-25T12:55:15.835Z"
   },
   {
    "duration": 106,
    "start_time": "2021-12-25T12:55:15.938Z"
   },
   {
    "duration": 14,
    "start_time": "2021-12-25T12:55:16.045Z"
   },
   {
    "duration": 31,
    "start_time": "2021-12-25T12:55:16.061Z"
   },
   {
    "duration": 6,
    "start_time": "2021-12-25T12:55:16.093Z"
   },
   {
    "duration": 8,
    "start_time": "2021-12-25T12:55:16.100Z"
   },
   {
    "duration": 12,
    "start_time": "2021-12-25T12:55:16.110Z"
   },
   {
    "duration": 15,
    "start_time": "2021-12-25T12:55:16.123Z"
   },
   {
    "duration": 63,
    "start_time": "2021-12-25T12:55:16.139Z"
   },
   {
    "duration": 20,
    "start_time": "2021-12-25T12:55:16.204Z"
   },
   {
    "duration": 19,
    "start_time": "2021-12-25T12:55:16.226Z"
   },
   {
    "duration": 2563,
    "start_time": "2021-12-25T12:55:16.246Z"
   },
   {
    "duration": 2897,
    "start_time": "2021-12-25T12:55:18.811Z"
   },
   {
    "duration": 15,
    "start_time": "2021-12-25T12:55:21.711Z"
   },
   {
    "duration": 11,
    "start_time": "2021-12-25T12:55:21.727Z"
   },
   {
    "duration": 11,
    "start_time": "2021-12-25T12:55:21.739Z"
   },
   {
    "duration": 41,
    "start_time": "2021-12-25T12:55:21.751Z"
   },
   {
    "duration": 8,
    "start_time": "2021-12-25T12:55:21.794Z"
   },
   {
    "duration": 1676,
    "start_time": "2021-12-25T12:55:21.804Z"
   },
   {
    "duration": 10,
    "start_time": "2021-12-25T12:55:23.482Z"
   },
   {
    "duration": 63,
    "start_time": "2021-12-25T12:56:39.378Z"
   },
   {
    "duration": 20,
    "start_time": "2021-12-25T12:56:39.443Z"
   },
   {
    "duration": 91,
    "start_time": "2021-12-25T12:56:39.464Z"
   },
   {
    "duration": 45,
    "start_time": "2021-12-25T12:56:39.557Z"
   },
   {
    "duration": 20,
    "start_time": "2021-12-25T12:56:39.603Z"
   },
   {
    "duration": 20,
    "start_time": "2021-12-25T12:56:39.624Z"
   },
   {
    "duration": 5,
    "start_time": "2021-12-25T12:56:39.645Z"
   },
   {
    "duration": 41,
    "start_time": "2021-12-25T12:56:39.652Z"
   },
   {
    "duration": 14,
    "start_time": "2021-12-25T12:56:39.695Z"
   },
   {
    "duration": 88,
    "start_time": "2021-12-25T12:56:39.710Z"
   },
   {
    "duration": 74,
    "start_time": "2021-12-25T12:56:39.800Z"
   },
   {
    "duration": 26,
    "start_time": "2021-12-25T12:56:39.876Z"
   },
   {
    "duration": 8,
    "start_time": "2021-12-25T12:56:39.904Z"
   },
   {
    "duration": 5,
    "start_time": "2021-12-25T12:56:39.913Z"
   },
   {
    "duration": 9,
    "start_time": "2021-12-25T12:56:39.920Z"
   },
   {
    "duration": 12,
    "start_time": "2021-12-25T12:56:39.931Z"
   },
   {
    "duration": 52,
    "start_time": "2021-12-25T12:56:39.944Z"
   },
   {
    "duration": 18,
    "start_time": "2021-12-25T12:56:39.998Z"
   },
   {
    "duration": 19,
    "start_time": "2021-12-25T12:56:40.018Z"
   },
   {
    "duration": 18,
    "start_time": "2021-12-25T12:56:40.039Z"
   },
   {
    "duration": 2393,
    "start_time": "2021-12-25T12:56:40.059Z"
   },
   {
    "duration": 2754,
    "start_time": "2021-12-25T12:56:42.453Z"
   },
   {
    "duration": 13,
    "start_time": "2021-12-25T12:56:45.210Z"
   },
   {
    "duration": 9,
    "start_time": "2021-12-25T12:56:45.225Z"
   },
   {
    "duration": 10,
    "start_time": "2021-12-25T12:56:45.236Z"
   },
   {
    "duration": 44,
    "start_time": "2021-12-25T12:56:45.247Z"
   },
   {
    "duration": 8,
    "start_time": "2021-12-25T12:56:45.293Z"
   },
   {
    "duration": 1614,
    "start_time": "2021-12-25T12:56:45.302Z"
   },
   {
    "duration": 5,
    "start_time": "2021-12-25T12:56:46.918Z"
   },
   {
    "duration": 15,
    "start_time": "2021-12-25T13:01:36.230Z"
   },
   {
    "duration": 16,
    "start_time": "2021-12-25T13:08:09.957Z"
   },
   {
    "duration": 320,
    "start_time": "2021-12-25T19:11:03.472Z"
   },
   {
    "duration": 815,
    "start_time": "2021-12-25T19:11:11.337Z"
   },
   {
    "duration": 41,
    "start_time": "2021-12-25T19:11:12.155Z"
   },
   {
    "duration": 145,
    "start_time": "2021-12-25T19:11:12.200Z"
   },
   {
    "duration": 18,
    "start_time": "2021-12-25T19:11:12.347Z"
   },
   {
    "duration": 71,
    "start_time": "2021-12-25T19:11:12.367Z"
   },
   {
    "duration": 34,
    "start_time": "2021-12-25T19:11:12.440Z"
   },
   {
    "duration": 8,
    "start_time": "2021-12-25T19:11:12.476Z"
   },
   {
    "duration": 43,
    "start_time": "2021-12-25T19:11:12.488Z"
   },
   {
    "duration": 23,
    "start_time": "2021-12-25T19:11:12.534Z"
   },
   {
    "duration": 117,
    "start_time": "2021-12-25T19:11:12.560Z"
   },
   {
    "duration": 151,
    "start_time": "2021-12-25T19:11:12.680Z"
   },
   {
    "duration": 21,
    "start_time": "2021-12-25T19:11:12.833Z"
   },
   {
    "duration": 12,
    "start_time": "2021-12-25T19:11:12.857Z"
   },
   {
    "duration": 8,
    "start_time": "2021-12-25T19:11:12.871Z"
   },
   {
    "duration": 40,
    "start_time": "2021-12-25T19:11:12.881Z"
   },
   {
    "duration": 19,
    "start_time": "2021-12-25T19:11:12.923Z"
   },
   {
    "duration": 17,
    "start_time": "2021-12-25T19:11:12.944Z"
   },
   {
    "duration": 58,
    "start_time": "2021-12-25T19:11:12.963Z"
   },
   {
    "duration": 34,
    "start_time": "2021-12-25T19:11:13.024Z"
   },
   {
    "duration": 25,
    "start_time": "2021-12-25T19:11:13.060Z"
   },
   {
    "duration": 3473,
    "start_time": "2021-12-25T19:11:13.088Z"
   },
   {
    "duration": 3616,
    "start_time": "2021-12-25T19:11:16.564Z"
   },
   {
    "duration": 37,
    "start_time": "2021-12-25T19:11:20.186Z"
   },
   {
    "duration": 18,
    "start_time": "2021-12-25T19:11:20.226Z"
   },
   {
    "duration": 19,
    "start_time": "2021-12-25T19:11:20.247Z"
   },
   {
    "duration": 69,
    "start_time": "2021-12-25T19:11:20.268Z"
   },
   {
    "duration": 24,
    "start_time": "2021-12-25T19:11:20.340Z"
   },
   {
    "duration": 1257,
    "start_time": "2021-12-25T19:11:20.367Z"
   },
   {
    "duration": -2925,
    "start_time": "2021-12-25T19:11:24.551Z"
   },
   {
    "duration": 27,
    "start_time": "2021-12-25T19:12:20.373Z"
   },
   {
    "duration": 75,
    "start_time": "2021-12-25T19:12:27.289Z"
   },
   {
    "duration": 54,
    "start_time": "2021-12-25T19:12:27.367Z"
   },
   {
    "duration": 130,
    "start_time": "2021-12-25T19:12:27.424Z"
   },
   {
    "duration": 22,
    "start_time": "2021-12-25T19:12:27.556Z"
   },
   {
    "duration": 63,
    "start_time": "2021-12-25T19:12:27.580Z"
   },
   {
    "duration": 35,
    "start_time": "2021-12-25T19:12:27.646Z"
   },
   {
    "duration": 34,
    "start_time": "2021-12-25T19:12:27.683Z"
   },
   {
    "duration": 15,
    "start_time": "2021-12-25T19:12:27.720Z"
   },
   {
    "duration": 19,
    "start_time": "2021-12-25T19:12:27.739Z"
   },
   {
    "duration": 126,
    "start_time": "2021-12-25T19:12:27.761Z"
   },
   {
    "duration": 153,
    "start_time": "2021-12-25T19:12:27.889Z"
   },
   {
    "duration": 22,
    "start_time": "2021-12-25T19:12:28.044Z"
   },
   {
    "duration": 12,
    "start_time": "2021-12-25T19:12:28.068Z"
   },
   {
    "duration": 36,
    "start_time": "2021-12-25T19:12:28.082Z"
   },
   {
    "duration": 9,
    "start_time": "2021-12-25T19:12:28.121Z"
   },
   {
    "duration": 22,
    "start_time": "2021-12-25T19:12:28.132Z"
   },
   {
    "duration": 20,
    "start_time": "2021-12-25T19:12:28.156Z"
   },
   {
    "duration": 62,
    "start_time": "2021-12-25T19:12:28.178Z"
   },
   {
    "duration": 29,
    "start_time": "2021-12-25T19:12:28.242Z"
   },
   {
    "duration": 51,
    "start_time": "2021-12-25T19:12:28.273Z"
   },
   {
    "duration": 3515,
    "start_time": "2021-12-25T19:12:28.326Z"
   },
   {
    "duration": 3610,
    "start_time": "2021-12-25T19:12:31.843Z"
   },
   {
    "duration": 23,
    "start_time": "2021-12-25T19:12:35.456Z"
   },
   {
    "duration": 40,
    "start_time": "2021-12-25T19:12:35.481Z"
   },
   {
    "duration": 27,
    "start_time": "2021-12-25T19:12:35.523Z"
   },
   {
    "duration": 28,
    "start_time": "2021-12-25T19:12:35.553Z"
   },
   {
    "duration": 21,
    "start_time": "2021-12-25T19:12:35.619Z"
   },
   {
    "duration": 1252,
    "start_time": "2021-12-25T19:12:35.643Z"
   },
   {
    "duration": -2962,
    "start_time": "2021-12-25T19:12:39.860Z"
   },
   {
    "duration": 3257,
    "start_time": "2021-12-25T19:13:27.050Z"
   },
   {
    "duration": 3080,
    "start_time": "2021-12-25T19:13:51.348Z"
   },
   {
    "duration": 87,
    "start_time": "2021-12-25T19:36:38.784Z"
   },
   {
    "duration": 59,
    "start_time": "2021-12-25T19:36:38.874Z"
   },
   {
    "duration": 136,
    "start_time": "2021-12-25T19:36:38.936Z"
   },
   {
    "duration": 48,
    "start_time": "2021-12-25T19:36:39.074Z"
   },
   {
    "duration": 33,
    "start_time": "2021-12-25T19:36:39.124Z"
   },
   {
    "duration": 67,
    "start_time": "2021-12-25T19:36:39.160Z"
   },
   {
    "duration": 9,
    "start_time": "2021-12-25T19:36:39.230Z"
   },
   {
    "duration": 23,
    "start_time": "2021-12-25T19:36:39.245Z"
   },
   {
    "duration": 60,
    "start_time": "2021-12-25T19:36:39.272Z"
   },
   {
    "duration": 145,
    "start_time": "2021-12-25T19:36:39.335Z"
   },
   {
    "duration": 156,
    "start_time": "2021-12-25T19:36:39.482Z"
   },
   {
    "duration": 22,
    "start_time": "2021-12-25T19:36:39.641Z"
   },
   {
    "duration": 11,
    "start_time": "2021-12-25T19:36:39.666Z"
   },
   {
    "duration": 43,
    "start_time": "2021-12-25T19:36:39.680Z"
   },
   {
    "duration": 14,
    "start_time": "2021-12-25T19:36:39.726Z"
   },
   {
    "duration": 29,
    "start_time": "2021-12-25T19:36:39.743Z"
   },
   {
    "duration": 57,
    "start_time": "2021-12-25T19:36:39.775Z"
   },
   {
    "duration": 42,
    "start_time": "2021-12-25T19:36:39.835Z"
   },
   {
    "duration": 54,
    "start_time": "2021-12-25T19:36:39.880Z"
   },
   {
    "duration": 28,
    "start_time": "2021-12-25T19:36:39.936Z"
   },
   {
    "duration": 3536,
    "start_time": "2021-12-25T19:36:39.966Z"
   },
   {
    "duration": 4045,
    "start_time": "2021-12-25T19:36:43.505Z"
   },
   {
    "duration": 22,
    "start_time": "2021-12-25T19:36:47.555Z"
   },
   {
    "duration": 50,
    "start_time": "2021-12-25T19:36:47.580Z"
   },
   {
    "duration": 28,
    "start_time": "2021-12-25T19:36:47.633Z"
   },
   {
    "duration": 3125,
    "start_time": "2021-12-25T19:36:47.664Z"
   },
   {
    "duration": 10,
    "start_time": "2021-12-25T19:36:50.792Z"
   },
   {
    "duration": 45,
    "start_time": "2021-12-25T19:48:46.788Z"
   },
   {
    "duration": 2960,
    "start_time": "2021-12-25T19:48:50.258Z"
   },
   {
    "duration": 78,
    "start_time": "2021-12-25T19:49:15.913Z"
   },
   {
    "duration": 34,
    "start_time": "2021-12-25T19:49:15.994Z"
   },
   {
    "duration": 140,
    "start_time": "2021-12-25T19:49:16.031Z"
   },
   {
    "duration": 54,
    "start_time": "2021-12-25T19:49:16.175Z"
   },
   {
    "duration": 33,
    "start_time": "2021-12-25T19:49:16.232Z"
   },
   {
    "duration": 59,
    "start_time": "2021-12-25T19:49:16.268Z"
   },
   {
    "duration": 8,
    "start_time": "2021-12-25T19:49:16.329Z"
   },
   {
    "duration": 16,
    "start_time": "2021-12-25T19:49:16.341Z"
   },
   {
    "duration": 19,
    "start_time": "2021-12-25T19:49:16.359Z"
   },
   {
    "duration": 128,
    "start_time": "2021-12-25T19:49:16.416Z"
   },
   {
    "duration": 133,
    "start_time": "2021-12-25T19:49:16.546Z"
   },
   {
    "duration": 36,
    "start_time": "2021-12-25T19:49:16.682Z"
   },
   {
    "duration": 12,
    "start_time": "2021-12-25T19:49:16.720Z"
   },
   {
    "duration": 9,
    "start_time": "2021-12-25T19:49:16.735Z"
   },
   {
    "duration": 10,
    "start_time": "2021-12-25T19:49:16.747Z"
   },
   {
    "duration": 58,
    "start_time": "2021-12-25T19:49:16.759Z"
   },
   {
    "duration": 18,
    "start_time": "2021-12-25T19:49:16.820Z"
   },
   {
    "duration": 27,
    "start_time": "2021-12-25T19:49:16.840Z"
   },
   {
    "duration": 59,
    "start_time": "2021-12-25T19:49:16.869Z"
   },
   {
    "duration": 27,
    "start_time": "2021-12-25T19:49:16.930Z"
   },
   {
    "duration": 3364,
    "start_time": "2021-12-25T19:49:16.959Z"
   },
   {
    "duration": 3601,
    "start_time": "2021-12-25T19:49:20.325Z"
   },
   {
    "duration": 18,
    "start_time": "2021-12-25T19:49:23.930Z"
   },
   {
    "duration": 15,
    "start_time": "2021-12-25T19:49:23.950Z"
   },
   {
    "duration": 55,
    "start_time": "2021-12-25T19:49:23.967Z"
   },
   {
    "duration": 3137,
    "start_time": "2021-12-25T19:49:24.025Z"
   },
   {
    "duration": 7,
    "start_time": "2021-12-25T19:49:27.165Z"
   },
   {
    "duration": 3306,
    "start_time": "2021-12-25T19:58:21.861Z"
   },
   {
    "duration": 4365,
    "start_time": "2021-12-25T19:59:42.884Z"
   },
   {
    "duration": 42,
    "start_time": "2021-12-25T20:24:40.794Z"
   },
   {
    "duration": 3540,
    "start_time": "2021-12-25T20:24:53.987Z"
   },
   {
    "duration": 263,
    "start_time": "2021-12-25T20:34:13.599Z"
   },
   {
    "duration": 262,
    "start_time": "2021-12-25T20:34:21.510Z"
   },
   {
    "duration": 25,
    "start_time": "2021-12-25T20:34:28.050Z"
   },
   {
    "duration": 16,
    "start_time": "2021-12-25T20:35:18.986Z"
   },
   {
    "duration": 18,
    "start_time": "2021-12-25T20:37:16.035Z"
   },
   {
    "duration": 16,
    "start_time": "2021-12-25T20:38:10.294Z"
   },
   {
    "duration": 28,
    "start_time": "2021-12-25T20:46:48.444Z"
   },
   {
    "duration": 6,
    "start_time": "2021-12-25T20:47:57.356Z"
   },
   {
    "duration": 16,
    "start_time": "2021-12-25T20:48:10.771Z"
   },
   {
    "duration": 18,
    "start_time": "2021-12-25T20:53:23.765Z"
   },
   {
    "duration": 283,
    "start_time": "2021-12-25T20:55:47.875Z"
   },
   {
    "duration": 269,
    "start_time": "2021-12-25T20:56:49.989Z"
   },
   {
    "duration": 271,
    "start_time": "2021-12-25T20:56:54.409Z"
   },
   {
    "duration": 18,
    "start_time": "2021-12-25T20:56:59.049Z"
   },
   {
    "duration": 23,
    "start_time": "2021-12-25T20:59:50.818Z"
   },
   {
    "duration": 88,
    "start_time": "2021-12-25T21:02:57.278Z"
   },
   {
    "duration": 85,
    "start_time": "2021-12-25T21:03:57.425Z"
   },
   {
    "duration": 69,
    "start_time": "2021-12-25T21:04:16.483Z"
   },
   {
    "duration": 31,
    "start_time": "2021-12-25T21:04:16.555Z"
   },
   {
    "duration": 158,
    "start_time": "2021-12-25T21:04:16.589Z"
   },
   {
    "duration": 19,
    "start_time": "2021-12-25T21:04:16.750Z"
   },
   {
    "duration": 65,
    "start_time": "2021-12-25T21:04:16.771Z"
   },
   {
    "duration": 34,
    "start_time": "2021-12-25T21:04:16.838Z"
   },
   {
    "duration": 8,
    "start_time": "2021-12-25T21:04:16.874Z"
   },
   {
    "duration": 45,
    "start_time": "2021-12-25T21:04:16.886Z"
   },
   {
    "duration": 18,
    "start_time": "2021-12-25T21:04:16.934Z"
   },
   {
    "duration": 124,
    "start_time": "2021-12-25T21:04:16.954Z"
   },
   {
    "duration": 153,
    "start_time": "2021-12-25T21:04:17.080Z"
   },
   {
    "duration": 21,
    "start_time": "2021-12-25T21:04:17.236Z"
   },
   {
    "duration": 12,
    "start_time": "2021-12-25T21:04:17.260Z"
   },
   {
    "duration": 47,
    "start_time": "2021-12-25T21:04:17.275Z"
   },
   {
    "duration": 11,
    "start_time": "2021-12-25T21:04:17.325Z"
   },
   {
    "duration": 22,
    "start_time": "2021-12-25T21:04:17.339Z"
   },
   {
    "duration": 53,
    "start_time": "2021-12-25T21:04:17.364Z"
   },
   {
    "duration": 26,
    "start_time": "2021-12-25T21:04:17.420Z"
   },
   {
    "duration": 26,
    "start_time": "2021-12-25T21:04:17.448Z"
   },
   {
    "duration": 85,
    "start_time": "2021-12-25T21:04:17.476Z"
   },
   {
    "duration": 29950,
    "start_time": "2021-12-25T21:03:47.614Z"
   },
   {
    "duration": 29948,
    "start_time": "2021-12-25T21:03:47.618Z"
   },
   {
    "duration": 29942,
    "start_time": "2021-12-25T21:03:47.625Z"
   },
   {
    "duration": 29941,
    "start_time": "2021-12-25T21:03:47.628Z"
   },
   {
    "duration": 29924,
    "start_time": "2021-12-25T21:03:47.646Z"
   },
   {
    "duration": 29922,
    "start_time": "2021-12-25T21:03:47.650Z"
   },
   {
    "duration": 29919,
    "start_time": "2021-12-25T21:03:47.654Z"
   },
   {
    "duration": 29918,
    "start_time": "2021-12-25T21:03:47.657Z"
   },
   {
    "duration": 33,
    "start_time": "2021-12-25T21:04:37.783Z"
   },
   {
    "duration": 92,
    "start_time": "2021-12-25T21:05:33.881Z"
   },
   {
    "duration": 33,
    "start_time": "2021-12-25T21:05:38.145Z"
   },
   {
    "duration": 66,
    "start_time": "2021-12-25T21:09:59.848Z"
   },
   {
    "duration": 31,
    "start_time": "2021-12-25T21:09:59.916Z"
   },
   {
    "duration": 178,
    "start_time": "2021-12-25T21:09:59.950Z"
   },
   {
    "duration": 19,
    "start_time": "2021-12-25T21:10:00.130Z"
   },
   {
    "duration": 65,
    "start_time": "2021-12-25T21:10:00.151Z"
   },
   {
    "duration": 42,
    "start_time": "2021-12-25T21:10:00.219Z"
   },
   {
    "duration": 10,
    "start_time": "2021-12-25T21:10:00.263Z"
   },
   {
    "duration": 47,
    "start_time": "2021-12-25T21:10:00.279Z"
   },
   {
    "duration": 25,
    "start_time": "2021-12-25T21:10:00.330Z"
   },
   {
    "duration": 179,
    "start_time": "2021-12-25T21:10:00.358Z"
   },
   {
    "duration": 194,
    "start_time": "2021-12-25T21:10:00.540Z"
   },
   {
    "duration": 29,
    "start_time": "2021-12-25T21:10:00.738Z"
   },
   {
    "duration": 15,
    "start_time": "2021-12-25T21:10:00.771Z"
   },
   {
    "duration": 11,
    "start_time": "2021-12-25T21:10:00.819Z"
   },
   {
    "duration": 21,
    "start_time": "2021-12-25T21:10:00.832Z"
   },
   {
    "duration": 23,
    "start_time": "2021-12-25T21:10:00.855Z"
   },
   {
    "duration": 55,
    "start_time": "2021-12-25T21:10:00.881Z"
   },
   {
    "duration": 27,
    "start_time": "2021-12-25T21:10:00.938Z"
   },
   {
    "duration": 28,
    "start_time": "2021-12-25T21:10:00.967Z"
   },
   {
    "duration": 50,
    "start_time": "2021-12-25T21:10:00.997Z"
   },
   {
    "duration": 3568,
    "start_time": "2021-12-25T21:10:01.049Z"
   },
   {
    "duration": 3605,
    "start_time": "2021-12-25T21:10:04.620Z"
   },
   {
    "duration": 20,
    "start_time": "2021-12-25T21:10:08.229Z"
   },
   {
    "duration": 14,
    "start_time": "2021-12-25T21:10:08.252Z"
   },
   {
    "duration": 55,
    "start_time": "2021-12-25T21:10:08.269Z"
   },
   {
    "duration": 3012,
    "start_time": "2021-12-25T21:10:08.327Z"
   },
   {
    "duration": 21,
    "start_time": "2021-12-25T21:10:11.341Z"
   },
   {
    "duration": 20,
    "start_time": "2021-12-25T21:10:11.365Z"
   },
   {
    "duration": 24,
    "start_time": "2021-12-25T21:12:06.345Z"
   },
   {
    "duration": 23,
    "start_time": "2021-12-25T21:12:12.340Z"
   },
   {
    "duration": 269,
    "start_time": "2021-12-25T21:12:53.158Z"
   },
   {
    "duration": 283,
    "start_time": "2021-12-25T21:19:06.848Z"
   },
   {
    "duration": 326,
    "start_time": "2021-12-25T21:19:25.600Z"
   },
   {
    "duration": 653,
    "start_time": "2021-12-25T21:19:42.311Z"
   },
   {
    "duration": 7137,
    "start_time": "2021-12-25T21:20:00.801Z"
   },
   {
    "duration": 17,
    "start_time": "2021-12-25T21:20:20.405Z"
   },
   {
    "duration": 20,
    "start_time": "2021-12-25T21:20:35.732Z"
   },
   {
    "duration": 18,
    "start_time": "2021-12-25T21:29:47.265Z"
   },
   {
    "duration": 18,
    "start_time": "2021-12-25T21:31:39.501Z"
   },
   {
    "duration": 653,
    "start_time": "2021-12-26T09:37:07.372Z"
   },
   {
    "duration": 27,
    "start_time": "2021-12-26T09:37:08.026Z"
   },
   {
    "duration": 85,
    "start_time": "2021-12-26T09:37:08.055Z"
   },
   {
    "duration": 15,
    "start_time": "2021-12-26T09:37:08.142Z"
   },
   {
    "duration": 52,
    "start_time": "2021-12-26T09:37:08.158Z"
   },
   {
    "duration": 19,
    "start_time": "2021-12-26T09:37:08.212Z"
   },
   {
    "duration": 5,
    "start_time": "2021-12-26T09:37:08.233Z"
   },
   {
    "duration": 11,
    "start_time": "2021-12-26T09:37:08.241Z"
   },
   {
    "duration": 46,
    "start_time": "2021-12-26T09:37:08.254Z"
   },
   {
    "duration": 63,
    "start_time": "2021-12-26T09:37:08.301Z"
   },
   {
    "duration": 77,
    "start_time": "2021-12-26T09:37:08.392Z"
   },
   {
    "duration": 30,
    "start_time": "2021-12-26T09:37:08.470Z"
   },
   {
    "duration": 9,
    "start_time": "2021-12-26T09:37:08.502Z"
   },
   {
    "duration": 4,
    "start_time": "2021-12-26T09:37:08.513Z"
   },
   {
    "duration": 9,
    "start_time": "2021-12-26T09:37:08.519Z"
   },
   {
    "duration": 24,
    "start_time": "2021-12-26T09:37:08.530Z"
   },
   {
    "duration": 23,
    "start_time": "2021-12-26T09:37:08.555Z"
   },
   {
    "duration": 25,
    "start_time": "2021-12-26T09:37:08.580Z"
   },
   {
    "duration": 19,
    "start_time": "2021-12-26T09:37:08.607Z"
   },
   {
    "duration": 22,
    "start_time": "2021-12-26T09:37:08.628Z"
   },
   {
    "duration": 2447,
    "start_time": "2021-12-26T09:37:08.651Z"
   },
   {
    "duration": 2962,
    "start_time": "2021-12-26T09:37:11.099Z"
   },
   {
    "duration": 28,
    "start_time": "2021-12-26T09:37:14.064Z"
   },
   {
    "duration": 10,
    "start_time": "2021-12-26T09:37:14.094Z"
   },
   {
    "duration": 15,
    "start_time": "2021-12-26T09:37:14.105Z"
   },
   {
    "duration": 1511,
    "start_time": "2021-12-26T09:37:14.122Z"
   },
   {
    "duration": 14,
    "start_time": "2021-12-26T09:37:15.635Z"
   },
   {
    "duration": 387,
    "start_time": "2021-12-26T09:37:15.650Z"
   },
   {
    "duration": 15,
    "start_time": "2021-12-26T09:37:16.039Z"
   },
   {
    "duration": 13,
    "start_time": "2021-12-26T09:37:16.056Z"
   },
   {
    "duration": 14,
    "start_time": "2021-12-26T09:37:54.624Z"
   },
   {
    "duration": 13,
    "start_time": "2021-12-26T09:38:09.030Z"
   },
   {
    "duration": 14,
    "start_time": "2021-12-26T09:38:41.577Z"
   },
   {
    "duration": 5,
    "start_time": "2021-12-26T09:46:43.732Z"
   },
   {
    "duration": 13,
    "start_time": "2021-12-26T09:49:17.238Z"
   },
   {
    "duration": 13,
    "start_time": "2021-12-26T09:49:50.234Z"
   },
   {
    "duration": 62,
    "start_time": "2021-12-26T11:04:03.670Z"
   },
   {
    "duration": 21,
    "start_time": "2021-12-26T11:04:03.734Z"
   },
   {
    "duration": 93,
    "start_time": "2021-12-26T11:04:03.757Z"
   },
   {
    "duration": 48,
    "start_time": "2021-12-26T11:04:03.853Z"
   },
   {
    "duration": 23,
    "start_time": "2021-12-26T11:04:03.902Z"
   },
   {
    "duration": 21,
    "start_time": "2021-12-26T11:04:03.926Z"
   },
   {
    "duration": 5,
    "start_time": "2021-12-26T11:04:03.949Z"
   },
   {
    "duration": 43,
    "start_time": "2021-12-26T11:04:03.957Z"
   },
   {
    "duration": 14,
    "start_time": "2021-12-26T11:04:04.003Z"
   },
   {
    "duration": 98,
    "start_time": "2021-12-26T11:04:04.018Z"
   },
   {
    "duration": 96,
    "start_time": "2021-12-26T11:04:04.118Z"
   },
   {
    "duration": 18,
    "start_time": "2021-12-26T11:04:04.216Z"
   },
   {
    "duration": 8,
    "start_time": "2021-12-26T11:04:04.236Z"
   },
   {
    "duration": 7,
    "start_time": "2021-12-26T11:04:04.246Z"
   },
   {
    "duration": 36,
    "start_time": "2021-12-26T11:04:04.255Z"
   },
   {
    "duration": 15,
    "start_time": "2021-12-26T11:04:04.293Z"
   },
   {
    "duration": 15,
    "start_time": "2021-12-26T11:04:04.309Z"
   },
   {
    "duration": 19,
    "start_time": "2021-12-26T11:04:04.325Z"
   },
   {
    "duration": 57,
    "start_time": "2021-12-26T11:04:04.346Z"
   },
   {
    "duration": 25,
    "start_time": "2021-12-26T11:04:04.405Z"
   },
   {
    "duration": 2551,
    "start_time": "2021-12-26T11:04:04.431Z"
   },
   {
    "duration": 2849,
    "start_time": "2021-12-26T11:04:06.992Z"
   },
   {
    "duration": 4,
    "start_time": "2021-12-26T11:04:09.844Z"
   },
   {
    "duration": 15,
    "start_time": "2021-12-26T11:04:09.850Z"
   },
   {
    "duration": 26,
    "start_time": "2021-12-26T11:04:09.866Z"
   },
   {
    "duration": 16,
    "start_time": "2021-12-26T11:04:09.894Z"
   },
   {
    "duration": 1569,
    "start_time": "2021-12-26T11:04:09.912Z"
   },
   {
    "duration": 21,
    "start_time": "2021-12-26T11:04:11.482Z"
   },
   {
    "duration": 14,
    "start_time": "2021-12-26T11:04:11.504Z"
   },
   {
    "duration": 12,
    "start_time": "2021-12-26T11:04:11.519Z"
   },
   {
    "duration": 12,
    "start_time": "2021-12-26T11:04:11.533Z"
   },
   {
    "duration": 617,
    "start_time": "2021-12-27T07:53:49.636Z"
   },
   {
    "duration": 22,
    "start_time": "2021-12-27T07:53:50.254Z"
   },
   {
    "duration": 81,
    "start_time": "2021-12-27T07:53:50.278Z"
   },
   {
    "duration": 11,
    "start_time": "2021-12-27T07:53:50.361Z"
   },
   {
    "duration": 18,
    "start_time": "2021-12-27T07:53:50.373Z"
   },
   {
    "duration": 18,
    "start_time": "2021-12-27T07:53:50.393Z"
   },
   {
    "duration": 5,
    "start_time": "2021-12-27T07:53:50.441Z"
   },
   {
    "duration": 11,
    "start_time": "2021-12-27T07:53:50.448Z"
   },
   {
    "duration": 11,
    "start_time": "2021-12-27T07:53:50.460Z"
   },
   {
    "duration": 86,
    "start_time": "2021-12-27T07:53:50.473Z"
   },
   {
    "duration": 84,
    "start_time": "2021-12-27T07:53:50.561Z"
   },
   {
    "duration": 13,
    "start_time": "2021-12-27T07:53:50.646Z"
   },
   {
    "duration": 10,
    "start_time": "2021-12-27T07:53:50.661Z"
   },
   {
    "duration": 18,
    "start_time": "2021-12-27T07:53:50.673Z"
   },
   {
    "duration": 7,
    "start_time": "2021-12-27T07:53:50.692Z"
   },
   {
    "duration": 18,
    "start_time": "2021-12-27T07:53:50.701Z"
   },
   {
    "duration": 20,
    "start_time": "2021-12-27T07:53:50.721Z"
   },
   {
    "duration": 16,
    "start_time": "2021-12-27T07:53:50.742Z"
   },
   {
    "duration": 19,
    "start_time": "2021-12-27T07:53:50.759Z"
   },
   {
    "duration": 20,
    "start_time": "2021-12-27T07:53:50.780Z"
   },
   {
    "duration": 2195,
    "start_time": "2021-12-27T07:53:50.801Z"
   },
   {
    "duration": 2792,
    "start_time": "2021-12-27T07:53:52.998Z"
   },
   {
    "duration": 5,
    "start_time": "2021-12-27T07:53:55.792Z"
   },
   {
    "duration": 12,
    "start_time": "2021-12-27T07:53:55.798Z"
   },
   {
    "duration": 33,
    "start_time": "2021-12-27T07:53:55.812Z"
   },
   {
    "duration": 16,
    "start_time": "2021-12-27T07:53:55.846Z"
   },
   {
    "duration": 1453,
    "start_time": "2021-12-27T07:53:55.864Z"
   },
   {
    "duration": 23,
    "start_time": "2021-12-27T07:53:57.319Z"
   },
   {
    "duration": 11,
    "start_time": "2021-12-27T07:53:57.343Z"
   },
   {
    "duration": 10,
    "start_time": "2021-12-27T07:53:57.356Z"
   },
   {
    "duration": 11,
    "start_time": "2021-12-27T07:53:57.367Z"
   },
   {
    "duration": 652,
    "start_time": "2021-12-27T08:17:19.646Z"
   },
   {
    "duration": 24,
    "start_time": "2021-12-27T08:17:20.300Z"
   },
   {
    "duration": 71,
    "start_time": "2021-12-27T08:17:20.325Z"
   },
   {
    "duration": 12,
    "start_time": "2021-12-27T08:17:20.397Z"
   },
   {
    "duration": 46,
    "start_time": "2021-12-27T08:17:20.410Z"
   },
   {
    "duration": 44,
    "start_time": "2021-12-27T08:17:20.458Z"
   },
   {
    "duration": 5,
    "start_time": "2021-12-27T08:17:20.504Z"
   },
   {
    "duration": 35,
    "start_time": "2021-12-27T08:17:20.511Z"
   },
   {
    "duration": 60,
    "start_time": "2021-12-27T08:17:20.548Z"
   },
   {
    "duration": 55,
    "start_time": "2021-12-27T08:17:20.610Z"
   },
   {
    "duration": 89,
    "start_time": "2021-12-27T08:17:20.666Z"
   },
   {
    "duration": 12,
    "start_time": "2021-12-27T08:17:20.756Z"
   },
   {
    "duration": 27,
    "start_time": "2021-12-27T08:17:20.770Z"
   },
   {
    "duration": 21,
    "start_time": "2021-12-27T08:17:20.798Z"
   },
   {
    "duration": 23,
    "start_time": "2021-12-27T08:17:20.821Z"
   },
   {
    "duration": 32,
    "start_time": "2021-12-27T08:17:20.846Z"
   },
   {
    "duration": 22,
    "start_time": "2021-12-27T08:17:20.879Z"
   },
   {
    "duration": 16,
    "start_time": "2021-12-27T08:17:20.903Z"
   },
   {
    "duration": 17,
    "start_time": "2021-12-27T08:17:20.921Z"
   },
   {
    "duration": 26,
    "start_time": "2021-12-27T08:17:20.939Z"
   },
   {
    "duration": 2409,
    "start_time": "2021-12-27T08:17:20.967Z"
   },
   {
    "duration": 3028,
    "start_time": "2021-12-27T08:17:23.378Z"
   },
   {
    "duration": 5,
    "start_time": "2021-12-27T08:17:26.409Z"
   },
   {
    "duration": 30,
    "start_time": "2021-12-27T08:17:26.415Z"
   },
   {
    "duration": 11,
    "start_time": "2021-12-27T08:17:26.447Z"
   },
   {
    "duration": 16,
    "start_time": "2021-12-27T08:17:26.459Z"
   },
   {
    "duration": 1537,
    "start_time": "2021-12-27T08:17:26.477Z"
   },
   {
    "duration": 26,
    "start_time": "2021-12-27T08:17:28.016Z"
   },
   {
    "duration": 12,
    "start_time": "2021-12-27T08:17:28.043Z"
   },
   {
    "duration": 10,
    "start_time": "2021-12-27T08:17:28.057Z"
   },
   {
    "duration": 12,
    "start_time": "2021-12-27T08:17:28.069Z"
   },
   {
    "duration": 364,
    "start_time": "2021-12-27T10:00:07.968Z"
   },
   {
    "duration": 848,
    "start_time": "2021-12-27T10:00:12.331Z"
   },
   {
    "duration": 40,
    "start_time": "2021-12-27T10:00:13.182Z"
   },
   {
    "duration": 162,
    "start_time": "2021-12-27T10:00:13.224Z"
   },
   {
    "duration": 21,
    "start_time": "2021-12-27T10:00:13.389Z"
   },
   {
    "duration": 68,
    "start_time": "2021-12-27T10:00:13.413Z"
   },
   {
    "duration": 37,
    "start_time": "2021-12-27T10:00:13.484Z"
   },
   {
    "duration": 6,
    "start_time": "2021-12-27T10:00:13.523Z"
   },
   {
    "duration": 44,
    "start_time": "2021-12-27T10:00:13.533Z"
   },
   {
    "duration": 24,
    "start_time": "2021-12-27T10:00:13.580Z"
   },
   {
    "duration": 125,
    "start_time": "2021-12-27T10:00:13.606Z"
   },
   {
    "duration": 138,
    "start_time": "2021-12-27T10:00:13.734Z"
   },
   {
    "duration": 20,
    "start_time": "2021-12-27T10:00:13.875Z"
   },
   {
    "duration": 12,
    "start_time": "2021-12-27T10:00:13.898Z"
   },
   {
    "duration": 7,
    "start_time": "2021-12-27T10:00:13.913Z"
   },
   {
    "duration": 45,
    "start_time": "2021-12-27T10:00:13.923Z"
   },
   {
    "duration": 20,
    "start_time": "2021-12-27T10:00:13.971Z"
   },
   {
    "duration": 19,
    "start_time": "2021-12-27T10:00:13.993Z"
   },
   {
    "duration": 59,
    "start_time": "2021-12-27T10:00:14.014Z"
   },
   {
    "duration": 26,
    "start_time": "2021-12-27T10:00:14.075Z"
   },
   {
    "duration": 62,
    "start_time": "2021-12-27T10:00:14.104Z"
   },
   {
    "duration": 3409,
    "start_time": "2021-12-27T10:00:14.169Z"
   },
   {
    "duration": 3687,
    "start_time": "2021-12-27T10:00:17.582Z"
   },
   {
    "duration": 7,
    "start_time": "2021-12-27T10:00:21.276Z"
   },
   {
    "duration": 20,
    "start_time": "2021-12-27T10:00:21.287Z"
   },
   {
    "duration": 54,
    "start_time": "2021-12-27T10:00:21.310Z"
   },
   {
    "duration": 27,
    "start_time": "2021-12-27T10:00:21.366Z"
   },
   {
    "duration": 3189,
    "start_time": "2021-12-27T10:00:21.396Z"
   },
   {
    "duration": 23,
    "start_time": "2021-12-27T10:00:24.587Z"
   },
   {
    "duration": 19,
    "start_time": "2021-12-27T10:00:24.613Z"
   },
   {
    "duration": 19,
    "start_time": "2021-12-27T10:00:24.662Z"
   },
   {
    "duration": 18,
    "start_time": "2021-12-27T10:00:24.684Z"
   },
   {
    "duration": 1918,
    "start_time": "2021-12-27T10:13:52.217Z"
   },
   {
    "duration": 81,
    "start_time": "2021-12-27T10:15:27.082Z"
   },
   {
    "duration": 30,
    "start_time": "2021-12-27T10:15:27.166Z"
   },
   {
    "duration": 163,
    "start_time": "2021-12-27T10:15:27.199Z"
   },
   {
    "duration": 19,
    "start_time": "2021-12-27T10:15:27.365Z"
   },
   {
    "duration": 35,
    "start_time": "2021-12-27T10:15:27.387Z"
   },
   {
    "duration": 66,
    "start_time": "2021-12-27T10:15:27.424Z"
   },
   {
    "duration": 8,
    "start_time": "2021-12-27T10:15:27.495Z"
   },
   {
    "duration": 17,
    "start_time": "2021-12-27T10:15:27.506Z"
   },
   {
    "duration": 53,
    "start_time": "2021-12-27T10:15:27.526Z"
   },
   {
    "duration": 128,
    "start_time": "2021-12-27T10:15:27.581Z"
   },
   {
    "duration": 116,
    "start_time": "2021-12-27T10:15:27.711Z"
   },
   {
    "duration": 36,
    "start_time": "2021-12-27T10:15:27.829Z"
   },
   {
    "duration": 12,
    "start_time": "2021-12-27T10:15:27.867Z"
   },
   {
    "duration": 8,
    "start_time": "2021-12-27T10:15:27.882Z"
   },
   {
    "duration": 10,
    "start_time": "2021-12-27T10:15:27.893Z"
   },
   {
    "duration": 60,
    "start_time": "2021-12-27T10:15:27.906Z"
   },
   {
    "duration": 18,
    "start_time": "2021-12-27T10:15:27.969Z"
   },
   {
    "duration": 24,
    "start_time": "2021-12-27T10:15:27.989Z"
   },
   {
    "duration": 63,
    "start_time": "2021-12-27T10:15:28.016Z"
   },
   {
    "duration": 33,
    "start_time": "2021-12-27T10:15:28.082Z"
   },
   {
    "duration": 3555,
    "start_time": "2021-12-27T10:15:28.118Z"
   },
   {
    "duration": 3786,
    "start_time": "2021-12-27T10:15:31.678Z"
   },
   {
    "duration": 8,
    "start_time": "2021-12-27T10:15:35.468Z"
   },
   {
    "duration": 18,
    "start_time": "2021-12-27T10:15:35.479Z"
   },
   {
    "duration": 15,
    "start_time": "2021-12-27T10:15:35.500Z"
   },
   {
    "duration": 67,
    "start_time": "2021-12-27T10:15:35.517Z"
   },
   {
    "duration": 68061,
    "start_time": "2021-12-27T10:15:35.588Z"
   },
   {
    "duration": 27,
    "start_time": "2021-12-27T10:16:43.652Z"
   },
   {
    "duration": 19,
    "start_time": "2021-12-27T10:16:43.681Z"
   },
   {
    "duration": 21,
    "start_time": "2021-12-27T10:16:43.702Z"
   },
   {
    "duration": 18,
    "start_time": "2021-12-27T10:16:43.725Z"
   },
   {
    "duration": 420,
    "start_time": "2021-12-27T10:27:24.131Z"
   },
   {
    "duration": 311,
    "start_time": "2021-12-27T10:28:18.045Z"
   },
   {
    "duration": 35,
    "start_time": "2021-12-27T10:28:29.062Z"
   },
   {
    "duration": 43,
    "start_time": "2021-12-27T10:28:55.157Z"
   },
   {
    "duration": 349,
    "start_time": "2021-12-27T10:29:12.845Z"
   },
   {
    "duration": 335,
    "start_time": "2021-12-27T10:29:23.204Z"
   },
   {
    "duration": 45,
    "start_time": "2021-12-27T10:29:29.333Z"
   },
   {
    "duration": 53,
    "start_time": "2021-12-27T10:37:05.797Z"
   },
   {
    "duration": 56,
    "start_time": "2021-12-27T10:39:44.723Z"
   },
   {
    "duration": 405,
    "start_time": "2021-12-27T10:40:11.195Z"
   },
   {
    "duration": 49,
    "start_time": "2021-12-27T10:40:44.433Z"
   },
   {
    "duration": 49,
    "start_time": "2021-12-27T10:45:43.537Z"
   },
   {
    "duration": 72,
    "start_time": "2021-12-27T10:55:53.654Z"
   },
   {
    "duration": 1110,
    "start_time": "2021-12-28T06:49:42.475Z"
   },
   {
    "duration": 45,
    "start_time": "2021-12-28T06:49:43.588Z"
   },
   {
    "duration": 160,
    "start_time": "2021-12-28T06:49:43.637Z"
   },
   {
    "duration": 18,
    "start_time": "2021-12-28T06:49:43.799Z"
   },
   {
    "duration": 75,
    "start_time": "2021-12-28T06:49:43.820Z"
   },
   {
    "duration": 34,
    "start_time": "2021-12-28T06:49:43.898Z"
   },
   {
    "duration": 28,
    "start_time": "2021-12-28T06:49:43.935Z"
   },
   {
    "duration": 26,
    "start_time": "2021-12-28T06:49:43.966Z"
   },
   {
    "duration": 24,
    "start_time": "2021-12-28T06:49:43.997Z"
   },
   {
    "duration": 159,
    "start_time": "2021-12-28T06:49:44.024Z"
   },
   {
    "duration": 113,
    "start_time": "2021-12-28T06:49:44.185Z"
   },
   {
    "duration": 21,
    "start_time": "2021-12-28T06:49:44.300Z"
   },
   {
    "duration": 37,
    "start_time": "2021-12-28T06:49:44.323Z"
   },
   {
    "duration": 22,
    "start_time": "2021-12-28T06:49:44.364Z"
   },
   {
    "duration": 11,
    "start_time": "2021-12-28T06:49:44.388Z"
   },
   {
    "duration": 20,
    "start_time": "2021-12-28T06:49:44.401Z"
   },
   {
    "duration": 39,
    "start_time": "2021-12-28T06:49:44.423Z"
   },
   {
    "duration": 31,
    "start_time": "2021-12-28T06:49:44.466Z"
   },
   {
    "duration": 25,
    "start_time": "2021-12-28T06:49:44.500Z"
   },
   {
    "duration": 39,
    "start_time": "2021-12-28T06:49:44.561Z"
   },
   {
    "duration": 3520,
    "start_time": "2021-12-28T06:49:44.603Z"
   },
   {
    "duration": 4250,
    "start_time": "2021-12-28T06:49:48.126Z"
   },
   {
    "duration": 7,
    "start_time": "2021-12-28T06:49:52.379Z"
   },
   {
    "duration": 20,
    "start_time": "2021-12-28T06:49:52.389Z"
   },
   {
    "duration": 53,
    "start_time": "2021-12-28T06:49:52.412Z"
   },
   {
    "duration": 43,
    "start_time": "2021-12-28T06:49:52.468Z"
   },
   {
    "duration": 70798,
    "start_time": "2021-12-28T06:49:52.517Z"
   },
   {
    "duration": 62,
    "start_time": "2021-12-28T06:51:03.317Z"
   },
   {
    "duration": 46,
    "start_time": "2021-12-28T06:51:03.381Z"
   },
   {
    "duration": 65,
    "start_time": "2021-12-28T06:51:03.430Z"
   },
   {
    "duration": 70,
    "start_time": "2021-12-28T06:51:03.497Z"
   },
   {
    "duration": 96,
    "start_time": "2021-12-28T06:51:21.461Z"
   },
   {
    "duration": 11,
    "start_time": "2021-12-28T06:51:29.388Z"
   },
   {
    "duration": 852,
    "start_time": "2021-12-28T06:51:41.334Z"
   },
   {
    "duration": 41,
    "start_time": "2021-12-28T06:51:42.189Z"
   },
   {
    "duration": 144,
    "start_time": "2021-12-28T06:51:42.233Z"
   },
   {
    "duration": 20,
    "start_time": "2021-12-28T06:51:42.380Z"
   },
   {
    "duration": 66,
    "start_time": "2021-12-28T06:51:42.402Z"
   },
   {
    "duration": 33,
    "start_time": "2021-12-28T06:51:42.470Z"
   },
   {
    "duration": 7,
    "start_time": "2021-12-28T06:51:42.505Z"
   },
   {
    "duration": 47,
    "start_time": "2021-12-28T06:51:42.516Z"
   },
   {
    "duration": 24,
    "start_time": "2021-12-28T06:51:42.566Z"
   },
   {
    "duration": 114,
    "start_time": "2021-12-28T06:51:42.592Z"
   },
   {
    "duration": 118,
    "start_time": "2021-12-28T06:51:42.708Z"
   },
   {
    "duration": 31,
    "start_time": "2021-12-28T06:51:42.828Z"
   },
   {
    "duration": 21,
    "start_time": "2021-12-28T06:51:42.861Z"
   },
   {
    "duration": 11,
    "start_time": "2021-12-28T06:51:42.884Z"
   },
   {
    "duration": 8,
    "start_time": "2021-12-28T06:51:42.897Z"
   },
   {
    "duration": 9,
    "start_time": "2021-12-28T06:51:42.907Z"
   },
   {
    "duration": 53,
    "start_time": "2021-12-28T06:51:42.918Z"
   },
   {
    "duration": 17,
    "start_time": "2021-12-28T06:51:42.974Z"
   },
   {
    "duration": 25,
    "start_time": "2021-12-28T06:51:42.993Z"
   },
   {
    "duration": 61,
    "start_time": "2021-12-28T06:51:43.020Z"
   },
   {
    "duration": 30,
    "start_time": "2021-12-28T06:51:43.084Z"
   },
   {
    "duration": 3230,
    "start_time": "2021-12-28T06:51:43.116Z"
   },
   {
    "duration": 4008,
    "start_time": "2021-12-28T06:51:46.360Z"
   },
   {
    "duration": 9,
    "start_time": "2021-12-28T06:51:50.372Z"
   },
   {
    "duration": 18,
    "start_time": "2021-12-28T06:51:50.383Z"
   },
   {
    "duration": 59,
    "start_time": "2021-12-28T06:51:50.404Z"
   },
   {
    "duration": 28,
    "start_time": "2021-12-28T06:51:50.466Z"
   },
   {
    "duration": 772,
    "start_time": "2021-12-28T06:52:31.304Z"
   },
   {
    "duration": 41,
    "start_time": "2021-12-28T06:52:32.078Z"
   },
   {
    "duration": 156,
    "start_time": "2021-12-28T06:52:32.122Z"
   },
   {
    "duration": 18,
    "start_time": "2021-12-28T06:52:32.281Z"
   },
   {
    "duration": 58,
    "start_time": "2021-12-28T06:52:32.302Z"
   },
   {
    "duration": 35,
    "start_time": "2021-12-28T06:52:32.362Z"
   },
   {
    "duration": 7,
    "start_time": "2021-12-28T06:52:32.400Z"
   },
   {
    "duration": 49,
    "start_time": "2021-12-28T06:52:32.411Z"
   },
   {
    "duration": 24,
    "start_time": "2021-12-28T06:52:32.463Z"
   },
   {
    "duration": 122,
    "start_time": "2021-12-28T06:52:32.489Z"
   },
   {
    "duration": 117,
    "start_time": "2021-12-28T06:52:32.613Z"
   },
   {
    "duration": 43,
    "start_time": "2021-12-28T06:52:32.733Z"
   },
   {
    "duration": 10,
    "start_time": "2021-12-28T06:52:32.778Z"
   },
   {
    "duration": 26,
    "start_time": "2021-12-28T06:52:32.791Z"
   },
   {
    "duration": 58,
    "start_time": "2021-12-28T06:52:32.819Z"
   },
   {
    "duration": 14,
    "start_time": "2021-12-28T06:52:32.880Z"
   },
   {
    "duration": 8,
    "start_time": "2021-12-28T06:52:32.896Z"
   },
   {
    "duration": 12,
    "start_time": "2021-12-28T06:52:32.906Z"
   },
   {
    "duration": 21,
    "start_time": "2021-12-28T06:52:32.959Z"
   },
   {
    "duration": 18,
    "start_time": "2021-12-28T06:52:32.982Z"
   },
   {
    "duration": 70,
    "start_time": "2021-12-28T06:52:33.002Z"
   },
   {
    "duration": 25,
    "start_time": "2021-12-28T06:52:33.075Z"
   },
   {
    "duration": 66,
    "start_time": "2021-12-28T06:52:33.104Z"
   },
   {
    "duration": 3305,
    "start_time": "2021-12-28T06:52:33.172Z"
   },
   {
    "duration": 4286,
    "start_time": "2021-12-28T06:52:36.480Z"
   },
   {
    "duration": 7,
    "start_time": "2021-12-28T06:52:40.768Z"
   },
   {
    "duration": 21,
    "start_time": "2021-12-28T06:52:40.778Z"
   },
   {
    "duration": 16,
    "start_time": "2021-12-28T06:52:40.802Z"
   },
   {
    "duration": 60,
    "start_time": "2021-12-28T06:52:40.821Z"
   },
   {
    "duration": 826,
    "start_time": "2021-12-28T06:53:01.157Z"
   },
   {
    "duration": 40,
    "start_time": "2021-12-28T06:53:01.986Z"
   },
   {
    "duration": 152,
    "start_time": "2021-12-28T06:53:02.029Z"
   },
   {
    "duration": 20,
    "start_time": "2021-12-28T06:53:02.185Z"
   },
   {
    "duration": 67,
    "start_time": "2021-12-28T06:53:02.208Z"
   },
   {
    "duration": 37,
    "start_time": "2021-12-28T06:53:02.278Z"
   },
   {
    "duration": 44,
    "start_time": "2021-12-28T06:53:02.318Z"
   },
   {
    "duration": 17,
    "start_time": "2021-12-28T06:53:02.368Z"
   },
   {
    "duration": 25,
    "start_time": "2021-12-28T06:53:02.389Z"
   },
   {
    "duration": 152,
    "start_time": "2021-12-28T06:53:02.417Z"
   },
   {
    "duration": 27,
    "start_time": "2021-12-28T06:53:02.571Z"
   },
   {
    "duration": 122,
    "start_time": "2021-12-28T06:53:02.601Z"
   },
   {
    "duration": 9,
    "start_time": "2021-12-28T06:53:02.725Z"
   },
   {
    "duration": 49,
    "start_time": "2021-12-28T06:53:02.737Z"
   },
   {
    "duration": 26,
    "start_time": "2021-12-28T06:53:02.789Z"
   },
   {
    "duration": 46,
    "start_time": "2021-12-28T06:53:02.818Z"
   },
   {
    "duration": 11,
    "start_time": "2021-12-28T06:53:02.867Z"
   },
   {
    "duration": 12,
    "start_time": "2021-12-28T06:53:02.880Z"
   },
   {
    "duration": 21,
    "start_time": "2021-12-28T06:53:02.895Z"
   },
   {
    "duration": 51,
    "start_time": "2021-12-28T06:53:02.918Z"
   },
   {
    "duration": 26,
    "start_time": "2021-12-28T06:53:02.972Z"
   },
   {
    "duration": 27,
    "start_time": "2021-12-28T06:53:03.000Z"
   },
   {
    "duration": 75,
    "start_time": "2021-12-28T06:53:03.032Z"
   },
   {
    "duration": 3269,
    "start_time": "2021-12-28T06:53:03.111Z"
   },
   {
    "duration": 4109,
    "start_time": "2021-12-28T06:53:06.383Z"
   },
   {
    "duration": 7,
    "start_time": "2021-12-28T06:53:10.494Z"
   },
   {
    "duration": 18,
    "start_time": "2021-12-28T06:53:10.504Z"
   },
   {
    "duration": 48,
    "start_time": "2021-12-28T06:53:10.524Z"
   },
   {
    "duration": 26,
    "start_time": "2021-12-28T06:53:10.574Z"
   },
   {
    "duration": 66096,
    "start_time": "2021-12-28T06:53:10.603Z"
   },
   {
    "duration": 76,
    "start_time": "2021-12-28T06:54:16.702Z"
   },
   {
    "duration": 46,
    "start_time": "2021-12-28T06:54:16.780Z"
   },
   {
    "duration": 71,
    "start_time": "2021-12-28T06:54:16.829Z"
   },
   {
    "duration": 75,
    "start_time": "2021-12-28T06:54:16.902Z"
   },
   {
    "duration": 12,
    "start_time": "2021-12-28T07:01:51.895Z"
   },
   {
    "duration": 475,
    "start_time": "2021-12-28T07:02:25.823Z"
   },
   {
    "duration": 15,
    "start_time": "2021-12-28T07:02:37.655Z"
   },
   {
    "duration": 15,
    "start_time": "2021-12-28T07:03:49.781Z"
   },
   {
    "duration": 26,
    "start_time": "2021-12-28T07:03:55.155Z"
   },
   {
    "duration": 59,
    "start_time": "2021-12-28T07:04:06.244Z"
   },
   {
    "duration": 15,
    "start_time": "2021-12-28T07:04:14.773Z"
   },
   {
    "duration": 389,
    "start_time": "2021-12-28T07:04:39.378Z"
   },
   {
    "duration": 287,
    "start_time": "2021-12-28T07:05:20.130Z"
   },
   {
    "duration": 320,
    "start_time": "2021-12-28T07:05:44.874Z"
   },
   {
    "duration": 12,
    "start_time": "2021-12-28T07:05:56.188Z"
   },
   {
    "duration": 12,
    "start_time": "2021-12-28T07:06:11.088Z"
   },
   {
    "duration": 862,
    "start_time": "2021-12-28T07:18:55.607Z"
   },
   {
    "duration": 40,
    "start_time": "2021-12-28T07:18:56.473Z"
   },
   {
    "duration": 156,
    "start_time": "2021-12-28T07:18:56.516Z"
   },
   {
    "duration": 19,
    "start_time": "2021-12-28T07:18:56.675Z"
   },
   {
    "duration": 65,
    "start_time": "2021-12-28T07:18:56.696Z"
   },
   {
    "duration": 41,
    "start_time": "2021-12-28T07:18:56.765Z"
   },
   {
    "duration": 7,
    "start_time": "2021-12-28T07:18:56.808Z"
   },
   {
    "duration": 58,
    "start_time": "2021-12-28T07:18:56.817Z"
   },
   {
    "duration": 20,
    "start_time": "2021-12-28T07:18:56.880Z"
   },
   {
    "duration": 121,
    "start_time": "2021-12-28T07:18:56.904Z"
   },
   {
    "duration": 137,
    "start_time": "2021-12-28T07:18:57.028Z"
   },
   {
    "duration": 22,
    "start_time": "2021-12-28T07:18:57.169Z"
   },
   {
    "duration": 13,
    "start_time": "2021-12-28T07:18:57.194Z"
   },
   {
    "duration": 9,
    "start_time": "2021-12-28T07:18:57.210Z"
   },
   {
    "duration": 49,
    "start_time": "2021-12-28T07:18:57.222Z"
   },
   {
    "duration": 24,
    "start_time": "2021-12-28T07:18:57.274Z"
   },
   {
    "duration": 18,
    "start_time": "2021-12-28T07:18:57.300Z"
   },
   {
    "duration": 61,
    "start_time": "2021-12-28T07:18:57.320Z"
   },
   {
    "duration": 24,
    "start_time": "2021-12-28T07:18:57.383Z"
   },
   {
    "duration": 66,
    "start_time": "2021-12-28T07:18:57.409Z"
   },
   {
    "duration": 3433,
    "start_time": "2021-12-28T07:18:57.478Z"
   },
   {
    "duration": 4248,
    "start_time": "2021-12-28T07:19:00.913Z"
   },
   {
    "duration": 7,
    "start_time": "2021-12-28T07:19:05.164Z"
   },
   {
    "duration": 20,
    "start_time": "2021-12-28T07:19:05.174Z"
   },
   {
    "duration": 15,
    "start_time": "2021-12-28T07:19:05.197Z"
   },
   {
    "duration": 74,
    "start_time": "2021-12-28T07:19:05.215Z"
   },
   {
    "duration": 67716,
    "start_time": "2021-12-28T07:19:05.294Z"
   },
   {
    "duration": 64,
    "start_time": "2021-12-28T07:20:13.013Z"
   },
   {
    "duration": 11,
    "start_time": "2021-12-28T07:20:13.080Z"
   },
   {
    "duration": 82,
    "start_time": "2021-12-28T07:20:13.094Z"
   },
   {
    "duration": 47,
    "start_time": "2021-12-28T07:20:13.179Z"
   },
   {
    "duration": 76,
    "start_time": "2021-12-28T07:20:13.228Z"
   }
  ],
  "kernelspec": {
   "display_name": "Python 3",
   "language": "python",
   "name": "python3"
  },
  "language_info": {
   "codemirror_mode": {
    "name": "ipython",
    "version": 3
   },
   "file_extension": ".py",
   "mimetype": "text/x-python",
   "name": "python",
   "nbconvert_exporter": "python",
   "pygments_lexer": "ipython3",
   "version": "3.8.8"
  },
  "toc": {
   "base_numbering": 1,
   "nav_menu": {
    "height": "742px",
    "width": "802px"
   },
   "number_sections": false,
   "sideBar": true,
   "skip_h1_title": false,
   "title_cell": "Table of Contents",
   "title_sidebar": "Contents",
   "toc_cell": true,
   "toc_position": {
    "height": "calc(100% - 180px)",
    "left": "10px",
    "top": "150px",
    "width": "299.2px"
   },
   "toc_section_display": true,
   "toc_window_display": false
  }
 },
 "nbformat": 4,
 "nbformat_minor": 2
}
